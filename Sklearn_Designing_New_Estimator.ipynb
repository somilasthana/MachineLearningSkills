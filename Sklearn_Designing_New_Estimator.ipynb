{
  "nbformat": 4,
  "nbformat_minor": 0,
  "metadata": {
    "colab": {
      "name": "Sklearn-Designing-New-Estimator.ipynb",
      "version": "0.3.2",
      "provenance": [],
      "include_colab_link": true
    },
    "kernelspec": {
      "name": "python3",
      "display_name": "Python 3"
    }
  },
  "cells": [
    {
      "cell_type": "markdown",
      "metadata": {
        "id": "view-in-github",
        "colab_type": "text"
      },
      "source": [
        "<a href=\"https://colab.research.google.com/github/somilasthana/MachineLearningSkills/blob/master/Sklearn_Designing_New_Estimator.ipynb\" target=\"_parent\"><img src=\"https://colab.research.google.com/assets/colab-badge.svg\" alt=\"Open In Colab\"/></a>"
      ]
    },
    {
      "cell_type": "code",
      "metadata": {
        "id": "FRZYECuVFvU9",
        "colab_type": "code",
        "colab": {}
      },
      "source": [
        "# Classifer"
      ],
      "execution_count": 0,
      "outputs": []
    },
    {
      "cell_type": "code",
      "metadata": {
        "id": "IATfyRKHF4Zd",
        "colab_type": "code",
        "colab": {}
      },
      "source": [
        "from sklearn.base import BaseEstimator, ClassifierMixin\n",
        "from sklearn.neighbors import KernelDensity\n",
        "import numpy as np"
      ],
      "execution_count": 0,
      "outputs": []
    },
    {
      "cell_type": "code",
      "metadata": {
        "id": "9kStcxcPGF9B",
        "colab_type": "code",
        "colab": {}
      },
      "source": [
        "class KDEClassifier(BaseEstimator, ClassifierMixin):\n",
        "  \n",
        "  def __init__(self, bandwidth=1.0, kernel='gaussian'):\n",
        "    self.bandwidth = bandwidth\n",
        "    self.kernel = kernel\n",
        "    \n",
        "  def fit(self, X, y):\n",
        "    self.classes_ = np.sort(np.unique(y))\n",
        "    training_sets = [X[y == c] for c in self.classes_]\n",
        "    \n",
        "    self.models_    = [ KernelDensity(bandwidth=self.bandwidth, kernel=self.kernel).fit(X_i) for X_i in training_sets]\n",
        "    self.logpriors_ = [ np.log(X_i.shape[0]/X.shape[0]) for X_i in training_sets]\n",
        "    \n",
        "  def predict_proba(self, X):\n",
        "    logprobs = np.array([ model.score_samples(X) for model in self.models_]).T\n",
        "    result = np.exp(logprobs + self.logpriors_)\n",
        "    return result / result.sum(1, keepdims=True)\n",
        "  \n",
        "  def predict(self, X):\n",
        "    return self.classes_[np.argmax(self.predict_proba(X), 1)]"
      ],
      "execution_count": 0,
      "outputs": []
    },
    {
      "cell_type": "code",
      "metadata": {
        "id": "wkAO58G8Kwh9",
        "colab_type": "code",
        "colab": {
          "base_uri": "https://localhost:8080/",
          "height": 124
        },
        "outputId": "af9ed668-9ce1-4d78-d576-006d23584e71"
      },
      "source": [
        "from sklearn.datasets import load_digits\n",
        "from sklearn.model_selection import GridSearchCV\n",
        "\n",
        "digits = load_digits()\n",
        "\n",
        "bandwidths = 10 ** np.linspace(0, 2, 100)\n",
        "grid = GridSearchCV(KDEClassifier(), {'bandwidth': bandwidths})\n",
        "grid.fit(digits.data, digits.target)\n",
        "\n",
        "print(grid.best_estimator_)\n",
        "print(grid.best_params_)\n",
        "print('accuracy =', grid.best_score_)"
      ],
      "execution_count": 11,
      "outputs": [
        {
          "output_type": "stream",
          "text": [
            "/usr/local/lib/python3.6/dist-packages/sklearn/model_selection/_split.py:1978: FutureWarning: The default value of cv will change from 3 to 5 in version 0.22. Specify it explicitly to silence this warning.\n",
            "  warnings.warn(CV_WARNING, FutureWarning)\n"
          ],
          "name": "stderr"
        },
        {
          "output_type": "stream",
          "text": [
            "KDEClassifier(bandwidth=7.054802310718643, kernel='gaussian')\n",
            "{'bandwidth': 7.054802310718643}\n",
            "accuracy = 0.9666110183639399\n"
          ],
          "name": "stdout"
        }
      ]
    },
    {
      "cell_type": "code",
      "metadata": {
        "id": "kouydL4rLDOu",
        "colab_type": "code",
        "colab": {}
      },
      "source": [
        ""
      ],
      "execution_count": 0,
      "outputs": []
    }
  ]
}