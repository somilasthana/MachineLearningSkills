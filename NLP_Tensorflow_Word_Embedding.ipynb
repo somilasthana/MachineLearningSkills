{
  "nbformat": 4,
  "nbformat_minor": 0,
  "metadata": {
    "colab": {
      "name": "NLP-Tensorflow-Word_Embedding.ipynb",
      "provenance": [],
      "include_colab_link": true
    },
    "kernelspec": {
      "name": "python3",
      "display_name": "Python 3"
    },
    "accelerator": "GPU"
  },
  "cells": [
    {
      "cell_type": "markdown",
      "metadata": {
        "id": "view-in-github",
        "colab_type": "text"
      },
      "source": [
        "<a href=\"https://colab.research.google.com/github/somilasthana/MachineLearningSkills/blob/master/NLP_Tensorflow_Word_Embedding.ipynb\" target=\"_parent\"><img src=\"https://colab.research.google.com/assets/colab-badge.svg\" alt=\"Open In Colab\"/></a>"
      ]
    },
    {
      "cell_type": "code",
      "metadata": {
        "id": "apL6XsQd-huQ",
        "colab_type": "code",
        "colab": {
          "base_uri": "https://localhost:8080/",
          "height": 35
        },
        "outputId": "4ae9fbb6-2a30-40f0-bf03-af10674f3554"
      },
      "source": [
        "from __future__ import absolute_import, division, print_function, unicode_literals\n",
        "\n",
        "try:\n",
        "  # %tensorflow_version only exists in Colab.\n",
        "  %tensorflow_version 2.x\n",
        "except Exception:\n",
        "  pass\n",
        "import tensorflow as tf\n",
        "\n",
        "import tensorflow_datasets as tfds\n",
        "import os"
      ],
      "execution_count": 1,
      "outputs": [
        {
          "output_type": "stream",
          "text": [
            "TensorFlow 2.x selected.\n"
          ],
          "name": "stdout"
        }
      ]
    },
    {
      "cell_type": "code",
      "metadata": {
        "id": "Nwmrhkl2-o8V",
        "colab_type": "code",
        "colab": {}
      },
      "source": [
        "from sklearn.datasets import fetch_20newsgroups"
      ],
      "execution_count": 0,
      "outputs": []
    },
    {
      "cell_type": "code",
      "metadata": {
        "id": "xCZ_J7v0-ujU",
        "colab_type": "code",
        "colab": {
          "base_uri": "https://localhost:8080/",
          "height": 52
        },
        "outputId": "6ddf4c54-6434-457d-abc1-1b95d1bac1fa"
      },
      "source": [
        "newsgroups_train = fetch_20newsgroups(subset='all')"
      ],
      "execution_count": 3,
      "outputs": [
        {
          "output_type": "stream",
          "text": [
            "Downloading 20news dataset. This may take a few minutes.\n",
            "Downloading dataset from https://ndownloader.figshare.com/files/5975967 (14 MB)\n"
          ],
          "name": "stderr"
        }
      ]
    },
    {
      "cell_type": "code",
      "metadata": {
        "id": "zsYSx7xj-x_M",
        "colab_type": "code",
        "colab": {}
      },
      "source": [
        "cdata = {}\n",
        "for target, content in zip(newsgroups_train.target_names, newsgroups_train.data):\n",
        "  cdata.setdefault(target, [])\n",
        "  cdata[target].append(content)"
      ],
      "execution_count": 0,
      "outputs": []
    },
    {
      "cell_type": "code",
      "metadata": {
        "id": "UhI8w4WT-3Vp",
        "colab_type": "code",
        "colab": {}
      },
      "source": [
        "FILE_NAMES = []\n",
        "for target in cdata:\n",
        "    with open(target, \"w\") as fp:\n",
        "      fp.write(\"\\n\".join(cdata[target]))\n",
        "      FILE_NAMES.append(\"/content/\"+target)"
      ],
      "execution_count": 0,
      "outputs": []
    },
    {
      "cell_type": "code",
      "metadata": {
        "id": "FUvsU1EeAWRH",
        "colab_type": "code",
        "colab": {}
      },
      "source": [
        "def labeler(example, index):\n",
        "  return example, tf.cast(index, tf.int64)  \n",
        "\n",
        "labeled_data_sets = []\n",
        "\n",
        "for i, file_name in enumerate(FILE_NAMES):\n",
        "  lines_dataset = tf.data.TextLineDataset(file_name)\n",
        "  labeled_dataset = lines_dataset.map(lambda ex: labeler(ex, i))\n",
        "  labeled_data_sets.append(labeled_dataset)"
      ],
      "execution_count": 0,
      "outputs": []
    },
    {
      "cell_type": "code",
      "metadata": {
        "id": "amGDtTAwAvay",
        "colab_type": "code",
        "colab": {}
      },
      "source": [
        "BUFFER_SIZE = 50000\n",
        "BATCH_SIZE = 16\n",
        "TAKE_SIZE = 5000"
      ],
      "execution_count": 0,
      "outputs": []
    },
    {
      "cell_type": "code",
      "metadata": {
        "id": "QIEOkkBwAyk4",
        "colab_type": "code",
        "colab": {}
      },
      "source": [
        "all_labeled_data = labeled_data_sets[0]\n",
        "for labeled_dataset in labeled_data_sets[1:]:\n",
        "  all_labeled_data = all_labeled_data.concatenate(labeled_dataset)\n",
        "  \n",
        "all_labeled_data = all_labeled_data.shuffle(\n",
        "    BUFFER_SIZE, reshuffle_each_iteration=False)"
      ],
      "execution_count": 0,
      "outputs": []
    },
    {
      "cell_type": "code",
      "metadata": {
        "id": "FUPujR1vA1Nh",
        "colab_type": "code",
        "colab": {
          "base_uri": "https://localhost:8080/",
          "height": 124
        },
        "outputId": "f8f83165-f94c-4cde-fa58-27a519228a80"
      },
      "source": [
        "for ex in all_labeled_data.take(5):\n",
        "  print(ex)"
      ],
      "execution_count": 17,
      "outputs": [
        {
          "output_type": "stream",
          "text": [
            "(<tf.Tensor: id=2169, shape=(), dtype=string, numpy=b''>, <tf.Tensor: id=2170, shape=(), dtype=int64, numpy=17>)\n",
            "(<tf.Tensor: id=2171, shape=(), dtype=string, numpy=b'Organization: University of East Anglia'>, <tf.Tensor: id=2172, shape=(), dtype=int64, numpy=19>)\n",
            "(<tf.Tensor: id=2173, shape=(), dtype=string, numpy=b'Nntp-Posting-Host: stpl.ists.ca'>, <tf.Tensor: id=2174, shape=(), dtype=int64, numpy=8>)\n",
            "(<tf.Tensor: id=2175, shape=(), dtype=string, numpy=b''>, <tf.Tensor: id=2176, shape=(), dtype=int64, numpy=2>)\n",
            "(<tf.Tensor: id=2177, shape=(), dtype=string, numpy=b'\"In 1895, Karl Kellner (1850-1905), a wealthy Austrian industrialist'>, <tf.Tensor: id=2178, shape=(), dtype=int64, numpy=12>)\n"
          ],
          "name": "stdout"
        }
      ]
    },
    {
      "cell_type": "code",
      "metadata": {
        "id": "GcfsmLL2A30b",
        "colab_type": "code",
        "colab": {
          "base_uri": "https://localhost:8080/",
          "height": 35
        },
        "outputId": "cbde7017-6d45-432f-c7b3-34923a86588e"
      },
      "source": [
        "tokenizer = tfds.features.text.Tokenizer()\n",
        "\n",
        "vocabulary_set = set()\n",
        "for text_tensor, _ in all_labeled_data:\n",
        "  some_tokens = tokenizer.tokenize(text_tensor.numpy())\n",
        "  vocabulary_set.update(some_tokens)\n",
        "\n",
        "vocab_size = len(vocabulary_set)\n",
        "vocab_size"
      ],
      "execution_count": 10,
      "outputs": [
        {
          "output_type": "execute_result",
          "data": {
            "text/plain": [
              "2288"
            ]
          },
          "metadata": {
            "tags": []
          },
          "execution_count": 10
        }
      ]
    },
    {
      "cell_type": "code",
      "metadata": {
        "id": "nTXskYiLBHau",
        "colab_type": "code",
        "colab": {}
      },
      "source": [
        "encoder = tfds.features.text.SubwordTextEncoder(vocabulary_set)"
      ],
      "execution_count": 0,
      "outputs": []
    },
    {
      "cell_type": "code",
      "metadata": {
        "id": "5P7rt-QNLbca",
        "colab_type": "code",
        "colab": {
          "base_uri": "https://localhost:8080/",
          "height": 35
        },
        "outputId": "3364cec6-49ef-491f-f048-9a8e14f8079f"
      },
      "source": [
        "text_tensor.numpy()"
      ],
      "execution_count": 18,
      "outputs": [
        {
          "output_type": "execute_result",
          "data": {
            "text/plain": [
              "b'The word of Sin is Restriction. [Would I kid you?]'"
            ]
          },
          "metadata": {
            "tags": []
          },
          "execution_count": 18
        }
      ]
    },
    {
      "cell_type": "code",
      "metadata": {
        "id": "wWh5cX9MLe_c",
        "colab_type": "code",
        "colab": {}
      },
      "source": [
        "encode_example = encoder.encode(text_tensor.numpy())"
      ],
      "execution_count": 0,
      "outputs": []
    },
    {
      "cell_type": "code",
      "metadata": {
        "id": "a3W54SI9xI4o",
        "colab_type": "code",
        "colab": {
          "base_uri": "https://localhost:8080/",
          "height": 35
        },
        "outputId": "43b92314-4f81-4fca-9095-b09afad462ac"
      },
      "source": [
        "print(encode_example)"
      ],
      "execution_count": 20,
      "outputs": [
        {
          "output_type": "stream",
          "text": [
            "[75, 775, 1973, 775, 636, 775, 2126, 775, 664, 775, 1719, 2335, 2321, 2380, 1661, 775, 484, 775, 274, 775, 703, 2352, 2382]\n"
          ],
          "name": "stdout"
        }
      ]
    },
    {
      "cell_type": "code",
      "metadata": {
        "id": "uRa3b2glxMVf",
        "colab_type": "code",
        "colab": {}
      },
      "source": [
        "def encode(text_tensor, label):\n",
        "  encoded_text = encoder.encode(text_tensor.numpy())\n",
        "  return encoded_text, label\n",
        "\n",
        "def encode_map_fn(text, label):\n",
        "  return tf.py_function(encode, inp=[text, label], Tout=(tf.int64, tf.int64))\n",
        "\n",
        "all_encoded_data = all_labeled_data.map(encode_map_fn)"
      ],
      "execution_count": 0,
      "outputs": []
    },
    {
      "cell_type": "code",
      "metadata": {
        "id": "ENI3a6NZzuc3",
        "colab_type": "code",
        "colab": {}
      },
      "source": [
        "train_data = all_encoded_data"
      ],
      "execution_count": 0,
      "outputs": []
    },
    {
      "cell_type": "code",
      "metadata": {
        "id": "IHqvBj0v0CF0",
        "colab_type": "code",
        "colab": {}
      },
      "source": [
        "padded_shapes = ([None],())\n",
        "train_data = train_data.padded_batch(BATCH_SIZE, padded_shapes=padded_shapes)"
      ],
      "execution_count": 0,
      "outputs": []
    },
    {
      "cell_type": "code",
      "metadata": {
        "id": "uf-Lsmnu0oJC",
        "colab_type": "code",
        "colab": {}
      },
      "source": [
        "vocab_size += 1 "
      ],
      "execution_count": 0,
      "outputs": []
    },
    {
      "cell_type": "code",
      "metadata": {
        "id": "4M5SANOP265R",
        "colab_type": "code",
        "colab": {}
      },
      "source": [
        "from tensorflow import keras\n",
        "from tensorflow.keras import layers"
      ],
      "execution_count": 0,
      "outputs": []
    },
    {
      "cell_type": "code",
      "metadata": {
        "id": "Lf_XonDD1q9C",
        "colab_type": "code",
        "colab": {}
      },
      "source": [
        "embedded_dim = 16\n",
        "\n",
        "model = keras.Sequential(\n",
        "    [\n",
        "     layers.Embedding(encoder.vocab_size, embedded_dim),\n",
        "     layers.GlobalAvgPool1D(),\n",
        "     layers.Dense(1, activation='sigmoid')\n",
        "    ]\n",
        ")"
      ],
      "execution_count": 0,
      "outputs": []
    },
    {
      "cell_type": "code",
      "metadata": {
        "id": "MnxDN0Pt14Qo",
        "colab_type": "code",
        "colab": {
          "base_uri": "https://localhost:8080/",
          "height": 259
        },
        "outputId": "ed403d85-77da-4c9a-f950-8652b4df5e05"
      },
      "source": [
        "model.summary()"
      ],
      "execution_count": 39,
      "outputs": [
        {
          "output_type": "stream",
          "text": [
            "Model: \"sequential\"\n",
            "_________________________________________________________________\n",
            "Layer (type)                 Output Shape              Param #   \n",
            "=================================================================\n",
            "embedding (Embedding)        (None, None, 16)          40720     \n",
            "_________________________________________________________________\n",
            "global_average_pooling1d (Gl (None, 16)                0         \n",
            "_________________________________________________________________\n",
            "dense (Dense)                (None, 1)                 17        \n",
            "=================================================================\n",
            "Total params: 40,737\n",
            "Trainable params: 40,737\n",
            "Non-trainable params: 0\n",
            "_________________________________________________________________\n"
          ],
          "name": "stdout"
        }
      ]
    },
    {
      "cell_type": "code",
      "metadata": {
        "id": "4mhlkdz138Vv",
        "colab_type": "code",
        "colab": {}
      },
      "source": [
        "model.compile(optimizer='adam', loss='binary_crossentropy', metrics=['accuracy'])"
      ],
      "execution_count": 0,
      "outputs": []
    },
    {
      "cell_type": "code",
      "metadata": {
        "id": "EpCmE-Wh4SSO",
        "colab_type": "code",
        "colab": {
          "base_uri": "https://localhost:8080/",
          "height": 435
        },
        "outputId": "1e0960de-816f-48ee-f0c0-5f4461d46371"
      },
      "source": [
        "#history = model.fit(train_data, epochs=10, validation_data=train_batch, validation_steps=5)\n",
        "\n",
        "history = model.fit(\n",
        "    train_data,\n",
        "    epochs=10)"
      ],
      "execution_count": 43,
      "outputs": [
        {
          "output_type": "stream",
          "text": [
            "Epoch 1/10\n",
            "WARNING:tensorflow:From /tensorflow-2.0.0-rc2/python3.6/tensorflow_core/python/ops/nn_impl.py:183: where (from tensorflow.python.ops.array_ops) is deprecated and will be removed in a future version.\n",
            "Instructions for updating:\n",
            "Use tf.where in 2.0, which has the same broadcast rule as np.where\n",
            "53/53 [==============================] - 3s 52ms/step - loss: -0.5246 - accuracy: 0.0358\n",
            "Epoch 2/10\n",
            "53/53 [==============================] - 1s 14ms/step - loss: -3.5542 - accuracy: 0.0346\n",
            "Epoch 3/10\n",
            "53/53 [==============================] - 1s 14ms/step - loss: -8.0612 - accuracy: 0.0346\n",
            "Epoch 4/10\n",
            "53/53 [==============================] - 1s 15ms/step - loss: -14.1704 - accuracy: 0.0346\n",
            "Epoch 5/10\n",
            "53/53 [==============================] - 1s 15ms/step - loss: -21.8879 - accuracy: 0.0346\n",
            "Epoch 6/10\n",
            "53/53 [==============================] - 1s 15ms/step - loss: -31.2265 - accuracy: 0.0346\n",
            "Epoch 7/10\n",
            "53/53 [==============================] - 1s 15ms/step - loss: -42.2129 - accuracy: 0.0346\n",
            "Epoch 8/10\n",
            "53/53 [==============================] - 1s 16ms/step - loss: -54.8650 - accuracy: 0.0346\n",
            "Epoch 9/10\n",
            "53/53 [==============================] - 1s 15ms/step - loss: -69.1816 - accuracy: 0.0346\n",
            "Epoch 10/10\n",
            "53/53 [==============================] - 1s 15ms/step - loss: -85.1462 - accuracy: 0.0346\n"
          ],
          "name": "stdout"
        }
      ]
    },
    {
      "cell_type": "code",
      "metadata": {
        "id": "DAIDpwwf41LV",
        "colab_type": "code",
        "colab": {
          "base_uri": "https://localhost:8080/",
          "height": 567
        },
        "outputId": "01ced4ca-eeeb-423f-bd89-3435429653ae"
      },
      "source": [
        "import matplotlib.pyplot as plt\n",
        "\n",
        "history_dict = history.history\n",
        "\n",
        "acc = history_dict['accuracy']\n",
        "#val_acc = history_dict['val_accuracy']\n",
        "loss = history_dict['loss']\n",
        "#val_loss = history_dict['val_loss']\n",
        "\n",
        "epochs = range(1, len(acc) + 1)\n",
        "plt.figure(figsize=(12,9))\n",
        "plt.plot(epochs, loss, 'bo', label='Training loss')\n",
        "#plt.plot(epochs, val_loss, 'b', label='Validation loss')\n",
        "plt.title('Training loss')\n",
        "plt.xlabel('Epochs')\n",
        "plt.ylabel('Loss')\n",
        "plt.legend()\n",
        "plt.show()"
      ],
      "execution_count": 46,
      "outputs": [
        {
          "output_type": "display_data",
          "data": {
            "image/png": "[encoded data removed]",
            "text/plain": [
              "<Figure size 864x648 with 1 Axes>"
            ]
          },
          "metadata": {
            "tags": []
          }
        }
      ]
    },
    {
      "cell_type": "code",
      "metadata": {
        "id": "95ggyyWR6WxM",
        "colab_type": "code",
        "colab": {
          "base_uri": "https://localhost:8080/",
          "height": 35
        },
        "outputId": "96c3539f-e770-49d2-a68f-6d2421d2a0c9"
      },
      "source": [
        "e = model.layers[0]\n",
        "weights = e.get_weights()[0]\n",
        "print(weights.shape)"
      ],
      "execution_count": 48,
      "outputs": [
        {
          "output_type": "stream",
          "text": [
            "(2545, 16)\n"
          ],
          "name": "stdout"
        }
      ]
    },
    {
      "cell_type": "code",
      "metadata": {
        "id": "T1Kw9V9f679P",
        "colab_type": "code",
        "colab": {}
      },
      "source": [
        "import io\n",
        "out_v = io.open('vecs.tsv', 'w', encoding='utf-8')\n",
        "out_m = io.open('meta.tsv', 'w', encoding='utf-8')\n",
        "\n",
        "\n",
        "for num, word in enumerate(encoder.subwords):\n",
        "  vec = weights[num+1]\n",
        "  out_m.write(word + \"\\n\")\n",
        "  out_v.write('\\t'.join([str(x) for x in vec]) + \"\\n\")\n",
        "out_v.close()\n",
        "out_m.close()\n"
      ],
      "execution_count": 0,
      "outputs": []
    },
    {
      "cell_type": "code",
      "metadata": {
        "id": "1umoCDyL8yDr",
        "colab_type": "code",
        "colab": {}
      },
      "source": [
        "try:\n",
        "  from google.colab import files\n",
        "except ImportError:\n",
        "   pass\n",
        "else:\n",
        "  files.download('vecs.tsv')\n",
        "  files.download('meta.tsv')"
      ],
      "execution_count": 0,
      "outputs": []
    },
    {
      "cell_type": "code",
      "metadata": {
        "id": "5z-oeb8-83JF",
        "colab_type": "code",
        "colab": {}
      },
      "source": [
        "# Use http://projector.tensorflow.org/ to view"
      ],
      "execution_count": 0,
      "outputs": []
    }
  ]
}