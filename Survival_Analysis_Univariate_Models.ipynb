{
  "nbformat": 4,
  "nbformat_minor": 0,
  "metadata": {
    "colab": {
      "name": "Survival-Analysis-Univariate-Models.ipynb",
      "version": "0.3.2",
      "provenance": [],
      "include_colab_link": true
    },
    "kernelspec": {
      "name": "python3",
      "display_name": "Python 3"
    }
  },
  "cells": [
    {
      "cell_type": "markdown",
      "metadata": {
        "id": "view-in-github",
        "colab_type": "text"
      },
      "source": [
        "<a href=\"https://colab.research.google.com/github/somilasthana/MachineLearningSkills/blob/master/Survival_Analysis_Univariate_Models.ipynb\" target=\"_parent\"><img src=\"https://colab.research.google.com/assets/colab-badge.svg\" alt=\"Open In Colab\"/></a>"
      ]
    },
    {
      "cell_type": "code",
      "metadata": {
        "id": "43Ll4D8VcSPh",
        "colab_type": "code",
        "colab": {
          "base_uri": "https://localhost:8080/",
          "height": 469
        },
        "outputId": "209787e9-7505-4ac6-8b93-2e696914aa49"
      },
      "source": [
        "!pip install -U lifelines"
      ],
      "execution_count": 1,
      "outputs": [
        {
          "output_type": "stream",
          "text": [
            "Collecting lifelines\n",
            "\u001b[?25l  Downloading https://files.pythonhosted.org/packages/0d/62/cd955e8df930fdd7981064e679fd52ae022feb7f88eb36665460f65fa1c3/lifelines-0.21.5-py3-none-any.whl (330kB)\n",
            "\u001b[K     |████████████████████████████████| 337kB 4.7MB/s \n",
            "\u001b[?25hRequirement already satisfied, skipping upgrade: bottleneck>=1.0 in /usr/local/lib/python3.6/dist-packages (from lifelines) (1.2.1)\n",
            "Requirement already satisfied, skipping upgrade: matplotlib>=3.0 in /usr/local/lib/python3.6/dist-packages (from lifelines) (3.0.3)\n",
            "Requirement already satisfied, skipping upgrade: numpy>=1.6.0 in /usr/local/lib/python3.6/dist-packages (from lifelines) (1.16.4)\n",
            "Requirement already satisfied, skipping upgrade: autograd>=1.2 in /usr/local/lib/python3.6/dist-packages (from lifelines) (1.2)\n",
            "Requirement already satisfied, skipping upgrade: pandas>=0.23.0 in /usr/local/lib/python3.6/dist-packages (from lifelines) (0.24.2)\n",
            "Collecting scipy<=1.2.1,>=1.0 (from lifelines)\n",
            "\u001b[?25l  Downloading https://files.pythonhosted.org/packages/7f/5f/c48860704092933bf1c4c1574a8de1ffd16bf4fde8bab190d747598844b2/scipy-1.2.1-cp36-cp36m-manylinux1_x86_64.whl (24.8MB)\n",
            "\u001b[K     |████████████████████████████████| 24.8MB 64.9MB/s \n",
            "\u001b[?25hRequirement already satisfied, skipping upgrade: pyparsing!=2.0.4,!=2.1.2,!=2.1.6,>=2.0.1 in /usr/local/lib/python3.6/dist-packages (from matplotlib>=3.0->lifelines) (2.4.0)\n",
            "Requirement already satisfied, skipping upgrade: cycler>=0.10 in /usr/local/lib/python3.6/dist-packages (from matplotlib>=3.0->lifelines) (0.10.0)\n",
            "Requirement already satisfied, skipping upgrade: python-dateutil>=2.1 in /usr/local/lib/python3.6/dist-packages (from matplotlib>=3.0->lifelines) (2.5.3)\n",
            "Requirement already satisfied, skipping upgrade: kiwisolver>=1.0.1 in /usr/local/lib/python3.6/dist-packages (from matplotlib>=3.0->lifelines) (1.1.0)\n",
            "Requirement already satisfied, skipping upgrade: future>=0.15.2 in /usr/local/lib/python3.6/dist-packages (from autograd>=1.2->lifelines) (0.16.0)\n",
            "Requirement already satisfied, skipping upgrade: pytz>=2011k in /usr/local/lib/python3.6/dist-packages (from pandas>=0.23.0->lifelines) (2018.9)\n",
            "Requirement already satisfied, skipping upgrade: six in /usr/local/lib/python3.6/dist-packages (from cycler>=0.10->matplotlib>=3.0->lifelines) (1.12.0)\n",
            "Requirement already satisfied, skipping upgrade: setuptools in /usr/local/lib/python3.6/dist-packages (from kiwisolver>=1.0.1->matplotlib>=3.0->lifelines) (41.0.1)\n",
            "\u001b[31mERROR: albumentations 0.1.12 has requirement imgaug<0.2.7,>=0.2.5, but you'll have imgaug 0.2.9 which is incompatible.\u001b[0m\n",
            "Installing collected packages: scipy, lifelines\n",
            "  Found existing installation: scipy 1.3.0\n",
            "    Uninstalling scipy-1.3.0:\n",
            "      Successfully uninstalled scipy-1.3.0\n",
            "Successfully installed lifelines-0.21.5 scipy-1.2.1\n"
          ],
          "name": "stdout"
        }
      ]
    },
    {
      "cell_type": "code",
      "metadata": {
        "id": "bNviWf_kcdtT",
        "colab_type": "code",
        "colab": {}
      },
      "source": [
        "from lifelines.datasets import load_dd\n",
        "import matplotlib.pyplot as plt\n",
        "import seaborn as sns; sns.set()"
      ],
      "execution_count": 0,
      "outputs": []
    },
    {
      "cell_type": "code",
      "metadata": {
        "id": "2sSVhX1Rcmh9",
        "colab_type": "code",
        "colab": {
          "base_uri": "https://localhost:8080/",
          "height": 356
        },
        "outputId": "ec12023f-b2d7-4cd9-be5d-6bad7d3a2d14"
      },
      "source": [
        "data = load_dd()\n",
        "data.head()"
      ],
      "execution_count": 3,
      "outputs": [
        {
          "output_type": "execute_result",
          "data": {
            "text/html": [
              "<div>\n",
              "<style scoped>\n",
              "    .dataframe tbody tr th:only-of-type {\n",
              "        vertical-align: middle;\n",
              "    }\n",
              "\n",
              "    .dataframe tbody tr th {\n",
              "        vertical-align: top;\n",
              "    }\n",
              "\n",
              "    .dataframe thead th {\n",
              "        text-align: right;\n",
              "    }\n",
              "</style>\n",
              "<table border=\"1\" class=\"dataframe\">\n",
              "  <thead>\n",
              "    <tr style=\"text-align: right;\">\n",
              "      <th></th>\n",
              "      <th>ctryname</th>\n",
              "      <th>cowcode2</th>\n",
              "      <th>politycode</th>\n",
              "      <th>un_region_name</th>\n",
              "      <th>un_continent_name</th>\n",
              "      <th>ehead</th>\n",
              "      <th>leaderspellreg</th>\n",
              "      <th>democracy</th>\n",
              "      <th>regime</th>\n",
              "      <th>start_year</th>\n",
              "      <th>duration</th>\n",
              "      <th>observed</th>\n",
              "    </tr>\n",
              "  </thead>\n",
              "  <tbody>\n",
              "    <tr>\n",
              "      <th>0</th>\n",
              "      <td>Afghanistan</td>\n",
              "      <td>700</td>\n",
              "      <td>700.0</td>\n",
              "      <td>Southern Asia</td>\n",
              "      <td>Asia</td>\n",
              "      <td>Mohammad Zahir Shah</td>\n",
              "      <td>Mohammad Zahir Shah.Afghanistan.1946.1952.Mona...</td>\n",
              "      <td>Non-democracy</td>\n",
              "      <td>Monarchy</td>\n",
              "      <td>1946</td>\n",
              "      <td>7</td>\n",
              "      <td>1</td>\n",
              "    </tr>\n",
              "    <tr>\n",
              "      <th>1</th>\n",
              "      <td>Afghanistan</td>\n",
              "      <td>700</td>\n",
              "      <td>700.0</td>\n",
              "      <td>Southern Asia</td>\n",
              "      <td>Asia</td>\n",
              "      <td>Sardar Mohammad Daoud</td>\n",
              "      <td>Sardar Mohammad Daoud.Afghanistan.1953.1962.Ci...</td>\n",
              "      <td>Non-democracy</td>\n",
              "      <td>Civilian Dict</td>\n",
              "      <td>1953</td>\n",
              "      <td>10</td>\n",
              "      <td>1</td>\n",
              "    </tr>\n",
              "    <tr>\n",
              "      <th>2</th>\n",
              "      <td>Afghanistan</td>\n",
              "      <td>700</td>\n",
              "      <td>700.0</td>\n",
              "      <td>Southern Asia</td>\n",
              "      <td>Asia</td>\n",
              "      <td>Mohammad Zahir Shah</td>\n",
              "      <td>Mohammad Zahir Shah.Afghanistan.1963.1972.Mona...</td>\n",
              "      <td>Non-democracy</td>\n",
              "      <td>Monarchy</td>\n",
              "      <td>1963</td>\n",
              "      <td>10</td>\n",
              "      <td>1</td>\n",
              "    </tr>\n",
              "    <tr>\n",
              "      <th>3</th>\n",
              "      <td>Afghanistan</td>\n",
              "      <td>700</td>\n",
              "      <td>700.0</td>\n",
              "      <td>Southern Asia</td>\n",
              "      <td>Asia</td>\n",
              "      <td>Sardar Mohammad Daoud</td>\n",
              "      <td>Sardar Mohammad Daoud.Afghanistan.1973.1977.Ci...</td>\n",
              "      <td>Non-democracy</td>\n",
              "      <td>Civilian Dict</td>\n",
              "      <td>1973</td>\n",
              "      <td>5</td>\n",
              "      <td>0</td>\n",
              "    </tr>\n",
              "    <tr>\n",
              "      <th>4</th>\n",
              "      <td>Afghanistan</td>\n",
              "      <td>700</td>\n",
              "      <td>700.0</td>\n",
              "      <td>Southern Asia</td>\n",
              "      <td>Asia</td>\n",
              "      <td>Nur Mohammad Taraki</td>\n",
              "      <td>Nur Mohammad Taraki.Afghanistan.1978.1978.Civi...</td>\n",
              "      <td>Non-democracy</td>\n",
              "      <td>Civilian Dict</td>\n",
              "      <td>1978</td>\n",
              "      <td>1</td>\n",
              "      <td>0</td>\n",
              "    </tr>\n",
              "  </tbody>\n",
              "</table>\n",
              "</div>"
            ],
            "text/plain": [
              "      ctryname  cowcode2  politycode  ... start_year duration observed\n",
              "0  Afghanistan       700       700.0  ...       1946        7        1\n",
              "1  Afghanistan       700       700.0  ...       1953       10        1\n",
              "2  Afghanistan       700       700.0  ...       1963       10        1\n",
              "3  Afghanistan       700       700.0  ...       1973        5        0\n",
              "4  Afghanistan       700       700.0  ...       1978        1        0\n",
              "\n",
              "[5 rows x 12 columns]"
            ]
          },
          "metadata": {
            "tags": []
          },
          "execution_count": 3
        }
      ]
    },
    {
      "cell_type": "code",
      "metadata": {
        "id": "aI1S6zI_cpeM",
        "colab_type": "code",
        "colab": {}
      },
      "source": [
        "# Model\n",
        "\n",
        "from lifelines import KaplanMeierFitter\n",
        "kmf = KaplanMeierFitter()"
      ],
      "execution_count": 0,
      "outputs": []
    },
    {
      "cell_type": "code",
      "metadata": {
        "id": "uZ7GoM19cyvu",
        "colab_type": "code",
        "colab": {}
      },
      "source": [
        "T = data[\"duration\"]\n",
        "E = data[\"observed\"]"
      ],
      "execution_count": 0,
      "outputs": []
    },
    {
      "cell_type": "code",
      "metadata": {
        "id": "W6YIrxSsc7Yr",
        "colab_type": "code",
        "colab": {
          "base_uri": "https://localhost:8080/",
          "height": 35
        },
        "outputId": "5bc4d94a-f839-46a8-a203-250b862a9814"
      },
      "source": [
        "kmf.fit(T, event_observed=E)"
      ],
      "execution_count": 6,
      "outputs": [
        {
          "output_type": "execute_result",
          "data": {
            "text/plain": [
              "<lifelines.KaplanMeierFitter: fitted with 1808 observations, 340 censored>"
            ]
          },
          "metadata": {
            "tags": []
          },
          "execution_count": 6
        }
      ]
    },
    {
      "cell_type": "code",
      "metadata": {
        "id": "RJtY4Uu9c8-i",
        "colab_type": "code",
        "colab": {
          "base_uri": "https://localhost:8080/",
          "height": 301
        },
        "outputId": "844afc7f-0e5f-44b1-c78d-034f17c5e0bd"
      },
      "source": [
        "kmf.survival_function_.plot()\n",
        "plt.title('Survival function of political regimes');"
      ],
      "execution_count": 9,
      "outputs": [
        {
          "output_type": "display_data",
          "data": {
            "image/png": "[encoded data removed]",
            "text/plain": [
              "<Figure size 432x288 with 1 Axes>"
            ]
          },
          "metadata": {
            "tags": []
          }
        }
      ]
    },
    {
      "cell_type": "code",
      "metadata": {
        "id": "SMrQj2LudBTP",
        "colab_type": "code",
        "colab": {
          "base_uri": "https://localhost:8080/",
          "height": 1368
        },
        "outputId": "4f313128-227b-4c11-8274-d211ae9799b4"
      },
      "source": [
        "\"\"\"\n",
        "How do we interpret this? \n",
        "y-axis represents the probability a leader is still around after 𝑡 years\n",
        "\n",
        "We see that very few leaders make it past 20 years in office.\n",
        "\"\"\"\n",
        "\n",
        "\n",
        "kmf.confidence_interval_"
      ],
      "execution_count": 10,
      "outputs": [
        {
          "output_type": "execute_result",
          "data": {
            "text/html": [
              "<div>\n",
              "<style scoped>\n",
              "    .dataframe tbody tr th:only-of-type {\n",
              "        vertical-align: middle;\n",
              "    }\n",
              "\n",
              "    .dataframe tbody tr th {\n",
              "        vertical-align: top;\n",
              "    }\n",
              "\n",
              "    .dataframe thead th {\n",
              "        text-align: right;\n",
              "    }\n",
              "</style>\n",
              "<table border=\"1\" class=\"dataframe\">\n",
              "  <thead>\n",
              "    <tr style=\"text-align: right;\">\n",
              "      <th></th>\n",
              "      <th>KM_estimate_upper_0.95</th>\n",
              "      <th>KM_estimate_lower_0.95</th>\n",
              "    </tr>\n",
              "  </thead>\n",
              "  <tbody>\n",
              "    <tr>\n",
              "      <th>0.0</th>\n",
              "      <td>NaN</td>\n",
              "      <td>NaN</td>\n",
              "    </tr>\n",
              "    <tr>\n",
              "      <th>1.0</th>\n",
              "      <td>0.741841</td>\n",
              "      <td>0.700522</td>\n",
              "    </tr>\n",
              "    <tr>\n",
              "      <th>2.0</th>\n",
              "      <td>0.624308</td>\n",
              "      <td>0.578805</td>\n",
              "    </tr>\n",
              "    <tr>\n",
              "      <th>3.0</th>\n",
              "      <td>0.534126</td>\n",
              "      <td>0.487205</td>\n",
              "    </tr>\n",
              "    <tr>\n",
              "      <th>4.0</th>\n",
              "      <td>0.442242</td>\n",
              "      <td>0.395233</td>\n",
              "    </tr>\n",
              "    <tr>\n",
              "      <th>5.0</th>\n",
              "      <td>0.356952</td>\n",
              "      <td>0.311203</td>\n",
              "    </tr>\n",
              "    <tr>\n",
              "      <th>6.0</th>\n",
              "      <td>0.303218</td>\n",
              "      <td>0.258958</td>\n",
              "    </tr>\n",
              "    <tr>\n",
              "      <th>7.0</th>\n",
              "      <td>0.278769</td>\n",
              "      <td>0.235366</td>\n",
              "    </tr>\n",
              "    <tr>\n",
              "      <th>8.0</th>\n",
              "      <td>0.243268</td>\n",
              "      <td>0.201348</td>\n",
              "    </tr>\n",
              "    <tr>\n",
              "      <th>9.0</th>\n",
              "      <td>0.226095</td>\n",
              "      <td>0.184960</td>\n",
              "    </tr>\n",
              "    <tr>\n",
              "      <th>10.0</th>\n",
              "      <td>0.201723</td>\n",
              "      <td>0.161884</td>\n",
              "    </tr>\n",
              "    <tr>\n",
              "      <th>11.0</th>\n",
              "      <td>0.181055</td>\n",
              "      <td>0.142393</td>\n",
              "    </tr>\n",
              "    <tr>\n",
              "      <th>12.0</th>\n",
              "      <td>0.169878</td>\n",
              "      <td>0.131919</td>\n",
              "    </tr>\n",
              "    <tr>\n",
              "      <th>13.0</th>\n",
              "      <td>0.158397</td>\n",
              "      <td>0.121220</td>\n",
              "    </tr>\n",
              "    <tr>\n",
              "      <th>14.0</th>\n",
              "      <td>0.143603</td>\n",
              "      <td>0.107540</td>\n",
              "    </tr>\n",
              "    <tr>\n",
              "      <th>15.0</th>\n",
              "      <td>0.136311</td>\n",
              "      <td>0.100804</td>\n",
              "    </tr>\n",
              "    <tr>\n",
              "      <th>16.0</th>\n",
              "      <td>0.131858</td>\n",
              "      <td>0.096657</td>\n",
              "    </tr>\n",
              "    <tr>\n",
              "      <th>17.0</th>\n",
              "      <td>0.126177</td>\n",
              "      <td>0.091385</td>\n",
              "    </tr>\n",
              "    <tr>\n",
              "      <th>18.0</th>\n",
              "      <td>0.117726</td>\n",
              "      <td>0.083517</td>\n",
              "    </tr>\n",
              "    <tr>\n",
              "      <th>19.0</th>\n",
              "      <td>0.111390</td>\n",
              "      <td>0.077630</td>\n",
              "    </tr>\n",
              "    <tr>\n",
              "      <th>20.0</th>\n",
              "      <td>0.108693</td>\n",
              "      <td>0.075101</td>\n",
              "    </tr>\n",
              "    <tr>\n",
              "      <th>21.0</th>\n",
              "      <td>0.103063</td>\n",
              "      <td>0.069812</td>\n",
              "    </tr>\n",
              "    <tr>\n",
              "      <th>22.0</th>\n",
              "      <td>0.095866</td>\n",
              "      <td>0.063147</td>\n",
              "    </tr>\n",
              "    <tr>\n",
              "      <th>23.0</th>\n",
              "      <td>0.091378</td>\n",
              "      <td>0.059019</td>\n",
              "    </tr>\n",
              "    <tr>\n",
              "      <th>24.0</th>\n",
              "      <td>0.088268</td>\n",
              "      <td>0.056158</td>\n",
              "    </tr>\n",
              "    <tr>\n",
              "      <th>25.0</th>\n",
              "      <td>0.086679</td>\n",
              "      <td>0.054699</td>\n",
              "    </tr>\n",
              "    <tr>\n",
              "      <th>26.0</th>\n",
              "      <td>0.083306</td>\n",
              "      <td>0.051553</td>\n",
              "    </tr>\n",
              "    <tr>\n",
              "      <th>27.0</th>\n",
              "      <td>0.079768</td>\n",
              "      <td>0.048244</td>\n",
              "    </tr>\n",
              "    <tr>\n",
              "      <th>28.0</th>\n",
              "      <td>0.077908</td>\n",
              "      <td>0.046487</td>\n",
              "    </tr>\n",
              "    <tr>\n",
              "      <th>29.0</th>\n",
              "      <td>0.073976</td>\n",
              "      <td>0.042740</td>\n",
              "    </tr>\n",
              "    <tr>\n",
              "      <th>30.0</th>\n",
              "      <td>0.069777</td>\n",
              "      <td>0.038724</td>\n",
              "    </tr>\n",
              "    <tr>\n",
              "      <th>31.0</th>\n",
              "      <td>0.067457</td>\n",
              "      <td>0.036412</td>\n",
              "    </tr>\n",
              "    <tr>\n",
              "      <th>32.0</th>\n",
              "      <td>0.060313</td>\n",
              "      <td>0.029678</td>\n",
              "    </tr>\n",
              "    <tr>\n",
              "      <th>33.0</th>\n",
              "      <td>0.055393</td>\n",
              "      <td>0.025360</td>\n",
              "    </tr>\n",
              "    <tr>\n",
              "      <th>34.0</th>\n",
              "      <td>0.055393</td>\n",
              "      <td>0.025360</td>\n",
              "    </tr>\n",
              "    <tr>\n",
              "      <th>35.0</th>\n",
              "      <td>0.047047</td>\n",
              "      <td>0.018100</td>\n",
              "    </tr>\n",
              "    <tr>\n",
              "      <th>36.0</th>\n",
              "      <td>0.047047</td>\n",
              "      <td>0.018100</td>\n",
              "    </tr>\n",
              "    <tr>\n",
              "      <th>38.0</th>\n",
              "      <td>0.047047</td>\n",
              "      <td>0.018100</td>\n",
              "    </tr>\n",
              "    <tr>\n",
              "      <th>39.0</th>\n",
              "      <td>0.047047</td>\n",
              "      <td>0.018100</td>\n",
              "    </tr>\n",
              "    <tr>\n",
              "      <th>40.0</th>\n",
              "      <td>0.047047</td>\n",
              "      <td>0.018100</td>\n",
              "    </tr>\n",
              "    <tr>\n",
              "      <th>42.0</th>\n",
              "      <td>0.047047</td>\n",
              "      <td>0.018100</td>\n",
              "    </tr>\n",
              "    <tr>\n",
              "      <th>44.0</th>\n",
              "      <td>0.047047</td>\n",
              "      <td>0.018100</td>\n",
              "    </tr>\n",
              "    <tr>\n",
              "      <th>46.0</th>\n",
              "      <td>0.047047</td>\n",
              "      <td>0.018100</td>\n",
              "    </tr>\n",
              "    <tr>\n",
              "      <th>47.0</th>\n",
              "      <td>0.051917</td>\n",
              "      <td>0.002609</td>\n",
              "    </tr>\n",
              "  </tbody>\n",
              "</table>\n",
              "</div>"
            ],
            "text/plain": [
              "      KM_estimate_upper_0.95  KM_estimate_lower_0.95\n",
              "0.0                      NaN                     NaN\n",
              "1.0                 0.741841                0.700522\n",
              "2.0                 0.624308                0.578805\n",
              "3.0                 0.534126                0.487205\n",
              "4.0                 0.442242                0.395233\n",
              "5.0                 0.356952                0.311203\n",
              "6.0                 0.303218                0.258958\n",
              "7.0                 0.278769                0.235366\n",
              "8.0                 0.243268                0.201348\n",
              "9.0                 0.226095                0.184960\n",
              "10.0                0.201723                0.161884\n",
              "11.0                0.181055                0.142393\n",
              "12.0                0.169878                0.131919\n",
              "13.0                0.158397                0.121220\n",
              "14.0                0.143603                0.107540\n",
              "15.0                0.136311                0.100804\n",
              "16.0                0.131858                0.096657\n",
              "17.0                0.126177                0.091385\n",
              "18.0                0.117726                0.083517\n",
              "19.0                0.111390                0.077630\n",
              "20.0                0.108693                0.075101\n",
              "21.0                0.103063                0.069812\n",
              "22.0                0.095866                0.063147\n",
              "23.0                0.091378                0.059019\n",
              "24.0                0.088268                0.056158\n",
              "25.0                0.086679                0.054699\n",
              "26.0                0.083306                0.051553\n",
              "27.0                0.079768                0.048244\n",
              "28.0                0.077908                0.046487\n",
              "29.0                0.073976                0.042740\n",
              "30.0                0.069777                0.038724\n",
              "31.0                0.067457                0.036412\n",
              "32.0                0.060313                0.029678\n",
              "33.0                0.055393                0.025360\n",
              "34.0                0.055393                0.025360\n",
              "35.0                0.047047                0.018100\n",
              "36.0                0.047047                0.018100\n",
              "38.0                0.047047                0.018100\n",
              "39.0                0.047047                0.018100\n",
              "40.0                0.047047                0.018100\n",
              "42.0                0.047047                0.018100\n",
              "44.0                0.047047                0.018100\n",
              "46.0                0.047047                0.018100\n",
              "47.0                0.051917                0.002609"
            ]
          },
          "metadata": {
            "tags": []
          },
          "execution_count": 10
        }
      ]
    },
    {
      "cell_type": "code",
      "metadata": {
        "id": "di4mvl4QdkT3",
        "colab_type": "code",
        "colab": {
          "base_uri": "https://localhost:8080/",
          "height": 35
        },
        "outputId": "ebe3c358-9097-4ede-e8d5-245fbe9a41b6"
      },
      "source": [
        "\"\"\"Median Stay\"\"\"\n",
        "\n",
        "kmf.median_"
      ],
      "execution_count": 11,
      "outputs": [
        {
          "output_type": "execute_result",
          "data": {
            "text/plain": [
              "4.0"
            ]
          },
          "metadata": {
            "tags": []
          },
          "execution_count": 11
        }
      ]
    },
    {
      "cell_type": "code",
      "metadata": {
        "id": "fMDGOQO6dv_T",
        "colab_type": "code",
        "colab": {
          "base_uri": "https://localhost:8080/",
          "height": 308
        },
        "outputId": "ba3b3cdb-bd9e-4420-c479-c6bc2f42d345"
      },
      "source": [
        "kmf.plot() # This mean around the world, elected leaders have a 50% chance of cessation in four years or less!"
      ],
      "execution_count": 12,
      "outputs": [
        {
          "output_type": "execute_result",
          "data": {
            "text/plain": [
              "<matplotlib.axes._subplots.AxesSubplot at 0x7fb3b03fbda0>"
            ]
          },
          "metadata": {
            "tags": []
          },
          "execution_count": 12
        },
        {
          "output_type": "display_data",
          "data": {
            "image/png": "[encoded data removed]",
            "text/plain": [
              "<Figure size 432x288 with 1 Axes>"
            ]
          },
          "metadata": {
            "tags": []
          }
        }
      ]
    },
    {
      "cell_type": "code",
      "metadata": {
        "id": "bZOlPm62d_C2",
        "colab_type": "code",
        "colab": {
          "base_uri": "https://localhost:8080/",
          "height": 301
        },
        "outputId": "19a258d4-c12f-46e0-81a5-adc78a98f653"
      },
      "source": [
        "ax = plt.subplot(111)\n",
        "dem = (data[\"democracy\"] == \"Democracy\")\n",
        "kmf.fit(T[dem], event_observed=E[dem], label=\"Democratic Regimes\")\n",
        "kmf.plot(ax=ax)\n",
        "kmf.fit(T[~dem], event_observed=E[~dem], label=\"Non-democratic Regimes\")\n",
        "kmf.plot(ax=ax)\n",
        "\n",
        "plt.ylim(0, 1);\n",
        "plt.title(\"Lifespans of different global regimes\");"
      ],
      "execution_count": 13,
      "outputs": [
        {
          "output_type": "display_data",
          "data": {
            "image/png": "[encoded data removed]",
            "text/plain": [
              "<Figure size 432x288 with 1 Axes>"
            ]
          },
          "metadata": {
            "tags": []
          }
        }
      ]
    },
    {
      "cell_type": "code",
      "metadata": {
        "id": "sQBLYl2aeeXz",
        "colab_type": "code",
        "colab": {}
      },
      "source": [
        "# Statistical Test \n",
        "\n",
        "from lifelines.statistics import logrank_test\n"
      ],
      "execution_count": 0,
      "outputs": []
    },
    {
      "cell_type": "code",
      "metadata": {
        "id": "DR7oLtOIi5X-",
        "colab_type": "code",
        "colab": {}
      },
      "source": [
        "\"\"\"The function logrank_test is a common statistical test in survival analysis that compares two event series’ generators. \"\"\"\n",
        "\n",
        "results = logrank_test(T[dem], T[~dem], E[dem], E[~dem], alpha=.99)\n"
      ],
      "execution_count": 0,
      "outputs": []
    },
    {
      "cell_type": "code",
      "metadata": {
        "id": "KSG0HXhdjIOR",
        "colab_type": "code",
        "colab": {
          "base_uri": "https://localhost:8080/",
          "height": 173
        },
        "outputId": "9f9382ae-5f7b-4ed4-8263-81286d4a0fd0"
      },
      "source": [
        "results.print_summary()"
      ],
      "execution_count": 16,
      "outputs": [
        {
          "output_type": "stream",
          "text": [
            "<lifelines.StatisticalResult>\n",
            "               t_0 = -1\n",
            " null_distribution = chi squared\n",
            "degrees_of_freedom = 1\n",
            "             alpha = 0.99\n",
            "\n",
            "---\n",
            " test_statistic      p  -log2(p)\n",
            "         260.47 <0.005    192.23\n"
          ],
          "name": "stdout"
        }
      ]
    },
    {
      "cell_type": "code",
      "metadata": {
        "id": "eg69OC1-jLjj",
        "colab_type": "code",
        "colab": {
          "base_uri": "https://localhost:8080/",
          "height": 294
        },
        "outputId": "a868c6c8-3919-4f17-c7fe-5c74120ab30e"
      },
      "source": [
        "regime_types = data['regime'].unique()\n",
        "for i, regime_type in enumerate(regime_types):\n",
        "  ax = plt.subplot(2, 3, i + 1)\n",
        "  \n",
        "  ix = data['regime'] == regime_type\n",
        "  kmf.fit(T[ix], E[ix], label=regime_type)\n",
        "  kmf.plot(ax=ax, legend=False)\n",
        "  \n",
        "  plt.title(regime_type)\n",
        "  plt.xlim(0, 50)\n",
        "  \n",
        "plt.tight_layout()\n"
      ],
      "execution_count": 19,
      "outputs": [
        {
          "output_type": "display_data",
          "data": {
            "image/png": "[encoded data removed]",
            "text/plain": [
              "<Figure size 432x288 with 6 Axes>"
            ]
          },
          "metadata": {
            "tags": []
          }
        }
      ]
    },
    {
      "cell_type": "code",
      "metadata": {
        "id": "iYRshsLVj069",
        "colab_type": "code",
        "colab": {}
      },
      "source": [
        ""
      ],
      "execution_count": 0,
      "outputs": []
    }
  ]
}