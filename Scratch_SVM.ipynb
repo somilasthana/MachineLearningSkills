{
  "nbformat": 4,
  "nbformat_minor": 0,
  "metadata": {
    "colab": {
      "name": "Scratch-SVM.ipynb",
      "version": "0.3.2",
      "provenance": [],
      "include_colab_link": true
    },
    "kernelspec": {
      "name": "python3",
      "display_name": "Python 3"
    }
  },
  "cells": [
    {
      "cell_type": "markdown",
      "metadata": {
        "id": "view-in-github",
        "colab_type": "text"
      },
      "source": [
        "<a href=\"https://colab.research.google.com/github/somilasthana/MachineLearningSkills/blob/master/Scratch_SVM.ipynb\" target=\"_parent\"><img src=\"https://colab.research.google.com/assets/colab-badge.svg\" alt=\"Open In Colab\"/></a>"
      ]
    },
    {
      "cell_type": "code",
      "metadata": {
        "id": "a6k_vyGB8pQi",
        "colab_type": "code",
        "colab": {}
      },
      "source": [
        "\"\"\"Article https://github.com/MaviccPRP/svm/blob/master/svm-primal.ipynb\"\"\" \n"
      ],
      "execution_count": 0,
      "outputs": []
    },
    {
      "cell_type": "code",
      "metadata": {
        "id": "TE7ccfs2p1rw",
        "colab_type": "code",
        "colab": {}
      },
      "source": [
        "import numpy as np\n",
        "import matplotlib.pyplot as plt\n",
        "%matplotlib inline"
      ],
      "execution_count": 0,
      "outputs": []
    },
    {
      "cell_type": "code",
      "metadata": {
        "id": "59dV1zFqvhAj",
        "colab_type": "code",
        "colab": {}
      },
      "source": [
        "X = np.array([\n",
        "    [-2,4,-1],\n",
        "    [4,1,-1],\n",
        "    [1, 6, -1],\n",
        "    [2, 4, -1],\n",
        "    [6, 2, -1],\n",
        "])\n",
        "\n",
        "y = np.array([-1,-1,1,1,1])\n"
      ],
      "execution_count": 0,
      "outputs": []
    },
    {
      "cell_type": "code",
      "metadata": {
        "id": "rmvlsTuAv33k",
        "colab_type": "code",
        "colab": {
          "base_uri": "https://localhost:8080/",
          "height": 286
        },
        "outputId": "7679def0-3a4d-4f84-bcb3-1d3d0388173f"
      },
      "source": [
        "for i, sample in enumerate(X):\n",
        "  plt.scatter(sample[0], sample[1], s=120, marker='_', linewidths=2, c=\"r\") if i < 2 else plt.scatter(sample[0], sample[1], s=120, marker='+', linewidths=2, c=\"b\")\n",
        "plt.plot([-2,6],[6,0.5]) # Hyper Plane"
      ],
      "execution_count": 12,
      "outputs": [
        {
          "output_type": "execute_result",
          "data": {
            "text/plain": [
              "[<matplotlib.lines.Line2D at 0x7fba3d370b00>]"
            ]
          },
          "metadata": {
            "tags": []
          },
          "execution_count": 12
        },
        {
          "output_type": "display_data",
          "data": {
            "image/png": "[encoded data removed]",
            "text/plain": [
              "<Figure size 432x288 with 1 Axes>"
            ]
          },
          "metadata": {
            "tags": []
          }
        }
      ]
    },
    {
      "cell_type": "code",
      "metadata": {
        "id": "KDcDPM_TxGVx",
        "colab_type": "code",
        "colab": {}
      },
      "source": [
        "\"\"\"\n",
        "Using Hinge Loss\n",
        "\n",
        "c(x, y, f(x)) = (1 - y *f(x))+ ( if y*f(x) > 0 then c(x, y, f(x)) = 0 )\n",
        "\n",
        "\n",
        "Objective Function\n",
        "\n",
        " min w regularizer * || w || ** 2  + Sum i ( (1 - y_i<x_i,w>)+ )\n",
        " \n",
        " \n",
        " Derivative using w_k\n",
        " \n",
        "            2 * regularizer * || w_k || +  0               ( In case of correct classification y_i<x_i,w> > 1 )\n",
        "            \n",
        "            2 * regularizer * || w_k || +  (-y_i * x_ik)   ( In case of miss classification    y_i<x_i,w> < 1 )\n",
        "            \n",
        " Updates\n",
        " \n",
        "      w  =  w - learning_rate * ( 2 * regularizer * || w_k ||                ), In case of correct classification\n",
        "      w  =  w - learning_rate * ( 2 * regularizer * || w_k || - (y_i * x_ik) ), In case of miss classification\n",
        "      \n",
        "      \n",
        "\"\"\""
      ],
      "execution_count": 0,
      "outputs": []
    },
    {
      "cell_type": "code",
      "metadata": {
        "id": "XuaMOi4s3mao",
        "colab_type": "code",
        "colab": {}
      },
      "source": [
        "def svm_algo(X, Y):\n",
        "    #Initialize our SVMs weight vector with zeros (3 values)\n",
        "    w = np.zeros(len(X[0]))\n",
        "    #The learning rate\n",
        "    learning_rate = 1\n",
        "    #how many iterations to train for\n",
        "    epochs = 100000\n",
        "    #store misclassifications so we can plot how they change over time\n",
        "    errors = []\n",
        "\n",
        "    #training part, gradient descent part\n",
        "    for epoch in range(1,epochs):\n",
        "        error = 0\n",
        "        regularizer = 1.0/epoch\n",
        "        for i, x in enumerate(X):\n",
        "            #misclassification\n",
        "            if (Y[i]*np.dot(X[i], w)) < 1:\n",
        "                #misclassified update for ours weights\n",
        "                w = w - learning_rate * ( (2 * regularizer * w)  -  X[i] * Y[i] )\n",
        "                error = 1\n",
        "            else:\n",
        "                #correct classification, update our weights\n",
        "                w = w - learning_rate * (2 * regularizer * w)\n",
        "        errors.append(error)\n",
        "        \n",
        "    return w"
      ],
      "execution_count": 0,
      "outputs": []
    },
    {
      "cell_type": "code",
      "metadata": {
        "id": "ljgRhB_C2vLz",
        "colab_type": "code",
        "colab": {
          "base_uri": "https://localhost:8080/",
          "height": 35
        },
        "outputId": "fb634d87-03ce-4c87-e797-348a630ea464"
      },
      "source": [
        "w = svm_algo(X,y)\n",
        "w"
      ],
      "execution_count": 43,
      "outputs": [
        {
          "output_type": "execute_result",
          "data": {
            "text/plain": [
              "array([ 1.58876117,  3.17458055, 11.11863105])"
            ]
          },
          "metadata": {
            "tags": []
          },
          "execution_count": 43
        }
      ]
    },
    {
      "cell_type": "code",
      "metadata": {
        "id": "YQrD0qOp5dtb",
        "colab_type": "code",
        "colab": {
          "base_uri": "https://localhost:8080/",
          "height": 286
        },
        "outputId": "303822bf-a489-422f-ba3f-ce2f8294ecfa"
      },
      "source": [
        "for d, sample in enumerate(X):\n",
        "    # Plot the negative samples\n",
        "    if d < 2:\n",
        "        plt.scatter(sample[0], sample[1], s=120, marker='_', linewidths=2)\n",
        "    # Plot the positive samples\n",
        "    else:\n",
        "        plt.scatter(sample[0], sample[1], s=120, marker='+', linewidths=2)\n",
        "\n",
        "# Add our test samples\n",
        "plt.scatter(2,2, s=120, marker='_', linewidths=2, color='yellow')\n",
        "plt.scatter(4,3, s=120, marker='+', linewidths=2, color='blue')\n",
        "\n",
        "\n",
        "# Print the hyperplane calculated by svm_sgd()\n",
        "x2=[w[0],w[1],-w[1],w[0]]\n",
        "x3=[w[0],w[1],w[1],-w[0]]\n",
        "\n",
        "x2x3 =np.array([x2,x3])\n",
        "X,Y,U,V = zip(*x2x3)\n",
        "ax = plt.gca()\n",
        "ax.quiver(X,Y,U,V,scale=1, color='blue')"
      ],
      "execution_count": 46,
      "outputs": [
        {
          "output_type": "execute_result",
          "data": {
            "text/plain": [
              "<matplotlib.quiver.Quiver at 0x7fba3d363240>"
            ]
          },
          "metadata": {
            "tags": []
          },
          "execution_count": 46
        },
        {
          "output_type": "display_data",
          "data": {
            "image/png": "[encoded data removed]",
            "text/plain": [
              "<Figure size 432x288 with 1 Axes>"
            ]
          },
          "metadata": {
            "tags": []
          }
        }
      ]
    },
    {
      "cell_type": "markdown",
      "metadata": {
        "id": "jROg0aTU8Q-Z",
        "colab_type": "text"
      },
      "source": [
        "Classification once w is calculated"
      ]
    },
    {
      "cell_type": "code",
      "metadata": {
        "id": "y9ROpKpt6H-m",
        "colab_type": "code",
        "colab": {
          "base_uri": "https://localhost:8080/",
          "height": 35
        },
        "outputId": "6645bc93-8be8-4d04-8f32-511cd8064ffd"
      },
      "source": [
        "np.dot(X[0], w) < -1 # implies Negative"
      ],
      "execution_count": 62,
      "outputs": [
        {
          "output_type": "execute_result",
          "data": {
            "text/plain": [
              "True"
            ]
          },
          "metadata": {
            "tags": []
          },
          "execution_count": 62
        }
      ]
    },
    {
      "cell_type": "code",
      "metadata": {
        "id": "eQAh8YDp78rB",
        "colab_type": "code",
        "colab": {
          "base_uri": "https://localhost:8080/",
          "height": 35
        },
        "outputId": "60885a58-b9e9-46f2-80ac-9438196311bc"
      },
      "source": [
        "np.dot(X[4], w) < -1 # implies Positive"
      ],
      "execution_count": 63,
      "outputs": [
        {
          "output_type": "execute_result",
          "data": {
            "text/plain": [
              "False"
            ]
          },
          "metadata": {
            "tags": []
          },
          "execution_count": 63
        }
      ]
    }
  ]
}