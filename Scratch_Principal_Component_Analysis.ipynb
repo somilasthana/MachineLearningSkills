{
  "nbformat": 4,
  "nbformat_minor": 0,
  "metadata": {
    "colab": {
      "name": "Scratch-Principal-Component-Analysis.ipynb",
      "version": "0.3.2",
      "provenance": [],
      "include_colab_link": true
    },
    "kernelspec": {
      "name": "python3",
      "display_name": "Python 3"
    }
  },
  "cells": [
    {
      "cell_type": "markdown",
      "metadata": {
        "id": "view-in-github",
        "colab_type": "text"
      },
      "source": [
        "<a href=\"https://colab.research.google.com/github/somilasthana/MachineLearningSkills/blob/master/Scratch_Principal_Component_Analysis.ipynb\" target=\"_parent\"><img src=\"https://colab.research.google.com/assets/colab-badge.svg\" alt=\"Open In Colab\"/></a>"
      ]
    },
    {
      "cell_type": "code",
      "metadata": {
        "id": "-WAv2pD9Vyej",
        "colab_type": "code",
        "colab": {}
      },
      "source": [
        "\"\"\"\n",
        "Theory\n",
        "PCA does not directly select some important features and drops irrelevant ones, \n",
        "but rather it constructs new features from the given ones that capture the most \n",
        "variation in the data.\n",
        "\"\"\""
      ],
      "execution_count": 0,
      "outputs": []
    },
    {
      "cell_type": "code",
      "metadata": {
        "id": "4YILi9SXW2ix",
        "colab_type": "code",
        "colab": {
          "base_uri": "https://localhost:8080/",
          "height": 227
        },
        "outputId": "4af5b484-d1c9-4f9f-98e7-d6303bb2ce33"
      },
      "source": [
        "# Extract Data\n",
        "\n",
        "!wget https://raw.githubusercontent.com/hammadshaikhha/Math-of-Machine-Learning-Course-by-Siraj/master/Principal%20Component%20Analysis/diabetes.csv"
      ],
      "execution_count": 1,
      "outputs": [
        {
          "output_type": "stream",
          "text": [
            "--2019-06-20 05:28:43--  https://raw.githubusercontent.com/hammadshaikhha/Math-of-Machine-Learning-Course-by-Siraj/master/Principal%20Component%20Analysis/diabetes.csv\n",
            "Resolving raw.githubusercontent.com (raw.githubusercontent.com)... 151.101.0.133, 151.101.64.133, 151.101.128.133, ...\n",
            "Connecting to raw.githubusercontent.com (raw.githubusercontent.com)|151.101.0.133|:443... connected.\n",
            "HTTP request sent, awaiting response... 200 OK\n",
            "Length: 23873 (23K) [text/plain]\n",
            "Saving to: ‘diabetes.csv’\n",
            "\n",
            "\rdiabetes.csv          0%[                    ]       0  --.-KB/s               \rdiabetes.csv        100%[===================>]  23.31K  --.-KB/s    in 0.01s   \n",
            "\n",
            "2019-06-20 05:28:44 (2.06 MB/s) - ‘diabetes.csv’ saved [23873/23873]\n",
            "\n"
          ],
          "name": "stdout"
        }
      ]
    },
    {
      "cell_type": "code",
      "metadata": {
        "id": "jrJvCt2VW6oF",
        "colab_type": "code",
        "colab": {}
      },
      "source": [
        "# For matrix computation\n",
        "import numpy as np\n",
        "# For data manipulation \n",
        "import pandas as pd\n",
        "# For 2D plotting \n",
        "from matplotlib import pyplot as plt\n",
        "# For 3D plotting \n",
        "from mpl_toolkits.mplot3d import Axes3D\n",
        "\n",
        "from sklearn.preprocessing import StandardScaler"
      ],
      "execution_count": 0,
      "outputs": []
    },
    {
      "cell_type": "code",
      "metadata": {
        "id": "jrUNpo0qXXO1",
        "colab_type": "code",
        "colab": {}
      },
      "source": [
        "dataset = pd.read_csv(\"/content/diabetes.csv\")"
      ],
      "execution_count": 0,
      "outputs": []
    },
    {
      "cell_type": "code",
      "metadata": {
        "id": "cd5cBHMWXeS9",
        "colab_type": "code",
        "colab": {
          "base_uri": "https://localhost:8080/",
          "height": 198
        },
        "outputId": "30a45db9-b00f-4acc-8b85-9261a02ed577"
      },
      "source": [
        "dataset.head()"
      ],
      "execution_count": 4,
      "outputs": [
        {
          "output_type": "execute_result",
          "data": {
            "text/html": [
              "<div>\n",
              "<style scoped>\n",
              "    .dataframe tbody tr th:only-of-type {\n",
              "        vertical-align: middle;\n",
              "    }\n",
              "\n",
              "    .dataframe tbody tr th {\n",
              "        vertical-align: top;\n",
              "    }\n",
              "\n",
              "    .dataframe thead th {\n",
              "        text-align: right;\n",
              "    }\n",
              "</style>\n",
              "<table border=\"1\" class=\"dataframe\">\n",
              "  <thead>\n",
              "    <tr style=\"text-align: right;\">\n",
              "      <th></th>\n",
              "      <th>Pregnancies</th>\n",
              "      <th>Glucose</th>\n",
              "      <th>BloodPressure</th>\n",
              "      <th>SkinThickness</th>\n",
              "      <th>Insulin</th>\n",
              "      <th>BMI</th>\n",
              "      <th>DiabetesPedigreeFunction</th>\n",
              "      <th>Age</th>\n",
              "      <th>Outcome</th>\n",
              "    </tr>\n",
              "  </thead>\n",
              "  <tbody>\n",
              "    <tr>\n",
              "      <th>0</th>\n",
              "      <td>6</td>\n",
              "      <td>148</td>\n",
              "      <td>72</td>\n",
              "      <td>35</td>\n",
              "      <td>0</td>\n",
              "      <td>33.6</td>\n",
              "      <td>0.627</td>\n",
              "      <td>50</td>\n",
              "      <td>1</td>\n",
              "    </tr>\n",
              "    <tr>\n",
              "      <th>1</th>\n",
              "      <td>1</td>\n",
              "      <td>85</td>\n",
              "      <td>66</td>\n",
              "      <td>29</td>\n",
              "      <td>0</td>\n",
              "      <td>26.6</td>\n",
              "      <td>0.351</td>\n",
              "      <td>31</td>\n",
              "      <td>0</td>\n",
              "    </tr>\n",
              "    <tr>\n",
              "      <th>2</th>\n",
              "      <td>8</td>\n",
              "      <td>183</td>\n",
              "      <td>64</td>\n",
              "      <td>0</td>\n",
              "      <td>0</td>\n",
              "      <td>23.3</td>\n",
              "      <td>0.672</td>\n",
              "      <td>32</td>\n",
              "      <td>1</td>\n",
              "    </tr>\n",
              "    <tr>\n",
              "      <th>3</th>\n",
              "      <td>1</td>\n",
              "      <td>89</td>\n",
              "      <td>66</td>\n",
              "      <td>23</td>\n",
              "      <td>94</td>\n",
              "      <td>28.1</td>\n",
              "      <td>0.167</td>\n",
              "      <td>21</td>\n",
              "      <td>0</td>\n",
              "    </tr>\n",
              "    <tr>\n",
              "      <th>4</th>\n",
              "      <td>0</td>\n",
              "      <td>137</td>\n",
              "      <td>40</td>\n",
              "      <td>35</td>\n",
              "      <td>168</td>\n",
              "      <td>43.1</td>\n",
              "      <td>2.288</td>\n",
              "      <td>33</td>\n",
              "      <td>1</td>\n",
              "    </tr>\n",
              "  </tbody>\n",
              "</table>\n",
              "</div>"
            ],
            "text/plain": [
              "   Pregnancies  Glucose  BloodPressure  ...  DiabetesPedigreeFunction  Age  Outcome\n",
              "0            6      148             72  ...                     0.627   50        1\n",
              "1            1       85             66  ...                     0.351   31        0\n",
              "2            8      183             64  ...                     0.672   32        1\n",
              "3            1       89             66  ...                     0.167   21        0\n",
              "4            0      137             40  ...                     2.288   33        1\n",
              "\n",
              "[5 rows x 9 columns]"
            ]
          },
          "metadata": {
            "tags": []
          },
          "execution_count": 4
        }
      ]
    },
    {
      "cell_type": "code",
      "metadata": {
        "id": "5amKKlXmXf7y",
        "colab_type": "code",
        "colab": {}
      },
      "source": [
        "\"\"\"\n",
        "Since PCA relies on maximizing the variance of the projected data onto a linear \n",
        "subspace, if features in the data are measured in several different scales then \n",
        "this can result in PCA assigning inappropriately large weights to certain features \n",
        "with highly varying scales. Hence before applying PCA it is recommended to standardize \n",
        "the data on the same scale\n",
        "\"\"\""
      ],
      "execution_count": 0,
      "outputs": []
    },
    {
      "cell_type": "code",
      "metadata": {
        "id": "fffB-XmlXubO",
        "colab_type": "code",
        "colab": {}
      },
      "source": [
        "X = dataset.iloc[:, :-1]\n",
        "y = dataset.iloc[:, -1]"
      ],
      "execution_count": 0,
      "outputs": []
    },
    {
      "cell_type": "code",
      "metadata": {
        "id": "2ugNRnUhX4Eq",
        "colab_type": "code",
        "colab": {}
      },
      "source": [
        "X_std = StandardScaler().fit_transform(X)"
      ],
      "execution_count": 0,
      "outputs": []
    },
    {
      "cell_type": "code",
      "metadata": {
        "id": "52PFVPs3hKjJ",
        "colab_type": "code",
        "colab": {
          "base_uri": "https://localhost:8080/",
          "height": 35
        },
        "outputId": "27efcb12-7900-47b3-fa0f-ec32454bf138"
      },
      "source": [
        "X_std.shape"
      ],
      "execution_count": 24,
      "outputs": [
        {
          "output_type": "execute_result",
          "data": {
            "text/plain": [
              "(768, 8)"
            ]
          },
          "metadata": {
            "tags": []
          },
          "execution_count": 24
        }
      ]
    },
    {
      "cell_type": "code",
      "metadata": {
        "id": "sFuz3Tp1YPUo",
        "colab_type": "code",
        "colab": {
          "base_uri": "https://localhost:8080/",
          "height": 294
        },
        "outputId": "5df8fc27-0da1-446c-cfe6-2b35227b8255"
      },
      "source": [
        "#Covariate Matrix for X\n",
        "\n",
        "cov_matrix = np.cov(X_std, rowvar=False)\n",
        "cov_matrix"
      ],
      "execution_count": 9,
      "outputs": [
        {
          "output_type": "execute_result",
          "data": {
            "text/plain": [
              "array([[ 1.00130378,  0.12962746,  0.14146618, -0.08177826, -0.07363049,\n",
              "         0.01770615, -0.03356638,  0.54505093],\n",
              "       [ 0.12962746,  1.00130378,  0.15278853,  0.05740263,  0.33178913,\n",
              "         0.2213593 ,  0.13751636,  0.26385788],\n",
              "       [ 0.14146618,  0.15278853,  1.00130378,  0.2076409 ,  0.08904933,\n",
              "         0.2821727 ,  0.04131875,  0.23984024],\n",
              "       [-0.08177826,  0.05740263,  0.2076409 ,  1.00130378,  0.43735204,\n",
              "         0.39308503,  0.18416737, -0.11411885],\n",
              "       [-0.07363049,  0.33178913,  0.08904933,  0.43735204,  1.00130378,\n",
              "         0.19811702,  0.18531222, -0.04221793],\n",
              "       [ 0.01770615,  0.2213593 ,  0.2821727 ,  0.39308503,  0.19811702,\n",
              "         1.00130378,  0.14083033,  0.03628912],\n",
              "       [-0.03356638,  0.13751636,  0.04131875,  0.18416737,  0.18531222,\n",
              "         0.14083033,  1.00130378,  0.03360507],\n",
              "       [ 0.54505093,  0.26385788,  0.23984024, -0.11411885, -0.04221793,\n",
              "         0.03628912,  0.03360507,  1.00130378]])"
            ]
          },
          "metadata": {
            "tags": []
          },
          "execution_count": 9
        }
      ]
    },
    {
      "cell_type": "code",
      "metadata": {
        "id": "dNQ34xHaYtIH",
        "colab_type": "code",
        "colab": {}
      },
      "source": [
        "# Get Eigen Vector and Eigen Values of Cov Matrix\n",
        "\n",
        "eigenvalues, eigenvectors =  np.linalg.eig(cov_matrix)"
      ],
      "execution_count": 0,
      "outputs": []
    },
    {
      "cell_type": "code",
      "metadata": {
        "id": "h4jWYcE6ZFsj",
        "colab_type": "code",
        "colab": {
          "base_uri": "https://localhost:8080/",
          "height": 35
        },
        "outputId": "5e6a2a41-c44d-4f83-f2e0-79afc25a09db"
      },
      "source": [
        "cov_matrix.shape, eigenvalues.shape, eigenvectors.shape"
      ],
      "execution_count": 29,
      "outputs": [
        {
          "output_type": "execute_result",
          "data": {
            "text/plain": [
              "((8, 8), (8,), (8, 8))"
            ]
          },
          "metadata": {
            "tags": []
          },
          "execution_count": 29
        }
      ]
    },
    {
      "cell_type": "code",
      "metadata": {
        "id": "NnBTQaF3ZJ1X",
        "colab_type": "code",
        "colab": {
          "base_uri": "https://localhost:8080/",
          "height": 52
        },
        "outputId": "6878e324-99d6-4968-d3ca-80b0ed833572"
      },
      "source": [
        "eigenvalues"
      ],
      "execution_count": 12,
      "outputs": [
        {
          "output_type": "execute_result",
          "data": {
            "text/plain": [
              "array([2.09711056, 1.73346726, 0.42036353, 0.40498938, 0.68351839,\n",
              "       0.76333832, 0.87667054, 1.03097228])"
            ]
          },
          "metadata": {
            "tags": []
          },
          "execution_count": 12
        }
      ]
    },
    {
      "cell_type": "code",
      "metadata": {
        "id": "uLUGnFF4ZNY7",
        "colab_type": "code",
        "colab": {}
      },
      "source": [
        "# Sort Eigen Values\n",
        "eig_pairs = [ (eigenvalues[i], eigenvectors[:, i]) for i in range(eigenvalues.shape[0])]\n",
        "\n",
        "eig_pairs.sort()\n",
        "eig_pairs.reverse()"
      ],
      "execution_count": 0,
      "outputs": []
    },
    {
      "cell_type": "code",
      "metadata": {
        "id": "CFfq_IhxZya2",
        "colab_type": "code",
        "colab": {
          "base_uri": "https://localhost:8080/",
          "height": 432
        },
        "outputId": "8b40540a-e1a9-4869-df36-90a24509ab66"
      },
      "source": [
        "eig_pairs"
      ],
      "execution_count": 17,
      "outputs": [
        {
          "output_type": "execute_result",
          "data": {
            "text/plain": [
              "[(2.0971105579945237,\n",
              "  array([0.1284321 , 0.39308257, 0.36000261, 0.43982428, 0.43502617,\n",
              "         0.45194134, 0.27061144, 0.19802707])),\n",
              " (1.733467259447126,\n",
              "  array([ 0.59378583,  0.17402908,  0.18389207, -0.33196534, -0.25078106,\n",
              "         -0.1009598 , -0.122069  ,  0.62058853])),\n",
              " (1.0309722810083823,\n",
              "  array([ 0.01308692, -0.46792282,  0.53549442,  0.2376738 , -0.33670893,\n",
              "          0.36186463, -0.43318905, -0.07524755])),\n",
              " (0.8766705419094794,\n",
              "  array([-0.08069115,  0.40432871, -0.05598649, -0.03797608,  0.34994376,\n",
              "         -0.05364595, -0.8336801 , -0.0712006 ])),\n",
              " (0.7633383156496714,\n",
              "  array([ 0.47560573, -0.46632804, -0.32795306,  0.48786206,  0.34693481,\n",
              "         -0.25320376, -0.11981049,  0.10928996])),\n",
              " (0.6835183858447277,\n",
              "  array([-0.19359817, -0.09416176,  0.6341159 , -0.00958944,  0.27065061,\n",
              "         -0.68537218,  0.08578409,  0.03335717])),\n",
              " (0.4203635280495672,\n",
              "  array([ 0.58879003,  0.06015291,  0.19211793, -0.28221253,  0.13200992,\n",
              "          0.03536644,  0.08609107, -0.71208542])),\n",
              " (0.4049893778148983,\n",
              "  array([ 0.11784098,  0.45035526, -0.01129554,  0.5662838 , -0.54862138,\n",
              "         -0.34151764, -0.00825873, -0.21166198]))]"
            ]
          },
          "metadata": {
            "tags": []
          },
          "execution_count": 17
        }
      ]
    },
    {
      "cell_type": "code",
      "metadata": {
        "id": "_5-ZhpJAZ5-Q",
        "colab_type": "code",
        "colab": {}
      },
      "source": [
        "# Extract the descending ordered eigenvalues and eigenvectors\n",
        "eigvalues_sort = [eig_pairs[index][0] for index in range(len(eigenvalues))]\n",
        "eigvectors_sort = [eig_pairs[index][1] for index in range(len(eigenvalues))]\n"
      ],
      "execution_count": 0,
      "outputs": []
    },
    {
      "cell_type": "code",
      "metadata": {
        "id": "NEkCuLEeZ9rQ",
        "colab_type": "code",
        "colab": {
          "base_uri": "https://localhost:8080/",
          "height": 52
        },
        "outputId": "c9f02b2d-b9e4-4e01-d13b-20c02a405873"
      },
      "source": [
        "# Choosing Number of Components\n",
        "\n",
        "var_comp_sum = np.cumsum(eigvalues_sort) / sum(eigvalues_sort)\n",
        "var_comp_sum"
      ],
      "execution_count": 19,
      "outputs": [
        {
          "output_type": "execute_result",
          "data": {
            "text/plain": [
              "array([0.26179749, 0.47819876, 0.60690249, 0.71634362, 0.81163667,\n",
              "       0.89696522, 0.94944224, 1.        ])"
            ]
          },
          "metadata": {
            "tags": []
          },
          "execution_count": 19
        }
      ]
    },
    {
      "cell_type": "code",
      "metadata": {
        "id": "dreAwDSqagLu",
        "colab_type": "code",
        "colab": {
          "base_uri": "https://localhost:8080/",
          "height": 295
        },
        "outputId": "931e4534-5553-4bdc-c9e9-708522429f09"
      },
      "source": [
        "num_comp = range(1,len(eigvalues_sort)+1)\n",
        "\n",
        "# Chart title\n",
        "plt.title('Cum. Prop. Variance Explain and Components Kept')\n",
        "\n",
        "# x-label\n",
        "plt.xlabel('Principal Components')\n",
        "\n",
        "# y-label\n",
        "plt.ylabel('Cum. Prop. Variance Expalined')\n",
        "\n",
        "# Scatter plot of cumulative variance explained and principal components kept\n",
        "plt.plot(num_comp, var_comp_sum)\n",
        "\n",
        "# Show scattor plot\n",
        "plt.show()"
      ],
      "execution_count": 20,
      "outputs": [
        {
          "output_type": "display_data",
          "data": {
            "image/png": "[encoded data removed]",
            "text/plain": [
              "<Figure size 432x288 with 1 Axes>"
            ]
          },
          "metadata": {
            "tags": []
          }
        }
      ]
    },
    {
      "cell_type": "code",
      "metadata": {
        "id": "3Jk9pZHva68X",
        "colab_type": "code",
        "colab": {
          "base_uri": "https://localhost:8080/",
          "height": 155
        },
        "outputId": "65236bb0-0dfe-45f8-b000-8f8092db2fef"
      },
      "source": [
        "# Get First 2 Eigen Vectors\n",
        "p_reduce = np.array(eigvectors_sort[0:2]).T\n",
        "p_reduce"
      ],
      "execution_count": 22,
      "outputs": [
        {
          "output_type": "execute_result",
          "data": {
            "text/plain": [
              "array([[ 0.1284321 ,  0.59378583],\n",
              "       [ 0.39308257,  0.17402908],\n",
              "       [ 0.36000261,  0.18389207],\n",
              "       [ 0.43982428, -0.33196534],\n",
              "       [ 0.43502617, -0.25078106],\n",
              "       [ 0.45194134, -0.1009598 ],\n",
              "       [ 0.27061144, -0.122069  ],\n",
              "       [ 0.19802707,  0.62058853]])"
            ]
          },
          "metadata": {
            "tags": []
          },
          "execution_count": 22
        }
      ]
    },
    {
      "cell_type": "code",
      "metadata": {
        "id": "CnJf68S7g2ks",
        "colab_type": "code",
        "colab": {
          "base_uri": "https://localhost:8080/",
          "height": 35
        },
        "outputId": "732b46d1-88fe-4f97-a1db-eecbb9e11da3"
      },
      "source": [
        "X_2d_pca = np.dot(X_std, p_reduce)\n",
        "X_std.shape, X_2d_pca.shape"
      ],
      "execution_count": 25,
      "outputs": [
        {
          "output_type": "execute_result",
          "data": {
            "text/plain": [
              "((768, 8), (768, 2))"
            ]
          },
          "metadata": {
            "tags": []
          },
          "execution_count": 25
        }
      ]
    },
    {
      "cell_type": "code",
      "metadata": {
        "id": "4cVKf0j7hIW6",
        "colab_type": "code",
        "colab": {
          "base_uri": "https://localhost:8080/",
          "height": 295
        },
        "outputId": "f177dbf9-2d32-44a8-dfdc-1f45bbf32415"
      },
      "source": [
        "# Visualize\n",
        "negative = plt.scatter(X_2d_pca[:, 0][y == 0], X_2d_pca[:, 1][y == 0])\n",
        "positive = plt.scatter(X_2d_pca[:, 0][y == 1], X_2d_pca[:, 1][y == 1])\n",
        "\n",
        "plt.title('PCA Dimensionality Reduction to 2D')\n",
        "\n",
        "# y-label\n",
        "plt.ylabel('Principal Component 2')\n",
        "\n",
        "# x-label\n",
        "plt.xlabel('Principal Component 1')\n",
        "\n",
        "# legend\n",
        "plt.legend([negative,positive],[\"No Diabetes\", \"Have Diabetes\"])\n",
        "\n",
        "plt.show()"
      ],
      "execution_count": 27,
      "outputs": [
        {
          "output_type": "display_data",
          "data": {
            "image/png": "[encoded data removed]",
            "text/plain": [
              "<Figure size 432x288 with 1 Axes>"
            ]
          },
          "metadata": {
            "tags": []
          }
        }
      ]
    },
    {
      "cell_type": "code",
      "metadata": {
        "id": "GadPewNti9fd",
        "colab_type": "code",
        "colab": {}
      },
      "source": [
        "loading = eigvectors_sort * np.sqrt(eigvalues_sort)"
      ],
      "execution_count": 0,
      "outputs": []
    },
    {
      "cell_type": "code",
      "metadata": {
        "id": "l2ZhP34lnHrr",
        "colab_type": "code",
        "colab": {
          "base_uri": "https://localhost:8080/",
          "height": 294
        },
        "outputId": "2605c98f-6157-4e2d-e182-4f7ac11016ce"
      },
      "source": [
        "loading"
      ],
      "execution_count": 32,
      "outputs": [
        {
          "output_type": "execute_result",
          "data": {
            "text/plain": [
              "array([[ 0.18598772,  0.51753724,  0.36553515,  0.41181049,  0.38007903,\n",
              "         0.37364327,  0.17545214,  0.12602201],\n",
              "       [ 0.85988523,  0.22912878,  0.18671813, -0.31082143, -0.21910549,\n",
              "        -0.08346868, -0.07914399,  0.39493495],\n",
              "       [ 0.0189517 , -0.61607281,  0.54372393,  0.22253561, -0.29418002,\n",
              "         0.2991722 , -0.28086006, -0.04788662],\n",
              "       [-0.11685212,  0.53234404, -0.05684689, -0.03555727,  0.30574319,\n",
              "        -0.04435188, -0.54052023, -0.04531119],\n",
              "       [ 0.68874386, -0.61397311, -0.33299306,  0.4567886 ,  0.30311429,\n",
              "        -0.20933664, -0.07767967,  0.06955079],\n",
              "       [-0.28035732, -0.1239745 ,  0.64386102, -0.00897866,  0.23646537,\n",
              "        -0.56663262,  0.0556185 ,  0.02122809],\n",
              "       [ 0.85265062,  0.07919805,  0.19507041, -0.26423753,  0.11533606,\n",
              "         0.02923926,  0.05581753, -0.45316244],\n",
              "       [ 0.17065029,  0.59294315, -0.01146913,  0.53021541, -0.4793263 ,\n",
              "        -0.28235029, -0.00535459, -0.13469909]])"
            ]
          },
          "metadata": {
            "tags": []
          },
          "execution_count": 32
        }
      ]
    },
    {
      "cell_type": "code",
      "metadata": {
        "id": "xAjB-xknnKzF",
        "colab_type": "code",
        "colab": {}
      },
      "source": [
        "\"\"\"\n",
        "Loadings interpret principal components or factors; Because they are the \n",
        "linear combination weights (coefficients) whereby unit-scaled components or \n",
        "factors define or \"load\" a variable.\n",
        "\n",
        "Eigenvector is just a coefficient of orthogonal transformation or projection, \n",
        "it is devoid of \"load\" within its value. \"Load\" is (information of the amount of)\n",
        "variance, magnitude. PCs are extracted to explain variance of the variables. \n",
        "Eigenvalues are the variances of (= explained by) PCs. When we multiply \n",
        "eigenvector by sq.root of the eivenvalue we \"load\" the bare coefficient \n",
        "by the amount of variance. By that virtue we make the coefficient to be the \n",
        "measure of association, co-variability.\n",
        "\"\"\""
      ],
      "execution_count": 0,
      "outputs": []
    }
  ]
}