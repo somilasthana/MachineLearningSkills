{
  "nbformat": 4,
  "nbformat_minor": 0,
  "metadata": {
    "colab": {
      "name": "Application-NLP-Text-Analysis.ipynb",
      "version": "0.3.2",
      "provenance": [],
      "include_colab_link": true
    },
    "kernelspec": {
      "name": "python3",
      "display_name": "Python 3"
    },
    "accelerator": "GPU"
  },
  "cells": [
    {
      "cell_type": "markdown",
      "metadata": {
        "id": "view-in-github",
        "colab_type": "text"
      },
      "source": [
        "<a href=\"https://colab.research.google.com/github/somilasthana/MachineLearningSkills/blob/master/Application_NLP_Text_Analysis.ipynb\" target=\"_parent\"><img src=\"https://colab.research.google.com/assets/colab-badge.svg\" alt=\"Open In Colab\"/></a>"
      ]
    },
    {
      "cell_type": "code",
      "metadata": {
        "id": "KafW6sP7166N",
        "colab_type": "code",
        "colab": {}
      },
      "source": [
        "import os\n",
        "import numpy as np\n",
        "import sklearn.feature_extraction.text as text\n",
        "from glob import glob\n",
        "import matplotlib.pyplot as plt\n",
        "from sklearn.manifold import MDS\n",
        "from sklearn.metrics.pairwise import cosine_similarity"
      ],
      "execution_count": 0,
      "outputs": []
    },
    {
      "cell_type": "code",
      "metadata": {
        "id": "pHc07_Tc8p0d",
        "colab_type": "code",
        "colab": {
          "base_uri": "https://localhost:8080/",
          "height": 207
        },
        "outputId": "2f580962-b9fb-43b3-9407-ca18745f781d"
      },
      "source": [
        "# Uncomment for the first time\n",
        "#!wget https://liferay.de.dariah.eu/tatom/_downloads/datasets.zip\n",
        "#!unzip /content/datasets.zip > /dev/null"
      ],
      "execution_count": 2,
      "outputs": [
        {
          "output_type": "stream",
          "text": [
            "--2019-06-28 00:22:31--  https://liferay.de.dariah.eu/tatom/_downloads/datasets.zip\n",
            "Resolving liferay.de.dariah.eu (liferay.de.dariah.eu)... 134.76.30.131\n",
            "Connecting to liferay.de.dariah.eu (liferay.de.dariah.eu)|134.76.30.131|:443... connected.\n",
            "HTTP request sent, awaiting response... 200 OK\n",
            "Length: 57659024 (55M) [application/zip]\n",
            "Saving to: ‘datasets.zip’\n",
            "\n",
            "datasets.zip        100%[===================>]  54.99M  19.4MB/s    in 2.8s    \n",
            "\n",
            "2019-06-28 00:22:34 (19.4 MB/s) - ‘datasets.zip’ saved [57659024/57659024]\n",
            "\n"
          ],
          "name": "stdout"
        }
      ]
    },
    {
      "cell_type": "code",
      "metadata": {
        "id": "zRbzyidF8ykR",
        "colab_type": "code",
        "colab": {}
      },
      "source": [
        "data_dir = \"/content/data/french-tragedy/\"\n",
        "filenames_with_path = sorted(glob(data_dir +\"/*.txt\"))\n",
        "filenames = np.array(sorted(os.listdir(data_dir)))"
      ],
      "execution_count": 0,
      "outputs": []
    },
    {
      "cell_type": "code",
      "metadata": {
        "id": "MGvzU1Xc9sv8",
        "colab_type": "code",
        "colab": {
          "base_uri": "https://localhost:8080/",
          "height": 86
        },
        "outputId": "5c78177e-3257-4760-d424-3de0a57e5d3a"
      },
      "source": [
        "filenames_with_path[:4]"
      ],
      "execution_count": 9,
      "outputs": [
        {
          "output_type": "execute_result",
          "data": {
            "text/plain": [
              "['/content/data/french-tragedy/Crebillon_TR-V-1703-Idomenee.txt',\n",
              " '/content/data/french-tragedy/Crebillon_TR-V-1707-Atree.txt',\n",
              " '/content/data/french-tragedy/Crebillon_TR-V-1708-Electre.txt',\n",
              " '/content/data/french-tragedy/Crebillon_TR-V-1711-Rhadamisthe.txt']"
            ]
          },
          "metadata": {
            "tags": []
          },
          "execution_count": 9
        }
      ]
    },
    {
      "cell_type": "code",
      "metadata": {
        "id": "0jjFB55S-GdN",
        "colab_type": "code",
        "colab": {}
      },
      "source": [
        "vectorizer = text.CountVectorizer(input='filename')"
      ],
      "execution_count": 0,
      "outputs": []
    },
    {
      "cell_type": "code",
      "metadata": {
        "id": "hgxFJRkm-Rh5",
        "colab_type": "code",
        "colab": {}
      },
      "source": [
        "dtm = vectorizer.fit_transform(filenames_with_path)"
      ],
      "execution_count": 0,
      "outputs": []
    },
    {
      "cell_type": "code",
      "metadata": {
        "id": "cKF4JDa6-XIF",
        "colab_type": "code",
        "colab": {}
      },
      "source": [
        "vocab = np.array(vectorizer.get_feature_names())"
      ],
      "execution_count": 0,
      "outputs": []
    },
    {
      "cell_type": "code",
      "metadata": {
        "id": "65Qe6Wcz-oBK",
        "colab_type": "code",
        "colab": {}
      },
      "source": [
        "dtm = dtm.toarray()"
      ],
      "execution_count": 0,
      "outputs": []
    },
    {
      "cell_type": "code",
      "metadata": {
        "id": "yPANUwnX-rh0",
        "colab_type": "code",
        "colab": {
          "base_uri": "https://localhost:8080/",
          "height": 35
        },
        "outputId": "ee82d659-f025-49a2-eb38-ed53cf5ab0e0"
      },
      "source": [
        "dtm.shape"
      ],
      "execution_count": 14,
      "outputs": [
        {
          "output_type": "execute_result",
          "data": {
            "text/plain": [
              "(59, 16607)"
            ]
          },
          "metadata": {
            "tags": []
          },
          "execution_count": 14
        }
      ]
    },
    {
      "cell_type": "code",
      "metadata": {
        "id": "vCw8CZmz-uRk",
        "colab_type": "code",
        "colab": {}
      },
      "source": [
        "lengths = np.sum(dtm, axis=1)"
      ],
      "execution_count": 0,
      "outputs": []
    },
    {
      "cell_type": "code",
      "metadata": {
        "id": "f4m6VHjz-64u",
        "colab_type": "code",
        "colab": {
          "base_uri": "https://localhost:8080/",
          "height": 298
        },
        "outputId": "62810d56-3b31-40f2-d608-4774f672e791"
      },
      "source": [
        "plt.hist(lengths)\n",
        "plt.title(\"Play length in words\")"
      ],
      "execution_count": 20,
      "outputs": [
        {
          "output_type": "execute_result",
          "data": {
            "text/plain": [
              "Text(0.5, 1.0, 'Play length in words')"
            ]
          },
          "metadata": {
            "tags": []
          },
          "execution_count": 20
        },
        {
          "output_type": "display_data",
          "data": {
            "image/png": "[encoded data removed]",
            "text/plain": [
              "<Figure size 432x288 with 1 Axes>"
            ]
          },
          "metadata": {
            "tags": []
          }
        }
      ]
    },
    {
      "cell_type": "code",
      "metadata": {
        "id": "kq11bjYT-8Kp",
        "colab_type": "code",
        "colab": {
          "base_uri": "https://localhost:8080/",
          "height": 35
        },
        "outputId": "7b86cab6-1350-4875-fa6d-cf0883ad0ddc"
      },
      "source": [
        "max(lengths), filenames_with_path[np.argmax(lengths)]"
      ],
      "execution_count": 22,
      "outputs": [
        {
          "output_type": "execute_result",
          "data": {
            "text/plain": [
              "(18253, '/content/data/french-tragedy/PCorneille_TR-V-1661-Toisondor.txt')"
            ]
          },
          "metadata": {
            "tags": []
          },
          "execution_count": 22
        }
      ]
    },
    {
      "cell_type": "code",
      "metadata": {
        "id": "Flu0Jss6_zyK",
        "colab_type": "code",
        "colab": {
          "base_uri": "https://localhost:8080/",
          "height": 35
        },
        "outputId": "fa28d303-8d3c-4e62-87bf-4ea373af64cc"
      },
      "source": [
        "min(lengths), filenames_with_path[np.argmax(lengths)]"
      ],
      "execution_count": 23,
      "outputs": [
        {
          "output_type": "execute_result",
          "data": {
            "text/plain": [
              "(6150, '/content/data/french-tragedy/PCorneille_TR-V-1661-Toisondor.txt')"
            ]
          },
          "metadata": {
            "tags": []
          },
          "execution_count": 23
        }
      ]
    },
    {
      "cell_type": "markdown",
      "metadata": {
        "id": "rGsINE0tAeEV",
        "colab_type": "text"
      },
      "source": [
        "## Plot and Visualize Documents"
      ]
    },
    {
      "cell_type": "code",
      "metadata": {
        "id": "CDq-nOu6Ac3x",
        "colab_type": "code",
        "colab": {}
      },
      "source": [
        "dist = 1 - cosine_similarity(dtm)"
      ],
      "execution_count": 0,
      "outputs": []
    },
    {
      "cell_type": "code",
      "metadata": {
        "id": "sRK6Mo6lBVn6",
        "colab_type": "code",
        "colab": {
          "base_uri": "https://localhost:8080/",
          "height": 35
        },
        "outputId": "940e3923-98f0-4cb3-c21a-b5f513b0b767"
      },
      "source": [
        "dist.shape"
      ],
      "execution_count": 32,
      "outputs": [
        {
          "output_type": "execute_result",
          "data": {
            "text/plain": [
              "(59, 59)"
            ]
          },
          "metadata": {
            "tags": []
          },
          "execution_count": 32
        }
      ]
    },
    {
      "cell_type": "code",
      "metadata": {
        "id": "iFZiJmd6_8Kd",
        "colab_type": "code",
        "colab": {}
      },
      "source": [
        "mds = MDS(n_components=2, dissimilarity=\"precomputed\", random_state=42)"
      ],
      "execution_count": 0,
      "outputs": []
    },
    {
      "cell_type": "code",
      "metadata": {
        "id": "6TM7t_UCBKAS",
        "colab_type": "code",
        "colab": {}
      },
      "source": [
        "pos = mds.fit_transform(dist)"
      ],
      "execution_count": 0,
      "outputs": []
    },
    {
      "cell_type": "code",
      "metadata": {
        "id": "qIAYy-wVBPwE",
        "colab_type": "code",
        "colab": {
          "base_uri": "https://localhost:8080/",
          "height": 35
        },
        "outputId": "48023862-4933-4ad4-836b-82a777d9c9e4"
      },
      "source": [
        "pos.shape"
      ],
      "execution_count": 33,
      "outputs": [
        {
          "output_type": "execute_result",
          "data": {
            "text/plain": [
              "(59, 2)"
            ]
          },
          "metadata": {
            "tags": []
          },
          "execution_count": 33
        }
      ]
    },
    {
      "cell_type": "code",
      "metadata": {
        "id": "9vLhSiYTBZp2",
        "colab_type": "code",
        "colab": {}
      },
      "source": [
        "names = []\n",
        "authors = []\n",
        "for fn in filenames:\n",
        "  author = fn.split('_')[0]\n",
        "  year = fn.split('-')[2]\n",
        "  authors.append(author)\n",
        "  names.append(author + year)"
      ],
      "execution_count": 0,
      "outputs": []
    },
    {
      "cell_type": "code",
      "metadata": {
        "id": "brXqnz7RBzep",
        "colab_type": "code",
        "colab": {
          "base_uri": "https://localhost:8080/",
          "height": 514
        },
        "outputId": "3658b784-9022-41dc-bf50-15f4f3d9a962"
      },
      "source": [
        "plt.figure(figsize=(11.3, 7))\n",
        "\n",
        "xs, ys = pos[:, 0], pos[:, 1]\n",
        "authors_unique = sorted(set(authors))\n",
        "\n",
        "colors = [authors_unique.index(a) for a in authors]\n",
        "plt.scatter(xs, ys, c=colors, cmap='spring')\n",
        "\n",
        "for x, y, name in zip(xs, ys, names):\n",
        "  plt.text(x, y, name, alpha=0.5, fontsize=10)\n",
        "  \n",
        "plt.tight_layout()"
      ],
      "execution_count": 38,
      "outputs": [
        {
          "output_type": "display_data",
          "data": {
            "image/png": "[encoded data removed]",
            "text/plain": [
              "<Figure size 813.6x504 with 1 Axes>"
            ]
          },
          "metadata": {
            "tags": []
          }
        }
      ]
    },
    {
      "cell_type": "code",
      "metadata": {
        "id": "FTQCstfqCcIY",
        "colab_type": "code",
        "colab": {
          "base_uri": "https://localhost:8080/",
          "height": 824
        },
        "outputId": "e2479f7b-03bc-48d2-ffd3-7f2924572b6f"
      },
      "source": [
        "from scipy.cluster.hierarchy import ward, dendrogram\n",
        "\n",
        "linkage_matrix = ward(dist)\n",
        "plt.figure(figsize=(11.3, 11.3))\n",
        "\n",
        "dendrogram(linkage_matrix, orientation=\"left\", labels=names, leaf_font_size=8)\n",
        "plt.tight_layout()"
      ],
      "execution_count": 42,
      "outputs": [
        {
          "output_type": "display_data",
          "data": {
            "image/png": "[encoded data removed]",
            "text/plain": [
              "<Figure size 813.6x813.6 with 1 Axes>"
            ]
          },
          "metadata": {
            "tags": []
          }
        }
      ]
    },
    {
      "cell_type": "code",
      "metadata": {
        "id": "nyqEGm__Duvy",
        "colab_type": "code",
        "colab": {}
      },
      "source": [
        "#Racine’s atypical plays\n",
        "\n",
        "outliers = [1664, 1677, 1689, 1691]\n",
        "racine_years = []\n",
        "for fn in filenames:\n",
        "  author = fn.split('_')[0]\n",
        "  year = int(fn.split('-')[2])\n",
        "  if author == \"Racine\":\n",
        "    racine_years.append(year)"
      ],
      "execution_count": 0,
      "outputs": []
    },
    {
      "cell_type": "code",
      "metadata": {
        "id": "AlkZop09FWNV",
        "colab_type": "code",
        "colab": {}
      },
      "source": [
        "racine_years = np.array(racine_years)\n",
        "colors = []\n",
        "\n",
        "for year in racine_years:\n",
        "  colors.append('orange' if year in outliers else 'cyan')\n"
      ],
      "execution_count": 0,
      "outputs": []
    },
    {
      "cell_type": "code",
      "metadata": {
        "id": "FdT_FFYxFyu8",
        "colab_type": "code",
        "colab": {
          "base_uri": "https://localhost:8080/",
          "height": 281
        },
        "outputId": "64f739a1-3fd0-4e56-c7ea-b8f85cf5ded6"
      },
      "source": [
        "plt.vlines(racine_years, 0, 1, linewidth=3, color=colors)\n",
        "plt.title(\"Year of publication of Racine's plays\")\n",
        "ax = plt.gca()\n",
        "ax.yaxis.set_visible(False)"
      ],
      "execution_count": 47,
      "outputs": [
        {
          "output_type": "display_data",
          "data": {
            "image/png": "[encoded data removed]",
            "text/plain": [
              "<Figure size 432x288 with 1 Axes>"
            ]
          },
          "metadata": {
            "tags": []
          }
        }
      ]
    },
    {
      "cell_type": "markdown",
      "metadata": {
        "id": "YmcOpNkTHHbo",
        "colab_type": "text"
      },
      "source": [
        "## Features"
      ]
    },
    {
      "cell_type": "code",
      "metadata": {
        "id": "JcVTr9yGGMY_",
        "colab_type": "code",
        "colab": {}
      },
      "source": [
        "\"\"\"\n",
        "A useful way to explore the atypical plays further is to directly compare the \n",
        "outliers with a fictitious “average” Racine tragedy. \n",
        "\"\"\""
      ],
      "execution_count": 0,
      "outputs": []
    },
    {
      "cell_type": "code",
      "metadata": {
        "id": "6CjUX5qdHTD3",
        "colab_type": "code",
        "colab": {}
      },
      "source": [
        "vectorizer = text.TfidfVectorizer(input='filename', min_df=15)\n",
        "dtm = vectorizer.fit_transform(filenames_with_path)\n",
        "dtm = dtm.toarray()\n",
        "vocab = np.array(vectorizer.get_feature_names())"
      ],
      "execution_count": 0,
      "outputs": []
    },
    {
      "cell_type": "markdown",
      "metadata": {
        "id": "Ih0Eh97Z1fP8",
        "colab_type": "text"
      },
      "source": [
        "## Modeling"
      ]
    },
    {
      "cell_type": "code",
      "metadata": {
        "id": "f3mdgRkJH9Yc",
        "colab_type": "code",
        "colab": {}
      },
      "source": [
        "from sklearn import decomposition\n",
        "num_topics = 15\n",
        "\n",
        "clf = decomposition.NMF(n_components=num_topics, random_state=42)"
      ],
      "execution_count": 0,
      "outputs": []
    },
    {
      "cell_type": "code",
      "metadata": {
        "id": "HNIXQ-p_IZCr",
        "colab_type": "code",
        "colab": {}
      },
      "source": [
        "doctopic_chunks = clf.fit_transform(dtm)"
      ],
      "execution_count": 0,
      "outputs": []
    },
    {
      "cell_type": "code",
      "metadata": {
        "id": "Ybn9_S34IZ7-",
        "colab_type": "code",
        "colab": {}
      },
      "source": [
        "doctopic_chunks += 1e-6\n",
        "\n",
        "doctopic_chunks = doctopic_chunks / np.sum(doctopic_chunks, axis=1, keepdims=True)"
      ],
      "execution_count": 0,
      "outputs": []
    },
    {
      "cell_type": "code",
      "metadata": {
        "id": "Bgh9rfsXhlkA",
        "colab_type": "code",
        "colab": {
          "base_uri": "https://localhost:8080/",
          "height": 86
        },
        "outputId": "72096d18-ddd6-428c-cc6d-0d1f10ab5b51"
      },
      "source": [
        "doctopic_chunks[0, :]"
      ],
      "execution_count": 14,
      "outputs": [
        {
          "output_type": "execute_result",
          "data": {
            "text/plain": [
              "array([8.05980685e-02, 9.94454840e-07, 7.31903582e-02, 2.97846891e-01,\n",
              "       9.94454840e-07, 3.28706005e-02, 1.14489813e-01, 6.92289285e-02,\n",
              "       2.77188152e-01, 9.94454840e-07, 9.94454840e-07, 9.94454840e-07,\n",
              "       4.13506607e-02, 1.24401372e-02, 7.91417376e-04])"
            ]
          },
          "metadata": {
            "tags": []
          },
          "execution_count": 14
        }
      ]
    },
    {
      "cell_type": "code",
      "metadata": {
        "id": "bXL86zbhd62F",
        "colab_type": "code",
        "colab": {}
      },
      "source": [
        "play_names_chunks = []\n",
        "for fn in filenames:\n",
        "  play_names_chunks.append(fn.split(\".\")[0])"
      ],
      "execution_count": 0,
      "outputs": []
    },
    {
      "cell_type": "code",
      "metadata": {
        "id": "eSV0KdFcg_ti",
        "colab_type": "code",
        "colab": {
          "base_uri": "https://localhost:8080/",
          "height": 86
        },
        "outputId": "be0580ce-eb09-4e85-a2b8-8a3c7f8dd33e"
      },
      "source": [
        "play_names_chunks[:4]"
      ],
      "execution_count": 61,
      "outputs": [
        {
          "output_type": "execute_result",
          "data": {
            "text/plain": [
              "['Crebillon_TR-V-1703-Idomenee',\n",
              " 'Crebillon_TR-V-1707-Atree',\n",
              " 'Crebillon_TR-V-1708-Electre',\n",
              " 'Crebillon_TR-V-1711-Rhadamisthe']"
            ]
          },
          "metadata": {
            "tags": []
          },
          "execution_count": 61
        }
      ]
    },
    {
      "cell_type": "code",
      "metadata": {
        "id": "rLSu6Q76hBAO",
        "colab_type": "code",
        "colab": {
          "base_uri": "https://localhost:8080/",
          "height": 35
        },
        "outputId": "7f25710c-d7d3-4075-dda1-cf9eff223996"
      },
      "source": [
        "num_plays = len(set(play_names_chunks))\n",
        "num_plays"
      ],
      "execution_count": 62,
      "outputs": [
        {
          "output_type": "execute_result",
          "data": {
            "text/plain": [
              "59"
            ]
          },
          "metadata": {
            "tags": []
          },
          "execution_count": 62
        }
      ]
    },
    {
      "cell_type": "code",
      "metadata": {
        "id": "RVEhlPt-hNPd",
        "colab_type": "code",
        "colab": {}
      },
      "source": [
        "\"\"\"\n",
        "import itertools\n",
        "import operator\n",
        "doctopic = np.zeros((num_plays, num_topics))\n",
        "play_row_pairs = zip(play_names_chunks, doctopic_chunks)\n",
        "play_names = []\n",
        "for i, (name, pairs) in enumerate(itertools.groupby(play_row_pairs, key=operator.itemgetter(0))):\n",
        "  rows = [row for _, row in pairs]\n",
        "  doctopic[i, :] = sum(rows) / len(rows)\n",
        "  play_names.append(name)\n",
        "\"\"\"\n",
        "doctopic  = doctopic_chunks\n"
      ],
      "execution_count": 0,
      "outputs": []
    },
    {
      "cell_type": "markdown",
      "metadata": {
        "id": "afreEmY91iUY",
        "colab_type": "text"
      },
      "source": [
        "## Analysis on Racine"
      ]
    },
    {
      "cell_type": "code",
      "metadata": {
        "id": "qchtt6Pvih1E",
        "colab_type": "code",
        "colab": {}
      },
      "source": [
        "# Analysis on Racine\n",
        "\n",
        "racine_plays = [name for name in play_names_chunks if name.startswith('Racine')]\n",
        "racine_atypical = ['Racine_TR-V-1664-Thebaide', 'Racine_TR-V-1677-Phedre', 'Racine_TR-V-1689-Esther', 'Racine_TR-V-1691-Athalie']\n",
        "racine_normal = list( set(racine_plays) - set(racine_atypical))"
      ],
      "execution_count": 0,
      "outputs": []
    },
    {
      "cell_type": "code",
      "metadata": {
        "id": "QxuTT8VEkzj7",
        "colab_type": "code",
        "colab": {}
      },
      "source": [
        "doctopic_racine_normal = np.mean(doctopic[np.in1d(play_names_chunks, racine_normal)], axis=0)"
      ],
      "execution_count": 0,
      "outputs": []
    },
    {
      "cell_type": "code",
      "metadata": {
        "id": "BwKiNqW0m2uS",
        "colab_type": "code",
        "colab": {}
      },
      "source": [
        "doctopic_racine_atypical = doctopic[np.in1d(play_names_chunks, racine_atypical)]"
      ],
      "execution_count": 0,
      "outputs": []
    },
    {
      "cell_type": "code",
      "metadata": {
        "id": "p61QzP12uIKj",
        "colab_type": "code",
        "colab": {
          "base_uri": "https://localhost:8080/",
          "height": 86
        },
        "outputId": "40dff273-f4f5-43ee-a628-ffc98443ded2"
      },
      "source": [
        "racine_atypical"
      ],
      "execution_count": 69,
      "outputs": [
        {
          "output_type": "execute_result",
          "data": {
            "text/plain": [
              "['Racine_TR-V-1664-Thebaide',\n",
              " 'Racine_TR-V-1677-Phedre',\n",
              " 'Racine_TR-V-1689-Esther',\n",
              " 'Racine_TR-V-1691-Athalie']"
            ]
          },
          "metadata": {
            "tags": []
          },
          "execution_count": 69
        }
      ]
    },
    {
      "cell_type": "code",
      "metadata": {
        "id": "me6X3fqmr8B3",
        "colab_type": "code",
        "colab": {}
      },
      "source": [
        "doctopic_of_interest = np.row_stack([doctopic_racine_normal, doctopic_racine_atypical])"
      ],
      "execution_count": 0,
      "outputs": []
    },
    {
      "cell_type": "code",
      "metadata": {
        "id": "xqsU6fCdtYoH",
        "colab_type": "code",
        "colab": {
          "base_uri": "https://localhost:8080/",
          "height": 35
        },
        "outputId": "46d87732-d557-43f2-e727-fbb97d3c4984"
      },
      "source": [
        "doctopic_of_interest.shape[0]"
      ],
      "execution_count": 73,
      "outputs": [
        {
          "output_type": "execute_result",
          "data": {
            "text/plain": [
              "5"
            ]
          },
          "metadata": {
            "tags": []
          },
          "execution_count": 73
        }
      ]
    },
    {
      "cell_type": "code",
      "metadata": {
        "id": "5FwxoHfRnz1C",
        "colab_type": "code",
        "colab": {}
      },
      "source": [
        "play_names_of_interest = ['Racine-1666-1674-AVERAGE'] + racine_atypical"
      ],
      "execution_count": 0,
      "outputs": []
    },
    {
      "cell_type": "code",
      "metadata": {
        "id": "eghzi_3Vn4Af",
        "colab_type": "code",
        "colab": {
          "base_uri": "https://localhost:8080/",
          "height": 297
        },
        "outputId": "74b92e7e-830f-423f-841c-0e45eb7823eb"
      },
      "source": [
        "plt.pcolor(doctopic_of_interest, norm=None, cmap='Blues')\n",
        "topic_labels = ['Topic #{}'.format(k) for k in range(num_topics)]\n",
        "\n",
        "plt.xticks(np.arange(doctopic_of_interest.shape[1]) + 0.5,  topic_labels)\n",
        "plt.yticks(np.arange(doctopic_of_interest.shape[0]) + 0.5, play_names_of_interest)\n",
        "\n",
        "plt.gca().invert_yaxis()\n",
        "plt.xticks(rotation=90)\n",
        "plt.colorbar(cmap='Blues')\n",
        "plt.tight_layout()"
      ],
      "execution_count": 75,
      "outputs": [
        {
          "output_type": "display_data",
          "data": {
            "image/png": "[encoded data removed]",
            "text/plain": [
              "<Figure size 432x288 with 2 Axes>"
            ]
          },
          "metadata": {
            "tags": []
          }
        }
      ]
    },
    {
      "cell_type": "markdown",
      "metadata": {
        "id": "89KCNiA21p41",
        "colab_type": "text"
      },
      "source": [
        "## Topic Distribution"
      ]
    },
    {
      "cell_type": "code",
      "metadata": {
        "id": "_xuqG7S-sC20",
        "colab_type": "code",
        "colab": {
          "base_uri": "https://localhost:8080/",
          "height": 35
        },
        "outputId": "607be6ec-daff-4cdd-d3b8-573169077821"
      },
      "source": [
        "\"\"\"\n",
        "We may as well come up with a systematic way of identifying topics that vary \n",
        "substantially across texts of interest. One way of doing this would be to \n",
        "calculate the standard deviation of the document-topic shares across the topics.\n",
        "\"\"\"\n",
        "\n"
      ],
      "execution_count": 34,
      "outputs": [
        {
          "output_type": "execute_result",
          "data": {
            "text/plain": [
              "array([ 0,  1,  2,  3,  4,  5,  6,  7,  8,  9, 10, 11, 12, 13, 14])"
            ]
          },
          "metadata": {
            "tags": []
          },
          "execution_count": 34
        }
      ]
    },
    {
      "cell_type": "code",
      "metadata": {
        "id": "o5xL6YwEwTkr",
        "colab_type": "code",
        "colab": {}
      },
      "source": [
        "# Look at Topic - Word Distribution\n",
        "\n",
        "topics_by_std = np.argsort(np.std(doctopic_of_interest, axis=0, ddof=1))[::-1]"
      ],
      "execution_count": 0,
      "outputs": []
    },
    {
      "cell_type": "code",
      "metadata": {
        "id": "fncLsd5YzlRn",
        "colab_type": "code",
        "colab": {
          "base_uri": "https://localhost:8080/",
          "height": 35
        },
        "outputId": "4d3176bc-d67b-4319-fdbf-408c65e0aae7"
      },
      "source": [
        "topics_by_std[:5]"
      ],
      "execution_count": 79,
      "outputs": [
        {
          "output_type": "execute_result",
          "data": {
            "text/plain": [
              "array([5, 6, 0, 7, 2])"
            ]
          },
          "metadata": {
            "tags": []
          },
          "execution_count": 79
        }
      ]
    },
    {
      "cell_type": "code",
      "metadata": {
        "id": "DA6izcl6zot0",
        "colab_type": "code",
        "colab": {}
      },
      "source": [
        "num_top_words = 17\n",
        "topic_words = []"
      ],
      "execution_count": 0,
      "outputs": []
    },
    {
      "cell_type": "code",
      "metadata": {
        "id": "H5a8_UVBzyl-",
        "colab_type": "code",
        "colab": {}
      },
      "source": [
        "for topic in clf.components_:\n",
        "  word_idx = np.argsort(topic)[::-1][:num_top_words]\n",
        "  topic_words.append(list(vocab[word_idx]))"
      ],
      "execution_count": 0,
      "outputs": []
    },
    {
      "cell_type": "code",
      "metadata": {
        "id": "GCZ_JFFH0NnD",
        "colab_type": "code",
        "colab": {
          "base_uri": "https://localhost:8080/",
          "height": 104
        },
        "outputId": "f167778e-edd7-49aa-d448-42b47d22344a"
      },
      "source": [
        "for t in topics_by_std[:5]:\n",
        "  print(\"Topic {0}, Words{1}\".format(t, topic_words[t]))"
      ],
      "execution_count": 90,
      "outputs": [
        {
          "output_type": "stream",
          "text": [
            "Topic 5, Words['de', 'et', 'le', 'dieu', 'que', 'vous', 'la', 'les', 'un', 'ce', 'son', 'du', 'qui', 'des', 'il', 'est', 'qu']\n",
            "Topic 6, Words['je', 'vous', 'de', 'que', 'ne', 'me', 'seigneur', 'la', 'il', 'madame', 'le', 'ce', 'ses', 'mes', 'plus', 'qu', 'une']\n",
            "Topic 0, Words['vous', 'et', 'de', 'que', 'un', 'je', 'le', 'qui', 'qu', 'il', 'me', 'en', 'votre', 'ne', 'moi', 'pour', 'ma']\n",
            "Topic 7, Words['le', 'il', 'et', 'de', 'est', 'la', 'son', 'un', 'fils', 'en', 'les', 'sa', 'qu', 'ce', 'que', 'je', 'on']\n",
            "Topic 2, Words['et', 'de', 'que', 'un', 'je', 'en', 'la', 'tu', 'qu', 'le', 'mon', 'sa', 'ma', 'pour', 'me', 'son', 'les']\n"
          ],
          "name": "stdout"
        }
      ]
    },
    {
      "cell_type": "markdown",
      "metadata": {
        "id": "mtVDywLB1tbE",
        "colab_type": "text"
      },
      "source": [
        "## Word Distribution"
      ]
    },
    {
      "cell_type": "code",
      "metadata": {
        "id": "ItZHzagV07LP",
        "colab_type": "code",
        "colab": {}
      },
      "source": [
        "vectorizer = text.CountVectorizer(input='filename')\n",
        "dtm = vectorizer.fit_transform(filenames_with_path)"
      ],
      "execution_count": 0,
      "outputs": []
    },
    {
      "cell_type": "code",
      "metadata": {
        "id": "we1AJVFE2A9D",
        "colab_type": "code",
        "colab": {}
      },
      "source": [
        "dtm = dtm.toarray()"
      ],
      "execution_count": 0,
      "outputs": []
    },
    {
      "cell_type": "code",
      "metadata": {
        "id": "zDfejQfm2GpM",
        "colab_type": "code",
        "colab": {}
      },
      "source": [
        "vocab = np.array(vectorizer.get_feature_names())\n",
        "authors = np.array([fn.split('_')[0] for fn in filenames])"
      ],
      "execution_count": 0,
      "outputs": []
    },
    {
      "cell_type": "code",
      "metadata": {
        "id": "WPSkkmf72UEd",
        "colab_type": "code",
        "colab": {}
      },
      "source": [
        "# convert to rates per 1000 words as this is easier to interpret\n",
        "dtm = 1000 * dtm / np.sum(dtm, axis=1, keepdims=True)"
      ],
      "execution_count": 0,
      "outputs": []
    },
    {
      "cell_type": "code",
      "metadata": {
        "id": "yuOp2iiT2myQ",
        "colab_type": "code",
        "colab": {
          "base_uri": "https://localhost:8080/",
          "height": 432
        },
        "outputId": "b63cc1cd-befe-45dd-c641-7e89893fdef8"
      },
      "source": [
        "# These words appeared consistency\n",
        "for word in ['et', 'un']:\n",
        "  print(\"Rate per 1,000 words of {}\".format(word))\n",
        "  filenames_racine = filenames[authors == \"Racine\"]\n",
        "  rates_racine = dtm[authors == \"Racine\", vocab == word ]\n",
        "  for filename, rate in zip(filenames_racine, rates_racine):\n",
        "    print(\"{:>40s}: {:.1f}\".format(filename, rate))"
      ],
      "execution_count": 95,
      "outputs": [
        {
          "output_type": "stream",
          "text": [
            "Rate per 1,000 words of et\n",
            "           Racine_TR-V-1664-Thebaide.txt: 32.8\n",
            "          Racine_TR-V-1666-Alexandre.txt: 24.1\n",
            "         Racine_TR-V-1668-Andromaque.txt: 22.8\n",
            "        Racine_TR-V-1670-Britannicus.txt: 20.5\n",
            "           Racine_TR-V-1671-Berenice.txt: 21.3\n",
            "            Racine_TR-V-1672-Bajazet.txt: 24.9\n",
            "         Racine_TR-V-1673-Mithridate.txt: 29.2\n",
            "          Racine_TR-V-1674-Iphigenie.txt: 26.9\n",
            "             Racine_TR-V-1677-Phedre.txt: 23.1\n",
            "             Racine_TR-V-1689-Esther.txt: 24.6\n",
            "            Racine_TR-V-1691-Athalie.txt: 25.7\n",
            "Rate per 1,000 words of un\n",
            "           Racine_TR-V-1664-Thebaide.txt: 13.2\n",
            "          Racine_TR-V-1666-Alexandre.txt: 15.2\n",
            "         Racine_TR-V-1668-Andromaque.txt: 13.7\n",
            "        Racine_TR-V-1670-Britannicus.txt: 10.9\n",
            "           Racine_TR-V-1671-Berenice.txt: 11.4\n",
            "            Racine_TR-V-1672-Bajazet.txt: 12.2\n",
            "         Racine_TR-V-1673-Mithridate.txt: 15.6\n",
            "          Racine_TR-V-1674-Iphigenie.txt: 13.8\n",
            "             Racine_TR-V-1677-Phedre.txt: 17.3\n",
            "             Racine_TR-V-1689-Esther.txt: 14.5\n",
            "            Racine_TR-V-1691-Athalie.txt: 13.1\n"
          ],
          "name": "stdout"
        }
      ]
    },
    {
      "cell_type": "code",
      "metadata": {
        "id": "reTp3D_u3UE9",
        "colab_type": "code",
        "colab": {
          "base_uri": "https://localhost:8080/",
          "height": 432
        },
        "outputId": "48e449d1-5c84-4631-90aa-64671113ea4b"
      },
      "source": [
        "for word in ['je', 'me']:\n",
        "  print(\"Rate per 1,000 words of {}\".format(word))\n",
        "  filenames_racine = filenames[authors == \"Racine\"]\n",
        "  rates_racine = dtm[authors == \"Racine\", vocab == word ]\n",
        "  for filename, rate in zip(filenames_racine, rates_racine):\n",
        "    print(\"{:>40s}: {:.1f}\".format(filename, rate))"
      ],
      "execution_count": 97,
      "outputs": [
        {
          "output_type": "stream",
          "text": [
            "Rate per 1,000 words of je\n",
            "           Racine_TR-V-1664-Thebaide.txt: 19.6\n",
            "          Racine_TR-V-1666-Alexandre.txt: 18.4\n",
            "         Racine_TR-V-1668-Andromaque.txt: 28.8\n",
            "        Racine_TR-V-1670-Britannicus.txt: 22.4\n",
            "           Racine_TR-V-1671-Berenice.txt: 31.8\n",
            "            Racine_TR-V-1672-Bajazet.txt: 25.8\n",
            "         Racine_TR-V-1673-Mithridate.txt: 26.0\n",
            "          Racine_TR-V-1674-Iphigenie.txt: 21.7\n",
            "             Racine_TR-V-1677-Phedre.txt: 24.3\n",
            "             Racine_TR-V-1689-Esther.txt: 11.1\n",
            "            Racine_TR-V-1691-Athalie.txt: 12.6\n",
            "Rate per 1,000 words of me\n",
            "           Racine_TR-V-1664-Thebaide.txt: 7.0\n",
            "          Racine_TR-V-1666-Alexandre.txt: 7.0\n",
            "         Racine_TR-V-1668-Andromaque.txt: 9.6\n",
            "        Racine_TR-V-1670-Britannicus.txt: 8.0\n",
            "           Racine_TR-V-1671-Berenice.txt: 10.9\n",
            "            Racine_TR-V-1672-Bajazet.txt: 8.8\n",
            "         Racine_TR-V-1673-Mithridate.txt: 10.3\n",
            "          Racine_TR-V-1674-Iphigenie.txt: 8.9\n",
            "             Racine_TR-V-1677-Phedre.txt: 8.2\n",
            "             Racine_TR-V-1689-Esther.txt: 4.5\n",
            "            Racine_TR-V-1691-Athalie.txt: 3.4\n"
          ],
          "name": "stdout"
        }
      ]
    },
    {
      "cell_type": "code",
      "metadata": {
        "id": "Olnik_cc4LFB",
        "colab_type": "code",
        "colab": {}
      },
      "source": [
        ""
      ],
      "execution_count": 0,
      "outputs": []
    }
  ]
}