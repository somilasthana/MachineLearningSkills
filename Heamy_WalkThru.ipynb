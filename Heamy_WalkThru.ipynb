{
  "nbformat": 4,
  "nbformat_minor": 0,
  "metadata": {
    "colab": {
      "name": "Heamy-WalkThru.ipynb",
      "version": "0.3.2",
      "provenance": [],
      "include_colab_link": true
    },
    "kernelspec": {
      "name": "python3",
      "display_name": "Python 3"
    }
  },
  "cells": [
    {
      "cell_type": "markdown",
      "metadata": {
        "id": "view-in-github",
        "colab_type": "text"
      },
      "source": [
        "<a href=\"https://colab.research.google.com/github/somilasthana/MachineLearningSkills/blob/master/Heamy_WalkThru.ipynb\" target=\"_parent\"><img src=\"https://colab.research.google.com/assets/colab-badge.svg\" alt=\"Open In Colab\"/></a>"
      ]
    },
    {
      "cell_type": "code",
      "metadata": {
        "id": "y7DSlzZygEWS",
        "colab_type": "code",
        "colab": {
          "base_uri": "https://localhost:8080/",
          "height": 190
        },
        "outputId": "e2e8ee29-cfeb-4db0-bfab-eb3d569c816f"
      },
      "source": [
        "!pip install -U heamy"
      ],
      "execution_count": 33,
      "outputs": [
        {
          "output_type": "stream",
          "text": [
            "Requirement already up-to-date: heamy in /usr/local/lib/python3.6/dist-packages (0.0.7)\n",
            "Requirement already satisfied, skipping upgrade: numpy>=1.7.0 in /usr/local/lib/python3.6/dist-packages (from heamy) (1.16.3)\n",
            "Requirement already satisfied, skipping upgrade: pandas>=0.17.0 in /usr/local/lib/python3.6/dist-packages (from heamy) (0.24.2)\n",
            "Requirement already satisfied, skipping upgrade: scikit-learn>=0.17.0 in /usr/local/lib/python3.6/dist-packages (from heamy) (0.21.1)\n",
            "Requirement already satisfied, skipping upgrade: scipy>=0.16.0 in /usr/local/lib/python3.6/dist-packages (from heamy) (1.3.0)\n",
            "Requirement already satisfied, skipping upgrade: six>=1.10.0 in /usr/local/lib/python3.6/dist-packages (from heamy) (1.12.0)\n",
            "Requirement already satisfied, skipping upgrade: pytz>=2011k in /usr/local/lib/python3.6/dist-packages (from pandas>=0.17.0->heamy) (2018.9)\n",
            "Requirement already satisfied, skipping upgrade: python-dateutil>=2.5.0 in /usr/local/lib/python3.6/dist-packages (from pandas>=0.17.0->heamy) (2.5.3)\n",
            "Requirement already satisfied, skipping upgrade: joblib>=0.11 in /usr/local/lib/python3.6/dist-packages (from scikit-learn>=0.17.0->heamy) (0.12.5)\n"
          ],
          "name": "stdout"
        }
      ]
    },
    {
      "cell_type": "code",
      "metadata": {
        "id": "5ZWEZ1x_nv7W",
        "colab_type": "code",
        "colab": {
          "base_uri": "https://localhost:8080/",
          "height": 88
        },
        "outputId": "f04947bf-b164-4144-a0b1-4310762c60e1"
      },
      "source": [
        "!pip3 install -U xgboost"
      ],
      "execution_count": 3,
      "outputs": [
        {
          "output_type": "stream",
          "text": [
            "Requirement already up-to-date: xgboost in /usr/local/lib/python3.6/dist-packages (0.90)\n",
            "Requirement already satisfied, skipping upgrade: numpy in /usr/local/lib/python3.6/dist-packages (from xgboost) (1.16.3)\n",
            "Requirement already satisfied, skipping upgrade: scipy in /usr/local/lib/python3.6/dist-packages (from xgboost) (1.3.0)\n"
          ],
          "name": "stdout"
        }
      ]
    },
    {
      "cell_type": "code",
      "metadata": {
        "id": "yrmG4idogbjj",
        "colab_type": "code",
        "colab": {}
      },
      "source": [
        "import numpy as np\n",
        "from sklearn.model_selection import train_test_split\n",
        "from sklearn.datasets import load_boston\n",
        "from sklearn.ensemble import RandomForestRegressor\n",
        "from sklearn.linear_model import LinearRegression, LogisticRegression\n",
        "from sklearn.metrics import mean_absolute_error, mean_squared_error, explained_variance_score, max_error, mean_squared_log_error, median_absolute_error\n",
        "from sklearn.metrics import r2_score\n",
        "from sklearn.neighbors import KNeighborsRegressor\n",
        "from xgboost import XGBClassifier"
      ],
      "execution_count": 0,
      "outputs": []
    },
    {
      "cell_type": "code",
      "metadata": {
        "id": "NCrb0P9hoO2K",
        "colab_type": "code",
        "colab": {}
      },
      "source": [
        "from heamy.dataset import Dataset\n",
        "from heamy.estimator import Regressor, Classifier\n",
        "from heamy.pipeline import ModelsPipeline"
      ],
      "execution_count": 0,
      "outputs": []
    },
    {
      "cell_type": "code",
      "metadata": {
        "id": "rOGJCevuojwx",
        "colab_type": "code",
        "colab": {}
      },
      "source": [
        "np.set_printoptions(precision=6)\n",
        "np.set_printoptions(suppress=True)\n",
        "\n",
        "np.random.seed(1000)"
      ],
      "execution_count": 0,
      "outputs": []
    },
    {
      "cell_type": "code",
      "metadata": {
        "id": "-ywEX3MnotA5",
        "colab_type": "code",
        "colab": {}
      },
      "source": [
        "data = load_boston()\n",
        "X, y = data['data'], data['target']\n",
        "X_train, X_test, y_train, y_test = train_test_split(X, y, test_size=0.1, random_state=111)"
      ],
      "execution_count": 0,
      "outputs": []
    },
    {
      "cell_type": "code",
      "metadata": {
        "id": "1CN4Qzq8rJJy",
        "colab_type": "code",
        "colab": {}
      },
      "source": [
        "# Load Dataset\n",
        "dataset = Dataset(X_train, y_train, X_test)"
      ],
      "execution_count": 0,
      "outputs": []
    },
    {
      "cell_type": "code",
      "metadata": {
        "id": "dOa55ms-sREl",
        "colab_type": "code",
        "colab": {}
      },
      "source": [
        "# Stacking"
      ],
      "execution_count": 0,
      "outputs": []
    },
    {
      "cell_type": "code",
      "metadata": {
        "id": "WoYJ2Ptqs7AB",
        "colab_type": "code",
        "colab": {}
      },
      "source": [
        "rf = Regressor(dataset = dataset, estimator=RandomForestRegressor, parameters = {'n_estimators': 50}, name='rf')\n",
        "lr = Regressor(dataset = dataset, estimator=LinearRegression, parameters = { 'normalize': True }, name='lr')"
      ],
      "execution_count": 0,
      "outputs": []
    },
    {
      "cell_type": "code",
      "metadata": {
        "id": "S_J9Pddwt20g",
        "colab_type": "code",
        "colab": {}
      },
      "source": [
        "pipeline = ModelsPipeline(rf, lr)\n",
        "stack_ds = pipeline.stack(k=10, seed=111)"
      ],
      "execution_count": 0,
      "outputs": []
    },
    {
      "cell_type": "code",
      "metadata": {
        "id": "0g-Lybf7uL32",
        "colab_type": "code",
        "colab": {}
      },
      "source": [
        "stacker = Regressor(dataset=stack_ds, estimator=LinearRegression)\n",
        "results = stacker.predict()"
      ],
      "execution_count": 0,
      "outputs": []
    },
    {
      "cell_type": "code",
      "metadata": {
        "id": "I3LHdJP2unc5",
        "colab_type": "code",
        "colab": {
          "base_uri": "https://localhost:8080/",
          "height": 122
        },
        "outputId": "835fb3b9-59da-4e82-b35c-1d1375dd5f19"
      },
      "source": [
        "vresults = stacker.validate(k=10, scorer=mean_absolute_error)"
      ],
      "execution_count": 42,
      "outputs": [
        {
          "output_type": "stream",
          "text": [
            "Metric: mean_absolute_error\n",
            "Folds accuracy: [2.5485272320904206, 1.585947203705934, 1.9646762148757155, 1.9104764887776098, 2.6955293634588458, 2.685735645061458, 1.6081967683742928, 2.5313994479366007, 2.5056647989554, 2.2947297623230067]\n",
            "Mean accuracy: 2.2330882925559288\n",
            "Standard Deviation: 0.4087462156004626\n",
            "Variance: 0.16707346876769985\n"
          ],
          "name": "stdout"
        }
      ]
    },
    {
      "cell_type": "code",
      "metadata": {
        "id": "Y2rZzdXRu1BK",
        "colab_type": "code",
        "colab": {
          "base_uri": "https://localhost:8080/",
          "height": 34
        },
        "outputId": "0016bbfd-897e-4651-8e46-e89d7bfc1d97"
      },
      "source": [
        "mean_absolute_error(results, y_test)"
      ],
      "execution_count": 26,
      "outputs": [
        {
          "output_type": "execute_result",
          "data": {
            "text/plain": [
              "2.410665001260684"
            ]
          },
          "metadata": {
            "tags": []
          },
          "execution_count": 26
        }
      ]
    },
    {
      "cell_type": "code",
      "metadata": {
        "id": "dQ7JGZy-vEfS",
        "colab_type": "code",
        "colab": {
          "base_uri": "https://localhost:8080/",
          "height": 34
        },
        "outputId": "3477fc9d-0e21-47c4-dab9-fdcd30d6b665"
      },
      "source": [
        "mean_squared_error(results, y_test)"
      ],
      "execution_count": 28,
      "outputs": [
        {
          "output_type": "execute_result",
          "data": {
            "text/plain": [
              "10.198920797936402"
            ]
          },
          "metadata": {
            "tags": []
          },
          "execution_count": 28
        }
      ]
    },
    {
      "cell_type": "code",
      "metadata": {
        "id": "FwxpcO4RyRDA",
        "colab_type": "code",
        "colab": {
          "base_uri": "https://localhost:8080/",
          "height": 34
        },
        "outputId": "ab94dc23-4ded-469e-8970-bed946f0bab9"
      },
      "source": [
        "explained_variance_score(y_test, results)"
      ],
      "execution_count": 30,
      "outputs": [
        {
          "output_type": "execute_result",
          "data": {
            "text/plain": [
              "0.9266825841328894"
            ]
          },
          "metadata": {
            "tags": []
          },
          "execution_count": 30
        }
      ]
    },
    {
      "cell_type": "code",
      "metadata": {
        "id": "XYNyh8Mgz3ID",
        "colab_type": "code",
        "colab": {
          "base_uri": "https://localhost:8080/",
          "height": 34
        },
        "outputId": "130d7c31-1006-47b8-897d-98558947ba43"
      },
      "source": [
        "max_error(results, y_test)"
      ],
      "execution_count": 32,
      "outputs": [
        {
          "output_type": "execute_result",
          "data": {
            "text/plain": [
              "8.153455088353994"
            ]
          },
          "metadata": {
            "tags": []
          },
          "execution_count": 32
        }
      ]
    },
    {
      "cell_type": "code",
      "metadata": {
        "id": "0k5R9-dj0XG4",
        "colab_type": "code",
        "colab": {
          "base_uri": "https://localhost:8080/",
          "height": 34
        },
        "outputId": "2633da56-c4e7-4d95-94b6-a2dfc4bc93aa"
      },
      "source": [
        "mean_squared_log_error(results, y_test)"
      ],
      "execution_count": 45,
      "outputs": [
        {
          "output_type": "execute_result",
          "data": {
            "text/plain": [
              "0.02119252764908774"
            ]
          },
          "metadata": {
            "tags": []
          },
          "execution_count": 45
        }
      ]
    },
    {
      "cell_type": "code",
      "metadata": {
        "id": "Rd31e6-JJzwU",
        "colab_type": "code",
        "colab": {
          "base_uri": "https://localhost:8080/",
          "height": 34
        },
        "outputId": "d67c950d-5d22-4bd7-82f8-ea6f311ff443"
      },
      "source": [
        "median_absolute_error(results, y_test)"
      ],
      "execution_count": 48,
      "outputs": [
        {
          "output_type": "execute_result",
          "data": {
            "text/plain": [
              "1.8758802030729207"
            ]
          },
          "metadata": {
            "tags": []
          },
          "execution_count": 48
        }
      ]
    },
    {
      "cell_type": "code",
      "metadata": {
        "id": "mr620XqULfHp",
        "colab_type": "code",
        "colab": {
          "base_uri": "https://localhost:8080/",
          "height": 34
        },
        "outputId": "cdbba345-c47d-40f6-f500-b445aa6fcdcd"
      },
      "source": [
        "r2_score(results, y_test)"
      ],
      "execution_count": 50,
      "outputs": [
        {
          "output_type": "execute_result",
          "data": {
            "text/plain": [
              "0.8866574102398905"
            ]
          },
          "metadata": {
            "tags": []
          },
          "execution_count": 50
        }
      ]
    },
    {
      "cell_type": "code",
      "metadata": {
        "id": "-zSj3-LNLpDQ",
        "colab_type": "code",
        "colab": {}
      },
      "source": [
        "knn = Regressor(dataset = dataset, estimator=KNeighborsRegressor, parameters = { \"n_neighbors\" : 5}, name='knn')"
      ],
      "execution_count": 0,
      "outputs": []
    },
    {
      "cell_type": "code",
      "metadata": {
        "id": "E_AQ09rSQZrm",
        "colab_type": "code",
        "colab": {}
      },
      "source": [
        "new_pipeline = ModelsPipeline(rf, lr, knn)"
      ],
      "execution_count": 0,
      "outputs": []
    },
    {
      "cell_type": "code",
      "metadata": {
        "id": "cLzdur3XQyhE",
        "colab_type": "code",
        "colab": {
          "base_uri": "https://localhost:8080/",
          "height": 51
        },
        "outputId": "4de0bce8-06e2-4217-eaac-70c19326035a"
      },
      "source": [
        "w = new_pipeline.find_weights(mean_absolute_error)"
      ],
      "execution_count": 54,
      "outputs": [
        {
          "output_type": "stream",
          "text": [
            "Best Score (mean_absolute_error): 2.1733346665315545\n",
            "Best Weights: [0.907493 0.092507 0.      ]\n"
          ],
          "name": "stdout"
        }
      ]
    },
    {
      "cell_type": "code",
      "metadata": {
        "id": "yPfkf6FbQ6Ks",
        "colab_type": "code",
        "colab": {}
      },
      "source": [
        "wresults = pipeline.weight(w)"
      ],
      "execution_count": 0,
      "outputs": []
    },
    {
      "cell_type": "code",
      "metadata": {
        "id": "Funuk0d3RIgI",
        "colab_type": "code",
        "colab": {}
      },
      "source": [
        "# Stacking using heamy using allstate-claims-severity"
      ],
      "execution_count": 0,
      "outputs": []
    },
    {
      "cell_type": "code",
      "metadata": {
        "id": "idlJPQ0iYsDh",
        "colab_type": "code",
        "colab": {
          "base_uri": "https://localhost:8080/",
          "height": 85
        },
        "outputId": "b20603c9-ffa7-41d2-a996-ed4b4b6cb483"
      },
      "source": [
        "!unzip /content/sample_data/allstate-claims-severity.zip"
      ],
      "execution_count": 65,
      "outputs": [
        {
          "output_type": "stream",
          "text": [
            "Archive:  /content/sample_data/allstate-claims-severity.zip\n",
            "  inflating: train.csv               \n",
            "  inflating: sample_submission.csv   \n",
            "  inflating: test.csv                \n"
          ],
          "name": "stdout"
        }
      ]
    },
    {
      "cell_type": "code",
      "metadata": {
        "id": "_RCvf16vRKWJ",
        "colab_type": "code",
        "colab": {}
      },
      "source": [
        "import logging\n",
        "\n",
        "import pandas as pd\n",
        "import numpy as np\n",
        "import xgboost as xgb\n",
        "from sklearn.ensemble import ExtraTreesRegressor\n",
        "from sklearn.ensemble import RandomForestRegressor\n",
        "from sklearn.metrics import mean_absolute_error\n",
        "from sklearn.linear_model import LinearRegression\n",
        "\n",
        "\"\"\"\n",
        "Read more about heamy:\n",
        "https://github.com/rushter/heamy\n",
        "\"\"\"\n",
        "from heamy.dataset import Dataset\n",
        "from heamy.estimator import Regressor\n",
        "from heamy.pipeline import ModelsPipeline"
      ],
      "execution_count": 0,
      "outputs": []
    },
    {
      "cell_type": "code",
      "metadata": {
        "id": "bwBeIWEPYfXZ",
        "colab_type": "code",
        "colab": {}
      },
      "source": [
        "logging.basicConfig(level = logging.DEBUG)"
      ],
      "execution_count": 0,
      "outputs": []
    },
    {
      "cell_type": "code",
      "metadata": {
        "id": "QXUW-wI5Yqei",
        "colab_type": "code",
        "colab": {}
      },
      "source": [
        "ID = 'id'\n",
        "TARGET = 'loss'\n",
        "\n",
        "DATA_DIR = \"./\"\n",
        "SUBMISSION_FILE = \"{0}/sample_submission.csv\".format(DATA_DIR)"
      ],
      "execution_count": 0,
      "outputs": []
    },
    {
      "cell_type": "code",
      "metadata": {
        "id": "VHWIhZTuZDLj",
        "colab_type": "code",
        "colab": {}
      },
      "source": [
        "def first_dataset():\n",
        "    train = pd.read_csv(\"{0}/train.csv\".format(DATA_DIR))\n",
        "    test = pd.read_csv(\"{0}/test.csv\".format(DATA_DIR))\n",
        "\n",
        "    y_train = train[TARGET].ravel()\n",
        "\n",
        "    train.drop([ID, TARGET], axis=1, inplace=True)\n",
        "    test.drop([ID], axis=1, inplace=True)\n",
        "\n",
        "    train_test = pd.concat((train, test)).reset_index(drop=True)\n",
        "\n",
        "    ntrain = train.shape[0]\n",
        "\n",
        "    features = train.columns\n",
        "    cats = [feat for feat in features if 'cat' in feat]\n",
        "    for feat in cats:\n",
        "        train_test[feat] = pd.factorize(train_test[feat], sort=True)[0]\n",
        "    x_train = np.array(train_test.iloc[:ntrain, :])\n",
        "    x_test = np.array(train_test.iloc[ntrain:, :])\n",
        "\n",
        "    return {'X_train': x_train, 'X_test': x_test, 'y_train': y_train}"
      ],
      "execution_count": 0,
      "outputs": []
    },
    {
      "cell_type": "code",
      "metadata": {
        "id": "buygh18gZUam",
        "colab_type": "code",
        "colab": {}
      },
      "source": [
        "def xgb_first(X_train, y_train, X_test, y_test=None):\n",
        "  params = {\n",
        "      \n",
        "      'seed': 1111,\n",
        "      'colsample_bytree': 0.7,\n",
        "      'silent': 1,\n",
        "      'subsample': .85,\n",
        "      'learing_rate': 0.005,\n",
        "      'objective': 'reg:linear',\n",
        "      'max_depth': 10,\n",
        "      'num_estimators': 550,\n",
        "      'gamma': 0.05\n",
        "  }\n",
        "  \n",
        "  X_train = xgb.DMatrix(X_train, label=y_train, missing=np.nan)\n",
        "  model = xgb.train(params, X_train, params['num_estimators'])\n",
        "  return model.predict(xgb.DMatrix(X_test, missing=np.nan))\n",
        "\n",
        "\n",
        "def xgb_stack(X_train, y_train, X_test, y_test=None):\n",
        "  params = {\n",
        "      \n",
        "      'seed': 11111, \n",
        "      'colsample_bytree': 0.6,\n",
        "      'silent': 1,\n",
        "      'subsample': .85,\n",
        "      'learning_rate': 0.004,\n",
        "      'objective' : 'reg:linear',\n",
        "      'max_depth': 10,\n",
        "      'num_estimators': 550,\n",
        "      'gamma': 0.05\n",
        "     \n",
        "  }\n",
        "  \n",
        "  X_train = xgb.DMatrix(X_train, label=y_train, missing=np.nan)\n",
        "  model = xgb.train(params, X_train, params['num_estimators'])\n",
        "  return model.predict(xgb.DMatrix(X_test, missing=np.nan))"
      ],
      "execution_count": 0,
      "outputs": []
    },
    {
      "cell_type": "code",
      "metadata": {
        "id": "BVa2ks1fc3UC",
        "colab_type": "code",
        "colab": {}
      },
      "source": [
        "et_params = {'n_estimators': 100, 'max_features': 0.5,\n",
        "             'max_depth': 18, 'min_samples_leaf': 4,\n",
        "             'n_jobs': -1}\n",
        "rf_params = {'n_estimators': 125, 'max_features': 0.2,\n",
        "             'max_depth': 25, 'min_samples_leaf': 4,\n",
        "             'n_jobs': -1}"
      ],
      "execution_count": 0,
      "outputs": []
    },
    {
      "cell_type": "code",
      "metadata": {
        "id": "sR2vvxs-ewez",
        "colab_type": "code",
        "colab": {}
      },
      "source": [
        "ds = Dataset(preprocessor = first_dataset, use_cache=False)"
      ],
      "execution_count": 0,
      "outputs": []
    },
    {
      "cell_type": "code",
      "metadata": {
        "id": "3N7SSeevfAD3",
        "colab_type": "code",
        "colab": {}
      },
      "source": [
        "pipeline = ModelsPipeline(    \n",
        "    Regressor(estimator=xgb_first, dataset=ds, use_cache=False),\n",
        "    Regressor(estimator=ExtraTreesRegressor, dataset=ds, use_cache=False, parameters=et_params),\n",
        "    Regressor(estimator=RandomForestRegressor, dataset=ds, use_cache=False, parameters=rf_params),\n",
        "    Regressor(estimator=LinearRegression, dataset=ds, use_cache=False)\n",
        ")"
      ],
      "execution_count": 0,
      "outputs": []
    },
    {
      "cell_type": "code",
      "metadata": {
        "id": "iI9VlvClf6Bn",
        "colab_type": "code",
        "colab": {
          "base_uri": "https://localhost:8080/",
          "height": 377
        },
        "outputId": "135dd91e-6724-4392-9cc3-c65dd57f6a57"
      },
      "source": [
        "stack_ds = pipeline.stack(k=4, seed=1111, add_diff=False, full_test=True)"
      ],
      "execution_count": 90,
      "outputs": [
        {
          "output_type": "stream",
          "text": [
            "INFO:heamy.estimator:Calculating xgb_first(cb454fe8cd594320e8d8cce3b8a17970)'s fold #1\n",
            "INFO:heamy.estimator:Calculating xgb_first(cb454fe8cd594320e8d8cce3b8a17970)'s fold #2\n",
            "INFO:heamy.estimator:Calculating xgb_first(cb454fe8cd594320e8d8cce3b8a17970)'s fold #3\n",
            "INFO:heamy.estimator:Calculating xgb_first(cb454fe8cd594320e8d8cce3b8a17970)'s fold #4\n",
            "INFO:heamy.estimator:Calculating xgb_first(cb454fe8cd594320e8d8cce3b8a17970)'s test data\n",
            "INFO:heamy.estimator:Calculating ExtraTreesRegressor(39d55ae2d4a3f848b866d0495d9f34b6)'s fold #1\n",
            "INFO:heamy.estimator:Calculating ExtraTreesRegressor(39d55ae2d4a3f848b866d0495d9f34b6)'s fold #2\n",
            "INFO:heamy.estimator:Calculating ExtraTreesRegressor(39d55ae2d4a3f848b866d0495d9f34b6)'s fold #3\n",
            "INFO:heamy.estimator:Calculating ExtraTreesRegressor(39d55ae2d4a3f848b866d0495d9f34b6)'s fold #4\n",
            "INFO:heamy.estimator:Calculating ExtraTreesRegressor(39d55ae2d4a3f848b866d0495d9f34b6)'s test data\n",
            "INFO:heamy.estimator:Calculating RandomForestRegressor(3d7183a0f6f6d8de37282c2d88861b26)'s fold #1\n",
            "INFO:heamy.estimator:Calculating RandomForestRegressor(3d7183a0f6f6d8de37282c2d88861b26)'s fold #2\n",
            "INFO:heamy.estimator:Calculating RandomForestRegressor(3d7183a0f6f6d8de37282c2d88861b26)'s fold #3\n",
            "INFO:heamy.estimator:Calculating RandomForestRegressor(3d7183a0f6f6d8de37282c2d88861b26)'s fold #4\n",
            "INFO:heamy.estimator:Calculating RandomForestRegressor(3d7183a0f6f6d8de37282c2d88861b26)'s test data\n",
            "INFO:heamy.estimator:Calculating LinearRegression(5b9e01d53c1eaf6f1eb9c638dcc0e76b)'s fold #1\n",
            "INFO:heamy.estimator:Calculating LinearRegression(5b9e01d53c1eaf6f1eb9c638dcc0e76b)'s fold #2\n",
            "INFO:heamy.estimator:Calculating LinearRegression(5b9e01d53c1eaf6f1eb9c638dcc0e76b)'s fold #3\n",
            "INFO:heamy.estimator:Calculating LinearRegression(5b9e01d53c1eaf6f1eb9c638dcc0e76b)'s fold #4\n",
            "INFO:heamy.estimator:Calculating LinearRegression(5b9e01d53c1eaf6f1eb9c638dcc0e76b)'s test data\n"
          ],
          "name": "stderr"
        }
      ]
    },
    {
      "cell_type": "code",
      "metadata": {
        "id": "u4LRTXD4g0xv",
        "colab_type": "code",
        "colab": {}
      },
      "source": [
        "stacker = Regressor(dataset=stack_ds, estimator=xgb_stack, use_cache=False)\n",
        "predictions = stacker.predict()"
      ],
      "execution_count": 0,
      "outputs": []
    },
    {
      "cell_type": "code",
      "metadata": {
        "id": "FxhHdjk0UCfD",
        "colab_type": "code",
        "colab": {
          "base_uri": "https://localhost:8080/",
          "height": 289
        },
        "outputId": "98556692-8e03-4eaa-9438-0c6d888dab8e"
      },
      "source": [
        "stacker.validate(k=4)"
      ],
      "execution_count": 94,
      "outputs": [
        {
          "output_type": "stream",
          "text": [
            "INFO:heamy.estimator:Calculating xgb_stack(8fa65385ca453ce2b157804792a5cb70)'s fold #1\n",
            "INFO:heamy.estimator:Calculating xgb_stack(8fa65385ca453ce2b157804792a5cb70)'s fold #2\n",
            "INFO:heamy.estimator:Calculating xgb_stack(8fa65385ca453ce2b157804792a5cb70)'s fold #3\n",
            "INFO:heamy.estimator:Calculating xgb_stack(8fa65385ca453ce2b157804792a5cb70)'s fold #4\n"
          ],
          "name": "stderr"
        },
        {
          "output_type": "execute_result",
          "data": {
            "text/plain": [
              "([array([10280.2 ,   585.18,  6609.32, ...,  1198.62,  5762.64,  1562.87]),\n",
              "  array([2213.18,  939.85, 5142.87, ...,  839.41,  896.57, 4751.72]),\n",
              "  array([1283.6 , 1132.22, 1071.77, ..., 1173.3 , 4659.57, 1108.34]),\n",
              "  array([ 3005.09,  2763.85,  6184.59, ..., 12065.38,  2161.12,   804.28])],\n",
              " [array([7671.0513, 1143.5234, 8783.805 , ..., 2927.4187, 5030.2974,\n",
              "         3088.1677], dtype=float32),\n",
              "  array([1698.3885, 1037.8986, 4558.643 , ..., 2146.2117, 1641.1965,\n",
              "         3036.1824], dtype=float32),\n",
              "  array([1888.4546 , 1349.8948 ,  973.0861 , ..., 1393.9312 , 2217.946  ,\n",
              "          983.81116], dtype=float32),\n",
              "  array([3985.874 , 3441.2153, 5960.281 , ..., 5091.6724, 2159.5203,\n",
              "         1683.6952], dtype=float32)])"
            ]
          },
          "metadata": {
            "tags": []
          },
          "execution_count": 94
        }
      ]
    },
    {
      "cell_type": "code",
      "metadata": {
        "id": "2cFbVFBR85fO",
        "colab_type": "code",
        "colab": {}
      },
      "source": [
        ""
      ],
      "execution_count": 0,
      "outputs": []
    }
  ]
}