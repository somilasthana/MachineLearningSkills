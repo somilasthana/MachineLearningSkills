{
  "nbformat": 4,
  "nbformat_minor": 0,
  "metadata": {
    "colab": {
      "name": "DensityEstimation.ipynb",
      "version": "0.3.2",
      "provenance": [],
      "include_colab_link": true
    },
    "kernelspec": {
      "name": "python3",
      "display_name": "Python 3"
    },
    "accelerator": "GPU"
  },
  "cells": [
    {
      "cell_type": "markdown",
      "metadata": {
        "id": "view-in-github",
        "colab_type": "text"
      },
      "source": [
        "<a href=\"https://colab.research.google.com/github/somilasthana/MachineLearningSkills/blob/master/DensityEstimation.ipynb\" target=\"_parent\"><img src=\"https://colab.research.google.com/assets/colab-badge.svg\" alt=\"Open In Colab\"/></a>"
      ]
    },
    {
      "cell_type": "code",
      "metadata": {
        "id": "axbPRXv1dZW1",
        "colab_type": "code",
        "colab": {}
      },
      "source": [
        "\"\"\"\n",
        "Density Estimation: It is inbetween unsupervised learning , feature engg, data modeling\n",
        "- Gaussian Mixure Model\n",
        "- Neighbor Density\n",
        "\"\"\"\n",
        "\n"
      ],
      "execution_count": 0,
      "outputs": []
    },
    {
      "cell_type": "code",
      "metadata": {
        "id": "SO5RL4Rxd6S5",
        "colab_type": "code",
        "colab": {}
      },
      "source": [
        "\"\"\"\n",
        "Kernel Density Estimation: \n",
        "\n",
        "It applies a kernel to each data point x rendering its distribution. Kernel is a \n",
        "positive function K(x; h). Given this kernel form, the density estimate at a point y\n",
        "is given as \n",
        "\n",
        " p_k(y) = i = Sum of N  { K ((y - x_i) /h) }\n",
        "\"\"\""
      ],
      "execution_count": 0,
      "outputs": []
    },
    {
      "cell_type": "code",
      "metadata": {
        "id": "UJv3tevmvQad",
        "colab_type": "code",
        "colab": {
          "base_uri": "https://localhost:8080/",
          "height": 52
        },
        "outputId": "641080c1-da56-4314-fd56-de41401a5503"
      },
      "source": [
        "%matplotlib inline\n",
        "import matplotlib.pyplot as plt\n",
        "from sklearn.neighbors.kde import KernelDensity\n",
        "from scipy.stats import norm\n",
        "\n",
        "import numpy as np\n",
        "X = np.array([[-1, -1], [-2, -1], [-3, -2], [1, 1], [2, 1], [3, 2]])\n",
        "kde = KernelDensity(kernel='gaussian', bandwidth=0.2).fit(X)\n",
        "\n",
        "kde_score = kde.score_samples(X)\n",
        "kde_score"
      ],
      "execution_count": 10,
      "outputs": [
        {
          "output_type": "execute_result",
          "data": {
            "text/plain": [
              "array([-0.41075698, -0.41075698, -0.41076071, -0.41075698, -0.41075698,\n",
              "       -0.41076071])"
            ]
          },
          "metadata": {
            "tags": []
          },
          "execution_count": 10
        }
      ]
    },
    {
      "cell_type": "code",
      "metadata": {
        "id": "yQCTgBz9ys5J",
        "colab_type": "code",
        "colab": {}
      },
      "source": [
        "\"\"\"\n",
        "Kernel Density Estimation:\n",
        "\"\"\"\n",
        "\n",
        "import numpy as np\n",
        "import matplotlib.pyplot as plt\n",
        "\n",
        "from sklearn.neighbors import KernelDensity\n",
        "from sklearn.decomposition import PCA\n",
        "from sklearn.model_selection import GridSearchCV\n",
        "import gzip\n"
      ],
      "execution_count": 0,
      "outputs": []
    },
    {
      "cell_type": "code",
      "metadata": {
        "id": "gHYEulMFzZDA",
        "colab_type": "code",
        "colab": {
          "base_uri": "https://localhost:8080/",
          "height": 35
        },
        "outputId": "31e0de6c-d5e9-4470-a6c6-f78d52f6b21e"
      },
      "source": [
        "!mkdir fashion\n",
        "% cd fashion"
      ],
      "execution_count": 16,
      "outputs": [
        {
          "output_type": "stream",
          "text": [
            "/content/fashion\n"
          ],
          "name": "stdout"
        }
      ]
    },
    {
      "cell_type": "code",
      "metadata": {
        "id": "UadQATLX1iw6",
        "colab_type": "code",
        "colab": {}
      },
      "source": [
        "!rm -rf *"
      ],
      "execution_count": 0,
      "outputs": []
    },
    {
      "cell_type": "code",
      "metadata": {
        "id": "3UyBRt2s0PNT",
        "colab_type": "code",
        "colab": {
          "base_uri": "https://localhost:8080/",
          "height": 1399
        },
        "outputId": "38c3b74a-5c97-41cd-ed84-faade63f2edc"
      },
      "source": [
        "!wget https://github.com/zalandoresearch/fashion-mnist/blob/master/data/fashion/train-labels-idx1-ubyte.gz?raw=true\n",
        "!wget https://github.com/zalandoresearch/fashion-mnist/blob/master/data/fashion/train-images-idx3-ubyte.gz?raw=true\n",
        "!wget https://github.com/zalandoresearch/fashion-mnist/blob/master/data/fashion/t10k-labels-idx1-ubyte.gz?raw=true\n",
        "!wget https://github.com/zalandoresearch/fashion-mnist/blob/master/data/fashion/t10k-images-idx3-ubyte.gz?raw=true"
      ],
      "execution_count": 31,
      "outputs": [
        {
          "output_type": "stream",
          "text": [
            "--2019-06-08 02:12:27--  https://github.com/zalandoresearch/fashion-mnist/blob/master/data/fashion/train-labels-idx1-ubyte.gz?raw=true\n",
            "Resolving github.com (github.com)... 192.30.255.112\n",
            "Connecting to github.com (github.com)|192.30.255.112|:443... connected.\n",
            "HTTP request sent, awaiting response... 302 Found\n",
            "Location: https://github.com/zalandoresearch/fashion-mnist/raw/master/data/fashion/train-labels-idx1-ubyte.gz [following]\n",
            "--2019-06-08 02:12:27--  https://github.com/zalandoresearch/fashion-mnist/raw/master/data/fashion/train-labels-idx1-ubyte.gz\n",
            "Reusing existing connection to github.com:443.\n",
            "HTTP request sent, awaiting response... 302 Found\n",
            "Location: https://raw.githubusercontent.com/zalandoresearch/fashion-mnist/master/data/fashion/train-labels-idx1-ubyte.gz [following]\n",
            "--2019-06-08 02:12:27--  https://raw.githubusercontent.com/zalandoresearch/fashion-mnist/master/data/fashion/train-labels-idx1-ubyte.gz\n",
            "Resolving raw.githubusercontent.com (raw.githubusercontent.com)... 151.101.0.133, 151.101.64.133, 151.101.128.133, ...\n",
            "Connecting to raw.githubusercontent.com (raw.githubusercontent.com)|151.101.0.133|:443... connected.\n",
            "HTTP request sent, awaiting response... 200 OK\n",
            "Length: 29515 (29K) [application/octet-stream]\n",
            "Saving to: ‘train-labels-idx1-ubyte.gz?raw=true’\n",
            "\n",
            "\r          train-lab   0%[                    ]       0  --.-KB/s               \rtrain-labels-idx1-u 100%[===================>]  28.82K  --.-KB/s    in 0.008s  \n",
            "\n",
            "2019-06-08 02:12:27 (3.60 MB/s) - ‘train-labels-idx1-ubyte.gz?raw=true’ saved [29515/29515]\n",
            "\n",
            "--2019-06-08 02:12:29--  https://github.com/zalandoresearch/fashion-mnist/blob/master/data/fashion/train-images-idx3-ubyte.gz?raw=true\n",
            "Resolving github.com (github.com)... 192.30.255.112\n",
            "Connecting to github.com (github.com)|192.30.255.112|:443... connected.\n",
            "HTTP request sent, awaiting response... 302 Found\n",
            "Location: https://github.com/zalandoresearch/fashion-mnist/raw/master/data/fashion/train-images-idx3-ubyte.gz [following]\n",
            "--2019-06-08 02:12:29--  https://github.com/zalandoresearch/fashion-mnist/raw/master/data/fashion/train-images-idx3-ubyte.gz\n",
            "Reusing existing connection to github.com:443.\n",
            "HTTP request sent, awaiting response... 302 Found\n",
            "Location: https://raw.githubusercontent.com/zalandoresearch/fashion-mnist/master/data/fashion/train-images-idx3-ubyte.gz [following]\n",
            "--2019-06-08 02:12:29--  https://raw.githubusercontent.com/zalandoresearch/fashion-mnist/master/data/fashion/train-images-idx3-ubyte.gz\n",
            "Resolving raw.githubusercontent.com (raw.githubusercontent.com)... 151.101.0.133, 151.101.64.133, 151.101.128.133, ...\n",
            "Connecting to raw.githubusercontent.com (raw.githubusercontent.com)|151.101.0.133|:443... connected.\n",
            "HTTP request sent, awaiting response... 200 OK\n",
            "Length: 26421880 (25M) [application/octet-stream]\n",
            "Saving to: ‘train-images-idx3-ubyte.gz?raw=true’\n",
            "\n",
            "train-images-idx3-u 100%[===================>]  25.20M  --.-KB/s    in 0.1s    \n",
            "\n",
            "2019-06-08 02:12:30 (192 MB/s) - ‘train-images-idx3-ubyte.gz?raw=true’ saved [26421880/26421880]\n",
            "\n",
            "--2019-06-08 02:12:31--  https://github.com/zalandoresearch/fashion-mnist/blob/master/data/fashion/t10k-labels-idx1-ubyte.gz?raw=true\n",
            "Resolving github.com (github.com)... 192.30.255.112\n",
            "Connecting to github.com (github.com)|192.30.255.112|:443... connected.\n",
            "HTTP request sent, awaiting response... 302 Found\n",
            "Location: https://github.com/zalandoresearch/fashion-mnist/raw/master/data/fashion/t10k-labels-idx1-ubyte.gz [following]\n",
            "--2019-06-08 02:12:31--  https://github.com/zalandoresearch/fashion-mnist/raw/master/data/fashion/t10k-labels-idx1-ubyte.gz\n",
            "Reusing existing connection to github.com:443.\n",
            "HTTP request sent, awaiting response... 302 Found\n",
            "Location: https://raw.githubusercontent.com/zalandoresearch/fashion-mnist/master/data/fashion/t10k-labels-idx1-ubyte.gz [following]\n",
            "--2019-06-08 02:12:31--  https://raw.githubusercontent.com/zalandoresearch/fashion-mnist/master/data/fashion/t10k-labels-idx1-ubyte.gz\n",
            "Resolving raw.githubusercontent.com (raw.githubusercontent.com)... 151.101.0.133, 151.101.64.133, 151.101.128.133, ...\n",
            "Connecting to raw.githubusercontent.com (raw.githubusercontent.com)|151.101.0.133|:443... connected.\n",
            "HTTP request sent, awaiting response... 200 OK\n",
            "Length: 5148 (5.0K) [application/octet-stream]\n",
            "Saving to: ‘t10k-labels-idx1-ubyte.gz?raw=true’\n",
            "\n",
            "t10k-labels-idx1-ub 100%[===================>]   5.03K  --.-KB/s    in 0s      \n",
            "\n",
            "2019-06-08 02:12:32 (71.3 MB/s) - ‘t10k-labels-idx1-ubyte.gz?raw=true’ saved [5148/5148]\n",
            "\n",
            "--2019-06-08 02:12:33--  https://github.com/zalandoresearch/fashion-mnist/blob/master/data/fashion/t10k-images-idx3-ubyte.gz?raw=true\n",
            "Resolving github.com (github.com)... 192.30.255.112\n",
            "Connecting to github.com (github.com)|192.30.255.112|:443... connected.\n",
            "HTTP request sent, awaiting response... 302 Found\n",
            "Location: https://github.com/zalandoresearch/fashion-mnist/raw/master/data/fashion/t10k-images-idx3-ubyte.gz [following]\n",
            "--2019-06-08 02:12:33--  https://github.com/zalandoresearch/fashion-mnist/raw/master/data/fashion/t10k-images-idx3-ubyte.gz\n",
            "Reusing existing connection to github.com:443.\n",
            "HTTP request sent, awaiting response... 302 Found\n",
            "Location: https://raw.githubusercontent.com/zalandoresearch/fashion-mnist/master/data/fashion/t10k-images-idx3-ubyte.gz [following]\n",
            "--2019-06-08 02:12:34--  https://raw.githubusercontent.com/zalandoresearch/fashion-mnist/master/data/fashion/t10k-images-idx3-ubyte.gz\n",
            "Resolving raw.githubusercontent.com (raw.githubusercontent.com)... 151.101.0.133, 151.101.64.133, 151.101.128.133, ...\n",
            "Connecting to raw.githubusercontent.com (raw.githubusercontent.com)|151.101.0.133|:443... connected.\n",
            "HTTP request sent, awaiting response... 200 OK\n",
            "Length: 4422102 (4.2M) [application/octet-stream]\n",
            "Saving to: ‘t10k-images-idx3-ubyte.gz?raw=true’\n",
            "\n",
            "t10k-images-idx3-ub 100%[===================>]   4.22M  --.-KB/s    in 0.06s   \n",
            "\n",
            "2019-06-08 02:12:34 (67.2 MB/s) - ‘t10k-images-idx3-ubyte.gz?raw=true’ saved [4422102/4422102]\n",
            "\n"
          ],
          "name": "stdout"
        }
      ]
    },
    {
      "cell_type": "code",
      "metadata": {
        "id": "dakWOTSl3Kj7",
        "colab_type": "code",
        "colab": {
          "base_uri": "https://localhost:8080/",
          "height": 104
        },
        "outputId": "2eafb7e3-8ced-4f76-ebca-7968209dff4c"
      },
      "source": [
        "!ls -l"
      ],
      "execution_count": 32,
      "outputs": [
        {
          "output_type": "stream",
          "text": [
            "total 30164\n",
            "-rw-r--r-- 1 root root  4422102 Jun  8 02:12 't10k-images-idx3-ubyte.gz?raw=true'\n",
            "-rw-r--r-- 1 root root     5148 Jun  8 02:12 't10k-labels-idx1-ubyte.gz?raw=true'\n",
            "-rw-r--r-- 1 root root 26421880 Jun  8 02:12 'train-images-idx3-ubyte.gz?raw=true'\n",
            "-rw-r--r-- 1 root root    29515 Jun  8 02:12 'train-labels-idx1-ubyte.gz?raw=true'\n"
          ],
          "name": "stdout"
        }
      ]
    },
    {
      "cell_type": "code",
      "metadata": {
        "id": "rDOiAwq10sCP",
        "colab_type": "code",
        "colab": {}
      },
      "source": [
        "filePath_train_set = \"/content/fashion/train-images-idx3-ubyte.gz?raw=true\"\n",
        "filePath_train_label = \"/content/fashion/train-labels-idx1-ubyte.gz?raw=true\"\n",
        "\n",
        "filePath_test_set = \"/content/fashion/t10k-images-idx3-ubyte.gz?raw=true\"\n",
        "filePath_test_label = \"/content/fashion/t10k-labels-idx1-ubyte.gz?raw=true\"\n",
        "\n"
      ],
      "execution_count": 0,
      "outputs": []
    },
    {
      "cell_type": "code",
      "metadata": {
        "id": "dwu7R2rt09HH",
        "colab_type": "code",
        "colab": {
          "base_uri": "https://localhost:8080/",
          "height": 104
        },
        "outputId": "6b151af8-2948-4b3f-d664-23abe36f6466"
      },
      "source": [
        "with gzip.open(filePath_train_label, 'rb') as trainLbpath:\n",
        "     trainLabel = np.frombuffer(trainLbpath.read(), dtype=np.uint8,\n",
        "                               offset=8)\n",
        "with gzip.open(filePath_train_set, 'rb') as trainSetpath:\n",
        "     trainSet = np.frombuffer(trainSetpath.read(), dtype=np.uint8,\n",
        "                               offset=16).reshape(len(trainLabel), 784)\n",
        "\n",
        "with gzip.open(filePath_test_label, 'rb') as testLbpath:\n",
        "     testLabel = np.frombuffer(testLbpath.read(), dtype=np.uint8,\n",
        "                               offset=8)\n",
        "\n",
        "with gzip.open(filePath_test_set, 'rb') as testSetpath:\n",
        "     testSet = np.frombuffer(testSetpath.read(), dtype=np.uint8,\n",
        "                               offset=16).reshape(len(testLabel), 784)\n",
        "\n",
        "print(\"Type Label \", type(testLabel))\n",
        "\n",
        "print(\"Train Image Shape\", trainSet.shape)\n",
        "\n",
        "print(\"Train Label Shape\", trainLabel.shape)\n",
        "\n",
        "print(\"Test Image Shape\", testSet.shape)\n",
        "\n",
        "print(\"Test Label Shape\", testLabel.shape)\n"
      ],
      "execution_count": 34,
      "outputs": [
        {
          "output_type": "stream",
          "text": [
            "Type Label  <class 'numpy.ndarray'>\n",
            "Train Image Shape (60000, 784)\n",
            "Train Label Shape (60000,)\n",
            "Test Image Shape (10000, 784)\n",
            "Test Label Shape (10000,)\n"
          ],
          "name": "stdout"
        }
      ]
    },
    {
      "cell_type": "code",
      "metadata": {
        "id": "jZm-RwBI53q1",
        "colab_type": "code",
        "colab": {}
      },
      "source": [
        "X_train, X_test, y_train, y_test = trainSet, testSet, trainLabel, testLabel"
      ],
      "execution_count": 0,
      "outputs": []
    },
    {
      "cell_type": "code",
      "metadata": {
        "id": "1NwRA7BL6JKm",
        "colab_type": "code",
        "colab": {}
      },
      "source": [
        "pca = PCA(n_components=200, whiten=False).fit(X_train)\n"
      ],
      "execution_count": 0,
      "outputs": []
    },
    {
      "cell_type": "code",
      "metadata": {
        "id": "U8jB0BN56jlb",
        "colab_type": "code",
        "colab": {
          "base_uri": "https://localhost:8080/",
          "height": 35
        },
        "outputId": "6f9a22f2-0aa3-4468-bf40-f62adef3f8e3"
      },
      "source": [
        "pca.explained_variance_ratio_.sum()"
      ],
      "execution_count": 41,
      "outputs": [
        {
          "output_type": "execute_result",
          "data": {
            "text/plain": [
              "0.9531810389364863"
            ]
          },
          "metadata": {
            "tags": []
          },
          "execution_count": 41
        }
      ]
    },
    {
      "cell_type": "code",
      "metadata": {
        "id": "oRcDNxF07TjA",
        "colab_type": "code",
        "colab": {}
      },
      "source": [
        "X_train_pca = pca.transform(X_train)"
      ],
      "execution_count": 0,
      "outputs": []
    },
    {
      "cell_type": "code",
      "metadata": {
        "id": "3aztZ6Ig7iZb",
        "colab_type": "code",
        "colab": {}
      },
      "source": [
        "X_test = pca.transform(X_test)"
      ],
      "execution_count": 0,
      "outputs": []
    },
    {
      "cell_type": "code",
      "metadata": {
        "id": "kD-1ZKRB7mJL",
        "colab_type": "code",
        "colab": {
          "base_uri": "https://localhost:8080/",
          "height": 279
        },
        "outputId": "6dcc8a7e-76c9-4d85-bf7a-01ed5491781a"
      },
      "source": [
        "params = { 'bandwidth': np.logspace(-1, 1, 20)}\n",
        "\n",
        "grid = GridSearchCV(KernelDensity(), params, iid=False)\n",
        "grid.fit(X_train_pca)"
      ],
      "execution_count": 46,
      "outputs": [
        {
          "output_type": "stream",
          "text": [
            "/usr/local/lib/python3.6/dist-packages/sklearn/model_selection/_split.py:1978: FutureWarning: The default value of cv will change from 3 to 5 in version 0.22. Specify it explicitly to silence this warning.\n",
            "  warnings.warn(CV_WARNING, FutureWarning)\n"
          ],
          "name": "stderr"
        },
        {
          "output_type": "execute_result",
          "data": {
            "text/plain": [
              "GridSearchCV(cv='warn', error_score='raise-deprecating',\n",
              "             estimator=KernelDensity(algorithm='auto', atol=0, bandwidth=1.0,\n",
              "                                     breadth_first=True, kernel='gaussian',\n",
              "                                     leaf_size=40, metric='euclidean',\n",
              "                                     metric_params=None, rtol=0),\n",
              "             iid=False, n_jobs=None,\n",
              "             param_grid={'bandwidth': array([ 0.1       ,  0.1274275 ,  0.16237767,  0.20691381,  0.26366509,\n",
              "        0.33598183,  0.42813324,  0.54555948,  0.6951928 ,  0.88586679,\n",
              "        1.12883789,  1.43844989,  1.83298071,  2.33572147,  2.97635144,\n",
              "        3.79269019,  4.83293024,  6.15848211,  7.8475997 , 10.        ])},\n",
              "             pre_dispatch='2*n_jobs', refit=True, return_train_score=False,\n",
              "             scoring=None, verbose=0)"
            ]
          },
          "metadata": {
            "tags": []
          },
          "execution_count": 46
        }
      ]
    },
    {
      "cell_type": "code",
      "metadata": {
        "id": "hOo7jRyf8RSp",
        "colab_type": "code",
        "colab": {
          "base_uri": "https://localhost:8080/",
          "height": 35
        },
        "outputId": "84b396cd-af07-412d-f025-7ec53cff7834"
      },
      "source": [
        "print(\"best parameters {0}\".format(grid.best_estimator_.bandwidth))\n",
        "\n",
        "kde = grid.best_estimator_"
      ],
      "execution_count": 47,
      "outputs": [
        {
          "output_type": "stream",
          "text": [
            "best parameters 10.0\n"
          ],
          "name": "stdout"
        }
      ]
    },
    {
      "cell_type": "code",
      "metadata": {
        "id": "14Xhv91J8xvh",
        "colab_type": "code",
        "colab": {}
      },
      "source": [
        "new_fashion_mnist_images = kde.sample(44, random_state=42)\n",
        "\n",
        "new_fashion_mnist_images = pca.inverse_transform(new_fashion_mnist_images)"
      ],
      "execution_count": 0,
      "outputs": []
    },
    {
      "cell_type": "code",
      "metadata": {
        "id": "-TAgi6XG9RYL",
        "colab_type": "code",
        "colab": {}
      },
      "source": [
        "new_fashion_mnist_images = new_fashion_mnist_images.reshape((4, 11, -1))\n",
        "real_fashion_mnist_image = X_train[200:244].reshape((4, 11, -1))"
      ],
      "execution_count": 0,
      "outputs": []
    },
    {
      "cell_type": "code",
      "metadata": {
        "id": "FYFd-asE9_0K",
        "colab_type": "code",
        "colab": {
          "base_uri": "https://localhost:8080/",
          "height": 285
        },
        "outputId": "30883e88-915a-442d-fb3c-c024471f1622"
      },
      "source": [
        "fig, ax = plt.subplots(9 , 11, subplot_kw=dict(xticks=[], yticks=[]))\n",
        "\n",
        "for j in range(11):\n",
        "  ax[4, j].set_visible(False)\n",
        "  for i in range(4):\n",
        "    im = ax[i, j].imshow(real_fashion_mnist_image[i, j].reshape((28, 28)),\n",
        "                             cmap=plt.cm.binary, interpolation='nearest')\n",
        "    im.set_clim(0, 16)\n",
        "    im = ax[i + 5, j].imshow(new_fashion_mnist_images[i, j].reshape((28, 28)),\n",
        "                                 cmap=plt.cm.binary, interpolation='nearest')\n",
        "    im.set_clim(0, 16)\n",
        "    \n",
        "ax[0, 5].set_title(\"Selection From Real Fashion MNIST\")\n",
        "ax[5, 5].set_title(\"Drawn From KDE Distribution\")"
      ],
      "execution_count": 54,
      "outputs": [
        {
          "output_type": "execute_result",
          "data": {
            "text/plain": [
              "Text(0.5, 1.0, 'Drawn From KDE Distribution')"
            ]
          },
          "metadata": {
            "tags": []
          },
          "execution_count": 54
        },
        {
          "output_type": "display_data",
          "data": {
            "image/png": "[encoded data removed]",
            "text/plain": [
              "<Figure size 432x288 with 99 Axes>"
            ]
          },
          "metadata": {
            "tags": []
          }
        }
      ]
    }
  ]
}