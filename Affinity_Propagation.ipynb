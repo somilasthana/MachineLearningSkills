{
  "nbformat": 4,
  "nbformat_minor": 0,
  "metadata": {
    "colab": {
      "name": "Affinity-Propagation.ipynb",
      "version": "0.3.2",
      "provenance": [],
      "include_colab_link": true
    },
    "kernelspec": {
      "name": "python3",
      "display_name": "Python 3"
    },
    "accelerator": "GPU"
  },
  "cells": [
    {
      "cell_type": "markdown",
      "metadata": {
        "id": "view-in-github",
        "colab_type": "text"
      },
      "source": [
        "<a href=\"https://colab.research.google.com/github/somilasthana/MachineLearningSkills/blob/master/Affinity_Propagation.ipynb\" target=\"_parent\"><img src=\"https://colab.research.google.com/assets/colab-badge.svg\" alt=\"Open In Colab\"/></a>"
      ]
    },
    {
      "cell_type": "code",
      "metadata": {
        "id": "slE9cNiMub3l",
        "colab_type": "code",
        "colab": {}
      },
      "source": [
        "\"\"\"\n",
        "Affinity Propagation\n",
        "\n",
        "AffinityPropagation creates clusters by sending messages between pairs of \n",
        "samples until convergence. A dataset is then described using a small number of \n",
        "exemplars, which are identified as those most representative of other samples. \n",
        "The messages sent between pairs represent the suitability for one sample to be \n",
        "the exemplar of the other, which is updated in response to the values from other \n",
        "pairs.\n",
        "\n",
        "Two important parameters are the preference, which controls how many exemplars \n",
        "are used, and the damping factor which damps the responsibility and availability \n",
        "messages to avoid numerical oscillations\n",
        "\n",
        "\"\"\""
      ],
      "execution_count": 0,
      "outputs": []
    },
    {
      "cell_type": "code",
      "metadata": {
        "id": "G7vK8ozOugFv",
        "colab_type": "code",
        "colab": {}
      },
      "source": [
        "\"\"\"Stock Data Clustering\"\"\"\n",
        "\n",
        "import sys\n",
        "\n",
        "import numpy as np\n",
        "import matplotlib.pyplot as plt\n",
        "from matplotlib.collections import LineCollection\n",
        "\n",
        "import pandas as pd\n",
        "\n",
        "from sklearn import cluster, covariance"
      ],
      "execution_count": 0,
      "outputs": []
    },
    {
      "cell_type": "code",
      "metadata": {
        "id": "b5tazH6tug83",
        "colab_type": "code",
        "colab": {}
      },
      "source": [
        "symbol_dict = {\n",
        "    'TOT': 'Total',\n",
        "    'XOM': 'Exxon',\n",
        "    'CVX': 'Chevron',\n",
        "    'COP': 'ConocoPhillips',\n",
        "    'VLO': 'Valero Energy',\n",
        "    'MSFT': 'Microsoft',\n",
        "    'IBM': 'IBM',\n",
        "    'TWX': 'Time Warner',\n",
        "    'CMCSA': 'Comcast',\n",
        "    'CVC': 'Cablevision',\n",
        "    'YHOO': 'Yahoo',\n",
        "    'DELL': 'Dell',\n",
        "    'HPQ': 'HP',\n",
        "    'AMZN': 'Amazon',\n",
        "    'TM': 'Toyota',\n",
        "    'CAJ': 'Canon',\n",
        "    'SNE': 'Sony',\n",
        "    'F': 'Ford',\n",
        "    'HMC': 'Honda',\n",
        "    'NAV': 'Navistar',\n",
        "    'NOC': 'Northrop Grumman',\n",
        "    'BA': 'Boeing',\n",
        "    'KO': 'Coca Cola',\n",
        "    'MMM': '3M',\n",
        "    'MCD': 'McDonald\\'s',\n",
        "    'PEP': 'Pepsi',\n",
        "    'K': 'Kellogg',\n",
        "    'UN': 'Unilever',\n",
        "    'MAR': 'Marriott',\n",
        "    'PG': 'Procter Gamble',\n",
        "    'CL': 'Colgate-Palmolive',\n",
        "    'GE': 'General Electrics',\n",
        "    'WFC': 'Wells Fargo',\n",
        "    'JPM': 'JPMorgan Chase',\n",
        "    'AIG': 'AIG',\n",
        "    'AXP': 'American express',\n",
        "    'BAC': 'Bank of America',\n",
        "    'GS': 'Goldman Sachs',\n",
        "    'AAPL': 'Apple',\n",
        "    'SAP': 'SAP',\n",
        "    'CSCO': 'Cisco',\n",
        "    'TXN': 'Texas Instruments',\n",
        "    'XRX': 'Xerox',\n",
        "    'WMT': 'Wal-Mart',\n",
        "    'HD': 'Home Depot',\n",
        "    'GSK': 'GlaxoSmithKline',\n",
        "    'PFE': 'Pfizer',\n",
        "    'SNY': 'Sanofi-Aventis',\n",
        "    'NVS': 'Novartis',\n",
        "    'KMB': 'Kimberly-Clark',\n",
        "    'R': 'Ryder',\n",
        "    'GD': 'General Dynamics',\n",
        "    'RTN': 'Raytheon',\n",
        "    'CVS': 'CVS',\n",
        "    'CAT': 'Caterpillar',\n",
        "    'DD': 'DuPont de Nemours'}\n"
      ],
      "execution_count": 0,
      "outputs": []
    },
    {
      "cell_type": "code",
      "metadata": {
        "id": "h8mYPnDdurSR",
        "colab_type": "code",
        "colab": {}
      },
      "source": [
        "symbols, names = np.array(sorted(symbol_dict.items())).T"
      ],
      "execution_count": 0,
      "outputs": []
    },
    {
      "cell_type": "code",
      "metadata": {
        "id": "lRVm-e5mutn3",
        "colab_type": "code",
        "colab": {
          "base_uri": "https://localhost:8080/",
          "height": 985
        },
        "outputId": "98b6d45c-f50d-44eb-cddd-9ded262d3c8c"
      },
      "source": [
        "quotes=[]\n",
        "\n",
        "for symbol in symbols:\n",
        "  print('Fetching quote history for %r' % symbol, file=sys.stderr)\n",
        "  url = ('https://raw.githubusercontent.com/scikit-learn/examples-data/'\n",
        "           'master/financial-data/{}.csv')\n",
        "  quotes.append(pd.read_csv(url.format(symbol)))\n",
        "  \n",
        "close_prices = np.vstack( [q['close'] for q in quotes])\n",
        "open_prices  = np.vstack( [q['open'] for q in quotes])\n",
        "\n",
        "variation = close_prices - open_prices"
      ],
      "execution_count": 4,
      "outputs": [
        {
          "output_type": "stream",
          "text": [
            "Fetching quote history for 'AAPL'\n",
            "Fetching quote history for 'AIG'\n",
            "Fetching quote history for 'AMZN'\n",
            "Fetching quote history for 'AXP'\n",
            "Fetching quote history for 'BA'\n",
            "Fetching quote history for 'BAC'\n",
            "Fetching quote history for 'CAJ'\n",
            "Fetching quote history for 'CAT'\n",
            "Fetching quote history for 'CL'\n",
            "Fetching quote history for 'CMCSA'\n",
            "Fetching quote history for 'COP'\n",
            "Fetching quote history for 'CSCO'\n",
            "Fetching quote history for 'CVC'\n",
            "Fetching quote history for 'CVS'\n",
            "Fetching quote history for 'CVX'\n",
            "Fetching quote history for 'DD'\n",
            "Fetching quote history for 'DELL'\n",
            "Fetching quote history for 'F'\n",
            "Fetching quote history for 'GD'\n",
            "Fetching quote history for 'GE'\n",
            "Fetching quote history for 'GS'\n",
            "Fetching quote history for 'GSK'\n",
            "Fetching quote history for 'HD'\n",
            "Fetching quote history for 'HMC'\n",
            "Fetching quote history for 'HPQ'\n",
            "Fetching quote history for 'IBM'\n",
            "Fetching quote history for 'JPM'\n",
            "Fetching quote history for 'K'\n",
            "Fetching quote history for 'KMB'\n",
            "Fetching quote history for 'KO'\n",
            "Fetching quote history for 'MAR'\n",
            "Fetching quote history for 'MCD'\n",
            "Fetching quote history for 'MMM'\n",
            "Fetching quote history for 'MSFT'\n",
            "Fetching quote history for 'NAV'\n",
            "Fetching quote history for 'NOC'\n",
            "Fetching quote history for 'NVS'\n",
            "Fetching quote history for 'PEP'\n",
            "Fetching quote history for 'PFE'\n",
            "Fetching quote history for 'PG'\n",
            "Fetching quote history for 'R'\n",
            "Fetching quote history for 'RTN'\n",
            "Fetching quote history for 'SAP'\n",
            "Fetching quote history for 'SNE'\n",
            "Fetching quote history for 'SNY'\n",
            "Fetching quote history for 'TM'\n",
            "Fetching quote history for 'TOT'\n",
            "Fetching quote history for 'TWX'\n",
            "Fetching quote history for 'TXN'\n",
            "Fetching quote history for 'UN'\n",
            "Fetching quote history for 'VLO'\n",
            "Fetching quote history for 'WFC'\n",
            "Fetching quote history for 'WMT'\n",
            "Fetching quote history for 'XOM'\n",
            "Fetching quote history for 'XRX'\n",
            "Fetching quote history for 'YHOO'\n"
          ],
          "name": "stderr"
        }
      ]
    },
    {
      "cell_type": "code",
      "metadata": {
        "id": "p7jvqYjAuwgb",
        "colab_type": "code",
        "colab": {
          "base_uri": "https://localhost:8080/",
          "height": 69
        },
        "outputId": "3ba7ce03-5025-4937-e01a-2d75309e0ad5"
      },
      "source": [
        "edge_model = covariance.GraphicalLassoCV(cv=5)\n",
        "\n",
        "X = variation.copy().T\n",
        "X /=X.std(axis=0)\n",
        "edge_model.fit(X)"
      ],
      "execution_count": 5,
      "outputs": [
        {
          "output_type": "execute_result",
          "data": {
            "text/plain": [
              "GraphicalLassoCV(alphas=4, assume_centered=False, cv=5, enet_tol=0.0001,\n",
              "                 max_iter=100, mode='cd', n_jobs=None, n_refinements=4,\n",
              "                 tol=0.0001, verbose=False)"
            ]
          },
          "metadata": {
            "tags": []
          },
          "execution_count": 5
        }
      ]
    },
    {
      "cell_type": "code",
      "metadata": {
        "id": "LGhQMsxuu3RX",
        "colab_type": "code",
        "colab": {
          "base_uri": "https://localhost:8080/",
          "height": 227
        },
        "outputId": "78477385-3415-4061-ab00-d9a908bfa2f5"
      },
      "source": [
        "_, labels = cluster.affinity_propagation(edge_model.covariance_)\n",
        "n_labels = labels.max()\n",
        "\n",
        "for i in range(n_labels + 1):\n",
        "  print('Cluster %i: %s' % ((i + 1), ', '.join(names[labels == i])))"
      ],
      "execution_count": 6,
      "outputs": [
        {
          "output_type": "stream",
          "text": [
            "Cluster 1: Apple, Amazon, Yahoo\n",
            "Cluster 2: Comcast, Cablevision, Time Warner\n",
            "Cluster 3: ConocoPhillips, Chevron, Total, Valero Energy, Exxon\n",
            "Cluster 4: Cisco, Dell, HP, IBM, Microsoft, SAP, Texas Instruments\n",
            "Cluster 5: Boeing, General Dynamics, Northrop Grumman, Raytheon\n",
            "Cluster 6: AIG, American express, Bank of America, Caterpillar, CVS, DuPont de Nemours, Ford, General Electrics, Goldman Sachs, Home Depot, JPMorgan Chase, Marriott, 3M, Ryder, Wells Fargo, Wal-Mart\n",
            "Cluster 7: McDonald's\n",
            "Cluster 8: GlaxoSmithKline, Novartis, Pfizer, Sanofi-Aventis, Unilever\n",
            "Cluster 9: Kellogg, Coca Cola, Pepsi\n",
            "Cluster 10: Colgate-Palmolive, Kimberly-Clark, Procter Gamble\n",
            "Cluster 11: Canon, Honda, Navistar, Sony, Toyota, Xerox\n"
          ],
          "name": "stdout"
        }
      ]
    }
  ]
}