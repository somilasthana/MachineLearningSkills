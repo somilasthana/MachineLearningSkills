{
  "nbformat": 4,
  "nbformat_minor": 0,
  "metadata": {
    "colab": {
      "name": "SGD.ipynb",
      "version": "0.3.2",
      "provenance": [],
      "include_colab_link": true
    },
    "kernelspec": {
      "name": "python3",
      "display_name": "Python 3"
    },
    "accelerator": "GPU"
  },
  "cells": [
    {
      "cell_type": "markdown",
      "metadata": {
        "id": "view-in-github",
        "colab_type": "text"
      },
      "source": [
        "<a href=\"https://colab.research.google.com/github/somilasthana/MachineLearningSkills/blob/master/SGD.ipynb\" target=\"_parent\"><img src=\"https://colab.research.google.com/assets/colab-badge.svg\" alt=\"Open In Colab\"/></a>"
      ]
    },
    {
      "cell_type": "markdown",
      "metadata": {
        "id": "7dCc8u5-Tmwr",
        "colab_type": "text"
      },
      "source": [
        "Details"
      ]
    },
    {
      "cell_type": "code",
      "metadata": {
        "id": "wV0i7C3dIx3j",
        "colab_type": "code",
        "colab": {}
      },
      "source": [
        "\"\"\"\n",
        "Stochastic Gradient Descent\n",
        "\n",
        "An efficient approach for discriminative learning of linear classifier under\n",
        "convex loss function SVM and Logistic Regression\n",
        "\n",
        "+ve :\n",
        "- Efficiency \n",
        "- Ease of Implementation\n",
        "\n",
        "-ve :\n",
        "- Number of hyperparameters required\n",
        "- sensitive to scaling\n",
        "\n",
        "\"\"\""
      ],
      "execution_count": 0,
      "outputs": []
    },
    {
      "cell_type": "code",
      "metadata": {
        "id": "bkpn59DdJrig",
        "colab_type": "code",
        "colab": {}
      },
      "source": [
        "\"\"\"\n",
        "class SGDClassifer implements plain stochastic gradient descent with different \n",
        "loss and penalities\n",
        "\n",
        "SGDClassifier supports multi-class classification by combining multiple binary \n",
        "classifiers in a “one versus all” (OVA) scheme. For each of the K class\n",
        "a binary classifier is learnt which discriminates itself with K-1 classes.\n",
        "At the time of testing, we compute the confidence score ie signed distances from \n",
        "hyperplane for each classifier and choose the class with higher confidence\n",
        "\"\"\""
      ],
      "execution_count": 0,
      "outputs": []
    },
    {
      "cell_type": "code",
      "metadata": {
        "id": "8Of0eKEILtrX",
        "colab_type": "code",
        "colab": {}
      },
      "source": [
        "import numpy as np\n",
        "import matplotlib.pyplot as plt\n",
        "\n",
        "from sklearn import datasets\n",
        "from sklearn.linear_model import SGDClassifier"
      ],
      "execution_count": 0,
      "outputs": []
    },
    {
      "cell_type": "code",
      "metadata": {
        "id": "a1iK6Dh4MCHv",
        "colab_type": "code",
        "colab": {}
      },
      "source": [
        "iris = datasets.load_iris()\n",
        "\n",
        "X = iris.data\n",
        "y = iris.target"
      ],
      "execution_count": 0,
      "outputs": []
    },
    {
      "cell_type": "code",
      "metadata": {
        "id": "A1W5yWZ3MMMI",
        "colab_type": "code",
        "colab": {}
      },
      "source": [
        "X = X[:, :2]"
      ],
      "execution_count": 0,
      "outputs": []
    },
    {
      "cell_type": "code",
      "metadata": {
        "id": "5otFkh2hMQ-g",
        "colab_type": "code",
        "colab": {}
      },
      "source": [
        "mean = X.mean(axis=0)\n",
        "std = X.std(axis=0)\n",
        "X = (X-mean)/std"
      ],
      "execution_count": 0,
      "outputs": []
    },
    {
      "cell_type": "code",
      "metadata": {
        "id": "3HVbxLFFMk9a",
        "colab_type": "code",
        "colab": {}
      },
      "source": [
        "clf = SGDClassifier(alpha=0.001, max_iter=100, tol=1e-3, shuffle=True).fit(X, y)"
      ],
      "execution_count": 0,
      "outputs": []
    },
    {
      "cell_type": "code",
      "metadata": {
        "id": "5TznVlxrM3_u",
        "colab_type": "code",
        "colab": {}
      },
      "source": [
        "x0_min, x0_max = X[:, 0].min() -1, X[:, 0].max() + 1\n",
        "x1_min, x1_max = X[:, 1].min() -1, X[:, 1].max() + 1"
      ],
      "execution_count": 0,
      "outputs": []
    },
    {
      "cell_type": "code",
      "metadata": {
        "id": "Dav2gEQLNUu1",
        "colab_type": "code",
        "colab": {}
      },
      "source": [
        "xx0, xx1 = np.meshgrid(np.arange(x0_min, x0_max, 0.02), np.arange(x1_min, x1_max, 0.02))"
      ],
      "execution_count": 0,
      "outputs": []
    },
    {
      "cell_type": "code",
      "metadata": {
        "id": "ASleo9D-NvoS",
        "colab_type": "code",
        "colab": {}
      },
      "source": [
        "Z = clf.predict(np.c_[xx0.ravel(), xx1.ravel()])\n",
        "Z = Z.reshape(xx0.shape)"
      ],
      "execution_count": 0,
      "outputs": []
    },
    {
      "cell_type": "code",
      "metadata": {
        "id": "nSOANiyqOFMg",
        "colab_type": "code",
        "colab": {
          "base_uri": "https://localhost:8080/",
          "height": 281
        },
        "outputId": "04b0f2f5-0df2-4600-ac41-8806459e7288"
      },
      "source": [
        "cs = plt.contourf(xx0, xx1, Z, cmap=plt.cm.Paired)\n",
        "\n",
        "for i, color in zip(clf.classes_, \"bry\"):\n",
        "  idx = (y == i)\n",
        "  plt.scatter(X[idx, 0], X[idx, 1], c=color, label=iris.target_names[i], cmap=plt.cm.Paired, edgecolor='black', s=40)\n",
        "plt.title(\"Decision surface of multi-class SGD\")\n",
        "plt.axis('tight')\n",
        "\n",
        "xmin, xmax = plt.xlim()\n",
        "ymin, ymax = plt.ylim()\n",
        "\n",
        "coef = clf.coef_\n",
        "intercept = clf.intercept_\n",
        "\n",
        "def plot_hyperplane(c, color):\n",
        "    def line(x0):\n",
        "        return (-(x0 * coef[c, 0]) - intercept[c]) / coef[c, 1]\n",
        "\n",
        "    plt.plot([xmin, xmax], [line(xmin), line(xmax)],\n",
        "             ls=\"--\", color=color)\n",
        "\n",
        "  \n",
        "for i, color in zip(clf.classes_, \"bry\"):\n",
        "  plot_hyperplane(i, color)\n",
        "  \n",
        "plt.legend()\n",
        "plt.show()"
      ],
      "execution_count": 18,
      "outputs": [
        {
          "output_type": "display_data",
          "data": {
            "image/png": "[encoded data removed]",
            "text/plain": [
              "<Figure size 432x288 with 1 Axes>"
            ]
          },
          "metadata": {
            "tags": []
          }
        }
      ]
    },
    {
      "cell_type": "code",
      "metadata": {
        "id": "vpZ44t1jQlGs",
        "colab_type": "code",
        "colab": {}
      },
      "source": [
        "\"\"\"\n",
        "Note for multiclass: \n",
        "\"coef_\" is a 2-dimensional array of [n_classes, n_features]\n",
        "\"intercept\" is a 1-dimensional of [n_classes]\n",
        "\"\"\""
      ],
      "execution_count": 0,
      "outputs": []
    },
    {
      "cell_type": "code",
      "metadata": {
        "id": "ngw9YbHNS19s",
        "colab_type": "code",
        "colab": {}
      },
      "source": [
        "\"\"\"SGD Variant \n",
        "   Averaged SGD averaging coef of plain SGD over the iterations of sample\n",
        "\n",
        "\"\"\""
      ],
      "execution_count": 0,
      "outputs": []
    },
    {
      "cell_type": "code",
      "metadata": {
        "id": "w0eREes1TDq7",
        "colab_type": "code",
        "colab": {}
      },
      "source": [
        "clf = SGDClassifier(alpha=0.001, max_iter=100, tol=1e-3, shuffle=True, average=True).fit(X, y)\n",
        "Z = clf.predict(np.c_[xx0.ravel(), xx1.ravel()])\n",
        "Z = Z.reshape(xx0.shape)"
      ],
      "execution_count": 0,
      "outputs": []
    },
    {
      "cell_type": "code",
      "metadata": {
        "id": "wWCj9-KETHMW",
        "colab_type": "code",
        "colab": {
          "base_uri": "https://localhost:8080/",
          "height": 281
        },
        "outputId": "8453c803-a2be-4dd2-aa0f-efc3f3cf8768"
      },
      "source": [
        "cs = plt.contourf(xx0, xx1, Z, cmap=plt.cm.Paired)\n",
        "\n",
        "for i, color in zip(clf.classes_, \"bry\"):\n",
        "  idx = (y == i)\n",
        "  plt.scatter(X[idx, 0], X[idx, 1], c=color, label=iris.target_names[i], cmap=plt.cm.Paired, edgecolor='black', s=40)\n",
        "plt.title(\"Decision surface of multi-class SGD\")\n",
        "plt.axis('tight')\n",
        "\n",
        "xmin, xmax = plt.xlim()\n",
        "ymin, ymax = plt.ylim()\n",
        "\n",
        "coef = clf.coef_\n",
        "intercept = clf.intercept_\n",
        "\n",
        "def plot_hyperplane(c, color):\n",
        "    def line(x0):\n",
        "        return (-(x0 * coef[c, 0]) - intercept[c]) / coef[c, 1]\n",
        "\n",
        "    plt.plot([xmin, xmax], [line(xmin), line(xmax)],\n",
        "             ls=\"--\", color=color)\n",
        "\n",
        "  \n",
        "for i, color in zip(clf.classes_, \"bry\"):\n",
        "  plot_hyperplane(i, color)\n",
        "  \n",
        "plt.legend()\n",
        "plt.show()"
      ],
      "execution_count": 21,
      "outputs": [
        {
          "output_type": "display_data",
          "data": {
            "image/png": "[encoded data removed]",
            "text/plain": [
              "<Figure size 432x288 with 1 Axes>"
            ]
          },
          "metadata": {
            "tags": []
          }
        }
      ]
    },
    {
      "cell_type": "code",
      "metadata": {
        "id": "lsr1f72JTZ5A",
        "colab_type": "code",
        "colab": {}
      },
      "source": [
        "\"\"\"Conclusion: It gives better resuts atleast for this case\"\"\""
      ],
      "execution_count": 0,
      "outputs": []
    },
    {
      "cell_type": "code",
      "metadata": {
        "id": "UrPYaKCLTsMU",
        "colab_type": "code",
        "colab": {}
      },
      "source": [
        "\"\"\"Similar to SDG Classfier supports loss function squared_loss, huber(robust regression) , epsilon_insensitive(linear SVM)\n",
        "\n",
        "It supports Ridge, Lasso and ElasticNet regularization (1 - l1_ratio) * L2 + l1_ratio * L1\n",
        "\n",
        "Complexity for X = (n,p) matrix with k is number of iterations is O(knp_bar) where p_bar is avg number of non zero \n",
        "attributes \n",
        "\"\"\""
      ],
      "execution_count": 0,
      "outputs": []
    },
    {
      "cell_type": "code",
      "metadata": {
        "id": "3tFJ1U8caflA",
        "colab_type": "code",
        "colab": {
          "base_uri": "https://localhost:8080/",
          "height": 121
        },
        "outputId": "97e1b433-9ce1-46d1-99d4-4af5477c57a3"
      },
      "source": [
        "import numpy as np\n",
        "from sklearn import linear_model\n",
        "n_samples, n_features = 10, 5\n",
        "rng = np.random.RandomState(0)\n",
        "y = rng.randn(n_samples)\n",
        "X = rng.randn(n_samples, n_features)\n",
        "clf = linear_model.SGDRegressor(max_iter=1000, tol=1e-3)\n",
        "clf.fit(X, y)"
      ],
      "execution_count": 22,
      "outputs": [
        {
          "output_type": "execute_result",
          "data": {
            "text/plain": [
              "SGDRegressor(alpha=0.0001, average=False, early_stopping=False, epsilon=0.1,\n",
              "             eta0=0.01, fit_intercept=True, l1_ratio=0.15,\n",
              "             learning_rate='invscaling', loss='squared_loss', max_iter=1000,\n",
              "             n_iter_no_change=5, penalty='l2', power_t=0.25, random_state=None,\n",
              "             shuffle=True, tol=0.001, validation_fraction=0.1, verbose=0,\n",
              "             warm_start=False)"
            ]
          },
          "metadata": {
            "tags": []
          },
          "execution_count": 22
        }
      ]
    },
    {
      "cell_type": "markdown",
      "metadata": {
        "id": "EJQGOYPrXDpD",
        "colab_type": "text"
      },
      "source": [
        "Stopping Condition"
      ]
    },
    {
      "cell_type": "code",
      "metadata": {
        "id": "MSdvgs5pUGD9",
        "colab_type": "code",
        "colab": {}
      },
      "source": [
        "\"\"\"\n",
        "The classes SGDClassifier and SGDRegressor provide two criteria to stop the algorithm\n",
        "\n",
        "1. early_stopping = True\n",
        "   Input data is splitted in training and validation set. The model fits using \n",
        "   training set but the stopping criterion is based on predicted score computed \n",
        "   on validation set.\n",
        "   \n",
        "2. early_stopping = False\n",
        "   All data is used for training, the stopping condition is based on objective function\n",
        "   computed using input data.\n",
        "   \n",
        "\"n_iter_no_change\" and \"max_iter\" are used for stopping in case if no improvement for\n",
        "n number of iterations or max iterations happened.\n",
        "\n",
        "\"\"\""
      ],
      "execution_count": 0,
      "outputs": []
    },
    {
      "cell_type": "code",
      "metadata": {
        "id": "a7CR3N3JYLf4",
        "colab_type": "code",
        "colab": {}
      },
      "source": [
        "\"\"\"\n",
        "Tips\n",
        "Scale the Data before using \n",
        "\n",
        "use GridSearchCV to find alpha parameter ( regularization term ) range 10.0**-np.arange(1,7)\n",
        "\n",
        "set max_iter = np.ceil(10**6 / n)\n",
        "\n",
        "if PCA is used it is beter to scale by some constant c\n",
        "\n",
        "Averaged SGD works better\n",
        "\n",
        "\"\"\""
      ],
      "execution_count": 0,
      "outputs": []
    }
  ]
}