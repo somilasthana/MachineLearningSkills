{
  "nbformat": 4,
  "nbformat_minor": 0,
  "metadata": {
    "colab": {
      "name": "Scratch-LogisticRegression-Using-Newton_Method.ipynb",
      "version": "0.3.2",
      "provenance": [],
      "include_colab_link": true
    },
    "kernelspec": {
      "name": "python3",
      "display_name": "Python 3"
    }
  },
  "cells": [
    {
      "cell_type": "markdown",
      "metadata": {
        "id": "view-in-github",
        "colab_type": "text"
      },
      "source": [
        "<a href=\"https://colab.research.google.com/github/somilasthana/MachineLearningSkills/blob/master/Scratch_LogisticRegression_Using_Newton_Method.ipynb\" target=\"_parent\"><img src=\"https://colab.research.google.com/assets/colab-badge.svg\" alt=\"Open In Colab\"/></a>"
      ]
    },
    {
      "cell_type": "code",
      "metadata": {
        "id": "X-cM1JWe88vr",
        "colab_type": "code",
        "colab": {}
      },
      "source": [
        "%matplotlib inline\n",
        "\n",
        "#matrix math\n",
        "import numpy as np\n",
        "#data manipulation\n",
        "import pandas as pd\n",
        "#matrix data structure\n",
        "from patsy import dmatrices\n",
        "#for error logging\n",
        "import warnings"
      ],
      "execution_count": 0,
      "outputs": []
    },
    {
      "cell_type": "code",
      "metadata": {
        "id": "NRmX33ijMTxt",
        "colab_type": "code",
        "colab": {}
      },
      "source": [
        "def sigmoid(x):\n",
        "  return 1.0 / (1.0 + np.exp(-x))"
      ],
      "execution_count": 0,
      "outputs": []
    },
    {
      "cell_type": "code",
      "metadata": {
        "id": "40O1XFqcMiLo",
        "colab_type": "code",
        "colab": {}
      },
      "source": [
        "np.random.seed(42)\n",
        "\n",
        "#the minimum threshold for the difference between the predicted output and the actual output\n",
        "#this tells our model when to stop learning, when our prediction capability is good enough\n",
        "tol=1e-8 # convergence tolerance\n",
        "\n",
        "lam = None\n",
        "\n",
        "\n",
        "max_iter = 20 # maximum allowed iterations\n",
        "\n",
        "\n",
        "r = 0.95 # covariance between x and z\n",
        "n = 1000 # number of observations (size of dataset to generate) \n",
        "sigma = 1 # variance of noise - how spread out is the data?\n"
      ],
      "execution_count": 0,
      "outputs": []
    },
    {
      "cell_type": "code",
      "metadata": {
        "id": "y-6hI2DpNiXZ",
        "colab_type": "code",
        "colab": {}
      },
      "source": [
        "## model settings\n",
        "beta_x, beta_z, beta_v = -4, .9, 1 # true beta coefficients\n",
        "var_x, var_z, var_v = 1, 1, 4 # variances of inputs\n",
        "\n",
        "## the model specification you want to fit\n",
        "formula = 'y ~ x + z + v + np.exp(x) + I(v**2 + z)'"
      ],
      "execution_count": 0,
      "outputs": []
    },
    {
      "cell_type": "code",
      "metadata": {
        "id": "_g9NdZsTNkAU",
        "colab_type": "code",
        "colab": {}
      },
      "source": [
        "#The multivariate normal, multinormal or Gaussian distribution is a generalization of the one-dimensional normal \n",
        "\n",
        "#lets keep x and z closely related (height and weight)\n",
        "x, z = np.random.multivariate_normal([0,0], [[var_x,r],[r,var_z]], n).T\n"
      ],
      "execution_count": 0,
      "outputs": []
    },
    {
      "cell_type": "code",
      "metadata": {
        "id": "O8Hv4TfBRCAf",
        "colab_type": "code",
        "colab": {}
      },
      "source": [
        "#blood presure\n",
        "v = np.random.normal(0,var_v,n)**3"
      ],
      "execution_count": 0,
      "outputs": []
    },
    {
      "cell_type": "code",
      "metadata": {
        "id": "gk9-cUcsREzG",
        "colab_type": "code",
        "colab": {
          "base_uri": "https://localhost:8080/",
          "height": 198
        },
        "outputId": "96135139-fc0e-444b-a1d1-db923f8f8561"
      },
      "source": [
        "#create a pandas dataframe (easily parseable object for manipulation)\n",
        "A = pd.DataFrame({'x' : x, 'z' : z, 'v' : v})\n",
        "A.head()"
      ],
      "execution_count": 7,
      "outputs": [
        {
          "output_type": "execute_result",
          "data": {
            "text/html": [
              "<div>\n",
              "<style scoped>\n",
              "    .dataframe tbody tr th:only-of-type {\n",
              "        vertical-align: middle;\n",
              "    }\n",
              "\n",
              "    .dataframe tbody tr th {\n",
              "        vertical-align: top;\n",
              "    }\n",
              "\n",
              "    .dataframe thead th {\n",
              "        text-align: right;\n",
              "    }\n",
              "</style>\n",
              "<table border=\"1\" class=\"dataframe\">\n",
              "  <thead>\n",
              "    <tr style=\"text-align: right;\">\n",
              "      <th></th>\n",
              "      <th>x</th>\n",
              "      <th>z</th>\n",
              "      <th>v</th>\n",
              "    </tr>\n",
              "  </thead>\n",
              "  <tbody>\n",
              "    <tr>\n",
              "      <th>0</th>\n",
              "      <td>-0.468604</td>\n",
              "      <td>-0.512327</td>\n",
              "      <td>-19.698600</td>\n",
              "    </tr>\n",
              "    <tr>\n",
              "      <th>1</th>\n",
              "      <td>-0.880353</td>\n",
              "      <td>-0.398729</td>\n",
              "      <td>-0.193175</td>\n",
              "    </tr>\n",
              "    <tr>\n",
              "      <th>2</th>\n",
              "      <td>0.268228</td>\n",
              "      <td>0.194188</td>\n",
              "      <td>-31.845358</td>\n",
              "    </tr>\n",
              "    <tr>\n",
              "      <th>3</th>\n",
              "      <td>-1.680690</td>\n",
              "      <td>-1.438006</td>\n",
              "      <td>-1.869259</td>\n",
              "    </tr>\n",
              "    <tr>\n",
              "      <th>4</th>\n",
              "      <td>0.377783</td>\n",
              "      <td>0.549355</td>\n",
              "      <td>-434.565055</td>\n",
              "    </tr>\n",
              "  </tbody>\n",
              "</table>\n",
              "</div>"
            ],
            "text/plain": [
              "          x         z           v\n",
              "0 -0.468604 -0.512327  -19.698600\n",
              "1 -0.880353 -0.398729   -0.193175\n",
              "2  0.268228  0.194188  -31.845358\n",
              "3 -1.680690 -1.438006   -1.869259\n",
              "4  0.377783  0.549355 -434.565055"
            ]
          },
          "metadata": {
            "tags": []
          },
          "execution_count": 7
        }
      ]
    },
    {
      "cell_type": "code",
      "metadata": {
        "id": "yTMYI8ZvRJzH",
        "colab_type": "code",
        "colab": {
          "base_uri": "https://localhost:8080/",
          "height": 52
        },
        "outputId": "672764dc-75cc-41c2-9e64-27c9386b0fc7"
      },
      "source": [
        "#compute the log odds for our 3 independent variables\n",
        "#using the sigmoid function \n",
        "A['log_odds'] = sigmoid(A[['x','z','v']].dot([beta_x,beta_z,beta_v]) + sigma*np.random.normal(0,1,n))"
      ],
      "execution_count": 8,
      "outputs": [
        {
          "output_type": "stream",
          "text": [
            "/usr/local/lib/python3.6/dist-packages/ipykernel_launcher.py:2: RuntimeWarning: overflow encountered in exp\n",
            "  \n"
          ],
          "name": "stderr"
        }
      ]
    },
    {
      "cell_type": "code",
      "metadata": {
        "id": "i20Y5_B_RSW3",
        "colab_type": "code",
        "colab": {
          "base_uri": "https://localhost:8080/",
          "height": 198
        },
        "outputId": "b9a7412d-67b6-4398-b106-279a34a3e157"
      },
      "source": [
        "A.head()"
      ],
      "execution_count": 9,
      "outputs": [
        {
          "output_type": "execute_result",
          "data": {
            "text/html": [
              "<div>\n",
              "<style scoped>\n",
              "    .dataframe tbody tr th:only-of-type {\n",
              "        vertical-align: middle;\n",
              "    }\n",
              "\n",
              "    .dataframe tbody tr th {\n",
              "        vertical-align: top;\n",
              "    }\n",
              "\n",
              "    .dataframe thead th {\n",
              "        text-align: right;\n",
              "    }\n",
              "</style>\n",
              "<table border=\"1\" class=\"dataframe\">\n",
              "  <thead>\n",
              "    <tr style=\"text-align: right;\">\n",
              "      <th></th>\n",
              "      <th>x</th>\n",
              "      <th>z</th>\n",
              "      <th>v</th>\n",
              "      <th>log_odds</th>\n",
              "    </tr>\n",
              "  </thead>\n",
              "  <tbody>\n",
              "    <tr>\n",
              "      <th>0</th>\n",
              "      <td>-0.468604</td>\n",
              "      <td>-0.512327</td>\n",
              "      <td>-19.698600</td>\n",
              "      <td>1.699241e-09</td>\n",
              "    </tr>\n",
              "    <tr>\n",
              "      <th>1</th>\n",
              "      <td>-0.880353</td>\n",
              "      <td>-0.398729</td>\n",
              "      <td>-0.193175</td>\n",
              "      <td>8.917746e-01</td>\n",
              "    </tr>\n",
              "    <tr>\n",
              "      <th>2</th>\n",
              "      <td>0.268228</td>\n",
              "      <td>0.194188</td>\n",
              "      <td>-31.845358</td>\n",
              "      <td>3.981542e-15</td>\n",
              "    </tr>\n",
              "    <tr>\n",
              "      <th>3</th>\n",
              "      <td>-1.680690</td>\n",
              "      <td>-1.438006</td>\n",
              "      <td>-1.869259</td>\n",
              "      <td>9.957092e-01</td>\n",
              "    </tr>\n",
              "    <tr>\n",
              "      <th>4</th>\n",
              "      <td>0.377783</td>\n",
              "      <td>0.549355</td>\n",
              "      <td>-434.565055</td>\n",
              "      <td>1.177472e-189</td>\n",
              "    </tr>\n",
              "  </tbody>\n",
              "</table>\n",
              "</div>"
            ],
            "text/plain": [
              "          x         z           v       log_odds\n",
              "0 -0.468604 -0.512327  -19.698600   1.699241e-09\n",
              "1 -0.880353 -0.398729   -0.193175   8.917746e-01\n",
              "2  0.268228  0.194188  -31.845358   3.981542e-15\n",
              "3 -1.680690 -1.438006   -1.869259   9.957092e-01\n",
              "4  0.377783  0.549355 -434.565055  1.177472e-189"
            ]
          },
          "metadata": {
            "tags": []
          },
          "execution_count": 9
        }
      ]
    },
    {
      "cell_type": "code",
      "metadata": {
        "id": "lhjlASAPRWY-",
        "colab_type": "code",
        "colab": {}
      },
      "source": [
        "A['y'] = [np.random.binomial(1,p) for p in A.log_odds]"
      ],
      "execution_count": 0,
      "outputs": []
    },
    {
      "cell_type": "code",
      "metadata": {
        "id": "PTkgXogXeMjF",
        "colab_type": "code",
        "colab": {
          "base_uri": "https://localhost:8080/",
          "height": 198
        },
        "outputId": "9a092143-f737-4544-b9de-197645fbb1a3"
      },
      "source": [
        "A.head()"
      ],
      "execution_count": 11,
      "outputs": [
        {
          "output_type": "execute_result",
          "data": {
            "text/html": [
              "<div>\n",
              "<style scoped>\n",
              "    .dataframe tbody tr th:only-of-type {\n",
              "        vertical-align: middle;\n",
              "    }\n",
              "\n",
              "    .dataframe tbody tr th {\n",
              "        vertical-align: top;\n",
              "    }\n",
              "\n",
              "    .dataframe thead th {\n",
              "        text-align: right;\n",
              "    }\n",
              "</style>\n",
              "<table border=\"1\" class=\"dataframe\">\n",
              "  <thead>\n",
              "    <tr style=\"text-align: right;\">\n",
              "      <th></th>\n",
              "      <th>x</th>\n",
              "      <th>z</th>\n",
              "      <th>v</th>\n",
              "      <th>log_odds</th>\n",
              "      <th>y</th>\n",
              "    </tr>\n",
              "  </thead>\n",
              "  <tbody>\n",
              "    <tr>\n",
              "      <th>0</th>\n",
              "      <td>-0.468604</td>\n",
              "      <td>-0.512327</td>\n",
              "      <td>-19.698600</td>\n",
              "      <td>1.699241e-09</td>\n",
              "      <td>0</td>\n",
              "    </tr>\n",
              "    <tr>\n",
              "      <th>1</th>\n",
              "      <td>-0.880353</td>\n",
              "      <td>-0.398729</td>\n",
              "      <td>-0.193175</td>\n",
              "      <td>8.917746e-01</td>\n",
              "      <td>1</td>\n",
              "    </tr>\n",
              "    <tr>\n",
              "      <th>2</th>\n",
              "      <td>0.268228</td>\n",
              "      <td>0.194188</td>\n",
              "      <td>-31.845358</td>\n",
              "      <td>3.981542e-15</td>\n",
              "      <td>0</td>\n",
              "    </tr>\n",
              "    <tr>\n",
              "      <th>3</th>\n",
              "      <td>-1.680690</td>\n",
              "      <td>-1.438006</td>\n",
              "      <td>-1.869259</td>\n",
              "      <td>9.957092e-01</td>\n",
              "      <td>1</td>\n",
              "    </tr>\n",
              "    <tr>\n",
              "      <th>4</th>\n",
              "      <td>0.377783</td>\n",
              "      <td>0.549355</td>\n",
              "      <td>-434.565055</td>\n",
              "      <td>1.177472e-189</td>\n",
              "      <td>0</td>\n",
              "    </tr>\n",
              "  </tbody>\n",
              "</table>\n",
              "</div>"
            ],
            "text/plain": [
              "          x         z           v       log_odds  y\n",
              "0 -0.468604 -0.512327  -19.698600   1.699241e-09  0\n",
              "1 -0.880353 -0.398729   -0.193175   8.917746e-01  1\n",
              "2  0.268228  0.194188  -31.845358   3.981542e-15  0\n",
              "3 -1.680690 -1.438006   -1.869259   9.957092e-01  1\n",
              "4  0.377783  0.549355 -434.565055  1.177472e-189  0"
            ]
          },
          "metadata": {
            "tags": []
          },
          "execution_count": 11
        }
      ]
    },
    {
      "cell_type": "code",
      "metadata": {
        "id": "XDhyCgoPeOk6",
        "colab_type": "code",
        "colab": {}
      },
      "source": [
        "y, X = dmatrices(formula, A, return_type='dataframe')"
      ],
      "execution_count": 0,
      "outputs": []
    },
    {
      "cell_type": "code",
      "metadata": {
        "id": "4RaVmJt7eWap",
        "colab_type": "code",
        "colab": {
          "base_uri": "https://localhost:8080/",
          "height": 198
        },
        "outputId": "69b26b9a-10a2-4888-ff60-83088d29e9a8"
      },
      "source": [
        "X.head()"
      ],
      "execution_count": 13,
      "outputs": [
        {
          "output_type": "execute_result",
          "data": {
            "text/html": [
              "<div>\n",
              "<style scoped>\n",
              "    .dataframe tbody tr th:only-of-type {\n",
              "        vertical-align: middle;\n",
              "    }\n",
              "\n",
              "    .dataframe tbody tr th {\n",
              "        vertical-align: top;\n",
              "    }\n",
              "\n",
              "    .dataframe thead th {\n",
              "        text-align: right;\n",
              "    }\n",
              "</style>\n",
              "<table border=\"1\" class=\"dataframe\">\n",
              "  <thead>\n",
              "    <tr style=\"text-align: right;\">\n",
              "      <th></th>\n",
              "      <th>Intercept</th>\n",
              "      <th>x</th>\n",
              "      <th>z</th>\n",
              "      <th>v</th>\n",
              "      <th>np.exp(x)</th>\n",
              "      <th>I(v ** 2 + z)</th>\n",
              "    </tr>\n",
              "  </thead>\n",
              "  <tbody>\n",
              "    <tr>\n",
              "      <th>0</th>\n",
              "      <td>1.0</td>\n",
              "      <td>-0.468604</td>\n",
              "      <td>-0.512327</td>\n",
              "      <td>-19.698600</td>\n",
              "      <td>0.625875</td>\n",
              "      <td>387.522499</td>\n",
              "    </tr>\n",
              "    <tr>\n",
              "      <th>1</th>\n",
              "      <td>1.0</td>\n",
              "      <td>-0.880353</td>\n",
              "      <td>-0.398729</td>\n",
              "      <td>-0.193175</td>\n",
              "      <td>0.414636</td>\n",
              "      <td>-0.361412</td>\n",
              "    </tr>\n",
              "    <tr>\n",
              "      <th>2</th>\n",
              "      <td>1.0</td>\n",
              "      <td>0.268228</td>\n",
              "      <td>0.194188</td>\n",
              "      <td>-31.845358</td>\n",
              "      <td>1.307646</td>\n",
              "      <td>1014.320982</td>\n",
              "    </tr>\n",
              "    <tr>\n",
              "      <th>3</th>\n",
              "      <td>1.0</td>\n",
              "      <td>-1.680690</td>\n",
              "      <td>-1.438006</td>\n",
              "      <td>-1.869259</td>\n",
              "      <td>0.186245</td>\n",
              "      <td>2.056122</td>\n",
              "    </tr>\n",
              "    <tr>\n",
              "      <th>4</th>\n",
              "      <td>1.0</td>\n",
              "      <td>0.377783</td>\n",
              "      <td>0.549355</td>\n",
              "      <td>-434.565055</td>\n",
              "      <td>1.459046</td>\n",
              "      <td>188847.336466</td>\n",
              "    </tr>\n",
              "  </tbody>\n",
              "</table>\n",
              "</div>"
            ],
            "text/plain": [
              "   Intercept         x         z           v  np.exp(x)  I(v ** 2 + z)\n",
              "0        1.0 -0.468604 -0.512327  -19.698600   0.625875     387.522499\n",
              "1        1.0 -0.880353 -0.398729   -0.193175   0.414636      -0.361412\n",
              "2        1.0  0.268228  0.194188  -31.845358   1.307646    1014.320982\n",
              "3        1.0 -1.680690 -1.438006   -1.869259   0.186245       2.056122\n",
              "4        1.0  0.377783  0.549355 -434.565055   1.459046  188847.336466"
            ]
          },
          "metadata": {
            "tags": []
          },
          "execution_count": 13
        }
      ]
    },
    {
      "cell_type": "code",
      "metadata": {
        "id": "hfgULBuFeX1U",
        "colab_type": "code",
        "colab": {}
      },
      "source": [
        "def catch_singularity(f):\n",
        "    '''Silences LinAlg Errors and throws a warning instead.'''\n",
        "    \n",
        "    def silencer(*args, **kwargs):\n",
        "        try:\n",
        "            return f(*args, **kwargs)\n",
        "        except np.linalg.LinAlgError:\n",
        "            warnings.warn('Algorithm terminated - singular Hessian!')\n",
        "            return args[0]\n",
        "    return silencer"
      ],
      "execution_count": 0,
      "outputs": []
    },
    {
      "cell_type": "code",
      "metadata": {
        "id": "lxLF_KwmekOY",
        "colab_type": "code",
        "colab": {}
      },
      "source": [
        "@catch_singularity\n",
        "def newton_step(curr, X, lam=None):\n",
        "    '''One naive step of Newton's Method'''\n",
        "    \n",
        "    #how to compute inverse? http://www.mathwarehouse.com/algebra/matrix/images/square-matrix/inverse-matrix.gif\n",
        "    \n",
        "    ## compute necessary objects\n",
        "    #create probability matrix, miniminum 2 dimensions, tranpose (flip it)\n",
        "    p = np.array(sigmoid(X.dot(curr[:,0])), ndmin=2).T\n",
        "    #create weight matrix from it\n",
        "    W = np.diag((p*(1-p))[:,0])\n",
        "    #derive the hessian \n",
        "    hessian = X.T.dot(W).dot(X)\n",
        "    #derive the gradient\n",
        "    grad = X.T.dot(y-p)\n",
        "    \n",
        "    ## regularization step (avoiding overfitting)\n",
        "    if lam:\n",
        "        # Return the least-squares solution to a linear matrix equation\n",
        "        step, *_ = np.linalg.lstsq(hessian + lam*np.eye(curr.shape[0]), grad)\n",
        "    else:\n",
        "        step, *_ = np.linalg.lstsq(hessian, grad)\n",
        "        \n",
        "    ## update our \n",
        "    beta = curr + step\n",
        "    \n",
        "    return beta"
      ],
      "execution_count": 0,
      "outputs": []
    },
    {
      "cell_type": "code",
      "metadata": {
        "id": "i9zxaowRfwA5",
        "colab_type": "code",
        "colab": {}
      },
      "source": [
        "def check_coefs_convergence(beta_old, beta_new, tol, iters):\n",
        "    '''Checks whether the coefficients have converged in the l-infinity norm.\n",
        "    Returns True if they have converged, False otherwise.'''\n",
        "    #calculate the change in the coefficients\n",
        "    coef_change = np.abs(beta_old - beta_new)\n",
        "    \n",
        "    #if change hasn't reached the threshold and we have more iterations to go, keep training\n",
        "    return not (np.any(coef_change>tol) & (iters < max_iter))"
      ],
      "execution_count": 0,
      "outputs": []
    },
    {
      "cell_type": "code",
      "metadata": {
        "id": "dSSpro84fz3e",
        "colab_type": "code",
        "colab": {
          "base_uri": "https://localhost:8080/",
          "height": 227
        },
        "outputId": "c1e0fc5c-3d8e-4b82-befc-41c6427e4644"
      },
      "source": [
        "beta_old, beta = np.ones((len(X.columns),1)), np.zeros((len(X.columns),1))\n",
        "\n",
        "#num iterations we've done so far\n",
        "iter_count = 0\n",
        "#have we reached convergence?\n",
        "coefs_converged = False\n",
        "\n",
        "#if we haven't reached convergence... (training step)\n",
        "while not coefs_converged:\n",
        "    \n",
        "    #set the old coefficients to our current\n",
        "    beta_old = beta\n",
        "    #perform a single step of newton's optimization on our data, set our updated beta values\n",
        "    beta = newton_step(beta, X, lam=lam)\n",
        "    #increment the number of iterations\n",
        "    iter_count += 1\n",
        "    \n",
        "    #check for convergence between our old and new beta values\n",
        "    coefs_converged = check_coefs_convergence(beta_old, beta, tol, iter_count)\n",
        "    \n",
        "print('Iterations : {}'.format(iter_count))\n",
        "print('Beta : {}'.format(beta))"
      ],
      "execution_count": 17,
      "outputs": [
        {
          "output_type": "stream",
          "text": [
            "Iterations : 18\n",
            "Beta : [[ 3.31473859e+20]\n",
            " [-8.62368597e+20]\n",
            " [-1.98546565e+20]\n",
            " [-1.36981296e+21]\n",
            " [-2.24355785e+20]\n",
            " [ 1.32779725e+21]]\n"
          ],
          "name": "stdout"
        },
        {
          "output_type": "stream",
          "text": [
            "/usr/local/lib/python3.6/dist-packages/ipykernel_launcher.py:22: FutureWarning: `rcond` parameter will change to the default of machine precision times ``max(M, N)`` where M and N are the input matrix dimensions.\n",
            "To use the future default and silence this warning we advise to pass `rcond=None`, to keep using the old, explicitly pass `rcond=-1`.\n",
            "/usr/local/lib/python3.6/dist-packages/ipykernel_launcher.py:2: RuntimeWarning: overflow encountered in exp\n",
            "  \n"
          ],
          "name": "stderr"
        }
      ]
    },
    {
      "cell_type": "code",
      "metadata": {
        "id": "ojCcZVnMf6nU",
        "colab_type": "code",
        "colab": {}
      },
      "source": [
        ""
      ],
      "execution_count": 0,
      "outputs": []
    }
  ]
}