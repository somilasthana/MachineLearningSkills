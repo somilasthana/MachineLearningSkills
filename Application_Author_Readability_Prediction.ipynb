{
  "nbformat": 4,
  "nbformat_minor": 0,
  "metadata": {
    "colab": {
      "name": "Application-Author-Readability-Prediction.ipynb",
      "version": "0.3.2",
      "provenance": [],
      "collapsed_sections": [],
      "include_colab_link": true
    },
    "kernelspec": {
      "name": "python3",
      "display_name": "Python 3"
    },
    "accelerator": "GPU"
  },
  "cells": [
    {
      "cell_type": "markdown",
      "metadata": {
        "id": "view-in-github",
        "colab_type": "text"
      },
      "source": [
        "<a href=\"https://colab.research.google.com/github/somilasthana/MachineLearningSkills/blob/master/Application_Author_Readability_Prediction.ipynb\" target=\"_parent\"><img src=\"https://colab.research.google.com/assets/colab-badge.svg\" alt=\"Open In Colab\"/></a>"
      ]
    },
    {
      "cell_type": "code",
      "metadata": {
        "id": "OzFc8raXaN8P",
        "colab_type": "code",
        "colab": {}
      },
      "source": [
        "import numpy as np"
      ],
      "execution_count": 0,
      "outputs": []
    },
    {
      "cell_type": "code",
      "metadata": {
        "id": "BvaYjEP4alLK",
        "colab_type": "code",
        "colab": {}
      },
      "source": [
        "def automatic_readibility_index(nchars, nwords, nsents):\n",
        "  return 4.71 * (nchars/nwords) + 0.5 * (nwords/nsents) - 21.43"
      ],
      "execution_count": 0,
      "outputs": []
    },
    {
      "cell_type": "code",
      "metadata": {
        "id": "ySWBc6C4bCDF",
        "colab_type": "code",
        "outputId": "22fe518d-be14-41ab-d3c5-e475513e9fbe",
        "colab": {
          "base_uri": "https://localhost:8080/",
          "height": 35
        }
      },
      "source": [
        "print(abs(automatic_readibility_index(300, 40, 10) - 15.895) < 0.001)"
      ],
      "execution_count": 0,
      "outputs": [
        {
          "output_type": "stream",
          "text": [
            "True\n"
          ],
          "name": "stdout"
        }
      ]
    },
    {
      "cell_type": "code",
      "metadata": {
        "id": "G8BrrLwZbNRn",
        "colab_type": "code",
        "colab": {}
      },
      "source": [
        "def extract_counts(sentences):\n",
        "  nsents = len(sentences)\n",
        "  nwords = 0\n",
        "  nchars = 0\n",
        "  for sentence in sentences:\n",
        "    if isinstance(sentence, str):\n",
        "      wordlist = sentence.strip().split(\" \")\n",
        "    elif isinstance(sentence, list):\n",
        "      wordlist = sentence\n",
        "    nwords += len(wordlist)\n",
        "    for word in wordlist:\n",
        "      nchars += len(word.strip())\n",
        "      \n",
        "  return nchars, nwords, nsents"
      ],
      "execution_count": 0,
      "outputs": []
    },
    {
      "cell_type": "code",
      "metadata": {
        "id": "P3quoAMwc1th",
        "colab_type": "code",
        "outputId": "65289935-4d43-4a27-97f5-5b98fd5ba95e",
        "colab": {
          "base_uri": "https://localhost:8080/",
          "height": 35
        }
      },
      "source": [
        "print(extract_counts(\n",
        "    [[\"This\", \"was\", \"rather\", \"easy\", \".\"], \n",
        "     [\"Please\", \"give\", \"me\", \"something\", \"more\", \"challenging\"]]) == (54, 11, 2))"
      ],
      "execution_count": 0,
      "outputs": [
        {
          "output_type": "stream",
          "text": [
            "True\n"
          ],
          "name": "stdout"
        }
      ]
    },
    {
      "cell_type": "code",
      "metadata": {
        "id": "H8LuggVZc6zl",
        "colab_type": "code",
        "outputId": "973c115e-81cd-407f-e3b6-2ea7bbaf1b21",
        "colab": {
          "base_uri": "https://localhost:8080/",
          "height": 35
        }
      },
      "source": [
        "sentences = [[\"This\", \"was\", \"rather\", \"easy\", \".\"], \n",
        "             [\"Please\", \"give\", \"me\", \"something\", \"more\", \"challenging\"]]\n",
        "\n",
        "n_chars, n_words, n_sents = extract_counts(sentences)\n",
        "print(abs(automatic_readibility_index(n_chars, n_words, n_sents) - 4.442) < 0.001)"
      ],
      "execution_count": 0,
      "outputs": [
        {
          "output_type": "stream",
          "text": [
            "True\n"
          ],
          "name": "stdout"
        }
      ]
    },
    {
      "cell_type": "code",
      "metadata": {
        "id": "ESQyqb9yd7t8",
        "colab_type": "code",
        "colab": {}
      },
      "source": [
        "def compute_ari(sentences):\n",
        "  n_chars, n_words, n_sents = extract_counts(sentences)\n",
        "  return automatic_readibility_index(n_chars, n_words, n_sents)"
      ],
      "execution_count": 0,
      "outputs": []
    },
    {
      "cell_type": "code",
      "metadata": {
        "id": "knzdwmB3eJue",
        "colab_type": "code",
        "outputId": "1106f67c-02d1-4e8a-ede0-31025b50cf90",
        "colab": {
          "base_uri": "https://localhost:8080/",
          "height": 35
        }
      },
      "source": [
        "print(abs(compute_ari(sentences) - 4.442) < 0.001)"
      ],
      "execution_count": 0,
      "outputs": [
        {
          "output_type": "stream",
          "text": [
            "True\n"
          ],
          "name": "stdout"
        }
      ]
    },
    {
      "cell_type": "code",
      "metadata": {
        "id": "TKLOZ6KHeN4g",
        "colab_type": "code",
        "colab": {}
      },
      "source": [
        "\"\"\"Authorship attribution\n",
        "\n",
        "The naive bayes classifier is a probabilistic classifier that given a set of \n",
        "features tries to find the class with the highest probability.\n",
        "\"\"\""
      ],
      "execution_count": 0,
      "outputs": []
    },
    {
      "cell_type": "code",
      "metadata": {
        "id": "ogLRnp9bjsea",
        "colab_type": "code",
        "colab": {}
      },
      "source": [
        "from collections import defaultdict"
      ],
      "execution_count": 0,
      "outputs": []
    },
    {
      "cell_type": "code",
      "metadata": {
        "id": "gasjC8elfdOJ",
        "colab_type": "code",
        "colab": {}
      },
      "source": [
        "def classify(scores):\n",
        "  return max(scores, key=scores.get)"
      ],
      "execution_count": 0,
      "outputs": []
    },
    {
      "cell_type": "code",
      "metadata": {
        "id": "2EIrnib-fo-k",
        "colab_type": "code",
        "outputId": "03d3de60-5a5c-46d1-c270-2bf46d8a1970",
        "colab": {
          "base_uri": "https://localhost:8080/",
          "height": 35
        }
      },
      "source": [
        "scores = {\"Hermans\": 0.15, \"Voskuil\": 0.55, \"Reve\": 0.2, \"Mulisch\": 0.18, \"Claus\": 0.02}\n",
        "print(classify(scores) == \"Voskuil\")"
      ],
      "execution_count": 51,
      "outputs": [
        {
          "output_type": "stream",
          "text": [
            "True\n"
          ],
          "name": "stdout"
        }
      ]
    },
    {
      "cell_type": "code",
      "metadata": {
        "id": "Jq6zaj74fviR",
        "colab_type": "code",
        "colab": {}
      },
      "source": [
        "def read_corpus_file(filepath):\n",
        "  with open(filepath, 'rt', encoding='utf-8') as fp:\n",
        "    text = fp.read()\n",
        "  return text"
      ],
      "execution_count": 0,
      "outputs": []
    },
    {
      "cell_type": "code",
      "metadata": {
        "id": "9mNqrE5Dgz1X",
        "colab_type": "code",
        "colab": {}
      },
      "source": [
        "from glob import glob\n",
        "def find_corpus_files(corpus_directory, extension=\"*.txt\"):\n",
        "  return glob(corpus_directory + \"/\" + extension)"
      ],
      "execution_count": 0,
      "outputs": []
    },
    {
      "cell_type": "code",
      "metadata": {
        "id": "BMMdDNcKhSHs",
        "colab_type": "code",
        "colab": {}
      },
      "source": [
        "PUNCTUATION = (\".\",\",\",\":\",\";\",\"\\\"\",\"'\",\"!\",\"?\",\"(\",\")\",\"[\",\"]\",\"/\")\n",
        "WHITESPACE = (\" \", \"\\t\", \"\\n\", \"\\r\")\n",
        "def tokenize(text):\n",
        "  tokens = []\n",
        "  begin = 0\n",
        "  if text[-1] != ' ': text += ' '\n",
        "  \n",
        "  for i, c in enumerate(text):\n",
        "    if c in PUNCTUATION or c in WHITESPACE:\n",
        "      token = text[begin:i]\n",
        "      if token not in WHITESPACE:\n",
        "        tokens.append(token)\n",
        "      begin = i + 1\n",
        "  return tokens"
      ],
      "execution_count": 0,
      "outputs": []
    },
    {
      "cell_type": "code",
      "metadata": {
        "id": "JXyBBWJ9jM3-",
        "colab_type": "code",
        "colab": {}
      },
      "source": [
        "def extract_features(filename):\n",
        "  return tokenize(read_corpus_file(filename))"
      ],
      "execution_count": 0,
      "outputs": []
    },
    {
      "cell_type": "code",
      "metadata": {
        "id": "JxA_5r50j5V2",
        "colab_type": "code",
        "colab": {}
      },
      "source": [
        "def update_counts(author, text, feature_database):\n",
        "  for feature in text:\n",
        "    feature_database[author][feature] += 1\n",
        "  return feature_database"
      ],
      "execution_count": 0,
      "outputs": []
    },
    {
      "cell_type": "code",
      "metadata": {
        "id": "7GCctKVXk79T",
        "colab_type": "code",
        "colab": {}
      },
      "source": [
        "def add_file_to_database(author, filename, feature_database):\n",
        "  return update_counts(author, extract_features(filename), feature_database)"
      ],
      "execution_count": 0,
      "outputs": []
    },
    {
      "cell_type": "code",
      "metadata": {
        "id": "PVJbuAcIp-Yu",
        "colab_type": "code",
        "colab": {}
      },
      "source": [
        "def add_authorlist_to_database(author_filename, feature_database):\n",
        "  for author, filename in author_filename:\n",
        "    feature_database = add_file_to_database(author, filename, feature_database)\n",
        "  return feature_database"
      ],
      "execution_count": 0,
      "outputs": []
    },
    {
      "cell_type": "code",
      "metadata": {
        "id": "Uu_v6e62oZMY",
        "colab_type": "code",
        "colab": {}
      },
      "source": [
        "from math import log\n",
        "def log_probability(feature_count, feature_sum, n_features):\n",
        "  return log( (feature_count + 1.0) / (feature_sum + n_features) )"
      ],
      "execution_count": 0,
      "outputs": []
    },
    {
      "cell_type": "code",
      "metadata": {
        "id": "gLKSjPngpbT4",
        "colab_type": "code",
        "colab": {}
      },
      "source": [
        "def score(features, feature_database):\n",
        "  scores = defaultdict(float)\n",
        "  # compute the number of features in the feature database here\n",
        "  n_features = len(set([feature for author in feature_database for feature in feature_database[author].keys()]))\n",
        "  \n",
        "  for author in feature_database:\n",
        "    features_sum = sum(feature_database[author].values())\n",
        "    \n",
        "    for feature in features:\n",
        "      scores[author] += log_probability(feature_database[author][feature], features_sum, n_features)\n",
        "      \n",
        "  return scores"
      ],
      "execution_count": 0,
      "outputs": []
    },
    {
      "cell_type": "code",
      "metadata": {
        "id": "XEXB0FHQkkuf",
        "colab_type": "code",
        "colab": {}
      },
      "source": [
        "tfeature_database = defaultdict(lambda: defaultdict(int))\n",
        "tfeature_database[\"A\"][\"the\"] = 2\n",
        "tfeature_database[\"A\"][\"a\"] = 5\n",
        "tfeature_database[\"A\"][\"book\"]= 1\n",
        "tfeature_database[\"B\"][\"the\"] = 5\n",
        "tfeature_database[\"B\"][\"a\"] = 1\n",
        "tfeature_database[\"B\"][\"book\"] = 6"
      ],
      "execution_count": 0,
      "outputs": []
    },
    {
      "cell_type": "code",
      "metadata": {
        "id": "EsGbniiDrUGO",
        "colab_type": "code",
        "colab": {
          "base_uri": "https://localhost:8080/",
          "height": 35
        },
        "outputId": "77e21c3c-33df-42f6-bca4-e445fca7b809"
      },
      "source": [
        "score([\"the\", \"a\", \"the\", \"be\", \"book\"], tfeature_database)"
      ],
      "execution_count": 40,
      "outputs": [
        {
          "output_type": "execute_result",
          "data": {
            "text/plain": [
              "defaultdict(float, {'A': -7.307345136867633, 'B': -7.317674737439682})"
            ]
          },
          "metadata": {
            "tags": []
          },
          "execution_count": 40
        }
      ]
    },
    {
      "cell_type": "code",
      "metadata": {
        "id": "o4pTXV4xwHam",
        "colab_type": "code",
        "colab": {}
      },
      "source": [
        "def extract_author(filename):\n",
        "    # insert your code here\n",
        "    return filename.split('/')[-1].split('_')[0]"
      ],
      "execution_count": 0,
      "outputs": []
    },
    {
      "cell_type": "code",
      "metadata": {
        "id": "GJaTartBfE0A",
        "colab_type": "code",
        "colab": {}
      },
      "source": [
        "def predict_author(text, feature_database):\n",
        "  return classify(score(extract_features(text), feature_database))"
      ],
      "execution_count": 0,
      "outputs": []
    },
    {
      "cell_type": "code",
      "metadata": {
        "id": "i2v6Olh8u3EB",
        "colab_type": "code",
        "colab": {}
      },
      "source": [
        "#get data\n",
        "#!wget https://liferay.de.dariah.eu/tatom/_downloads/datasets.zip\n",
        "#!unzip /content/datasets.zip"
      ],
      "execution_count": 0,
      "outputs": []
    },
    {
      "cell_type": "code",
      "metadata": {
        "id": "tkEew2LSvIav",
        "colab_type": "code",
        "colab": {
          "base_uri": "https://localhost:8080/",
          "height": 121
        },
        "outputId": "45d59faa-29fe-48b3-edb6-a7bad7eafc22"
      },
      "source": [
        "find_corpus_files(\"/content/data/austen-brontë\")"
      ],
      "execution_count": 45,
      "outputs": [
        {
          "output_type": "execute_result",
          "data": {
            "text/plain": [
              "['/content/data/austen-brontë/CBronte_Jane.txt',\n",
              " '/content/data/austen-brontë/Austen_Sense.txt',\n",
              " '/content/data/austen-brontë/Austen_Emma.txt',\n",
              " '/content/data/austen-brontë/CBronte_Professor.txt',\n",
              " '/content/data/austen-brontë/Austen_Pride.txt',\n",
              " '/content/data/austen-brontë/CBronte_Villette.txt']"
            ]
          },
          "metadata": {
            "tags": []
          },
          "execution_count": 45
        }
      ]
    },
    {
      "cell_type": "code",
      "metadata": {
        "id": "mgwALvu_rWCW",
        "colab_type": "code",
        "colab": {
          "base_uri": "https://localhost:8080/",
          "height": 35
        },
        "outputId": "e4f27247-494c-4ba1-ae47-3b957e1c1c1f"
      },
      "source": [
        "feature_database = defaultdict(lambda: defaultdict(int))\n",
        "author_filename = [\n",
        "    (extract_author(fname), fname) for fname in find_corpus_files(\"/content/data/austen-brontë\")\n",
        "]\n",
        "\n",
        "feature_database = add_authorlist_to_database(author_filename, feature_database)\n",
        "print(predict_author('/content/data/austen-brontë/CBronte_Jane.txt', feature_database))"
      ],
      "execution_count": 61,
      "outputs": [
        {
          "output_type": "stream",
          "text": [
            "CBronte\n"
          ],
          "name": "stdout"
        }
      ]
    },
    {
      "cell_type": "code",
      "metadata": {
        "id": "TNniXCvXwON4",
        "colab_type": "code",
        "colab": {
          "base_uri": "https://localhost:8080/",
          "height": 35
        },
        "outputId": "c8bc45c5-2b7e-4b0f-8461-534f182e3924"
      },
      "source": [
        "print(predict_author('/content/data/austen-brontë/Austen_Pride.txt', feature_database))"
      ],
      "execution_count": 62,
      "outputs": [
        {
          "output_type": "stream",
          "text": [
            "Austen\n"
          ],
          "name": "stdout"
        }
      ]
    },
    {
      "cell_type": "code",
      "metadata": {
        "id": "MC8p0PtKxVVD",
        "colab_type": "code",
        "colab": {}
      },
      "source": [
        ""
      ],
      "execution_count": 0,
      "outputs": []
    }
  ]
}