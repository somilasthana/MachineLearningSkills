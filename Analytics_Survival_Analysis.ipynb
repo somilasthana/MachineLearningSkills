{
  "nbformat": 4,
  "nbformat_minor": 0,
  "metadata": {
    "colab": {
      "name": "Analytics-Survival-Analysis.ipynb",
      "version": "0.3.2",
      "provenance": [],
      "include_colab_link": true
    },
    "kernelspec": {
      "name": "python3",
      "display_name": "Python 3"
    }
  },
  "cells": [
    {
      "cell_type": "markdown",
      "metadata": {
        "id": "view-in-github",
        "colab_type": "text"
      },
      "source": [
        "<a href=\"https://colab.research.google.com/github/somilasthana/MachineLearningSkills/blob/master/Analytics_Survival_Analysis.ipynb\" target=\"_parent\"><img src=\"https://colab.research.google.com/assets/colab-badge.svg\" alt=\"Open In Colab\"/></a>"
      ]
    },
    {
      "cell_type": "code",
      "metadata": {
        "id": "bOr3gvA5SWZ4",
        "colab_type": "code",
        "colab": {}
      },
      "source": [
        "\"\"\"\n",
        "Survival analysis enables the estimation of probability to an event over time. \n",
        "\n",
        "survival analysis to help analyze the likelihood of different user segments \n",
        "\n",
        "“surviving” to activation. \n",
        "\n",
        "Survival Analysis answers questions like\n",
        "1. What is the expected lifetime of patient given drug A ? Drug B\n",
        "2. Life expectancy of patience born in India\n",
        "\"\"\""
      ],
      "execution_count": 0,
      "outputs": []
    },
    {
      "cell_type": "code",
      "metadata": {
        "id": "B0cQoBncU-8G",
        "colab_type": "code",
        "colab": {
          "base_uri": "https://localhost:8080/",
          "height": 469
        },
        "outputId": "206f5464-634e-4f69-985b-c70b307d3721"
      },
      "source": [
        "!pip install lifelines"
      ],
      "execution_count": 1,
      "outputs": [
        {
          "output_type": "stream",
          "text": [
            "Collecting lifelines\n",
            "\u001b[?25l  Downloading https://files.pythonhosted.org/packages/21/74/e74165fce018a51c6a9545869ffe201e3f6f59ac6204a44eda2c15034d3f/lifelines-0.21.3-py3-none-any.whl (329kB)\n",
            "\u001b[K     |████████████████████████████████| 337kB 5.0MB/s \n",
            "\u001b[?25hRequirement already satisfied: pandas>=0.23.0 in /usr/local/lib/python3.6/dist-packages (from lifelines) (0.24.2)\n",
            "Collecting scipy<=1.2.1,>=1.0 (from lifelines)\n",
            "\u001b[?25l  Downloading https://files.pythonhosted.org/packages/7f/5f/c48860704092933bf1c4c1574a8de1ffd16bf4fde8bab190d747598844b2/scipy-1.2.1-cp36-cp36m-manylinux1_x86_64.whl (24.8MB)\n",
            "\u001b[K     |████████████████████████████████| 24.8MB 62.2MB/s \n",
            "\u001b[?25hRequirement already satisfied: bottleneck>=1.0 in /usr/local/lib/python3.6/dist-packages (from lifelines) (1.2.1)\n",
            "Requirement already satisfied: numpy>=1.6.0 in /usr/local/lib/python3.6/dist-packages (from lifelines) (1.16.4)\n",
            "Requirement already satisfied: matplotlib>=3.0 in /usr/local/lib/python3.6/dist-packages (from lifelines) (3.0.3)\n",
            "Requirement already satisfied: autograd>=1.2 in /usr/local/lib/python3.6/dist-packages (from lifelines) (1.2)\n",
            "Requirement already satisfied: python-dateutil>=2.5.0 in /usr/local/lib/python3.6/dist-packages (from pandas>=0.23.0->lifelines) (2.5.3)\n",
            "Requirement already satisfied: pytz>=2011k in /usr/local/lib/python3.6/dist-packages (from pandas>=0.23.0->lifelines) (2018.9)\n",
            "Requirement already satisfied: kiwisolver>=1.0.1 in /usr/local/lib/python3.6/dist-packages (from matplotlib>=3.0->lifelines) (1.1.0)\n",
            "Requirement already satisfied: pyparsing!=2.0.4,!=2.1.2,!=2.1.6,>=2.0.1 in /usr/local/lib/python3.6/dist-packages (from matplotlib>=3.0->lifelines) (2.4.0)\n",
            "Requirement already satisfied: cycler>=0.10 in /usr/local/lib/python3.6/dist-packages (from matplotlib>=3.0->lifelines) (0.10.0)\n",
            "Requirement already satisfied: future>=0.15.2 in /usr/local/lib/python3.6/dist-packages (from autograd>=1.2->lifelines) (0.16.0)\n",
            "Requirement already satisfied: six>=1.5 in /usr/local/lib/python3.6/dist-packages (from python-dateutil>=2.5.0->pandas>=0.23.0->lifelines) (1.12.0)\n",
            "Requirement already satisfied: setuptools in /usr/local/lib/python3.6/dist-packages (from kiwisolver>=1.0.1->matplotlib>=3.0->lifelines) (41.0.1)\n",
            "\u001b[31mERROR: albumentations 0.1.12 has requirement imgaug<0.2.7,>=0.2.5, but you'll have imgaug 0.2.9 which is incompatible.\u001b[0m\n",
            "Installing collected packages: scipy, lifelines\n",
            "  Found existing installation: scipy 1.3.0\n",
            "    Uninstalling scipy-1.3.0:\n",
            "      Successfully uninstalled scipy-1.3.0\n",
            "Successfully installed lifelines-0.21.3 scipy-1.2.1\n"
          ],
          "name": "stdout"
        }
      ]
    },
    {
      "cell_type": "code",
      "metadata": {
        "id": "6lMgBartYfj_",
        "colab_type": "code",
        "colab": {}
      },
      "source": [
        "%matplotlib inline\n",
        "\n",
        "import numpy as np\n",
        "from lifelines import KaplanMeierFitter\n",
        "from matplotlib import pyplot as plt\n",
        "\n",
        "from pylab import rcParams"
      ],
      "execution_count": 0,
      "outputs": []
    },
    {
      "cell_type": "code",
      "metadata": {
        "id": "s2oZQoBPXShr",
        "colab_type": "code",
        "colab": {}
      },
      "source": [
        "from lifelines.datasets import load_larynx\n",
        "\n",
        "df = load_larynx()\n",
        "\n",
        "df['Stage'] = 'Stage I'\n",
        "\n",
        "df.loc[df['Stage II'] == 1, 'Stage'] = 'Stage II'\n",
        "df.loc[df['Stage III'] == 1, 'Stage'] = 'Stage III'\n",
        "df.loc[df['Stage IV'] == 1, 'Stage'] = 'Stage IV'"
      ],
      "execution_count": 0,
      "outputs": []
    },
    {
      "cell_type": "code",
      "metadata": {
        "id": "yBQ4J5ZOYRcH",
        "colab_type": "code",
        "colab": {
          "base_uri": "https://localhost:8080/",
          "height": 198
        },
        "outputId": "cee69741-7849-4636-e9d3-5ec7537f75f5"
      },
      "source": [
        "df.head()\n",
        "\"\"\"\n",
        "stage: Stage of disease (1=stage 1, 2=stage2, 3=stage 3, 4=stage 4)\n",
        "time: Time to death or on-study time, months\n",
        "age: Age at diagnosis of larynx cancer\n",
        "\n",
        "\"\"\""
      ],
      "execution_count": 8,
      "outputs": [
        {
          "output_type": "execute_result",
          "data": {
            "text/html": [
              "<div>\n",
              "<style scoped>\n",
              "    .dataframe tbody tr th:only-of-type {\n",
              "        vertical-align: middle;\n",
              "    }\n",
              "\n",
              "    .dataframe tbody tr th {\n",
              "        vertical-align: top;\n",
              "    }\n",
              "\n",
              "    .dataframe thead th {\n",
              "        text-align: right;\n",
              "    }\n",
              "</style>\n",
              "<table border=\"1\" class=\"dataframe\">\n",
              "  <thead>\n",
              "    <tr style=\"text-align: right;\">\n",
              "      <th></th>\n",
              "      <th>time</th>\n",
              "      <th>age</th>\n",
              "      <th>death</th>\n",
              "      <th>Stage II</th>\n",
              "      <th>Stage III</th>\n",
              "      <th>Stage IV</th>\n",
              "      <th>Stage</th>\n",
              "    </tr>\n",
              "  </thead>\n",
              "  <tbody>\n",
              "    <tr>\n",
              "      <th>0</th>\n",
              "      <td>0.6</td>\n",
              "      <td>77</td>\n",
              "      <td>1</td>\n",
              "      <td>0</td>\n",
              "      <td>0</td>\n",
              "      <td>0</td>\n",
              "      <td>Stage I</td>\n",
              "    </tr>\n",
              "    <tr>\n",
              "      <th>1</th>\n",
              "      <td>1.3</td>\n",
              "      <td>53</td>\n",
              "      <td>1</td>\n",
              "      <td>0</td>\n",
              "      <td>0</td>\n",
              "      <td>0</td>\n",
              "      <td>Stage I</td>\n",
              "    </tr>\n",
              "    <tr>\n",
              "      <th>2</th>\n",
              "      <td>2.4</td>\n",
              "      <td>45</td>\n",
              "      <td>1</td>\n",
              "      <td>0</td>\n",
              "      <td>0</td>\n",
              "      <td>0</td>\n",
              "      <td>Stage I</td>\n",
              "    </tr>\n",
              "    <tr>\n",
              "      <th>3</th>\n",
              "      <td>2.5</td>\n",
              "      <td>57</td>\n",
              "      <td>0</td>\n",
              "      <td>0</td>\n",
              "      <td>0</td>\n",
              "      <td>0</td>\n",
              "      <td>Stage I</td>\n",
              "    </tr>\n",
              "    <tr>\n",
              "      <th>4</th>\n",
              "      <td>3.2</td>\n",
              "      <td>58</td>\n",
              "      <td>1</td>\n",
              "      <td>0</td>\n",
              "      <td>0</td>\n",
              "      <td>0</td>\n",
              "      <td>Stage I</td>\n",
              "    </tr>\n",
              "  </tbody>\n",
              "</table>\n",
              "</div>"
            ],
            "text/plain": [
              "   time  age  death  Stage II  Stage III  Stage IV    Stage\n",
              "0   0.6   77      1         0          0         0  Stage I\n",
              "1   1.3   53      1         0          0         0  Stage I\n",
              "2   2.4   45      1         0          0         0  Stage I\n",
              "3   2.5   57      0         0          0         0  Stage I\n",
              "4   3.2   58      1         0          0         0  Stage I"
            ]
          },
          "metadata": {
            "tags": []
          },
          "execution_count": 8
        }
      ]
    },
    {
      "cell_type": "code",
      "metadata": {
        "id": "Fyg7rDklYX5w",
        "colab_type": "code",
        "colab": {
          "base_uri": "https://localhost:8080/",
          "height": 35
        },
        "outputId": "c917c884-9d11-4077-dc88-488585f85a06"
      },
      "source": [
        "time_column = 'time'\n",
        "observation_column = 'death'\n",
        "kmf = KaplanMeierFitter()\n",
        "kmf.fit(df[time_column], df[observation_column])"
      ],
      "execution_count": 12,
      "outputs": [
        {
          "output_type": "execute_result",
          "data": {
            "text/plain": [
              "<lifelines.KaplanMeierFitter: fitted with 90 observations, 40 censored>"
            ]
          },
          "metadata": {
            "tags": []
          },
          "execution_count": 12
        }
      ]
    },
    {
      "cell_type": "code",
      "metadata": {
        "id": "CSAvPbvSZRuG",
        "colab_type": "code",
        "colab": {
          "base_uri": "https://localhost:8080/",
          "height": 228
        },
        "outputId": "619a6d0e-92e7-4799-8a04-dfce2802311d"
      },
      "source": [
        "kmf.survival_function_.head()"
      ],
      "execution_count": 17,
      "outputs": [
        {
          "output_type": "execute_result",
          "data": {
            "text/html": [
              "<div>\n",
              "<style scoped>\n",
              "    .dataframe tbody tr th:only-of-type {\n",
              "        vertical-align: middle;\n",
              "    }\n",
              "\n",
              "    .dataframe tbody tr th {\n",
              "        vertical-align: top;\n",
              "    }\n",
              "\n",
              "    .dataframe thead th {\n",
              "        text-align: right;\n",
              "    }\n",
              "</style>\n",
              "<table border=\"1\" class=\"dataframe\">\n",
              "  <thead>\n",
              "    <tr style=\"text-align: right;\">\n",
              "      <th></th>\n",
              "      <th>KM_estimate</th>\n",
              "    </tr>\n",
              "    <tr>\n",
              "      <th>timeline</th>\n",
              "      <th></th>\n",
              "    </tr>\n",
              "  </thead>\n",
              "  <tbody>\n",
              "    <tr>\n",
              "      <th>0.0</th>\n",
              "      <td>1.000000</td>\n",
              "    </tr>\n",
              "    <tr>\n",
              "      <th>0.1</th>\n",
              "      <td>0.988889</td>\n",
              "    </tr>\n",
              "    <tr>\n",
              "      <th>0.2</th>\n",
              "      <td>0.977778</td>\n",
              "    </tr>\n",
              "    <tr>\n",
              "      <th>0.3</th>\n",
              "      <td>0.944444</td>\n",
              "    </tr>\n",
              "    <tr>\n",
              "      <th>0.4</th>\n",
              "      <td>0.933333</td>\n",
              "    </tr>\n",
              "  </tbody>\n",
              "</table>\n",
              "</div>"
            ],
            "text/plain": [
              "          KM_estimate\n",
              "timeline             \n",
              "0.0          1.000000\n",
              "0.1          0.988889\n",
              "0.2          0.977778\n",
              "0.3          0.944444\n",
              "0.4          0.933333"
            ]
          },
          "metadata": {
            "tags": []
          },
          "execution_count": 17
        }
      ]
    },
    {
      "cell_type": "code",
      "metadata": {
        "id": "6IliouZdY_HD",
        "colab_type": "code",
        "colab": {
          "base_uri": "https://localhost:8080/",
          "height": 301
        },
        "outputId": "23b53e4e-7b0b-44e6-c384-342f7ef80d8d"
      },
      "source": [
        "\"\"\"\n",
        "Interpretation \n",
        "\n",
        "When we run the estimator across the entire laryngeal cancer sample, \n",
        "we can see, on average, that the median time of death is approximately six months. \n",
        "\"\"\"\n",
        "print('Median Time of Death ',kmf.median_)\n",
        "ax = plt.subplot(111)\n",
        "kmf.plot(ax=ax)"
      ],
      "execution_count": 15,
      "outputs": [
        {
          "output_type": "execute_result",
          "data": {
            "text/plain": [
              "<matplotlib.axes._subplots.AxesSubplot at 0x7fb32214ff98>"
            ]
          },
          "metadata": {
            "tags": []
          },
          "execution_count": 15
        },
        {
          "output_type": "display_data",
          "data": {
            "image/png": "[encoded data removed]",
            "text/plain": [
              "<Figure size 432x288 with 1 Axes>"
            ]
          },
          "metadata": {
            "tags": []
          }
        }
      ]
    },
    {
      "cell_type": "code",
      "metadata": {
        "id": "pcdAu1cNZLyL",
        "colab_type": "code",
        "colab": {
          "base_uri": "https://localhost:8080/",
          "height": 228
        },
        "outputId": "1a1c2777-f1e9-4c47-803a-b24456ecef68"
      },
      "source": [
        "# Group by Stage\n",
        "\n",
        "group_by = \"Stage\"\n",
        "grouped_data = df.groupby([group_by])\n",
        "\n",
        "d = grouped_data.get_group('Stage IV')\n",
        "kmf = KaplanMeierFitter()\n",
        "\n",
        "kmf.fit(d[time_column], d[observation_column], label='Stage IV')\n",
        "kmf.survival_function_.head()"
      ],
      "execution_count": 23,
      "outputs": [
        {
          "output_type": "execute_result",
          "data": {
            "text/html": [
              "<div>\n",
              "<style scoped>\n",
              "    .dataframe tbody tr th:only-of-type {\n",
              "        vertical-align: middle;\n",
              "    }\n",
              "\n",
              "    .dataframe tbody tr th {\n",
              "        vertical-align: top;\n",
              "    }\n",
              "\n",
              "    .dataframe thead th {\n",
              "        text-align: right;\n",
              "    }\n",
              "</style>\n",
              "<table border=\"1\" class=\"dataframe\">\n",
              "  <thead>\n",
              "    <tr style=\"text-align: right;\">\n",
              "      <th></th>\n",
              "      <th>Stage IV</th>\n",
              "    </tr>\n",
              "    <tr>\n",
              "      <th>timeline</th>\n",
              "      <th></th>\n",
              "    </tr>\n",
              "  </thead>\n",
              "  <tbody>\n",
              "    <tr>\n",
              "      <th>0.0</th>\n",
              "      <td>1.000000</td>\n",
              "    </tr>\n",
              "    <tr>\n",
              "      <th>0.1</th>\n",
              "      <td>0.923077</td>\n",
              "    </tr>\n",
              "    <tr>\n",
              "      <th>0.3</th>\n",
              "      <td>0.846154</td>\n",
              "    </tr>\n",
              "    <tr>\n",
              "      <th>0.4</th>\n",
              "      <td>0.769231</td>\n",
              "    </tr>\n",
              "    <tr>\n",
              "      <th>0.8</th>\n",
              "      <td>0.615385</td>\n",
              "    </tr>\n",
              "  </tbody>\n",
              "</table>\n",
              "</div>"
            ],
            "text/plain": [
              "          Stage IV\n",
              "timeline          \n",
              "0.0       1.000000\n",
              "0.1       0.923077\n",
              "0.3       0.846154\n",
              "0.4       0.769231\n",
              "0.8       0.615385"
            ]
          },
          "metadata": {
            "tags": []
          },
          "execution_count": 23
        }
      ]
    },
    {
      "cell_type": "code",
      "metadata": {
        "id": "e4HNkAzodNCW",
        "colab_type": "code",
        "colab": {
          "base_uri": "https://localhost:8080/",
          "height": 318
        },
        "outputId": "d2616368-d5c1-4527-a6af-b2db81659e5f"
      },
      "source": [
        "\"\"\"\n",
        "Interpretation\n",
        "Stage IV laryngeal cancer results in especially accelerated rates of death.\n",
        "\"\"\"\n",
        "print('Median Time of Death ',kmf.median_)\n",
        "ax = plt.subplot(111)\n",
        "kmf.plot(ax=ax)"
      ],
      "execution_count": 24,
      "outputs": [
        {
          "output_type": "stream",
          "text": [
            "Median Time of Death  1.5\n"
          ],
          "name": "stdout"
        },
        {
          "output_type": "execute_result",
          "data": {
            "text/plain": [
              "<matplotlib.axes._subplots.AxesSubplot at 0x7fb31e588c50>"
            ]
          },
          "metadata": {
            "tags": []
          },
          "execution_count": 24
        },
        {
          "output_type": "display_data",
          "data": {
            "image/png": "[encoded data removed]",
            "text/plain": [
              "<Figure size 432x288 with 1 Axes>"
            ]
          },
          "metadata": {
            "tags": []
          }
        }
      ]
    },
    {
      "cell_type": "code",
      "metadata": {
        "id": "J_OAzOmfdSFH",
        "colab_type": "code",
        "colab": {
          "base_uri": "https://localhost:8080/",
          "height": 335
        },
        "outputId": "fe4ac5e4-a2d4-4e0c-f190-56408263aa75"
      },
      "source": [
        "\"\"\"\n",
        "Comparing Base study with Stage III\n",
        "\n",
        "Stage III has lower probability of survival.\n",
        "\"\"\"\n",
        "ax = plt.subplot(111)\n",
        "kmf.fit(df[time_column], df[observation_column], label='baseline')\n",
        "print('Median Time of Death ',kmf.median_)\n",
        "kmf.plot(ax=ax)\n",
        "\n",
        "\n",
        "group_by = \"Stage\"\n",
        "grouped_data = df.groupby([group_by])\n",
        "\n",
        "d = grouped_data.get_group('Stage III')\n",
        "kmf = KaplanMeierFitter()\n",
        "\n",
        "kmf.fit(d[time_column], d[observation_column], label='Stage III')\n",
        "print('Median Time of Death ',kmf.median_)\n",
        "kmf.plot(ax=ax)"
      ],
      "execution_count": 26,
      "outputs": [
        {
          "output_type": "stream",
          "text": [
            "Median Time of Death  6.0\n",
            "Median Time of Death  5.0\n"
          ],
          "name": "stdout"
        },
        {
          "output_type": "execute_result",
          "data": {
            "text/plain": [
              "<matplotlib.axes._subplots.AxesSubplot at 0x7fb31e514320>"
            ]
          },
          "metadata": {
            "tags": []
          },
          "execution_count": 26
        },
        {
          "output_type": "display_data",
          "data": {
            "image/png": "[encoded data removed]",
            "text/plain": [
              "<Figure size 432x288 with 1 Axes>"
            ]
          },
          "metadata": {
            "tags": []
          }
        }
      ]
    },
    {
      "cell_type": "code",
      "metadata": {
        "id": "KEtYb-iqedEU",
        "colab_type": "code",
        "colab": {}
      },
      "source": [
        ""
      ],
      "execution_count": 0,
      "outputs": []
    }
  ]
}