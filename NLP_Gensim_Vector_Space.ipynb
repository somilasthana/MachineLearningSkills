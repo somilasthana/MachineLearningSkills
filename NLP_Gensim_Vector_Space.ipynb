{
  "nbformat": 4,
  "nbformat_minor": 0,
  "metadata": {
    "colab": {
      "name": "NLP-Gensim-Vector-Space.ipynb",
      "provenance": [],
      "collapsed_sections": [],
      "include_colab_link": true
    },
    "kernelspec": {
      "name": "python3",
      "display_name": "Python 3"
    },
    "accelerator": "GPU"
  },
  "cells": [
    {
      "cell_type": "markdown",
      "metadata": {
        "id": "view-in-github",
        "colab_type": "text"
      },
      "source": [
        "<a href=\"https://colab.research.google.com/github/somilasthana/MachineLearningSkills/blob/master/NLP_Gensim_Vector_Space.ipynb\" target=\"_parent\"><img src=\"https://colab.research.google.com/assets/colab-badge.svg\" alt=\"Open In Colab\"/></a>"
      ]
    },
    {
      "cell_type": "markdown",
      "metadata": {
        "id": "itpaWo9U4qKv",
        "colab_type": "text"
      },
      "source": [
        "Analysing Complaints Data"
      ]
    },
    {
      "cell_type": "code",
      "metadata": {
        "id": "GZ_A9OqN4mX9",
        "colab_type": "code",
        "outputId": "0ccd2de6-9714-4ab9-cdd1-9758c0a906ee",
        "colab": {
          "base_uri": "https://localhost:8080/",
          "height": 202
        }
      },
      "source": [
        "!wget https://data.consumerfinance.gov/api/views/s6ew-h6mp/rows.csv?accessType=DOWNLOAD"
      ],
      "execution_count": 1,
      "outputs": [
        {
          "output_type": "stream",
          "text": [
            "--2019-10-14 21:05:50--  https://data.consumerfinance.gov/api/views/s6ew-h6mp/rows.csv?accessType=DOWNLOAD\n",
            "Resolving data.consumerfinance.gov (data.consumerfinance.gov)... 52.206.140.205, 52.206.140.199, 52.206.68.26\n",
            "Connecting to data.consumerfinance.gov (data.consumerfinance.gov)|52.206.140.205|:443... connected.\n",
            "HTTP request sent, awaiting response... 200 OK\n",
            "Length: unspecified [text/csv]\n",
            "Saving to: ‘rows.csv?accessType=DOWNLOAD’\n",
            "\n",
            "rows.csv?accessType     [        <=>         ] 809.77M  3.70MB/s    in 1m 54s  \n",
            "\n",
            "2019-10-14 21:07:47 (7.09 MB/s) - ‘rows.csv?accessType=DOWNLOAD’ saved [849110889]\n",
            "\n"
          ],
          "name": "stdout"
        }
      ]
    },
    {
      "cell_type": "code",
      "metadata": {
        "id": "aQCBaFdc4ysm",
        "colab_type": "code",
        "colab": {}
      },
      "source": [
        "!mv /content/rows.csv?accessType=DOWNLOAD /content/complaints.csv"
      ],
      "execution_count": 0,
      "outputs": []
    },
    {
      "cell_type": "code",
      "metadata": {
        "id": "wULCKiDu5wb4",
        "colab_type": "code",
        "colab": {}
      },
      "source": [
        "import pandas as pd\n",
        "import numpy as np\n",
        "import scipy"
      ],
      "execution_count": 0,
      "outputs": []
    },
    {
      "cell_type": "code",
      "metadata": {
        "id": "OweHPec455Js",
        "colab_type": "code",
        "outputId": "bffd8f39-dbcb-4bfa-8922-a9f91dc83e36",
        "colab": {
          "base_uri": "https://localhost:8080/",
          "height": 70
        }
      },
      "source": [
        "df_complaints = pd.read_csv(\"/content/complaints.csv\")"
      ],
      "execution_count": 4,
      "outputs": [
        {
          "output_type": "stream",
          "text": [
            "/usr/local/lib/python3.6/dist-packages/IPython/core/interactiveshell.py:2718: DtypeWarning: Columns (5,6,11,16) have mixed types. Specify dtype option on import or set low_memory=False.\n",
            "  interactivity=interactivity, compiler=compiler, result=result)\n"
          ],
          "name": "stderr"
        }
      ]
    },
    {
      "cell_type": "code",
      "metadata": {
        "id": "rdXF7wb46N5Z",
        "colab_type": "code",
        "outputId": "8f7561b3-7436-48e8-ff01-642c3dc9c21c",
        "colab": {
          "base_uri": "https://localhost:8080/",
          "height": 731
        }
      },
      "source": [
        "df_complaints.head().T"
      ],
      "execution_count": 5,
      "outputs": [
        {
          "output_type": "execute_result",
          "data": {
            "text/html": [
              "<div>\n",
              "<style scoped>\n",
              "    .dataframe tbody tr th:only-of-type {\n",
              "        vertical-align: middle;\n",
              "    }\n",
              "\n",
              "    .dataframe tbody tr th {\n",
              "        vertical-align: top;\n",
              "    }\n",
              "\n",
              "    .dataframe thead th {\n",
              "        text-align: right;\n",
              "    }\n",
              "</style>\n",
              "<table border=\"1\" class=\"dataframe\">\n",
              "  <thead>\n",
              "    <tr style=\"text-align: right;\">\n",
              "      <th></th>\n",
              "      <th>0</th>\n",
              "      <th>1</th>\n",
              "      <th>2</th>\n",
              "      <th>3</th>\n",
              "      <th>4</th>\n",
              "    </tr>\n",
              "  </thead>\n",
              "  <tbody>\n",
              "    <tr>\n",
              "      <th>Date received</th>\n",
              "      <td>10/12/2019</td>\n",
              "      <td>10/11/2019</td>\n",
              "      <td>10/11/2019</td>\n",
              "      <td>10/11/2019</td>\n",
              "      <td>10/11/2019</td>\n",
              "    </tr>\n",
              "    <tr>\n",
              "      <th>Product</th>\n",
              "      <td>Credit reporting, credit repair services, or o...</td>\n",
              "      <td>Credit reporting, credit repair services, or o...</td>\n",
              "      <td>Debt collection</td>\n",
              "      <td>Debt collection</td>\n",
              "      <td>Credit card or prepaid card</td>\n",
              "    </tr>\n",
              "    <tr>\n",
              "      <th>Sub-product</th>\n",
              "      <td>Credit reporting</td>\n",
              "      <td>Credit reporting</td>\n",
              "      <td>Medical debt</td>\n",
              "      <td>Federal student loan debt</td>\n",
              "      <td>General-purpose credit card or charge card</td>\n",
              "    </tr>\n",
              "    <tr>\n",
              "      <th>Issue</th>\n",
              "      <td>Improper use of your report</td>\n",
              "      <td>Problem with a credit reporting company's inve...</td>\n",
              "      <td>Attempts to collect debt not owed</td>\n",
              "      <td>Attempts to collect debt not owed</td>\n",
              "      <td>Problem when making payments</td>\n",
              "    </tr>\n",
              "    <tr>\n",
              "      <th>Sub-issue</th>\n",
              "      <td>Credit inquiries on your report that you don't...</td>\n",
              "      <td>Their investigation did not fix an error on yo...</td>\n",
              "      <td>Debt was result of identity theft</td>\n",
              "      <td>Debt is not yours</td>\n",
              "      <td>You never received your bill or did not know a...</td>\n",
              "    </tr>\n",
              "    <tr>\n",
              "      <th>Consumer complaint narrative</th>\n",
              "      <td>NaN</td>\n",
              "      <td>NaN</td>\n",
              "      <td>NaN</td>\n",
              "      <td>NaN</td>\n",
              "      <td>NaN</td>\n",
              "    </tr>\n",
              "    <tr>\n",
              "      <th>Company public response</th>\n",
              "      <td>NaN</td>\n",
              "      <td>Company believes the complaint is the result o...</td>\n",
              "      <td>NaN</td>\n",
              "      <td>Company has responded to the consumer and the ...</td>\n",
              "      <td>NaN</td>\n",
              "    </tr>\n",
              "    <tr>\n",
              "      <th>Company</th>\n",
              "      <td>Avantus, LLC</td>\n",
              "      <td>Millco Management</td>\n",
              "      <td>Commonwealth Financial Systems, Inc.</td>\n",
              "      <td>Ability Recovery Services, LLC</td>\n",
              "      <td>NAVY FEDERAL CREDIT UNION</td>\n",
              "    </tr>\n",
              "    <tr>\n",
              "      <th>State</th>\n",
              "      <td>MS</td>\n",
              "      <td>TX</td>\n",
              "      <td>TX</td>\n",
              "      <td>FL</td>\n",
              "      <td>FL</td>\n",
              "    </tr>\n",
              "    <tr>\n",
              "      <th>ZIP code</th>\n",
              "      <td>39648</td>\n",
              "      <td>76542</td>\n",
              "      <td>770XX</td>\n",
              "      <td>32177</td>\n",
              "      <td>335XX</td>\n",
              "    </tr>\n",
              "    <tr>\n",
              "      <th>Tags</th>\n",
              "      <td>NaN</td>\n",
              "      <td>Servicemember</td>\n",
              "      <td>NaN</td>\n",
              "      <td>NaN</td>\n",
              "      <td>Servicemember</td>\n",
              "    </tr>\n",
              "    <tr>\n",
              "      <th>Consumer consent provided?</th>\n",
              "      <td>NaN</td>\n",
              "      <td>Consent not provided</td>\n",
              "      <td>NaN</td>\n",
              "      <td>Consent not provided</td>\n",
              "      <td>NaN</td>\n",
              "    </tr>\n",
              "    <tr>\n",
              "      <th>Submitted via</th>\n",
              "      <td>Web</td>\n",
              "      <td>Web</td>\n",
              "      <td>Web</td>\n",
              "      <td>Web</td>\n",
              "      <td>Web</td>\n",
              "    </tr>\n",
              "    <tr>\n",
              "      <th>Date sent to company</th>\n",
              "      <td>10/12/2019</td>\n",
              "      <td>10/11/2019</td>\n",
              "      <td>10/11/2019</td>\n",
              "      <td>10/11/2019</td>\n",
              "      <td>10/11/2019</td>\n",
              "    </tr>\n",
              "    <tr>\n",
              "      <th>Company response to consumer</th>\n",
              "      <td>In progress</td>\n",
              "      <td>Closed with explanation</td>\n",
              "      <td>Closed with explanation</td>\n",
              "      <td>Closed with explanation</td>\n",
              "      <td>In progress</td>\n",
              "    </tr>\n",
              "    <tr>\n",
              "      <th>Timely response?</th>\n",
              "      <td>Yes</td>\n",
              "      <td>Yes</td>\n",
              "      <td>Yes</td>\n",
              "      <td>Yes</td>\n",
              "      <td>Yes</td>\n",
              "    </tr>\n",
              "    <tr>\n",
              "      <th>Consumer disputed?</th>\n",
              "      <td>NaN</td>\n",
              "      <td>NaN</td>\n",
              "      <td>NaN</td>\n",
              "      <td>NaN</td>\n",
              "      <td>NaN</td>\n",
              "    </tr>\n",
              "    <tr>\n",
              "      <th>Complaint ID</th>\n",
              "      <td>3403230</td>\n",
              "      <td>3402299</td>\n",
              "      <td>3402857</td>\n",
              "      <td>3403510</td>\n",
              "      <td>3403477</td>\n",
              "    </tr>\n",
              "  </tbody>\n",
              "</table>\n",
              "</div>"
            ],
            "text/plain": [
              "                                                                              0  ...                                                  4\n",
              "Date received                                                        10/12/2019  ...                                         10/11/2019\n",
              "Product                       Credit reporting, credit repair services, or o...  ...                        Credit card or prepaid card\n",
              "Sub-product                                                    Credit reporting  ...         General-purpose credit card or charge card\n",
              "Issue                                               Improper use of your report  ...                       Problem when making payments\n",
              "Sub-issue                     Credit inquiries on your report that you don't...  ...  You never received your bill or did not know a...\n",
              "Consumer complaint narrative                                                NaN  ...                                                NaN\n",
              "Company public response                                                     NaN  ...                                                NaN\n",
              "Company                                                            Avantus, LLC  ...                          NAVY FEDERAL CREDIT UNION\n",
              "State                                                                        MS  ...                                                 FL\n",
              "ZIP code                                                                  39648  ...                                              335XX\n",
              "Tags                                                                        NaN  ...                                      Servicemember\n",
              "Consumer consent provided?                                                  NaN  ...                                                NaN\n",
              "Submitted via                                                               Web  ...                                                Web\n",
              "Date sent to company                                                 10/12/2019  ...                                         10/11/2019\n",
              "Company response to consumer                                        In progress  ...                                        In progress\n",
              "Timely response?                                                            Yes  ...                                                Yes\n",
              "Consumer disputed?                                                          NaN  ...                                                NaN\n",
              "Complaint ID                                                            3403230  ...                                            3403477\n",
              "\n",
              "[18 rows x 5 columns]"
            ]
          },
          "metadata": {
            "tags": []
          },
          "execution_count": 5
        }
      ]
    },
    {
      "cell_type": "code",
      "metadata": {
        "id": "F1PRmE3J6XgH",
        "colab_type": "code",
        "colab": {
          "base_uri": "https://localhost:8080/",
          "height": 34
        },
        "outputId": "02b08761-3ffd-4d83-abf8-316c046c2759"
      },
      "source": [
        "len(df_complaints)"
      ],
      "execution_count": 6,
      "outputs": [
        {
          "output_type": "execute_result",
          "data": {
            "text/plain": [
              "1405841"
            ]
          },
          "metadata": {
            "tags": []
          },
          "execution_count": 6
        }
      ]
    },
    {
      "cell_type": "code",
      "metadata": {
        "id": "17ANdYkJ8xam",
        "colab_type": "code",
        "colab": {
          "base_uri": "https://localhost:8080/",
          "height": 118
        },
        "outputId": "f2769cc0-74c9-4e0e-9a32-e61792f6dbad"
      },
      "source": [
        "df_complaints.columns"
      ],
      "execution_count": 7,
      "outputs": [
        {
          "output_type": "execute_result",
          "data": {
            "text/plain": [
              "Index(['Date received', 'Product', 'Sub-product', 'Issue', 'Sub-issue',\n",
              "       'Consumer complaint narrative', 'Company public response', 'Company',\n",
              "       'State', 'ZIP code', 'Tags', 'Consumer consent provided?',\n",
              "       'Submitted via', 'Date sent to company', 'Company response to consumer',\n",
              "       'Timely response?', 'Consumer disputed?', 'Complaint ID'],\n",
              "      dtype='object')"
            ]
          },
          "metadata": {
            "tags": []
          },
          "execution_count": 7
        }
      ]
    },
    {
      "cell_type": "code",
      "metadata": {
        "id": "ZQBd-JV88i3J",
        "colab_type": "code",
        "colab": {
          "base_uri": "https://localhost:8080/",
          "height": 34
        },
        "outputId": "c94fec18-b49b-4e5d-b585-f9ac9c388be3"
      },
      "source": [
        "len(df_complaints[df_complaints['Consumer complaint narrative'].isna()])"
      ],
      "execution_count": 10,
      "outputs": [
        {
          "output_type": "execute_result",
          "data": {
            "text/plain": [
              "956071"
            ]
          },
          "metadata": {
            "tags": []
          },
          "execution_count": 10
        }
      ]
    },
    {
      "cell_type": "code",
      "metadata": {
        "id": "Jdf3hSg49A9H",
        "colab_type": "code",
        "colab": {
          "base_uri": "https://localhost:8080/",
          "height": 138
        },
        "outputId": "9027a576-f693-4ace-9a79-9c6b7c3f7fff"
      },
      "source": [
        "df_complaints['Consumer complaint narrative'].unique()[:5]"
      ],
      "execution_count": 12,
      "outputs": [
        {
          "output_type": "execute_result",
          "data": {
            "text/plain": [
              "array([nan,\n",
              "       'I recently did an application for an apartment in XXXX and was denied and told by the apartment that two of my credit cards with the same company was closed. I was told by the apartment that the company closed my accounts in XXXX without notice or my knowledge. I immediately called XXXX XXXX XXXX and was told that my accounts were NOT closed. I checked all 3 credit bureaus and they indeed closed and sent out information to all three bureaus stating my accounts were closed. I called again and multiple customer care agents state that the accounts were not closed but my credit line was suspended and that this was their policy. I understand but why would you send out to the bureaus that the accounts are closed when they are NOT there is a major difference. I attempted to dispute this with all three bureaus with no success. Because of how they reported it dropped my score significantly and is currently hindering me from getting approved not just for these apartments but for others as well leaving me XXXX. It is unfair reporting and someone should make first premier bank specify the difference of a revolving account and a closed account. If my accounts are NOT closed why would you report it as such. Ive called them multiple times requesting that they provide a letter to my apartment complex explaining the situation and they stated no that they could not and will not do such thing. I also demanded that they report fairly and accurately to prevent future situations like this',\n",
              "       'I check my report often to ensure that the information is reporting correctly because I became a victim of identity theft shortly after moving to XXXX. I received my updated report and there was a collection for Credit Collection Services in the amount of {$190.00}. I never heard of this company and I have not received any type of correspondence from them either via phone or mail. This is a violation of my rights and I want this account removed from my credit immediately.',\n",
              "       'i received numerous calls per day from this attorney. one day one of the assistant called me and told me she was on her way to my house because i owe barclays bank money. she told me i will be sue if i dont pay her that same day. i asked for summons and she said she will be at my house soon. she also told me she has contact the IRS to take my paycheck. i never received any letters from any collection company. today XXXX i received a letter in the mail from an attorney with a case number. after i searched this case number it seems they have been going to court since XXXX and not once did i receive a letter or summons of any lawsuit. this attorney has violated my fdcpa rights. they are trying to collect but are no records on my credit or mail of them attempting to collect this debt. to validate debt. show me proof of money owe. show me proof as per FDCPA Section 809 ( b ) validation has been requested and denied by creditor and attorney. still pursue to follow with lawsuit. FDCPA Section 809 ( b ) FTC opinion letter Cass from LeFevre. violated FDCPA Section 807.FDCPA Section 811 ( a ) ( 2 ) Gearing v. Check Brokerage Corp Cacace v. Lucas , 775 F. Supp. 502, 505 ( D. Conn. 1990 )',\n",
              "       'I have received mail from Credit Collection Services saying I owe XXXX to a creditor named XXXX XXXX XXXX. The mail is addressed to my maiden name. I have not used that name in 24 years. I have carried insurance for 30 years and always pay my bills. My credit reports drawn yesterday are spotless. I believe this attempt to collect XXXX is a scam perpetrated by Credit Collection Services.'],\n",
              "      dtype=object)"
            ]
          },
          "metadata": {
            "tags": []
          },
          "execution_count": 12
        }
      ]
    },
    {
      "cell_type": "code",
      "metadata": {
        "id": "sDwRgB5E9Poc",
        "colab_type": "code",
        "colab": {
          "base_uri": "https://localhost:8080/",
          "height": 202
        },
        "outputId": "fb61b935-cbf7-4cac-f1ee-88677332c876"
      },
      "source": [
        "df_complaints['Company public response'].unique()"
      ],
      "execution_count": 13,
      "outputs": [
        {
          "output_type": "execute_result",
          "data": {
            "text/plain": [
              "array([nan,\n",
              "       'Company believes the complaint is the result of a misunderstanding',\n",
              "       'Company has responded to the consumer and the CFPB and chooses not to provide a public response',\n",
              "       'Company believes it acted appropriately as authorized by contract or law',\n",
              "       'Company disputes the facts presented in the complaint',\n",
              "       'Company believes complaint caused principally by actions of third party outside the control or direction of the company',\n",
              "       'Company believes complaint is the result of an isolated error',\n",
              "       \"Company can't verify or dispute the facts in the complaint\",\n",
              "       'Company believes complaint represents an opportunity for improvement to better serve consumers',\n",
              "       'Company believes complaint relates to a discontinued policy or procedure',\n",
              "       'Company chooses not to provide a public response'], dtype=object)"
            ]
          },
          "metadata": {
            "tags": []
          },
          "execution_count": 13
        }
      ]
    },
    {
      "cell_type": "code",
      "metadata": {
        "id": "EQGzA7dDAhoW",
        "colab_type": "code",
        "colab": {
          "base_uri": "https://localhost:8080/",
          "height": 336
        },
        "outputId": "a0844a5a-d20b-4b31-b341-197813028e7b"
      },
      "source": [
        "df_complaints['Product'].value_counts()"
      ],
      "execution_count": 15,
      "outputs": [
        {
          "output_type": "execute_result",
          "data": {
            "text/plain": [
              "Credit reporting, credit repair services, or other personal consumer reports    288216\n",
              "Mortgage                                                                        288037\n",
              "Debt collection                                                                 265422\n",
              "Credit reporting                                                                140432\n",
              "Credit card                                                                      89190\n",
              "Bank account or service                                                          86206\n",
              "Credit card or prepaid card                                                      58890\n",
              "Student loan                                                                     54415\n",
              "Checking or savings account                                                      50453\n",
              "Consumer Loan                                                                    31604\n",
              "Vehicle loan or lease                                                            13799\n",
              "Money transfer, virtual currency, or money service                               12510\n",
              "Payday loan, title loan, or personal loan                                        10530\n",
              "Payday loan                                                                       5544\n",
              "Money transfers                                                                   5354\n",
              "Prepaid card                                                                      3819\n",
              "Other financial service                                                           1059\n",
              "Virtual currency                                                                    18\n",
              "Name: Product, dtype: int64"
            ]
          },
          "metadata": {
            "tags": []
          },
          "execution_count": 15
        }
      ]
    },
    {
      "cell_type": "code",
      "metadata": {
        "id": "IuCFF33VA3mg",
        "colab_type": "code",
        "colab": {
          "base_uri": "https://localhost:8080/",
          "height": 1000
        },
        "outputId": "4a191ac9-cc40-4b13-9303-5bb979a07e2b"
      },
      "source": [
        "df_complaints['Sub-product'].value_counts()"
      ],
      "execution_count": 16,
      "outputs": [
        {
          "output_type": "execute_result",
          "data": {
            "text/plain": [
              "Credit reporting                              282904\n",
              "Checking account                               96939\n",
              "Other mortgage                                 86635\n",
              "Conventional fixed mortgage                    70613\n",
              "I do not know                                  54534\n",
              "General-purpose credit card or charge card     45542\n",
              "Other (i.e. phone, health club, etc.)          44544\n",
              "Other debt                                     36072\n",
              "Conventional home mortgage                     35026\n",
              "FHA mortgage                                   33098\n",
              "Credit card                                    28698\n",
              "Conventional adjustable mortgage (ARM)         25380\n",
              "Non-federal student loan                       25164\n",
              "Credit card debt                               25121\n",
              "Federal student loan servicing                 24280\n",
              "Medical                                        21187\n",
              "Medical debt                                   19435\n",
              "Other bank product/service                     17825\n",
              "Vehicle loan                                   17782\n",
              "Installment loan                               12932\n",
              "Home equity loan or line of credit             11624\n",
              "Loan                                           11473\n",
              "Payday loan                                    10838\n",
              "Store credit card                               9919\n",
              "Other type of mortgage                          9720\n",
              "Savings account                                 8619\n",
              "VA mortgage                                     8154\n",
              "Private student loan                            7852\n",
              "Other banking product or service                7723\n",
              "Domestic (US) money transfer                    6294\n",
              "                                               ...  \n",
              "Federal student loan debt                       2083\n",
              "General-purpose prepaid card                    2069\n",
              "Private student loan debt                       1907\n",
              "General purpose card                            1752\n",
              "Title loan                                      1502\n",
              "CD (Certificate of Deposit)                     1478\n",
              "Credit repair services                          1026\n",
              "Government benefit card                          880\n",
              "Second mortgage                                  662\n",
              "Debt settlement                                  661\n",
              "Payroll card                                     661\n",
              "Cashing a check without an account               625\n",
              "Mobile wallet                                    418\n",
              "Gift or merchant card                            402\n",
              "Government benefit payment card                  389\n",
              "Money order                                      387\n",
              "Traveler's check or cashier's check              267\n",
              "Check cashing                                    266\n",
              "Gift card                                        224\n",
              "Check cashing service                            212\n",
              "ID prepaid card                                  207\n",
              "Foreign currency exchange                        205\n",
              "Other special purpose card                       191\n",
              "Refund anticipation check                        177\n",
              "Pawn loan                                        120\n",
              "Credit repair                                    103\n",
              "Traveler’s/Cashier’s checks                       88\n",
              "Transit card                                      37\n",
              "Electronic Benefit Transfer / EBT card            12\n",
              "Student prepaid card                               6\n",
              "Name: Sub-product, Length: 76, dtype: int64"
            ]
          },
          "metadata": {
            "tags": []
          },
          "execution_count": 16
        }
      ]
    },
    {
      "cell_type": "code",
      "metadata": {
        "id": "ee_qOoLqksPE",
        "colab_type": "code",
        "colab": {
          "base_uri": "https://localhost:8080/",
          "height": 34
        },
        "outputId": "1aad824c-fd32-4377-c682-92c851a9c9c1"
      },
      "source": [
        "len(df_complaints['Sub-product'].unique())"
      ],
      "execution_count": 9,
      "outputs": [
        {
          "output_type": "execute_result",
          "data": {
            "text/plain": [
              "77"
            ]
          },
          "metadata": {
            "tags": []
          },
          "execution_count": 9
        }
      ]
    },
    {
      "cell_type": "code",
      "metadata": {
        "id": "um0Hh4aOBj1C",
        "colab_type": "code",
        "colab": {}
      },
      "source": [
        "df_credit_reporting = df_complaints[df_complaints['Product'] == 'Credit reporting']"
      ],
      "execution_count": 0,
      "outputs": []
    },
    {
      "cell_type": "code",
      "metadata": {
        "id": "rj7tM_bmlOQ8",
        "colab_type": "code",
        "colab": {
          "base_uri": "https://localhost:8080/",
          "height": 34
        },
        "outputId": "06b24845-2089-4817-abb7-e106e487d206"
      },
      "source": [
        "df_credit_reporting['Sub-product'].unique()"
      ],
      "execution_count": 6,
      "outputs": [
        {
          "output_type": "execute_result",
          "data": {
            "text/plain": [
              "array([nan], dtype=object)"
            ]
          },
          "metadata": {
            "tags": []
          },
          "execution_count": 6
        }
      ]
    },
    {
      "cell_type": "code",
      "metadata": {
        "id": "aWM-KVjCl67C",
        "colab_type": "code",
        "colab": {
          "base_uri": "https://localhost:8080/",
          "height": 138
        },
        "outputId": "b28999d8-27f8-45f5-e741-daf8a70af58f"
      },
      "source": [
        "df_credit_reporting['Consumer complaint narrative'].unique()[:5]"
      ],
      "execution_count": 50,
      "outputs": [
        {
          "output_type": "execute_result",
          "data": {
            "text/plain": [
              "array([nan,\n",
              "       \"At the beginning of  XXXX  I started receiving letter from  Midlabd  funding saying I owe money on my   XXXX   XXXX   account from  XXXX  ( which I closed and paid on  XXXX  ) I called them after they kept sending me the same offer Over again.  Midland  funding sent me a letter recently saying that my case was close and account was closed I did n't not owe anything. They said   XXXX   XXXX   sold this account to them and after the disputed it showed I did n't owe anything. But I see it was reported to my credit report. How can I get that removed?\",\n",
              "       'A tax lien was issued in   XXXX   while I was  XXXX  years ago with the state of Georgia. I was stationed in California but will still paying Georgia taxes and was away on  XXXX . It was handled upon my return via certified mail with payment. It was stamped released and I was told that it would be removed from my credit report. However, it is still being reported by the Credit Bureaus. I have attached a screenshot from the Georgia Departmen t of Revenue. I was  told to try this route for help.   Thanks in advance.',\n",
              "       'In  XXXX  of   XXXX   I received my credit report and found there were  XXXX  collections being report by convergent outsourcing for the amount of  XXXX  and  XXXX . Upon placing a call with them i was told that these account were in collection for  XXXX   XXXX . The young lady on the phone gave me the addresses of both accounts. This is when I discovered that someone had stolen my identity. I filled out a forgery affidavit, had it notarized and made a police report. All of this information was sent into the credit report, and to   XXXX   XXXX   as well. all of this took place on  XXXX / XXXX /  XXXX  . It has been over a month and no one will tell me anything as to why these accounts are still reporting on my credit bureau.',\n",
              "       'I contacted the credit bureau about the  two  debts that are showing up on my credit report that I have no knowledge of the accounts numerous times. The   XXXX   XXXX   XXXX   and  XXXX   XXXX  account keeps showing up on my credit report after disputing them with the somone over the phone and via the internet. Each time they come back and say the debt is vaild and verified without showing proper proof. When I call and speak to a rep the reps tell me to contact the creditors and have them to remove the debt. I was always under the impression that we are not to contact the original creditor because it violates the FCRA for them to tell me to contact the original creditor.'],\n",
              "      dtype=object)"
            ]
          },
          "metadata": {
            "tags": []
          },
          "execution_count": 50
        }
      ]
    },
    {
      "cell_type": "code",
      "metadata": {
        "id": "5vuqKoZY1cHO",
        "colab_type": "code",
        "colab": {
          "base_uri": "https://localhost:8080/",
          "height": 101
        },
        "outputId": "e5b705a6-e340-4b98-da3b-11178001ec32"
      },
      "source": [
        "df_credit_reporting.dropna(subset=['Consumer complaint narrative'], inplace=True)"
      ],
      "execution_count": 7,
      "outputs": [
        {
          "output_type": "stream",
          "text": [
            "/usr/local/lib/python3.6/dist-packages/ipykernel_launcher.py:1: SettingWithCopyWarning: \n",
            "A value is trying to be set on a copy of a slice from a DataFrame\n",
            "\n",
            "See the caveats in the documentation: http://pandas.pydata.org/pandas-docs/stable/indexing.html#indexing-view-versus-copy\n",
            "  \"\"\"Entry point for launching an IPython kernel.\n"
          ],
          "name": "stderr"
        }
      ]
    },
    {
      "cell_type": "code",
      "metadata": {
        "id": "SFhTYWJdmjae",
        "colab_type": "code",
        "colab": {
          "base_uri": "https://localhost:8080/",
          "height": 118
        },
        "outputId": "77a2ac93-5c5d-4a35-d956-b13af08e31e7"
      },
      "source": [
        "df_credit_reporting['Consumer complaint narrative'] = df_credit_reporting['Consumer complaint narrative'].apply(lambda x: str(x).replace('XXXX', ''))"
      ],
      "execution_count": 8,
      "outputs": [
        {
          "output_type": "stream",
          "text": [
            "/usr/local/lib/python3.6/dist-packages/ipykernel_launcher.py:1: SettingWithCopyWarning: \n",
            "A value is trying to be set on a copy of a slice from a DataFrame.\n",
            "Try using .loc[row_indexer,col_indexer] = value instead\n",
            "\n",
            "See the caveats in the documentation: http://pandas.pydata.org/pandas-docs/stable/indexing.html#indexing-view-versus-copy\n",
            "  \"\"\"Entry point for launching an IPython kernel.\n"
          ],
          "name": "stderr"
        }
      ]
    },
    {
      "cell_type": "code",
      "metadata": {
        "id": "htev48kvm---",
        "colab_type": "code",
        "colab": {
          "base_uri": "https://localhost:8080/",
          "height": 138
        },
        "outputId": "906bdfb6-309e-4741-c412-6656bc35cc5b"
      },
      "source": [
        "df_credit_reporting['Consumer complaint narrative'].unique()[:5]"
      ],
      "execution_count": 9,
      "outputs": [
        {
          "output_type": "execute_result",
          "data": {
            "text/plain": [
              "array([\"At the beginning of    I started receiving letter from  Midlabd  funding saying I owe money on my         account from    ( which I closed and paid on    ) I called them after they kept sending me the same offer Over again.  Midland  funding sent me a letter recently saying that my case was close and account was closed I did n't not owe anything. They said         sold this account to them and after the disputed it showed I did n't owe anything. But I see it was reported to my credit report. How can I get that removed?\",\n",
              "       'I HAVE DISPUTED WITH EQUIFAX ABOUT INQUIRES ON MY CREDIT REPORT THAT I DO NOT RECOGNIZE THEY STATED THAT THEY HAVE INVESTIGATED MY INQUIRES BUT I KNOW THEY HAVE NOT THEY WILL NOT SEND VALIDATION FOR THE INQUIRES I KNOW THAT THE INQUIRES DO NOT HAVE NUMBERS THAT ARE WORKING THE INQUIRES ARE AS FO LLOWS 1-      ,           -        ,         ,        ,            ,            ,        ',\n",
              "       'You removed             because the company could not provide valid information, they are the ones that removed it and you have put it back on my credit again. This is in violation of the FCRA. Experian is in violation of trying to reinsert information that could not be verified. I am demanding that this information be removed immediately. Unless you have updated information meaning PHYSICAL PROOF, a contract with my signature then you are in violation of section 609 of the FCRA',\n",
              "       \"     is supposed to be a closed account you closed it and re opened it and it dropped m y credit score afte r I already filed an complaint and it reported as a closed account that 's charges off what 's the problem it 's closed on both    and  \",\n",
              "       'I received a credit monitoring alert that a new address was added to my TransUnion credit report. When I checked my credit report, TransUnion is showing an incorrect address of :         ,   , GA   . That is NOT my address. I demand that this incorrect address is removed from my credit report.'],\n",
              "      dtype=object)"
            ]
          },
          "metadata": {
            "tags": []
          },
          "execution_count": 9
        }
      ]
    },
    {
      "cell_type": "code",
      "metadata": {
        "id": "jLc0sseNoX0M",
        "colab_type": "code",
        "colab": {}
      },
      "source": [
        "import spacy\n",
        "nlp = spacy.load('en_core_web_sm')"
      ],
      "execution_count": 0,
      "outputs": []
    },
    {
      "cell_type": "code",
      "metadata": {
        "id": "xwHQCsKcGo6e",
        "colab_type": "code",
        "colab": {}
      },
      "source": [
        "all_doc = nlp(df_credit_reporting.iloc[1][\"Consumer complaint narrative\"])"
      ],
      "execution_count": 0,
      "outputs": []
    },
    {
      "cell_type": "code",
      "metadata": {
        "id": "j7IGvyT6HutF",
        "colab_type": "code",
        "colab": {}
      },
      "source": [
        "df_credit_reporting_sample = df_credit_reporting.sample(frac=0.2)"
      ],
      "execution_count": 0,
      "outputs": []
    },
    {
      "cell_type": "code",
      "metadata": {
        "id": "OizN0zxlG0xG",
        "colab_type": "code",
        "colab": {}
      },
      "source": [
        "def token_func(all_doc):\n",
        "  rec = []\n",
        "  for token in all_doc:\n",
        "    if token.is_stop:\n",
        "      continue\n",
        "    if token.is_punct:\n",
        "      continue\n",
        "    if token.is_space:\n",
        "      continue\n",
        "    rec.append(token.text.strip().lower())\n",
        "  return rec"
      ],
      "execution_count": 0,
      "outputs": []
    },
    {
      "cell_type": "code",
      "metadata": {
        "id": "sHNKrJmErbTQ",
        "colab_type": "code",
        "colab": {}
      },
      "source": [
        "df_credit_reporting_sample['SpacyObject'] = df_credit_reporting_sample['Consumer complaint narrative'].apply(lambda x: nlp(x))"
      ],
      "execution_count": 0,
      "outputs": []
    },
    {
      "cell_type": "code",
      "metadata": {
        "id": "VkSeige60BcD",
        "colab_type": "code",
        "colab": {}
      },
      "source": [
        "df_credit_reporting_sample['Tokens'] = df_credit_reporting_sample['SpacyObject'].apply(lambda x: token_func(x))"
      ],
      "execution_count": 0,
      "outputs": []
    },
    {
      "cell_type": "code",
      "metadata": {
        "id": "2KNIFlyB0JY_",
        "colab_type": "code",
        "colab": {
          "base_uri": "https://localhost:8080/",
          "height": 118
        },
        "outputId": "b06b6927-f10e-4493-8a9e-21af540ed0c2"
      },
      "source": [
        "df_credit_reporting_sample[\"Tokens\"].head()"
      ],
      "execution_count": 25,
      "outputs": [
        {
          "output_type": "execute_result",
          "data": {
            "text/plain": [
              "919262    [account, showing, updated, balance, need, pay...\n",
              "981661    [account, charged, sold, debt, collection, age...\n",
              "668604    [went, buy, car, dealer, called, authroized, p...\n",
              "781809    [disputed, items, equifax, credit, report, cer...\n",
              "728498    [submitted, letter, equifax, stating, informat...\n",
              "Name: Tokens, dtype: object"
            ]
          },
          "metadata": {
            "tags": []
          },
          "execution_count": 25
        }
      ]
    },
    {
      "cell_type": "code",
      "metadata": {
        "id": "KTeuBciU0c88",
        "colab_type": "code",
        "colab": {}
      },
      "source": [
        "import gensim"
      ],
      "execution_count": 0,
      "outputs": []
    },
    {
      "cell_type": "code",
      "metadata": {
        "id": "MPr6QsupKhcc",
        "colab_type": "code",
        "colab": {}
      },
      "source": [
        "def combine_func(row):\n",
        "  text = \" \".join(row)\n",
        "  return text\n",
        "\n",
        "df_credit_reporting_sample[\"GensimInput\"] = df_credit_reporting_sample[\"Tokens\"].apply(lambda x: combine_func(x))"
      ],
      "execution_count": 0,
      "outputs": []
    },
    {
      "cell_type": "code",
      "metadata": {
        "id": "xr6O6nWFLwoq",
        "colab_type": "code",
        "colab": {
          "base_uri": "https://localhost:8080/",
          "height": 118
        },
        "outputId": "817e42bc-236e-4b3b-d0a6-4eff4faf7e0c"
      },
      "source": [
        "df_credit_reporting_sample[\"GensimInput\"].head()"
      ],
      "execution_count": 30,
      "outputs": [
        {
          "output_type": "execute_result",
          "data": {
            "text/plain": [
              "919262    account showing updated balance need payments ...\n",
              "981661    account charged sold debt collection agency pa...\n",
              "668604    went buy car dealer called authroized pull cre...\n",
              "781809    disputed items equifax credit report certified...\n",
              "728498    submitted letter equifax stating information f...\n",
              "Name: GensimInput, dtype: object"
            ]
          },
          "metadata": {
            "tags": []
          },
          "execution_count": 30
        }
      ]
    },
    {
      "cell_type": "code",
      "metadata": {
        "id": "rc2DI-2nLnhi",
        "colab_type": "code",
        "colab": {}
      },
      "source": [
        "documents = [ gensim.utils.simple_preprocess(text) for text in df_credit_reporting_sample[\"GensimInput\"]]"
      ],
      "execution_count": 0,
      "outputs": []
    },
    {
      "cell_type": "code",
      "metadata": {
        "id": "FlOO0LKYL1pS",
        "colab_type": "code",
        "colab": {}
      },
      "source": [
        "model = gensim.models.Word2Vec (documents, size=150, window=10, min_count=2, workers=10)"
      ],
      "execution_count": 0,
      "outputs": []
    },
    {
      "cell_type": "code",
      "metadata": {
        "id": "fF9huPgBMqYX",
        "colab_type": "code",
        "colab": {
          "base_uri": "https://localhost:8080/",
          "height": 34
        },
        "outputId": "d3668d5b-4781-4b19-9842-7a7229f03be3"
      },
      "source": [
        "model.train(documents,total_examples=len(documents),epochs=10)"
      ],
      "execution_count": 33,
      "outputs": [
        {
          "output_type": "execute_result",
          "data": {
            "text/plain": [
              "(2704471, 3287650)"
            ]
          },
          "metadata": {
            "tags": []
          },
          "execution_count": 33
        }
      ]
    },
    {
      "cell_type": "code",
      "metadata": {
        "id": "JyWpcB2YMu85",
        "colab_type": "code",
        "colab": {
          "base_uri": "https://localhost:8080/",
          "height": 238
        },
        "outputId": "eed3584b-94ac-4db8-bc24-ba8150eaf0fa"
      },
      "source": [
        "w1 = \"disputed\"\n",
        "model.wv.most_similar (positive=w1)"
      ],
      "execution_count": 34,
      "outputs": [
        {
          "output_type": "stream",
          "text": [
            "/usr/local/lib/python3.6/dist-packages/gensim/matutils.py:737: FutureWarning: Conversion of the second argument of issubdtype from `int` to `np.signedinteger` is deprecated. In future, it will be treated as `np.int64 == np.dtype(int).type`.\n",
            "  if np.issubdtype(vec.dtype, np.int):\n"
          ],
          "name": "stderr"
        },
        {
          "output_type": "execute_result",
          "data": {
            "text/plain": [
              "[('verified', 0.5881372690200806),\n",
              " ('deleted', 0.5878233909606934),\n",
              " ('disputing', 0.569312572479248),\n",
              " ('interesting', 0.524124264717102),\n",
              " ('unverified', 0.515620231628418),\n",
              " ('continues', 0.5094890594482422),\n",
              " ('numerous', 0.4953485429286957),\n",
              " ('validated', 0.4950898587703705),\n",
              " ('inserted', 0.4865126609802246),\n",
              " ('remains', 0.4821174740791321)]"
            ]
          },
          "metadata": {
            "tags": []
          },
          "execution_count": 34
        }
      ]
    }
  ]
}