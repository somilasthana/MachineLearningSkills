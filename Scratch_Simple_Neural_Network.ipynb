{
  "nbformat": 4,
  "nbformat_minor": 0,
  "metadata": {
    "colab": {
      "name": "Scratch-Simple-Neural-Network.ipynb",
      "version": "0.3.2",
      "provenance": [],
      "include_colab_link": true
    },
    "kernelspec": {
      "name": "python3",
      "display_name": "Python 3"
    }
  },
  "cells": [
    {
      "cell_type": "markdown",
      "metadata": {
        "id": "view-in-github",
        "colab_type": "text"
      },
      "source": [
        "<a href=\"https://colab.research.google.com/github/somilasthana/MachineLearningSkills/blob/master/Scratch_Simple_Neural_Network.ipynb\" target=\"_parent\"><img src=\"https://colab.research.google.com/assets/colab-badge.svg\" alt=\"Open In Colab\"/></a>"
      ]
    },
    {
      "cell_type": "code",
      "metadata": {
        "id": "w1O61a5KODdw",
        "colab_type": "code",
        "colab": {}
      },
      "source": [
        "import numpy as np"
      ],
      "execution_count": 0,
      "outputs": []
    },
    {
      "cell_type": "code",
      "metadata": {
        "id": "ljjg-ZH6OFaw",
        "colab_type": "code",
        "colab": {}
      },
      "source": [
        "def sigmoid(x):\n",
        "  return 1.0/(1.0 + np.exp(-x))"
      ],
      "execution_count": 0,
      "outputs": []
    },
    {
      "cell_type": "code",
      "metadata": {
        "id": "-flBdrftOS5E",
        "colab_type": "code",
        "colab": {}
      },
      "source": [
        "def sigmoid_derv(x):\n",
        "  return x*(1-x)"
      ],
      "execution_count": 0,
      "outputs": []
    },
    {
      "cell_type": "code",
      "metadata": {
        "id": "AXkev70IOcYR",
        "colab_type": "code",
        "colab": {}
      },
      "source": [
        "X = np.array([\n",
        "    [0, 0, 1],\n",
        "    [0, 1, 1],\n",
        "    [1, 0, 1],\n",
        "    [1, 1, 1]\n",
        "])\n",
        "\n",
        "y = np.array([\n",
        "    [0],\n",
        "    [1],\n",
        "    [1],\n",
        "    [0]\n",
        "])"
      ],
      "execution_count": 0,
      "outputs": []
    },
    {
      "cell_type": "code",
      "metadata": {
        "id": "3yu5C5opPG7-",
        "colab_type": "code",
        "colab": {
          "base_uri": "https://localhost:8080/",
          "height": 35
        },
        "outputId": "427a61e8-c170-42fa-c6bb-d649276d31e2"
      },
      "source": [
        "X.shape[0], X.shape[1], y.shape[0], y.shape[1]"
      ],
      "execution_count": 14,
      "outputs": [
        {
          "output_type": "execute_result",
          "data": {
            "text/plain": [
              "(4, 3, 4, 1)"
            ]
          },
          "metadata": {
            "tags": []
          },
          "execution_count": 14
        }
      ]
    },
    {
      "cell_type": "code",
      "metadata": {
        "id": "8YFP8R4KO9rT",
        "colab_type": "code",
        "colab": {}
      },
      "source": [
        "np.random.seed(42)"
      ],
      "execution_count": 0,
      "outputs": []
    },
    {
      "cell_type": "code",
      "metadata": {
        "id": "cWFPk-rZPANG",
        "colab_type": "code",
        "colab": {}
      },
      "source": [
        "w0 = 2*np.random.random((3, 4)) -1"
      ],
      "execution_count": 0,
      "outputs": []
    },
    {
      "cell_type": "code",
      "metadata": {
        "id": "FWGKmtjoPU9p",
        "colab_type": "code",
        "colab": {}
      },
      "source": [
        "w1 = 2*np.random.random((4, 1)) -1"
      ],
      "execution_count": 0,
      "outputs": []
    },
    {
      "cell_type": "code",
      "metadata": {
        "id": "gXjUBUcWQPls",
        "colab_type": "code",
        "colab": {}
      },
      "source": [
        "iterations = 60000"
      ],
      "execution_count": 0,
      "outputs": []
    },
    {
      "cell_type": "code",
      "metadata": {
        "id": "AbntNteTQUDk",
        "colab_type": "code",
        "colab": {
          "base_uri": "https://localhost:8080/",
          "height": 121
        },
        "outputId": "44d893ad-24a5-4d72-cba7-a0ca9bef894c"
      },
      "source": [
        "for i in range(iterations):\n",
        "  \n",
        "  # Forward Pass\n",
        "  \n",
        "  l0 = X\n",
        "  l1 = sigmoid(np.dot(l0, w0))\n",
        "  l2 = sigmoid(np.dot(l1, w1))\n",
        "  \n",
        "  l2_error = y - l2\n",
        "  \n",
        "  if(i % 10000) == 0:\n",
        "        print(\"Error: \" + str(np.mean(np.abs(l2_error))))\n",
        "      \n",
        "  # Backward Pass\n",
        "  \n",
        "  l2_delta = l2_error * sigmoid_derv(l2) # derivation gives direction while l2_error gives magnitude\n",
        "  \n",
        "  l1_error = l2_delta.dot(w1.T)\n",
        "  \n",
        "  l1_delta = l1_error * sigmoid_derv(l1) # derivation gives direction\n",
        "  \n",
        "  w1 = w1 + l1.T.dot(l2_delta)\n",
        "  w0 = w0 + l0.T.dot(l1_delta)"
      ],
      "execution_count": 25,
      "outputs": [
        {
          "output_type": "stream",
          "text": [
            "Error: 0.49886548555612537\n",
            "Error: 0.010841287171681325\n",
            "Error: 0.007393966872147534\n",
            "Error: 0.0059301502321029535\n",
            "Error: 0.005075207425714825\n",
            "Error: 0.004499382635966652\n"
          ],
          "name": "stdout"
        }
      ]
    },
    {
      "cell_type": "code",
      "metadata": {
        "id": "D1D1xZPfR6fF",
        "colab_type": "code",
        "colab": {}
      },
      "source": [
        ""
      ],
      "execution_count": 0,
      "outputs": []
    }
  ]
}