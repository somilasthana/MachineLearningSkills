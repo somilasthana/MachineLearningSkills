{
  "nbformat": 4,
  "nbformat_minor": 0,
  "metadata": {
    "colab": {
      "name": "RandomForest.ipynb",
      "version": "0.3.2",
      "provenance": [],
      "include_colab_link": true
    },
    "kernelspec": {
      "name": "python3",
      "display_name": "Python 3"
    },
    "accelerator": "GPU"
  },
  "cells": [
    {
      "cell_type": "markdown",
      "metadata": {
        "id": "view-in-github",
        "colab_type": "text"
      },
      "source": [
        "<a href=\"https://colab.research.google.com/github/somilasthana/MachineLearningSkills/blob/master/RandomForest.ipynb\" target=\"_parent\"><img src=\"https://colab.research.google.com/assets/colab-badge.svg\" alt=\"Open In Colab\"/></a>"
      ]
    },
    {
      "cell_type": "code",
      "metadata": {
        "id": "gO_XVQWE_mej",
        "colab_type": "code",
        "colab": {}
      },
      "source": [
        "\"\"\"\n",
        "sklearn ensemble impl two :\n",
        "\n",
        " Random Forest\n",
        " Extra Tree Forest\n",
        "\"\"\""
      ],
      "execution_count": 0,
      "outputs": []
    },
    {
      "cell_type": "code",
      "metadata": {
        "id": "8A6M7FRI_yXB",
        "colab_type": "code",
        "colab": {}
      },
      "source": [
        "\"\"\"\n",
        "RandomForest\n",
        "\n",
        "RandomForestClassifier and RandomForestRegressor\n",
        "\n",
        "Each tree in the ensemble is built from a sample with replacement. Further for \n",
        "splitting only part of features are used to find the best split ( unlke decision trees)\n",
        "In other words, the split that is picked is the best split among a random subset of the features. \n",
        "As a result, the bias of the forest becomes slightly higher but due to averaging variance decreases\n",
        "\n",
        "ExtraTrees\n",
        "\n",
        "ExtraTreesClassifier and ExtraTreesRegressor classes\n",
        "In extremely randomized trees randomness goes a step further in the way splits are computed.\n",
        "\n",
        "Similar to randomforest features are randomly picked however, the threshold to split is also randomly selected \n",
        "instead of most discriminative thresholds.\n",
        "As a result, the variance decreases even more but bias increases slightly more.\n",
        "\n",
        "\n",
        "\"\"\""
      ],
      "execution_count": 0,
      "outputs": []
    },
    {
      "cell_type": "code",
      "metadata": {
        "id": "p5caBXQgBjxJ",
        "colab_type": "code",
        "colab": {}
      },
      "source": [
        "\"\"\"\n",
        "Parameteres used\n",
        "\n",
        "n_estimators  : Number of Foresrt\n",
        "\n",
        "max_features : sqrt(n_features) for classification or n_features for regression\n",
        "\n",
        "\"\"\""
      ],
      "execution_count": 0,
      "outputs": []
    },
    {
      "cell_type": "code",
      "metadata": {
        "id": "MBOSbi81CbOy",
        "colab_type": "code",
        "colab": {}
      },
      "source": [
        "import numpy as np\n",
        "import matplotlib.pyplot as plt\n",
        "\n",
        "from sklearn.datasets import fetch_olivetti_faces\n",
        "from sklearn.utils.validation import check_random_state\n",
        "\n",
        "from sklearn.ensemble import ExtraTreesRegressor"
      ],
      "execution_count": 0,
      "outputs": []
    },
    {
      "cell_type": "code",
      "metadata": {
        "id": "D3sluoVNDZcg",
        "colab_type": "code",
        "colab": {
          "base_uri": "https://localhost:8080/",
          "height": 35
        },
        "outputId": "b2726e4c-90cf-4860-c432-bb9d26ccd2a8"
      },
      "source": [
        "data = fetch_olivetti_faces()"
      ],
      "execution_count": 4,
      "outputs": [
        {
          "output_type": "stream",
          "text": [
            "downloading Olivetti faces from https://ndownloader.figshare.com/files/5976027 to /root/scikit_learn_data\n"
          ],
          "name": "stdout"
        }
      ]
    },
    {
      "cell_type": "code",
      "metadata": {
        "id": "yv3gmZWmDmGj",
        "colab_type": "code",
        "colab": {}
      },
      "source": [
        "targets = data.target"
      ],
      "execution_count": 0,
      "outputs": []
    },
    {
      "cell_type": "code",
      "metadata": {
        "id": "JA4-X7vMDqKZ",
        "colab_type": "code",
        "colab": {}
      },
      "source": [
        "data = data.images.reshape((len(data.images), -1))\n",
        "train = data[targets < 30]\n",
        "test  = data[targets >= 30]"
      ],
      "execution_count": 0,
      "outputs": []
    },
    {
      "cell_type": "code",
      "metadata": {
        "id": "cy_KQTSfD_5B",
        "colab_type": "code",
        "colab": {}
      },
      "source": [
        "n_faces = 5\n",
        "rng = check_random_state(4)\n",
        "\n",
        "face_ids = rng.randint(test.shape[0], size=(n_faces, ))\n",
        "test = test[face_ids, :]\n",
        "\n",
        "n_pixels = data.shape[1]\n",
        "\n",
        "X_train = train[:, :(n_pixels +1)//2]\n",
        "y_train = train[:, n_pixels // 2:]\n",
        "X_test = test[:, :(n_pixels + 1) // 2]\n",
        "y_test = test[:, n_pixels // 2:]"
      ],
      "execution_count": 0,
      "outputs": []
    },
    {
      "cell_type": "code",
      "metadata": {
        "id": "KeZRmRyvE6C0",
        "colab_type": "code",
        "colab": {}
      },
      "source": [
        "# Estimator\n",
        "\n",
        "estimator = ExtraTreesRegressor(n_estimators=10, max_features=32, random_state=42)\n",
        "\n"
      ],
      "execution_count": 0,
      "outputs": []
    },
    {
      "cell_type": "code",
      "metadata": {
        "id": "HiJiCUfjE5gP",
        "colab_type": "code",
        "colab": {}
      },
      "source": [
        "estimator = estimator.fit(X_train, y_train)\n",
        "y_test_predict = estimator.predict(X_test)"
      ],
      "execution_count": 0,
      "outputs": []
    },
    {
      "cell_type": "code",
      "metadata": {
        "id": "tOe6fdfNFa21",
        "colab_type": "code",
        "colab": {
          "base_uri": "https://localhost:8080/",
          "height": 741
        },
        "outputId": "f4f999fe-4654-4144-c37d-1c3164c98814"
      },
      "source": [
        "# Plot the completed faces\n",
        "n_cols = 2\n",
        "image_shape = (64, 64)\n",
        "plt.figure(figsize=(2. * n_cols, 2.26 * n_faces))\n",
        "plt.suptitle(\"Face completion with multi-output estimators\", size=16)\n",
        "\n",
        "for i in range(n_faces):\n",
        "  true_face = np.hstack((X_test[i], y_test[i]))\n",
        "  \n",
        "  if i:\n",
        "    sub = plt.subplot(n_faces, n_cols, i * n_cols + 1)\n",
        "  else:\n",
        "    sub = plt.subplot(n_faces, n_cols, i * n_cols + 1, title=\"true faces\")\n",
        "    \n",
        "  sub.axis(\"off\")\n",
        "  sub.imshow(true_face.reshape(image_shape),\n",
        "               cmap=plt.cm.gray,\n",
        "               interpolation=\"nearest\")\n",
        "  \n",
        "  completed_face = np.hstack((X_test[i], y_test_predict[i]))\n",
        "  \n",
        "  \n",
        "  if i:\n",
        "    sub = plt.subplot(n_faces, n_cols, i * n_cols + 2)\n",
        "  else:\n",
        "    sub = plt.subplot(n_faces, n_cols, i * n_cols + 2,\n",
        "                              title=\"estimated face\")\n",
        "    \n",
        "  sub.axis(\"off\")\n",
        "  \n",
        "  sub.imshow(completed_face.reshape(image_shape),cmap=plt.cm.gray,\n",
        "            interpolation=\"nearest\")"
      ],
      "execution_count": 19,
      "outputs": [
        {
          "output_type": "display_data",
          "data": {
            "image/png": "[encoded data removed]",
            "text/plain": [
              "<Figure size 288x813.6 with 10 Axes>"
            ]
          },
          "metadata": {
            "tags": []
          }
        }
      ]
    },
    {
      "cell_type": "code",
      "metadata": {
        "id": "Tyv6BnmEG4PD",
        "colab_type": "code",
        "colab": {}
      },
      "source": [
        "\"\"\"\n",
        "Feature importance evaluation\n",
        "\n",
        "Features at any level split decision. Features used at the top of the tree \n",
        "contribute to the final prediction decision of a larger fraction of the input \n",
        "samples. \n",
        "\n",
        "The expected fraction of the samples they contribute can also estimate the relative\n",
        "importance of the features. \n",
        "\n",
        "This fraction is combined with decrease in impurity for splitting can be used to \n",
        "create a normalized estimate of predictive power.\n",
        "\n",
        "By averaging the estimated predictive power over several RF trees reduces the variance\n",
        "\n",
        "\"\"\""
      ],
      "execution_count": 0,
      "outputs": []
    },
    {
      "cell_type": "code",
      "metadata": {
        "id": "f-nI5DIFLgWj",
        "colab_type": "code",
        "colab": {}
      },
      "source": [
        "from time import time\n",
        "\n",
        "import numpy as np\n",
        "import matplotlib.pyplot as plt\n",
        "import sklearn.datasets as load_boston\n",
        "from sklearn.ensemble import ExtraTreesRegressor\n",
        "from sklearn.model_selection import GridSearchCV\n",
        "from sklearn.model_selection import RandomizedSearchCV"
      ],
      "execution_count": 0,
      "outputs": []
    },
    {
      "cell_type": "code",
      "metadata": {
        "id": "lPP4DFwhLvhA",
        "colab_type": "code",
        "colab": {
          "base_uri": "https://localhost:8080/",
          "height": 35
        },
        "outputId": "36950455-5f53-456e-8b35-b6d16328b0cc"
      },
      "source": [
        "boston = load_boston()\n",
        "print(boston.data.shape)\n",
        "\n",
        "X = boston.data\n",
        "y = boston.target"
      ],
      "execution_count": 25,
      "outputs": [
        {
          "output_type": "stream",
          "text": [
            "(506, 13)\n"
          ],
          "name": "stdout"
        }
      ]
    },
    {
      "cell_type": "code",
      "metadata": {
        "id": "c9i44lptL8-s",
        "colab_type": "code",
        "colab": {
          "base_uri": "https://localhost:8080/",
          "height": 52
        },
        "outputId": "b6c8616a-d948-4322-cbc1-38b89e76d2bb"
      },
      "source": [
        "feature_name = boston.feature_names\n",
        "feature_name"
      ],
      "execution_count": 27,
      "outputs": [
        {
          "output_type": "execute_result",
          "data": {
            "text/plain": [
              "array(['CRIM', 'ZN', 'INDUS', 'CHAS', 'NOX', 'RM', 'AGE', 'DIS', 'RAD',\n",
              "       'TAX', 'PTRATIO', 'B', 'LSTAT'], dtype='<U7')"
            ]
          },
          "metadata": {
            "tags": []
          },
          "execution_count": 27
        }
      ]
    },
    {
      "cell_type": "code",
      "metadata": {
        "id": "yo4-XmvRNcFB",
        "colab_type": "code",
        "colab": {
          "base_uri": "https://localhost:8080/",
          "height": 35
        },
        "outputId": "f2123b69-0d64-4000-a85a-72b49e27451d"
      },
      "source": [
        "param_grid = {\"n_estimators\": list(range(50, 550, 50))}\n",
        "clf = ExtraTreesRegressor()\n",
        "\n",
        "grid_search = GridSearchCV(clf, param_grid=param_grid, cv=5, iid=False)\n",
        "start = time()\n",
        "grid_search.fit(X, y)\n",
        "\n",
        "print(\"GridSearchCV took %.2f seconds for %d candidate parameter settings.\"\n",
        "      % (time() - start, len(grid_search.cv_results_['params'])))\n",
        "\n",
        "\n",
        "results = grid_search.cv_results_"
      ],
      "execution_count": 45,
      "outputs": [
        {
          "output_type": "stream",
          "text": [
            "GridSearchCV took 18.93 seconds for 10 candidate parameter settings.\n"
          ],
          "name": "stdout"
        }
      ]
    },
    {
      "cell_type": "code",
      "metadata": {
        "id": "yKRmgEbPMW7t",
        "colab_type": "code",
        "colab": {
          "base_uri": "https://localhost:8080/",
          "height": 138
        },
        "outputId": "fdba4a83-494a-4e1b-ddf3-058102c16a97"
      },
      "source": [
        "forest = grid_search.best_estimator_\n",
        "forest"
      ],
      "execution_count": 46,
      "outputs": [
        {
          "output_type": "execute_result",
          "data": {
            "text/plain": [
              "ExtraTreesRegressor(bootstrap=False, criterion='mse', max_depth=None,\n",
              "                    max_features='auto', max_leaf_nodes=None,\n",
              "                    min_impurity_decrease=0.0, min_impurity_split=None,\n",
              "                    min_samples_leaf=1, min_samples_split=2,\n",
              "                    min_weight_fraction_leaf=0.0, n_estimators=50, n_jobs=None,\n",
              "                    oob_score=False, random_state=None, verbose=0,\n",
              "                    warm_start=False)"
            ]
          },
          "metadata": {
            "tags": []
          },
          "execution_count": 46
        }
      ]
    },
    {
      "cell_type": "code",
      "metadata": {
        "id": "dT2WpoYDNkbx",
        "colab_type": "code",
        "colab": {
          "base_uri": "https://localhost:8080/",
          "height": 69
        },
        "outputId": "08908025-55d1-46e6-e5a0-472a9871b4d8"
      },
      "source": [
        "importance = forest.feature_importances_\n",
        "importance"
      ],
      "execution_count": 48,
      "outputs": [
        {
          "output_type": "execute_result",
          "data": {
            "text/plain": [
              "array([0.03739453, 0.00415234, 0.02560316, 0.01976907, 0.04639998,\n",
              "       0.37268181, 0.01871902, 0.0313576 , 0.01852916, 0.05723888,\n",
              "       0.0406272 , 0.01605812, 0.31146912])"
            ]
          },
          "metadata": {
            "tags": []
          },
          "execution_count": 48
        }
      ]
    },
    {
      "cell_type": "code",
      "metadata": {
        "id": "ZrK-PKduNyIH",
        "colab_type": "code",
        "colab": {}
      },
      "source": [
        "std = np.std([tree.feature_importances_ for tree in forest.estimators_],\n",
        "             axis=0)"
      ],
      "execution_count": 0,
      "outputs": []
    },
    {
      "cell_type": "code",
      "metadata": {
        "id": "fZurvzKhQ54O",
        "colab_type": "code",
        "colab": {
          "base_uri": "https://localhost:8080/",
          "height": 35
        },
        "outputId": "c86f7d31-d7c8-4fe5-b828-71a84a3f75bd"
      },
      "source": [
        "indices = np.argsort(importance)[::-1]\n",
        "indices"
      ],
      "execution_count": 53,
      "outputs": [
        {
          "output_type": "execute_result",
          "data": {
            "text/plain": [
              "array([ 5, 12,  9,  4, 10,  0,  7,  2,  3,  6,  8, 11,  1])"
            ]
          },
          "metadata": {
            "tags": []
          },
          "execution_count": 53
        }
      ]
    },
    {
      "cell_type": "code",
      "metadata": {
        "id": "DUDYVL7dRNl4",
        "colab_type": "code",
        "colab": {
          "base_uri": "https://localhost:8080/",
          "height": 298
        },
        "outputId": "c30575cc-54d9-49b8-ff15-5bd330d64ab5"
      },
      "source": [
        "plt.figure()\n",
        "plt.title(\"Boston Data Feature Importance\")\n",
        "plt.bar(range(X.shape[1]), importance[indices], color=\"b\", yerr=std[indices], align=\"center\")\n",
        "plt.xticks(range(X.shape[1]), indices)\n",
        "plt.xlim([-1, X.shape[1]])"
      ],
      "execution_count": 61,
      "outputs": [
        {
          "output_type": "execute_result",
          "data": {
            "text/plain": [
              "(-1, 13)"
            ]
          },
          "metadata": {
            "tags": []
          },
          "execution_count": 61
        },
        {
          "output_type": "display_data",
          "data": {
            "image/png": "[encoded data removed]",
            "text/plain": [
              "<Figure size 432x288 with 1 Axes>"
            ]
          },
          "metadata": {
            "tags": []
          }
        }
      ]
    },
    {
      "cell_type": "code",
      "metadata": {
        "id": "VuWf7YntRvcQ",
        "colab_type": "code",
        "colab": {
          "base_uri": "https://localhost:8080/",
          "height": 52
        },
        "outputId": "a847fc78-5eb5-4ed9-8cdf-bde7a11c77a0"
      },
      "source": [
        "feature_name[indices]"
      ],
      "execution_count": 56,
      "outputs": [
        {
          "output_type": "execute_result",
          "data": {
            "text/plain": [
              "array(['RM', 'LSTAT', 'TAX', 'NOX', 'PTRATIO', 'CRIM', 'DIS', 'INDUS',\n",
              "       'CHAS', 'AGE', 'RAD', 'B', 'ZN'], dtype='<U7')"
            ]
          },
          "metadata": {
            "tags": []
          },
          "execution_count": 56
        }
      ]
    },
    {
      "cell_type": "code",
      "metadata": {
        "id": "LljcmwfxR5u5",
        "colab_type": "code",
        "colab": {}
      },
      "source": [
        "\"\"\"\n",
        "random_search = RandomizedSearchCV(clf, param_distributions=param_grid,\n",
        "                                   n_iter=20, cv=5, iid=False)\n",
        "\"\"\""
      ],
      "execution_count": 0,
      "outputs": []
    }
  ]
}