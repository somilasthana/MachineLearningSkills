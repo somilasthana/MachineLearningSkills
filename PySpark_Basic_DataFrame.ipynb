{
  "nbformat": 4,
  "nbformat_minor": 0,
  "metadata": {
    "colab": {
      "name": "PySpark-Basic-DataFrame.ipynb",
      "version": "0.3.2",
      "provenance": [],
      "include_colab_link": true
    },
    "kernelspec": {
      "name": "python3",
      "display_name": "Python 3"
    }
  },
  "cells": [
    {
      "cell_type": "markdown",
      "metadata": {
        "id": "view-in-github",
        "colab_type": "text"
      },
      "source": [
        "<a href=\"https://colab.research.google.com/github/somilasthana/MachineLearningSkills/blob/master/PySpark_Basic_DataFrame.ipynb\" target=\"_parent\"><img src=\"https://colab.research.google.com/assets/colab-badge.svg\" alt=\"Open In Colab\"/></a>"
      ]
    },
    {
      "cell_type": "code",
      "metadata": {
        "id": "Z1cdXDDYSHbr",
        "colab_type": "code",
        "colab": {}
      },
      "source": [
        "!apt-get install openjdk-8-jdk-headless -qq > /dev/null\n",
        "!wget -q https://archive.apache.org/dist/spark/spark-2.3.2/spark-2.3.2-bin-hadoop2.7.tgz\n",
        "!tar xf spark-2.3.2-bin-hadoop2.7.tgz\n",
        "!pip install -q findspark"
      ],
      "execution_count": 0,
      "outputs": []
    },
    {
      "cell_type": "code",
      "metadata": {
        "id": "RVdCyos5SXsM",
        "colab_type": "code",
        "colab": {}
      },
      "source": [
        "import os\n",
        "os.environ[\"JAVA_HOME\"] = \"/usr/lib/jvm/java-8-openjdk-amd64\"\n",
        "os.environ[\"SPARK_HOME\"] = \"/content/spark-2.3.2-bin-hadoop2.7\"\n"
      ],
      "execution_count": 0,
      "outputs": []
    },
    {
      "cell_type": "code",
      "metadata": {
        "id": "O40aS9wjSrcX",
        "colab_type": "code",
        "colab": {}
      },
      "source": [
        "import findspark\n",
        "findspark.init()"
      ],
      "execution_count": 0,
      "outputs": []
    },
    {
      "cell_type": "code",
      "metadata": {
        "id": "DnDqb7ZcSwPf",
        "colab_type": "code",
        "colab": {}
      },
      "source": [
        "from pyspark.sql import SparkSession\n",
        "\n",
        "spark = SparkSession.builder.master(\"local[*]\").getOrCreate()"
      ],
      "execution_count": 0,
      "outputs": []
    },
    {
      "cell_type": "code",
      "metadata": {
        "id": "DAbMpsk-cgou",
        "colab_type": "code",
        "colab": {
          "base_uri": "https://localhost:8080/",
          "height": 86
        },
        "outputId": "1c46f81e-5e3e-470a-8fa1-ce587c0db93d"
      },
      "source": [
        "!curl -L -o donation.zip https://bit.ly/1Aoywaq"
      ],
      "execution_count": 26,
      "outputs": [
        {
          "output_type": "stream",
          "text": [
            "  % Total    % Received % Xferd  Average Speed   Time    Time     Time  Current\n",
            "                                 Dload  Upload   Total   Spent    Left  Speed\n",
            "100   163  100   163    0     0    507      0 --:--:-- --:--:-- --:--:--   507\n",
            "100 53.8M  100 53.8M    0     0  44.4M      0  0:00:01  0:00:01 --:--:-- 65.5M\n"
          ],
          "name": "stdout"
        }
      ]
    },
    {
      "cell_type": "code",
      "metadata": {
        "id": "qWTHG6_RbR0V",
        "colab_type": "code",
        "colab": {}
      },
      "source": [
        "!mkdir linkage\n",
        "!cp /content/donation.zip /content/linkage/"
      ],
      "execution_count": 0,
      "outputs": []
    },
    {
      "cell_type": "code",
      "metadata": {
        "id": "rgXFabGFdCqs",
        "colab_type": "code",
        "colab": {
          "base_uri": "https://localhost:8080/",
          "height": 35
        },
        "outputId": "cd8818df-44ad-4f94-e8c8-3a76001ccfd4"
      },
      "source": [
        "%cd /content/linkage/"
      ],
      "execution_count": 31,
      "outputs": [
        {
          "output_type": "stream",
          "text": [
            "/content/linkage\n"
          ],
          "name": "stdout"
        }
      ]
    },
    {
      "cell_type": "code",
      "metadata": {
        "id": "cj9poqkIbjQL",
        "colab_type": "code",
        "colab": {
          "base_uri": "https://localhost:8080/",
          "height": 242
        },
        "outputId": "8fe0c889-4e6f-4bb3-9865-2a4a3af1fa36"
      },
      "source": [
        "!unzip /content/linkage/donation.zip"
      ],
      "execution_count": 32,
      "outputs": [
        {
          "output_type": "stream",
          "text": [
            "Archive:  /content/linkage/donation.zip\n",
            " extracting: block_10.zip            \n",
            " extracting: block_1.zip             \n",
            " extracting: block_2.zip             \n",
            " extracting: block_3.zip             \n",
            " extracting: block_4.zip             \n",
            " extracting: block_5.zip             \n",
            " extracting: block_6.zip             \n",
            " extracting: block_7.zip             \n",
            " extracting: block_8.zip             \n",
            " extracting: block_9.zip             \n",
            "  inflating: documentation           \n",
            "  inflating: frequencies.csv         \n"
          ],
          "name": "stdout"
        }
      ]
    },
    {
      "cell_type": "code",
      "metadata": {
        "id": "r3Le3oR-brHA",
        "colab_type": "code",
        "colab": {
          "base_uri": "https://localhost:8080/",
          "height": 69
        },
        "outputId": "14c58df3-4198-48bf-8ab9-7a20199ca6bb"
      },
      "source": [
        "!ls"
      ],
      "execution_count": 34,
      "outputs": [
        {
          "output_type": "stream",
          "text": [
            "block_10.zip  block_3.zip  block_6.zip\tblock_9.zip    frequencies.csv\n",
            "block_1.zip   block_4.zip  block_7.zip\tdocumentation\n",
            "block_2.zip   block_5.zip  block_8.zip\tdonation.zip\n"
          ],
          "name": "stdout"
        }
      ]
    },
    {
      "cell_type": "code",
      "metadata": {
        "id": "sE6cOs_CdbtV",
        "colab_type": "code",
        "colab": {
          "base_uri": "https://localhost:8080/",
          "height": 363
        },
        "outputId": "ce17e779-f700-4aee-bf51-2a039aaf4d42"
      },
      "source": [
        "!unzip /content/linkage/block_1.zip\n",
        "!unzip /content/linkage/block_10.zip\n",
        "!unzip /content/linkage/block_2.zip\n",
        "!unzip /content/linkage/block_3.zip\n",
        "!unzip /content/linkage/block_4.zip\n",
        "!unzip /content/linkage/block_5.zip\n",
        "!unzip /content/linkage/block_6.zip\n",
        "!unzip /content/linkage/block_7.zip\n",
        "!unzip /content/linkage/block_8.zip\n",
        "!unzip /content/linkage/block_9.zip"
      ],
      "execution_count": 36,
      "outputs": [
        {
          "output_type": "stream",
          "text": [
            "Archive:  /content/linkage/block_1.zip\n",
            "  inflating: block_1.csv             \n",
            "Archive:  /content/linkage/block_10.zip\n",
            "  inflating: block_10.csv            \n",
            "Archive:  /content/linkage/block_2.zip\n",
            "  inflating: block_2.csv             \n",
            "Archive:  /content/linkage/block_3.zip\n",
            "  inflating: block_3.csv             \n",
            "Archive:  /content/linkage/block_4.zip\n",
            "  inflating: block_4.csv             \n",
            "Archive:  /content/linkage/block_5.zip\n",
            "  inflating: block_5.csv             \n",
            "Archive:  /content/linkage/block_6.zip\n",
            "  inflating: block_6.csv             \n",
            "Archive:  /content/linkage/block_7.zip\n",
            "  inflating: block_7.csv             \n",
            "Archive:  /content/linkage/block_8.zip\n",
            "  inflating: block_8.csv             \n",
            "Archive:  /content/linkage/block_9.zip\n",
            "  inflating: block_9.csv             \n"
          ],
          "name": "stdout"
        }
      ]
    },
    {
      "cell_type": "code",
      "metadata": {
        "id": "S562tEm2fyAI",
        "colab_type": "code",
        "colab": {}
      },
      "source": [
        "!rm -rf /content/linkage/*.zip"
      ],
      "execution_count": 0,
      "outputs": []
    },
    {
      "cell_type": "code",
      "metadata": {
        "id": "dF57ATNMbKxj",
        "colab_type": "code",
        "colab": {}
      },
      "source": [
        "prev = spark.read.option(\"header\", \"true\").option(\"nullValue\", \"?\").option(\"inferSchema\", \"true\").csv(\"/content/linkage\")"
      ],
      "execution_count": 0,
      "outputs": []
    },
    {
      "cell_type": "code",
      "metadata": {
        "id": "nZEzYJw8gAor",
        "colab_type": "code",
        "colab": {
          "base_uri": "https://localhost:8080/",
          "height": 466
        },
        "outputId": "cfe057be-0c80-429b-967b-62958363a081"
      },
      "source": [
        "prev.show()"
      ],
      "execution_count": 46,
      "outputs": [
        {
          "output_type": "stream",
          "text": [
            "+-----+-----+------------+------------+------------+------------+-------+------+------+------+-------+--------+\n",
            "| id_1| id_2|cmp_fname_c1|cmp_fname_c2|cmp_lname_c1|cmp_lname_c2|cmp_sex|cmp_bd|cmp_bm|cmp_by|cmp_plz|is_match|\n",
            "+-----+-----+------------+------------+------------+------------+-------+------+------+------+-------+--------+\n",
            "| 3148| 8326|         1.0|        null|         1.0|        null|      1|     1|     1|     1|      1|    true|\n",
            "|14055|94934|         1.0|        null|         1.0|        null|      1|     1|     1|     1|      1|    true|\n",
            "|33948|34740|         1.0|        null|         1.0|        null|      1|     1|     1|     1|      1|    true|\n",
            "|  946|71870|         1.0|        null|         1.0|        null|      1|     1|     1|     1|      1|    true|\n",
            "|64880|71676|         1.0|        null|         1.0|        null|      1|     1|     1|     1|      1|    true|\n",
            "|25739|45991|         1.0|        null|         1.0|        null|      1|     1|     1|     1|      1|    true|\n",
            "|62415|93584|         1.0|        null|         1.0|        null|      1|     1|     1|     1|      0|    true|\n",
            "|27995|31399|         1.0|        null|         1.0|        null|      1|     1|     1|     1|      1|    true|\n",
            "| 4909|12238|         1.0|        null|         1.0|        null|      1|     1|     1|     1|      1|    true|\n",
            "|15161|16743|         1.0|        null|         1.0|        null|      1|     1|     1|     1|      1|    true|\n",
            "|31703|37310|         1.0|        null|         1.0|        null|      1|     1|     1|     1|      1|    true|\n",
            "|30213|36558|         1.0|        null|         1.0|        null|      1|     1|     1|     1|      1|    true|\n",
            "|56596|56630|         1.0|        null|         1.0|        null|      1|     1|     1|     1|      1|    true|\n",
            "|16481|21174|         1.0|        null|         1.0|        null|      1|     1|     1|     1|      1|    true|\n",
            "|32649|37094|         1.0|        null|         1.0|        null|      1|     1|     1|     1|      1|    true|\n",
            "|34268|37260|         1.0|        null|         1.0|        null|      1|     1|     1|     1|      1|    true|\n",
            "|66117|69253|         1.0|        null|         1.0|        null|      1|     1|     1|     1|      0|    true|\n",
            "| 2771|31982|         1.0|        null|         1.0|        null|      0|     1|     1|     1|      1|    true|\n",
            "|23557|29673|         1.0|        null|         1.0|        null|      1|     1|     1|     1|      1|    true|\n",
            "|37156|39557|         1.0|        null|         1.0|        null|      1|     1|     1|     1|      1|    true|\n",
            "+-----+-----+------------+------------+------------+------------+-------+------+------+------+-------+--------+\n",
            "only showing top 20 rows\n",
            "\n"
          ],
          "name": "stdout"
        }
      ]
    },
    {
      "cell_type": "code",
      "metadata": {
        "id": "3bgpmduGgnnU",
        "colab_type": "code",
        "colab": {
          "base_uri": "https://localhost:8080/",
          "height": 259
        },
        "outputId": "833f094b-fc43-466e-e845-876037de332d"
      },
      "source": [
        "prev.printSchema()"
      ],
      "execution_count": 47,
      "outputs": [
        {
          "output_type": "stream",
          "text": [
            "root\n",
            " |-- id_1: integer (nullable = true)\n",
            " |-- id_2: integer (nullable = true)\n",
            " |-- cmp_fname_c1: double (nullable = true)\n",
            " |-- cmp_fname_c2: double (nullable = true)\n",
            " |-- cmp_lname_c1: double (nullable = true)\n",
            " |-- cmp_lname_c2: double (nullable = true)\n",
            " |-- cmp_sex: integer (nullable = true)\n",
            " |-- cmp_bd: integer (nullable = true)\n",
            " |-- cmp_bm: integer (nullable = true)\n",
            " |-- cmp_by: integer (nullable = true)\n",
            " |-- cmp_plz: integer (nullable = true)\n",
            " |-- is_match: boolean (nullable = true)\n",
            "\n"
          ],
          "name": "stdout"
        }
      ]
    },
    {
      "cell_type": "code",
      "metadata": {
        "id": "rcSjfvqDSzuT",
        "colab_type": "code",
        "colab": {
          "base_uri": "https://localhost:8080/",
          "height": 35
        },
        "outputId": "b92e4ace-ee58-45fc-9c26-ea7afd123b46"
      },
      "source": [
        "prev.count()"
      ],
      "execution_count": 43,
      "outputs": [
        {
          "output_type": "execute_result",
          "data": {
            "text/plain": [
              "5749142"
            ]
          },
          "metadata": {
            "tags": []
          },
          "execution_count": 43
        }
      ]
    },
    {
      "cell_type": "code",
      "metadata": {
        "id": "LIZCwiNDS3qC",
        "colab_type": "code",
        "colab": {
          "base_uri": "https://localhost:8080/",
          "height": 138
        },
        "outputId": "3478701f-c896-43e8-b91d-05738e4983b1"
      },
      "source": [
        "prev.groupBy(\"is_match\").count().orderBy(\"count\").show()"
      ],
      "execution_count": 50,
      "outputs": [
        {
          "output_type": "stream",
          "text": [
            "+--------+-------+\n",
            "|is_match|  count|\n",
            "+--------+-------+\n",
            "|    true|  20931|\n",
            "|   false|5728201|\n",
            "+--------+-------+\n",
            "\n"
          ],
          "name": "stdout"
        }
      ]
    },
    {
      "cell_type": "code",
      "metadata": {
        "id": "4_9a2bnAaadx",
        "colab_type": "code",
        "colab": {
          "base_uri": "https://localhost:8080/",
          "height": 121
        },
        "outputId": "1767a8e4-ea9d-4eb6-bf1b-4de98dc32630"
      },
      "source": [
        "import pyspark.sql.functions\n",
        "prev.agg(pyspark.sql.functions.avg(\"cmp_sex\"), pyspark.sql.functions.stddev(\"cmp_sex\")).show()"
      ],
      "execution_count": 54,
      "outputs": [
        {
          "output_type": "stream",
          "text": [
            "+-----------------+--------------------+\n",
            "|     avg(cmp_sex)|stddev_samp(cmp_sex)|\n",
            "+-----------------+--------------------+\n",
            "|0.955001381078048| 0.20730111116897443|\n",
            "+-----------------+--------------------+\n",
            "\n"
          ],
          "name": "stdout"
        }
      ]
    },
    {
      "cell_type": "code",
      "metadata": {
        "id": "6BMSIxLHpw4p",
        "colab_type": "code",
        "colab": {}
      },
      "source": [
        "prev.createOrReplaceTempView(\"linkage\")"
      ],
      "execution_count": 0,
      "outputs": []
    },
    {
      "cell_type": "code",
      "metadata": {
        "id": "SNZogu7Iqgd_",
        "colab_type": "code",
        "colab": {
          "base_uri": "https://localhost:8080/",
          "height": 138
        },
        "outputId": "1dd4477a-f2ab-43a1-bf36-0dbb65502674"
      },
      "source": [
        "spark.sql(\"\"\"\n",
        "SELECT is_match, COUNT(*) cnt FROM linkage GROUP BY is_match ORDER BY cnt DESC\n",
        "\"\"\").show()"
      ],
      "execution_count": 56,
      "outputs": [
        {
          "output_type": "stream",
          "text": [
            "+--------+-------+\n",
            "|is_match|    cnt|\n",
            "+--------+-------+\n",
            "|   false|5728201|\n",
            "|    true|  20931|\n",
            "+--------+-------+\n",
            "\n"
          ],
          "name": "stdout"
        }
      ]
    },
    {
      "cell_type": "code",
      "metadata": {
        "id": "Gv1Uj0ZZqxsW",
        "colab_type": "code",
        "colab": {}
      },
      "source": [
        "summary = prev.describe()"
      ],
      "execution_count": 0,
      "outputs": []
    },
    {
      "cell_type": "code",
      "metadata": {
        "id": "6UpM1PgKq7m2",
        "colab_type": "code",
        "colab": {
          "base_uri": "https://localhost:8080/",
          "height": 210
        },
        "outputId": "8467aab5-4703-4b99-ef73-fe987399d77a"
      },
      "source": [
        "summary.show()"
      ],
      "execution_count": 58,
      "outputs": [
        {
          "output_type": "stream",
          "text": [
            "+-------+------------------+------------------+------------------+------------------+-------------------+-------------------+-------------------+-------------------+-------------------+------------------+-------------------+\n",
            "|summary|              id_1|              id_2|      cmp_fname_c1|      cmp_fname_c2|       cmp_lname_c1|       cmp_lname_c2|            cmp_sex|             cmp_bd|             cmp_bm|            cmp_by|            cmp_plz|\n",
            "+-------+------------------+------------------+------------------+------------------+-------------------+-------------------+-------------------+-------------------+-------------------+------------------+-------------------+\n",
            "|  count|           5749132|           5749132|           5748125|            103698|            5749132|               2464|            5749132|            5748337|            5748337|           5748337|            5736289|\n",
            "|   mean| 33324.48559643438| 66587.43558331935|0.7129024704425707| 0.900017671890335|0.31562781930763056|0.31841283153174366|  0.955001381078048|0.22446526708507172|0.48885529849763504|0.2227485966810923|0.00552866147434343|\n",
            "| stddev|23659.859374487987|23620.487613269706|0.3887583596162788|0.2713176105782331| 0.3342336339615803| 0.3685670662006655|0.20730111116897443|0.41722972238461925| 0.4998758236779003|0.4160909629831711|0.07414914925420013|\n",
            "|    min|                 1|                 6|               0.0|               0.0|                0.0|                0.0|                  0|                  0|                  0|                 0|                  0|\n",
            "|    max|             99980|            100000|               1.0|               1.0|                1.0|                1.0|                  1|                  1|                  1|                 1|                  1|\n",
            "+-------+------------------+------------------+------------------+------------------+-------------------+-------------------+-------------------+-------------------+-------------------+------------------+-------------------+\n",
            "\n"
          ],
          "name": "stdout"
        }
      ]
    },
    {
      "cell_type": "code",
      "metadata": {
        "id": "iggJczfWrXSI",
        "colab_type": "code",
        "colab": {
          "base_uri": "https://localhost:8080/",
          "height": 190
        },
        "outputId": "8b645b7b-371c-4a8a-8db5-c31710f0929c"
      },
      "source": [
        "summary.select(\"cmp_fname_c1\", \"cmp_fname_c2\").show()"
      ],
      "execution_count": 59,
      "outputs": [
        {
          "output_type": "stream",
          "text": [
            "+------------------+------------------+\n",
            "|      cmp_fname_c1|      cmp_fname_c2|\n",
            "+------------------+------------------+\n",
            "|           5748125|            103698|\n",
            "|0.7129024704425707| 0.900017671890335|\n",
            "|0.3887583596162788|0.2713176105782331|\n",
            "|               0.0|               0.0|\n",
            "|               1.0|               1.0|\n",
            "+------------------+------------------+\n",
            "\n"
          ],
          "name": "stdout"
        }
      ]
    },
    {
      "cell_type": "code",
      "metadata": {
        "id": "V39eWD8arge7",
        "colab_type": "code",
        "colab": {}
      },
      "source": [
        "matches = prev.where(\"is_match == true\")\n",
        "matchSummary =matches.describe()"
      ],
      "execution_count": 0,
      "outputs": []
    },
    {
      "cell_type": "code",
      "metadata": {
        "id": "-p1ZW-rtTLtv",
        "colab_type": "code",
        "colab": {}
      },
      "source": [
        "matches = prev.where(\"is_match == false\")\n",
        "missSummary =matches.describe()"
      ],
      "execution_count": 0,
      "outputs": []
    },
    {
      "cell_type": "code",
      "metadata": {
        "id": "_9mywMpvVO0x",
        "colab_type": "code",
        "colab": {
          "base_uri": "https://localhost:8080/",
          "height": 210
        },
        "outputId": "d4a6852f-80d8-4fa4-804e-b4cfebd006ca"
      },
      "source": [
        "missSummary.show()"
      ],
      "execution_count": 153,
      "outputs": [
        {
          "output_type": "stream",
          "text": [
            "+-------+------------------+-----------------+------------------+------------------+------------------+-------------------+-------------------+------------------+------------------+-------------------+--------------------+\n",
            "|summary|              id_1|             id_2|      cmp_fname_c1|      cmp_fname_c2|      cmp_lname_c1|       cmp_lname_c2|            cmp_sex|            cmp_bd|            cmp_bm|             cmp_by|             cmp_plz|\n",
            "+-------+------------------+-----------------+------------------+------------------+------------------+-------------------+-------------------+------------------+------------------+-------------------+--------------------+\n",
            "|  count|           5728201|          5728201|           5727203|            102365|           5728201|               1989|            5728201|           5727412|           5727412|            5727412|             5715387|\n",
            "|   mean|33319.913548075565|66643.44259218557|0.7118634802163704| 0.898847351409032|0.3131380113360652|0.16295544855122573| 0.9548833918362851|0.2216425149788421| 0.486995347986141| 0.2199230647280133|0.002043781112285135|\n",
            "| stddev| 23665.76013033079|23599.55172824128| 0.389080600969852|0.2727209029401019|0.3322812130572728|0.19302366635287022|0.20755988859217647|0.4153518275558802|0.4998308940493894|0.41419432671429895| 0.04516197989362574|\n",
            "|    min|                 1|               30|               0.0|               0.0|               0.0|                0.0|                  0|                 0|                 0|                  0|                   0|\n",
            "|    max|             99980|           100000|               1.0|               1.0|               1.0|                1.0|                  1|                 1|                 1|                  1|                   1|\n",
            "+-------+------------------+-----------------+------------------+------------------+------------------+-------------------+-------------------+------------------+------------------+-------------------+--------------------+\n",
            "\n"
          ],
          "name": "stdout"
        }
      ]
    },
    {
      "cell_type": "code",
      "metadata": {
        "id": "m4Ola_jtsDof",
        "colab_type": "code",
        "colab": {
          "base_uri": "https://localhost:8080/",
          "height": 210
        },
        "outputId": "6385c007-8c0f-4575-ff61-d12c6209908a"
      },
      "source": [
        "matchSummary.show()"
      ],
      "execution_count": 62,
      "outputs": [
        {
          "output_type": "stream",
          "text": [
            "+-------+------------------+------------------+-------------------+-------------------+-------------------+------------------+-------------------+-------------------+--------------------+-------------------+------------------+\n",
            "|summary|              id_1|              id_2|       cmp_fname_c1|       cmp_fname_c2|       cmp_lname_c1|      cmp_lname_c2|            cmp_sex|             cmp_bd|              cmp_bm|             cmp_by|           cmp_plz|\n",
            "+-------+------------------+------------------+-------------------+-------------------+-------------------+------------------+-------------------+-------------------+--------------------+-------------------+------------------+\n",
            "|  count|             20931|             20931|              20922|               1333|              20931|               475|              20931|              20925|               20925|              20925|             20902|\n",
            "|   mean| 34575.72117911232| 51259.95939037791| 0.9973163859635039| 0.9898900320318176| 0.9970152595958813| 0.969370167843852|  0.987291577086618| 0.9970848267622461|  0.9979450418160095| 0.9961290322580645|0.9584250310975027|\n",
            "| stddev|21950.312851969127|24345.733453775203|0.03650667584833678|0.08251973727615236|0.04311880753394509|0.1534528074038892|0.11201570591216439|0.05391487659807982|0.045286127452170685|0.06209804856731052|0.1996206334593192|\n",
            "|    min|                 5|                 6|                0.0|                0.0|                0.0|               0.0|                  0|                  0|                   0|                  0|                 0|\n",
            "|    max|             99946|             99996|                1.0|                1.0|                1.0|               1.0|                  1|                  1|                   1|                  1|                 1|\n",
            "+-------+------------------+------------------+-------------------+-------------------+-------------------+------------------+-------------------+-------------------+--------------------+-------------------+------------------+\n",
            "\n"
          ],
          "name": "stdout"
        }
      ]
    },
    {
      "cell_type": "code",
      "metadata": {
        "id": "teuiet6tsZiB",
        "colab_type": "code",
        "colab": {}
      },
      "source": [
        "schema = summary.schema"
      ],
      "execution_count": 0,
      "outputs": []
    },
    {
      "cell_type": "code",
      "metadata": {
        "id": "5gtTvw6gtL5d",
        "colab_type": "code",
        "colab": {}
      },
      "source": [
        "def fn(x):\n",
        "  metric = x[0]\n",
        "  final = []\n",
        "  for i,val in enumerate(x[1:]):\n",
        "    result = [metric]\n",
        "    result.append(schema[i+1].name)\n",
        "    result.append(float(val))\n",
        "    final.append(result)\n",
        "    \n",
        "  return final\n",
        "  \n",
        "longForm = summary.rdd.flatMap(fn)"
      ],
      "execution_count": 0,
      "outputs": []
    },
    {
      "cell_type": "code",
      "metadata": {
        "id": "UzLlhZjFtirt",
        "colab_type": "code",
        "colab": {
          "base_uri": "https://localhost:8080/",
          "height": 69
        },
        "outputId": "e5a7a77c-fc9c-46cb-bfa5-931d0b921b49"
      },
      "source": [
        "longForm.take(3)"
      ],
      "execution_count": 139,
      "outputs": [
        {
          "output_type": "execute_result",
          "data": {
            "text/plain": [
              "[['count', 'id_1', 5749132.0],\n",
              " ['count', 'id_2', 5749132.0],\n",
              " ['count', 'cmp_fname_c1', 5748125.0]]"
            ]
          },
          "metadata": {
            "tags": []
          },
          "execution_count": 139
        }
      ]
    },
    {
      "cell_type": "code",
      "metadata": {
        "id": "sjnz7tU3281E",
        "colab_type": "code",
        "colab": {}
      },
      "source": [
        "longFormdf = longForm.map(lambda x: (x[0], x[1], x[2])).toDF((\"metric\", \"name\", \"value\"))"
      ],
      "execution_count": 0,
      "outputs": []
    },
    {
      "cell_type": "code",
      "metadata": {
        "id": "uNLZbMxJ3aeJ",
        "colab_type": "code",
        "colab": {
          "base_uri": "https://localhost:8080/",
          "height": 466
        },
        "outputId": "b7d5f8c3-d6c2-4e15-cefe-0a053c2fed07"
      },
      "source": [
        "longFormdf.show()"
      ],
      "execution_count": 142,
      "outputs": [
        {
          "output_type": "stream",
          "text": [
            "+------+------------+-------------------+\n",
            "|metric|        name|              value|\n",
            "+------+------------+-------------------+\n",
            "| count|        id_1|          5749132.0|\n",
            "| count|        id_2|          5749132.0|\n",
            "| count|cmp_fname_c1|          5748125.0|\n",
            "| count|cmp_fname_c2|           103698.0|\n",
            "| count|cmp_lname_c1|          5749132.0|\n",
            "| count|cmp_lname_c2|             2464.0|\n",
            "| count|     cmp_sex|          5749132.0|\n",
            "| count|      cmp_bd|          5748337.0|\n",
            "| count|      cmp_bm|          5748337.0|\n",
            "| count|      cmp_by|          5748337.0|\n",
            "| count|     cmp_plz|          5736289.0|\n",
            "|  mean|        id_1|  33324.48559643438|\n",
            "|  mean|        id_2|  66587.43558331935|\n",
            "|  mean|cmp_fname_c1| 0.7129024704425707|\n",
            "|  mean|cmp_fname_c2|  0.900017671890335|\n",
            "|  mean|cmp_lname_c1|0.31562781930763056|\n",
            "|  mean|cmp_lname_c2|0.31841283153174366|\n",
            "|  mean|     cmp_sex|  0.955001381078048|\n",
            "|  mean|      cmp_bd|0.22446526708507172|\n",
            "|  mean|      cmp_bm|0.48885529849763504|\n",
            "+------+------------+-------------------+\n",
            "only showing top 20 rows\n",
            "\n"
          ],
          "name": "stdout"
        }
      ]
    },
    {
      "cell_type": "code",
      "metadata": {
        "id": "7y1G7R3Q4JPR",
        "colab_type": "code",
        "colab": {}
      },
      "source": [
        "wideFormdf = longFormdf.groupBy(\"name\").pivot(\"metric\", [\"count\", \"mean\", \"stddev\", \"min\", \"max\"]).agg(pyspark.sql.functions.first(\"value\"))"
      ],
      "execution_count": 0,
      "outputs": []
    },
    {
      "cell_type": "code",
      "metadata": {
        "id": "QqqsQTZERvY1",
        "colab_type": "code",
        "colab": {
          "base_uri": "https://localhost:8080/",
          "height": 294
        },
        "outputId": "90faca2f-7311-4760-ad09-d1a13296d369"
      },
      "source": [
        "wideFormdf.show()"
      ],
      "execution_count": 148,
      "outputs": [
        {
          "output_type": "stream",
          "text": [
            "+------------+---------+-------------------+-------------------+---+--------+\n",
            "|        name|    count|               mean|             stddev|min|     max|\n",
            "+------------+---------+-------------------+-------------------+---+--------+\n",
            "|        id_2|5749132.0|  66587.43558331935| 23620.487613269706|6.0|100000.0|\n",
            "|     cmp_plz|5736289.0|0.00552866147434343|0.07414914925420013|0.0|     1.0|\n",
            "|cmp_lname_c1|5749132.0|0.31562781930763056| 0.3342336339615803|0.0|     1.0|\n",
            "|cmp_lname_c2|   2464.0|0.31841283153174366| 0.3685670662006655|0.0|     1.0|\n",
            "|     cmp_sex|5749132.0|  0.955001381078048|0.20730111116897443|0.0|     1.0|\n",
            "|      cmp_bm|5748337.0|0.48885529849763504| 0.4998758236779003|0.0|     1.0|\n",
            "|cmp_fname_c2| 103698.0|  0.900017671890335| 0.2713176105782331|0.0|     1.0|\n",
            "|cmp_fname_c1|5748125.0| 0.7129024704425707| 0.3887583596162788|0.0|     1.0|\n",
            "|        id_1|5749132.0|  33324.48559643438| 23659.859374487987|1.0| 99980.0|\n",
            "|      cmp_bd|5748337.0|0.22446526708507172|0.41722972238461925|0.0|     1.0|\n",
            "|      cmp_by|5748337.0| 0.2227485966810923| 0.4160909629831711|0.0|     1.0|\n",
            "+------------+---------+-------------------+-------------------+---+--------+\n",
            "\n"
          ],
          "name": "stdout"
        }
      ]
    },
    {
      "cell_type": "code",
      "metadata": {
        "id": "MTMubJLNTB0L",
        "colab_type": "code",
        "colab": {}
      },
      "source": [
        "matchSummary.createOrReplaceTempView(\"match_desc\")\n",
        "missSummary.createOrReplaceTempView(\"miss_desc\")"
      ],
      "execution_count": 0,
      "outputs": []
    },
    {
      "cell_type": "code",
      "metadata": {
        "id": "OAkfAS85U96F",
        "colab_type": "code",
        "colab": {}
      },
      "source": [
        ""
      ],
      "execution_count": 0,
      "outputs": []
    }
  ]
}