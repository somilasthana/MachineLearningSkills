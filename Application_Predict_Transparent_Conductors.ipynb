{
  "nbformat": 4,
  "nbformat_minor": 0,
  "metadata": {
    "colab": {
      "name": "Application-Predict-Transparent-Conductors.ipynb",
      "version": "0.3.2",
      "provenance": [],
      "include_colab_link": true
    },
    "kernelspec": {
      "name": "python3",
      "display_name": "Python 3"
    },
    "accelerator": "GPU"
  },
  "cells": [
    {
      "cell_type": "markdown",
      "metadata": {
        "id": "view-in-github",
        "colab_type": "text"
      },
      "source": [
        "<a href=\"https://colab.research.google.com/github/somilasthana/MachineLearningSkills/blob/master/Application_Predict_Transparent_Conductors.ipynb\" target=\"_parent\"><img src=\"https://colab.research.google.com/assets/colab-badge.svg\" alt=\"Open In Colab\"/></a>"
      ]
    },
    {
      "cell_type": "code",
      "metadata": {
        "id": "_s-bLu2SEV9U",
        "colab_type": "code",
        "colab": {
          "base_uri": "https://localhost:8080/",
          "height": 207
        },
        "outputId": "b8d9b6b0-4bf7-4ea5-ff30-20c604523a75"
      },
      "source": [
        "!pip install kaggle"
      ],
      "execution_count": 1,
      "outputs": [
        {
          "output_type": "stream",
          "text": [
            "Requirement already satisfied: kaggle in /usr/local/lib/python3.6/dist-packages (1.5.4)\n",
            "Requirement already satisfied: tqdm in /usr/local/lib/python3.6/dist-packages (from kaggle) (4.28.1)\n",
            "Requirement already satisfied: python-slugify in /usr/local/lib/python3.6/dist-packages (from kaggle) (3.0.2)\n",
            "Requirement already satisfied: six>=1.10 in /usr/local/lib/python3.6/dist-packages (from kaggle) (1.12.0)\n",
            "Requirement already satisfied: urllib3<1.25,>=1.21.1 in /usr/local/lib/python3.6/dist-packages (from kaggle) (1.24.3)\n",
            "Requirement already satisfied: certifi in /usr/local/lib/python3.6/dist-packages (from kaggle) (2019.3.9)\n",
            "Requirement already satisfied: python-dateutil in /usr/local/lib/python3.6/dist-packages (from kaggle) (2.5.3)\n",
            "Requirement already satisfied: requests in /usr/local/lib/python3.6/dist-packages (from kaggle) (2.21.0)\n",
            "Requirement already satisfied: text-unidecode==1.2 in /usr/local/lib/python3.6/dist-packages (from python-slugify->kaggle) (1.2)\n",
            "Requirement already satisfied: chardet<3.1.0,>=3.0.2 in /usr/local/lib/python3.6/dist-packages (from requests->kaggle) (3.0.4)\n",
            "Requirement already satisfied: idna<2.9,>=2.5 in /usr/local/lib/python3.6/dist-packages (from requests->kaggle) (2.8)\n"
          ],
          "name": "stdout"
        }
      ]
    },
    {
      "cell_type": "code",
      "metadata": {
        "id": "WC1-50E8FiBm",
        "colab_type": "code",
        "colab": {
          "resources": {
            "http://localhost:8080/nbextensions/google.colab/files.js": {
              "data": "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",
              "ok": true,
              "headers": [
                [
                  "content-type",
                  "application/javascript"
                ]
              ],
              "status": 200,
              "status_text": ""
            }
          },
          "base_uri": "https://localhost:8080/",
          "height": 72
        },
        "outputId": "8e70d46d-0897-44e0-d8ea-317b8e36a10f"
      },
      "source": [
        "import os\n",
        "\n",
        "# Upload the API token.\n",
        "def get_kaggle_credentials():\n",
        "  token_dir = os.path.join(os.path.expanduser(\"~\"),\".kaggle\")\n",
        "  token_file = os.path.join(token_dir, \"kaggle.json\")\n",
        "  if not os.path.isdir(token_dir):\n",
        "    os.mkdir(token_dir)\n",
        "  try:\n",
        "    with open(token_file,'r') as f:\n",
        "      pass\n",
        "  except IOError as no_file:\n",
        "    try:\n",
        "      from google.colab import files\n",
        "    except ImportError:\n",
        "      raise no_file\n",
        "    \n",
        "    uploaded = files.upload()\n",
        "    \n",
        "    if \"kaggle.json\" not in uploaded:\n",
        "      raise ValueError(\"You need an API key! see: \"\n",
        "                       \"https://github.com/Kaggle/kaggle-api#api-credentials\")\n",
        "    with open(token_file, \"wb\") as f:\n",
        "      f.write(uploaded[\"kaggle.json\"])\n",
        "    os.chmod(token_file, 600)\n",
        "\n",
        "get_kaggle_credentials()"
      ],
      "execution_count": 2,
      "outputs": [
        {
          "output_type": "display_data",
          "data": {
            "text/html": [
              "\n",
              "     <input type=\"file\" id=\"files-28feb135-4bc1-45c1-8dfa-481a9d8d5565\" name=\"files[]\" multiple disabled />\n",
              "     <output id=\"result-28feb135-4bc1-45c1-8dfa-481a9d8d5565\">\n",
              "      Upload widget is only available when the cell has been executed in the\n",
              "      current browser session. Please rerun this cell to enable.\n",
              "      </output>\n",
              "      <script src=\"/nbextensions/google.colab/files.js\"></script> "
            ],
            "text/plain": [
              "<IPython.core.display.HTML object>"
            ]
          },
          "metadata": {
            "tags": []
          }
        },
        {
          "output_type": "stream",
          "text": [
            "Saving kaggle.json to kaggle.json\n"
          ],
          "name": "stdout"
        }
      ]
    },
    {
      "cell_type": "code",
      "metadata": {
        "id": "1a1tJH7EFnCH",
        "colab_type": "code",
        "colab": {}
      },
      "source": [
        "import kaggle"
      ],
      "execution_count": 0,
      "outputs": []
    },
    {
      "cell_type": "code",
      "metadata": {
        "id": "-Ai_8cOZFuKQ",
        "colab_type": "code",
        "colab": {}
      },
      "source": [
        "competition_name = 'nomad2018-predict-transparent-conductors'"
      ],
      "execution_count": 0,
      "outputs": []
    },
    {
      "cell_type": "code",
      "metadata": {
        "id": "7VIzestyF1nB",
        "colab_type": "code",
        "colab": {}
      },
      "source": [
        "kaggle.api.competition_download_files(competition_name, competition_name)"
      ],
      "execution_count": 0,
      "outputs": []
    },
    {
      "cell_type": "code",
      "metadata": {
        "id": "-Ugp9_HqIUD6",
        "colab_type": "code",
        "colab": {}
      },
      "source": [
        "import zipfile\n",
        "\n",
        "def load_data_from_zip(competition, file):\n",
        "  with zipfile.ZipFile(os.path.join(competition, file), 'r') as zip_ref:\n",
        "    unzipped_file = zip_ref.namelist()[0]\n",
        "    zip_ref.extractall(competition)"
      ],
      "execution_count": 0,
      "outputs": []
    },
    {
      "cell_type": "code",
      "metadata": {
        "id": "3ciYYYIDIjLb",
        "colab_type": "code",
        "colab": {}
      },
      "source": [
        "load_data_from_zip(competition_name, 'train.csv.zip')"
      ],
      "execution_count": 0,
      "outputs": []
    },
    {
      "cell_type": "code",
      "metadata": {
        "id": "Q3l2A-HkIn4n",
        "colab_type": "code",
        "colab": {}
      },
      "source": [
        "load_data_from_zip(competition_name, 'test.csv.zip')"
      ],
      "execution_count": 0,
      "outputs": []
    },
    {
      "cell_type": "code",
      "metadata": {
        "id": "Sm0o2IECZ5K2",
        "colab_type": "code",
        "colab": {}
      },
      "source": [
        "load_data_from_zip(competition_name, 'sample_submission.csv.zip')"
      ],
      "execution_count": 0,
      "outputs": []
    },
    {
      "cell_type": "markdown",
      "metadata": {
        "id": "gEE8Ct5HGoSp",
        "colab_type": "text"
      },
      "source": [
        "## Data Exploration"
      ]
    },
    {
      "cell_type": "code",
      "metadata": {
        "id": "022wCW0vGBMI",
        "colab_type": "code",
        "colab": {}
      },
      "source": [
        "import pandas as pd\n",
        "import numpy as np\n",
        "import matplotlib.pyplot as plt\n",
        "%matplotlib inline\n",
        "import seaborn as sns; sns.set()"
      ],
      "execution_count": 0,
      "outputs": []
    },
    {
      "cell_type": "code",
      "metadata": {
        "id": "3iuwYfxEGwvl",
        "colab_type": "code",
        "colab": {
          "base_uri": "https://localhost:8080/",
          "height": 175
        },
        "outputId": "30cef13d-9f89-45e1-cf8d-22c3dae2d5be"
      },
      "source": [
        "train = pd.read_csv('/content/nomad2018-predict-transparent-conductors/train.csv',names=['id', 'spacegroup', 'natoms', 'al',\n",
        "       'ga', 'in', 'a',\n",
        "       'b', 'c',\n",
        "       'alpha', 'beta',\n",
        "       'gamma', 'E0',\n",
        "       'bandgap'],header=0,sep=',')\n",
        "test = pd.read_csv('/content/nomad2018-predict-transparent-conductors/test.csv',names=['id', 'spacegroup', 'natoms', 'al',\n",
        "       'ga', 'in', 'a',\n",
        "       'b', 'c',\n",
        "       'alpha', 'beta',\n",
        "       'gamma'],header=0,sep=',')\n",
        "\n",
        "full = pd.concat([train,test])"
      ],
      "execution_count": 56,
      "outputs": [
        {
          "output_type": "stream",
          "text": [
            "/usr/local/lib/python3.6/dist-packages/ipykernel_launcher.py:13: FutureWarning: Sorting because non-concatenation axis is not aligned. A future version\n",
            "of pandas will change to not sort by default.\n",
            "\n",
            "To accept the future behavior, pass 'sort=False'.\n",
            "\n",
            "To retain the current behavior and silence the warning, pass 'sort=True'.\n",
            "\n",
            "  del sys.path[0]\n"
          ],
          "name": "stderr"
        }
      ]
    },
    {
      "cell_type": "code",
      "metadata": {
        "id": "Us8ucxs7I1QZ",
        "colab_type": "code",
        "colab": {
          "base_uri": "https://localhost:8080/",
          "height": 198
        },
        "outputId": "015ea034-41a0-4de6-e75c-692d75cc8fe0"
      },
      "source": [
        "train.head()"
      ],
      "execution_count": 12,
      "outputs": [
        {
          "output_type": "execute_result",
          "data": {
            "text/html": [
              "<div>\n",
              "<style scoped>\n",
              "    .dataframe tbody tr th:only-of-type {\n",
              "        vertical-align: middle;\n",
              "    }\n",
              "\n",
              "    .dataframe tbody tr th {\n",
              "        vertical-align: top;\n",
              "    }\n",
              "\n",
              "    .dataframe thead th {\n",
              "        text-align: right;\n",
              "    }\n",
              "</style>\n",
              "<table border=\"1\" class=\"dataframe\">\n",
              "  <thead>\n",
              "    <tr style=\"text-align: right;\">\n",
              "      <th></th>\n",
              "      <th>id</th>\n",
              "      <th>spacegroup</th>\n",
              "      <th>natoms</th>\n",
              "      <th>al</th>\n",
              "      <th>ga</th>\n",
              "      <th>in</th>\n",
              "      <th>a</th>\n",
              "      <th>b</th>\n",
              "      <th>c</th>\n",
              "      <th>alpha</th>\n",
              "      <th>beta</th>\n",
              "      <th>gamma</th>\n",
              "      <th>E0</th>\n",
              "      <th>bandgap</th>\n",
              "    </tr>\n",
              "  </thead>\n",
              "  <tbody>\n",
              "    <tr>\n",
              "      <th>0</th>\n",
              "      <td>1</td>\n",
              "      <td>33</td>\n",
              "      <td>80.0</td>\n",
              "      <td>0.6250</td>\n",
              "      <td>0.3750</td>\n",
              "      <td>0.000</td>\n",
              "      <td>9.9523</td>\n",
              "      <td>8.5513</td>\n",
              "      <td>9.1775</td>\n",
              "      <td>90.0026</td>\n",
              "      <td>90.0023</td>\n",
              "      <td>90.0017</td>\n",
              "      <td>0.0680</td>\n",
              "      <td>3.4387</td>\n",
              "    </tr>\n",
              "    <tr>\n",
              "      <th>1</th>\n",
              "      <td>2</td>\n",
              "      <td>194</td>\n",
              "      <td>80.0</td>\n",
              "      <td>0.6250</td>\n",
              "      <td>0.3750</td>\n",
              "      <td>0.000</td>\n",
              "      <td>6.1840</td>\n",
              "      <td>6.1838</td>\n",
              "      <td>23.6287</td>\n",
              "      <td>90.0186</td>\n",
              "      <td>89.9980</td>\n",
              "      <td>120.0025</td>\n",
              "      <td>0.2490</td>\n",
              "      <td>2.9210</td>\n",
              "    </tr>\n",
              "    <tr>\n",
              "      <th>2</th>\n",
              "      <td>3</td>\n",
              "      <td>227</td>\n",
              "      <td>40.0</td>\n",
              "      <td>0.8125</td>\n",
              "      <td>0.1875</td>\n",
              "      <td>0.000</td>\n",
              "      <td>9.7510</td>\n",
              "      <td>5.6595</td>\n",
              "      <td>13.9630</td>\n",
              "      <td>90.9688</td>\n",
              "      <td>91.1228</td>\n",
              "      <td>30.5185</td>\n",
              "      <td>0.1821</td>\n",
              "      <td>2.7438</td>\n",
              "    </tr>\n",
              "    <tr>\n",
              "      <th>3</th>\n",
              "      <td>4</td>\n",
              "      <td>167</td>\n",
              "      <td>30.0</td>\n",
              "      <td>0.7500</td>\n",
              "      <td>0.0000</td>\n",
              "      <td>0.250</td>\n",
              "      <td>5.0036</td>\n",
              "      <td>5.0034</td>\n",
              "      <td>13.5318</td>\n",
              "      <td>89.9888</td>\n",
              "      <td>90.0119</td>\n",
              "      <td>120.0017</td>\n",
              "      <td>0.2172</td>\n",
              "      <td>3.3492</td>\n",
              "    </tr>\n",
              "    <tr>\n",
              "      <th>4</th>\n",
              "      <td>5</td>\n",
              "      <td>194</td>\n",
              "      <td>80.0</td>\n",
              "      <td>0.0000</td>\n",
              "      <td>0.6250</td>\n",
              "      <td>0.375</td>\n",
              "      <td>6.6614</td>\n",
              "      <td>6.6612</td>\n",
              "      <td>24.5813</td>\n",
              "      <td>89.9960</td>\n",
              "      <td>90.0006</td>\n",
              "      <td>119.9893</td>\n",
              "      <td>0.0505</td>\n",
              "      <td>1.3793</td>\n",
              "    </tr>\n",
              "  </tbody>\n",
              "</table>\n",
              "</div>"
            ],
            "text/plain": [
              "   id  spacegroup  natoms      al  ...     beta     gamma      E0  bandgap\n",
              "0   1          33    80.0  0.6250  ...  90.0023   90.0017  0.0680   3.4387\n",
              "1   2         194    80.0  0.6250  ...  89.9980  120.0025  0.2490   2.9210\n",
              "2   3         227    40.0  0.8125  ...  91.1228   30.5185  0.1821   2.7438\n",
              "3   4         167    30.0  0.7500  ...  90.0119  120.0017  0.2172   3.3492\n",
              "4   5         194    80.0  0.0000  ...  90.0006  119.9893  0.0505   1.3793\n",
              "\n",
              "[5 rows x 14 columns]"
            ]
          },
          "metadata": {
            "tags": []
          },
          "execution_count": 12
        }
      ]
    },
    {
      "cell_type": "code",
      "metadata": {
        "id": "wGs8VPXVU9hH",
        "colab_type": "code",
        "colab": {
          "base_uri": "https://localhost:8080/",
          "height": 198
        },
        "outputId": "cd53a8b2-ed96-4894-d7ff-e8b8257bb568"
      },
      "source": [
        "test.head()"
      ],
      "execution_count": 55,
      "outputs": [
        {
          "output_type": "execute_result",
          "data": {
            "text/html": [
              "<div>\n",
              "<style scoped>\n",
              "    .dataframe tbody tr th:only-of-type {\n",
              "        vertical-align: middle;\n",
              "    }\n",
              "\n",
              "    .dataframe tbody tr th {\n",
              "        vertical-align: top;\n",
              "    }\n",
              "\n",
              "    .dataframe thead th {\n",
              "        text-align: right;\n",
              "    }\n",
              "</style>\n",
              "<table border=\"1\" class=\"dataframe\">\n",
              "  <thead>\n",
              "    <tr style=\"text-align: right;\">\n",
              "      <th></th>\n",
              "      <th>id</th>\n",
              "      <th>spacegroup</th>\n",
              "      <th>natoms</th>\n",
              "      <th>al</th>\n",
              "      <th>ga</th>\n",
              "      <th>in</th>\n",
              "      <th>a</th>\n",
              "      <th>b</th>\n",
              "      <th>c</th>\n",
              "      <th>alpha</th>\n",
              "      <th>beta</th>\n",
              "      <th>gamma</th>\n",
              "    </tr>\n",
              "  </thead>\n",
              "  <tbody>\n",
              "    <tr>\n",
              "      <th>0</th>\n",
              "      <td>1</td>\n",
              "      <td>33</td>\n",
              "      <td>80.0</td>\n",
              "      <td>0.1875</td>\n",
              "      <td>0.4688</td>\n",
              "      <td>0.3438</td>\n",
              "      <td>10.5381</td>\n",
              "      <td>9.0141</td>\n",
              "      <td>9.6361</td>\n",
              "      <td>89.9997</td>\n",
              "      <td>90.0003</td>\n",
              "      <td>90.0006</td>\n",
              "    </tr>\n",
              "    <tr>\n",
              "      <th>1</th>\n",
              "      <td>2</td>\n",
              "      <td>33</td>\n",
              "      <td>80.0</td>\n",
              "      <td>0.7500</td>\n",
              "      <td>0.2500</td>\n",
              "      <td>0.0000</td>\n",
              "      <td>9.8938</td>\n",
              "      <td>8.5014</td>\n",
              "      <td>9.1298</td>\n",
              "      <td>90.0038</td>\n",
              "      <td>90.0023</td>\n",
              "      <td>90.0015</td>\n",
              "    </tr>\n",
              "    <tr>\n",
              "      <th>2</th>\n",
              "      <td>3</td>\n",
              "      <td>167</td>\n",
              "      <td>30.0</td>\n",
              "      <td>0.6667</td>\n",
              "      <td>0.1667</td>\n",
              "      <td>0.1667</td>\n",
              "      <td>4.9811</td>\n",
              "      <td>4.9808</td>\n",
              "      <td>13.4799</td>\n",
              "      <td>89.9900</td>\n",
              "      <td>90.0109</td>\n",
              "      <td>120.0014</td>\n",
              "    </tr>\n",
              "    <tr>\n",
              "      <th>3</th>\n",
              "      <td>4</td>\n",
              "      <td>12</td>\n",
              "      <td>80.0</td>\n",
              "      <td>0.5625</td>\n",
              "      <td>0.4375</td>\n",
              "      <td>0.0000</td>\n",
              "      <td>24.3370</td>\n",
              "      <td>6.0091</td>\n",
              "      <td>5.7620</td>\n",
              "      <td>89.9995</td>\n",
              "      <td>103.8581</td>\n",
              "      <td>90.0002</td>\n",
              "    </tr>\n",
              "    <tr>\n",
              "      <th>4</th>\n",
              "      <td>5</td>\n",
              "      <td>12</td>\n",
              "      <td>80.0</td>\n",
              "      <td>0.1875</td>\n",
              "      <td>0.5000</td>\n",
              "      <td>0.3125</td>\n",
              "      <td>24.6443</td>\n",
              "      <td>6.2906</td>\n",
              "      <td>6.1589</td>\n",
              "      <td>90.0000</td>\n",
              "      <td>104.5929</td>\n",
              "      <td>90.0001</td>\n",
              "    </tr>\n",
              "  </tbody>\n",
              "</table>\n",
              "</div>"
            ],
            "text/plain": [
              "   id  spacegroup  natoms      al  ...        c    alpha      beta     gamma\n",
              "0   1          33    80.0  0.1875  ...   9.6361  89.9997   90.0003   90.0006\n",
              "1   2          33    80.0  0.7500  ...   9.1298  90.0038   90.0023   90.0015\n",
              "2   3         167    30.0  0.6667  ...  13.4799  89.9900   90.0109  120.0014\n",
              "3   4          12    80.0  0.5625  ...   5.7620  89.9995  103.8581   90.0002\n",
              "4   5          12    80.0  0.1875  ...   6.1589  90.0000  104.5929   90.0001\n",
              "\n",
              "[5 rows x 12 columns]"
            ]
          },
          "metadata": {
            "tags": []
          },
          "execution_count": 55
        }
      ]
    },
    {
      "cell_type": "code",
      "metadata": {
        "id": "fEXcYOfwJyux",
        "colab_type": "code",
        "colab": {}
      },
      "source": [
        "train[\"alog\"] = np.log(train[\"a\"]) \n",
        "train[\"blog\"] = np.log(train[\"b\"]) \n",
        "train[\"clog\"] = np.log(train[\"c\"]) \n",
        "train[\"gammalog\"] = np.log(train[\"gamma\"])\n"
      ],
      "execution_count": 0,
      "outputs": []
    },
    {
      "cell_type": "code",
      "metadata": {
        "id": "ooc5Fin1VIyv",
        "colab_type": "code",
        "colab": {}
      },
      "source": [
        "test[\"alog\"] = np.log(test[\"a\"]) \n",
        "test[\"blog\"] = np.log(test[\"b\"]) \n",
        "test[\"clog\"] = np.log(test[\"c\"]) \n",
        "test[\"gammalog\"] = np.log(test[\"gamma\"])"
      ],
      "execution_count": 0,
      "outputs": []
    },
    {
      "cell_type": "code",
      "metadata": {
        "id": "hZ5ePrXtI60A",
        "colab_type": "code",
        "colab": {
          "base_uri": "https://localhost:8080/",
          "height": 35
        },
        "outputId": "5b54d096-e8ef-47fa-c213-ce689ded07f7"
      },
      "source": [
        "train[\"spacegroup\"].unique()"
      ],
      "execution_count": 13,
      "outputs": [
        {
          "output_type": "execute_result",
          "data": {
            "text/plain": [
              "array([ 33, 194, 227, 167, 206,  12])"
            ]
          },
          "metadata": {
            "tags": []
          },
          "execution_count": 13
        }
      ]
    },
    {
      "cell_type": "code",
      "metadata": {
        "id": "uRmQ96huJIrf",
        "colab_type": "code",
        "colab": {
          "base_uri": "https://localhost:8080/",
          "height": 313
        },
        "outputId": "b2670a2d-e5d6-48fc-a213-d42078fc764b"
      },
      "source": [
        "train['spacegroup'].value_counts(normalize=True).plot.bar()\n",
        "plt.title('Spacegroup distribution in the training set')\n",
        "plt.ylabel('% of crystals in spacegroup')\n",
        "plt.xlabel('Space group')\n",
        "plt.show()"
      ],
      "execution_count": 14,
      "outputs": [
        {
          "output_type": "display_data",
          "data": {
            "image/png": "[encoded data removed]",
            "text/plain": [
              "<Figure size 432x288 with 1 Axes>"
            ]
          },
          "metadata": {
            "tags": []
          }
        }
      ]
    },
    {
      "cell_type": "code",
      "metadata": {
        "id": "sJmWOiLZJLHg",
        "colab_type": "code",
        "colab": {
          "base_uri": "https://localhost:8080/",
          "height": 288
        },
        "outputId": "97485b68-968a-49e3-cc17-482341721ad8"
      },
      "source": [
        "train[['a','b','c','alpha','beta','gamma']][train['spacegroup'] == 12].describe()"
      ],
      "execution_count": 15,
      "outputs": [
        {
          "output_type": "execute_result",
          "data": {
            "text/html": [
              "<div>\n",
              "<style scoped>\n",
              "    .dataframe tbody tr th:only-of-type {\n",
              "        vertical-align: middle;\n",
              "    }\n",
              "\n",
              "    .dataframe tbody tr th {\n",
              "        vertical-align: top;\n",
              "    }\n",
              "\n",
              "    .dataframe thead th {\n",
              "        text-align: right;\n",
              "    }\n",
              "</style>\n",
              "<table border=\"1\" class=\"dataframe\">\n",
              "  <thead>\n",
              "    <tr style=\"text-align: right;\">\n",
              "      <th></th>\n",
              "      <th>a</th>\n",
              "      <th>b</th>\n",
              "      <th>c</th>\n",
              "      <th>alpha</th>\n",
              "      <th>beta</th>\n",
              "      <th>gamma</th>\n",
              "    </tr>\n",
              "  </thead>\n",
              "  <tbody>\n",
              "    <tr>\n",
              "      <th>count</th>\n",
              "      <td>358.000000</td>\n",
              "      <td>358.000000</td>\n",
              "      <td>358.000000</td>\n",
              "      <td>358.000000</td>\n",
              "      <td>358.000000</td>\n",
              "      <td>358.000000</td>\n",
              "    </tr>\n",
              "    <tr>\n",
              "      <th>mean</th>\n",
              "      <td>21.643844</td>\n",
              "      <td>5.517496</td>\n",
              "      <td>6.113807</td>\n",
              "      <td>89.999838</td>\n",
              "      <td>104.572380</td>\n",
              "      <td>90.000112</td>\n",
              "    </tr>\n",
              "    <tr>\n",
              "      <th>std</th>\n",
              "      <td>5.224161</td>\n",
              "      <td>1.350332</td>\n",
              "      <td>0.241298</td>\n",
              "      <td>0.000290</td>\n",
              "      <td>0.525823</td>\n",
              "      <td>0.000058</td>\n",
              "    </tr>\n",
              "    <tr>\n",
              "      <th>min</th>\n",
              "      <td>11.941300</td>\n",
              "      <td>2.942300</td>\n",
              "      <td>5.672500</td>\n",
              "      <td>89.998900</td>\n",
              "      <td>103.659100</td>\n",
              "      <td>90.000000</td>\n",
              "    </tr>\n",
              "    <tr>\n",
              "      <th>25%</th>\n",
              "      <td>24.091325</td>\n",
              "      <td>5.942450</td>\n",
              "      <td>5.949250</td>\n",
              "      <td>89.999700</td>\n",
              "      <td>104.202400</td>\n",
              "      <td>90.000100</td>\n",
              "    </tr>\n",
              "    <tr>\n",
              "      <th>50%</th>\n",
              "      <td>24.440850</td>\n",
              "      <td>6.211500</td>\n",
              "      <td>6.107900</td>\n",
              "      <td>89.999800</td>\n",
              "      <td>104.596500</td>\n",
              "      <td>90.000100</td>\n",
              "    </tr>\n",
              "    <tr>\n",
              "      <th>75%</th>\n",
              "      <td>24.603600</td>\n",
              "      <td>6.298850</td>\n",
              "      <td>6.240900</td>\n",
              "      <td>90.000000</td>\n",
              "      <td>104.874100</td>\n",
              "      <td>90.000100</td>\n",
              "    </tr>\n",
              "    <tr>\n",
              "      <th>max</th>\n",
              "      <td>24.913400</td>\n",
              "      <td>6.676300</td>\n",
              "      <td>6.904800</td>\n",
              "      <td>90.000400</td>\n",
              "      <td>106.168200</td>\n",
              "      <td>90.000300</td>\n",
              "    </tr>\n",
              "  </tbody>\n",
              "</table>\n",
              "</div>"
            ],
            "text/plain": [
              "                a           b           c       alpha        beta       gamma\n",
              "count  358.000000  358.000000  358.000000  358.000000  358.000000  358.000000\n",
              "mean    21.643844    5.517496    6.113807   89.999838  104.572380   90.000112\n",
              "std      5.224161    1.350332    0.241298    0.000290    0.525823    0.000058\n",
              "min     11.941300    2.942300    5.672500   89.998900  103.659100   90.000000\n",
              "25%     24.091325    5.942450    5.949250   89.999700  104.202400   90.000100\n",
              "50%     24.440850    6.211500    6.107900   89.999800  104.596500   90.000100\n",
              "75%     24.603600    6.298850    6.240900   90.000000  104.874100   90.000100\n",
              "max     24.913400    6.676300    6.904800   90.000400  106.168200   90.000300"
            ]
          },
          "metadata": {
            "tags": []
          },
          "execution_count": 15
        }
      ]
    },
    {
      "cell_type": "markdown",
      "metadata": {
        "id": "uAQaQaPOLkdp",
        "colab_type": "text"
      },
      "source": [
        "**Original Distribution**"
      ]
    },
    {
      "cell_type": "code",
      "metadata": {
        "id": "I_yhQYvtLFmr",
        "colab_type": "code",
        "colab": {
          "base_uri": "https://localhost:8080/",
          "height": 501
        },
        "outputId": "a96e4737-5594-47d1-b20b-a1cf108e86f7"
      },
      "source": [
        "train.hist(figsize=(12,8),column = ['a','b','c','alpha','beta','gamma'],layout =(2,3))\n",
        "plt.show()"
      ],
      "execution_count": 33,
      "outputs": [
        {
          "output_type": "display_data",
          "data": {
            "image/png": "[encoded data removed]",
            "text/plain": [
              "<Figure size 864x576 with 6 Axes>"
            ]
          },
          "metadata": {
            "tags": []
          }
        }
      ]
    },
    {
      "cell_type": "markdown",
      "metadata": {
        "id": "0Nokvd_3Lqql",
        "colab_type": "text"
      },
      "source": [
        "**Transformed Distribution**"
      ]
    },
    {
      "cell_type": "code",
      "metadata": {
        "id": "FtTM7tfSLhcV",
        "colab_type": "code",
        "colab": {
          "base_uri": "https://localhost:8080/",
          "height": 501
        },
        "outputId": "558ff8a6-78a7-42aa-a2e5-48ddd7947f23"
      },
      "source": [
        "train.hist(figsize=(12,8),column = ['alog','blog','clog','alpha','beta','gammalog'],layout =(2,3))\n",
        "plt.show()"
      ],
      "execution_count": 35,
      "outputs": [
        {
          "output_type": "display_data",
          "data": {
            "image/png": "[encoded data removed]",
            "text/plain": [
              "<Figure size 864x576 with 6 Axes>"
            ]
          },
          "metadata": {
            "tags": []
          }
        }
      ]
    },
    {
      "cell_type": "code",
      "metadata": {
        "id": "rqBW3kfgJQpT",
        "colab_type": "code",
        "colab": {
          "base_uri": "https://localhost:8080/",
          "height": 515
        },
        "outputId": "66af3a85-02a1-4dd8-d766-3a5b4bd0991e"
      },
      "source": [
        "train[train['spacegroup'] == 12].hist(figsize=(12,8),column = ['a','b','c','alpha','beta','gamma'],layout =(2,3))\n",
        "plt.show()"
      ],
      "execution_count": 39,
      "outputs": [
        {
          "output_type": "display_data",
          "data": {
            "image/png": "[encoded data removed]",
            "text/plain": [
              "<Figure size 864x576 with 6 Axes>"
            ]
          },
          "metadata": {
            "tags": []
          }
        }
      ]
    },
    {
      "cell_type": "code",
      "metadata": {
        "id": "yRRfBkzALd2N",
        "colab_type": "code",
        "colab": {
          "base_uri": "https://localhost:8080/",
          "height": 515
        },
        "outputId": "c4aaf008-565d-4d5f-acdc-936ad2b34678"
      },
      "source": [
        "train[train['spacegroup'] == 12].hist(figsize=(12,8),column = ['alog','blog','clog','alpha','beta','gammalog'],layout =(2,3))\n",
        "plt.show()"
      ],
      "execution_count": 38,
      "outputs": [
        {
          "output_type": "display_data",
          "data": {
            "image/png": "[encoded data removed]",
            "text/plain": [
              "<Figure size 864x576 with 6 Axes>"
            ]
          },
          "metadata": {
            "tags": []
          }
        }
      ]
    },
    {
      "cell_type": "code",
      "metadata": {
        "id": "iVIiJplQJTmt",
        "colab_type": "code",
        "colab": {
          "base_uri": "https://localhost:8080/",
          "height": 515
        },
        "outputId": "7f83536f-264a-460e-e384-2b25adffde0a"
      },
      "source": [
        "train[train['spacegroup'] == 206].hist(figsize=(12,8),column = ['a','b','c','alpha','beta','gamma'],layout =(2,3))\n",
        "plt.show()"
      ],
      "execution_count": 17,
      "outputs": [
        {
          "output_type": "display_data",
          "data": {
            "image/png": "[encoded data removed]",
            "text/plain": [
              "<Figure size 864x576 with 6 Axes>"
            ]
          },
          "metadata": {
            "tags": []
          }
        }
      ]
    },
    {
      "cell_type": "code",
      "metadata": {
        "id": "Q6ZIw2cdKf15",
        "colab_type": "code",
        "colab": {
          "base_uri": "https://localhost:8080/",
          "height": 515
        },
        "outputId": "bebd3c5d-f194-4f02-813c-b75bc79d3155"
      },
      "source": [
        "train[train['spacegroup'] == 206].hist(figsize=(12,8),column = ['alog','blog','clog','alpha','beta','gammalog'],layout =(2,3))\n",
        "plt.show()"
      ],
      "execution_count": 40,
      "outputs": [
        {
          "output_type": "display_data",
          "data": {
            "image/png": "[encoded data removed]",
            "text/plain": [
              "<Figure size 864x576 with 6 Axes>"
            ]
          },
          "metadata": {
            "tags": []
          }
        }
      ]
    },
    {
      "cell_type": "markdown",
      "metadata": {
        "id": "ueeEf7uTYkKT",
        "colab_type": "text"
      },
      "source": [
        "**By looking at below charts it seems like a mistake to independently model E0 and Bandgap**\n",
        "\n",
        "The are negatively correlated."
      ]
    },
    {
      "cell_type": "code",
      "metadata": {
        "id": "oPr6eS6xM7GG",
        "colab_type": "code",
        "colab": {
          "base_uri": "https://localhost:8080/",
          "height": 292
        },
        "outputId": "5dcd2150-4be6-4cfc-f7c7-bdbb0ebf03d4"
      },
      "source": [
        "plt.scatter(train['E0'], train['bandgap'], s=25, cmap='blue') "
      ],
      "execution_count": 41,
      "outputs": [
        {
          "output_type": "execute_result",
          "data": {
            "text/plain": [
              "<matplotlib.collections.PathCollection at 0x7ff564a84ef0>"
            ]
          },
          "metadata": {
            "tags": []
          },
          "execution_count": 41
        },
        {
          "output_type": "display_data",
          "data": {
            "image/png": "[encoded data removed]",
            "text/plain": [
              "<Figure size 432x288 with 1 Axes>"
            ]
          },
          "metadata": {
            "tags": []
          }
        }
      ]
    },
    {
      "cell_type": "code",
      "metadata": {
        "id": "t8AQrnIiQy3k",
        "colab_type": "code",
        "colab": {
          "base_uri": "https://localhost:8080/",
          "height": 292
        },
        "outputId": "54d0ffd6-7740-4d96-de6b-580413b76ec4"
      },
      "source": [
        "plt.scatter(train[train['spacegroup'] == 206]['E0'], train[train['spacegroup'] == 206]['bandgap'], s=25, cmap='blue') "
      ],
      "execution_count": 42,
      "outputs": [
        {
          "output_type": "execute_result",
          "data": {
            "text/plain": [
              "<matplotlib.collections.PathCollection at 0x7ff56570bda0>"
            ]
          },
          "metadata": {
            "tags": []
          },
          "execution_count": 42
        },
        {
          "output_type": "display_data",
          "data": {
            "image/png": "[encoded data removed]",
            "text/plain": [
              "<Figure size 432x288 with 1 Axes>"
            ]
          },
          "metadata": {
            "tags": []
          }
        }
      ]
    },
    {
      "cell_type": "code",
      "metadata": {
        "id": "ztx593dpSEEF",
        "colab_type": "code",
        "colab": {
          "base_uri": "https://localhost:8080/",
          "height": 292
        },
        "outputId": "a3f8eff5-3614-449e-9f7f-43df77bd57fa"
      },
      "source": [
        "plt.scatter(train[train['spacegroup'] == 12]['E0'], train[train['spacegroup'] == 12]['bandgap'], s=25, cmap='blue') "
      ],
      "execution_count": 44,
      "outputs": [
        {
          "output_type": "execute_result",
          "data": {
            "text/plain": [
              "<matplotlib.collections.PathCollection at 0x7ff564c7e630>"
            ]
          },
          "metadata": {
            "tags": []
          },
          "execution_count": 44
        },
        {
          "output_type": "display_data",
          "data": {
            "image/png": "[encoded data removed]",
            "text/plain": [
              "<Figure size 432x288 with 1 Axes>"
            ]
          },
          "metadata": {
            "tags": []
          }
        }
      ]
    },
    {
      "cell_type": "markdown",
      "metadata": {
        "id": "TDKvVED1SlBd",
        "colab_type": "text"
      },
      "source": [
        "## Case 1 MultiOutputRegressor\n"
      ]
    },
    {
      "cell_type": "code",
      "metadata": {
        "id": "XZHIhdNASLzm",
        "colab_type": "code",
        "colab": {}
      },
      "source": [
        "from sklearn.ensemble import RandomForestRegressor\n",
        "from sklearn.model_selection import train_test_split\n",
        "from sklearn.multioutput import MultiOutputRegressor\n",
        "from sklearn.preprocessing import StandardScaler\n",
        "from sklearn.pipeline import Pipeline"
      ],
      "execution_count": 0,
      "outputs": []
    },
    {
      "cell_type": "code",
      "metadata": {
        "id": "D4K5DwwcTFMA",
        "colab_type": "code",
        "colab": {}
      },
      "source": [
        "X = train.values[:, 1:-2]\n",
        "y = train.values[:, -2:]"
      ],
      "execution_count": 0,
      "outputs": []
    },
    {
      "cell_type": "code",
      "metadata": {
        "id": "DkDePh5xTvSv",
        "colab_type": "code",
        "colab": {
          "base_uri": "https://localhost:8080/",
          "height": 35
        },
        "outputId": "948ad9f5-f693-4057-d33e-e164e41a47b0"
      },
      "source": [
        "X.shape, y.shape"
      ],
      "execution_count": 58,
      "outputs": [
        {
          "output_type": "execute_result",
          "data": {
            "text/plain": [
              "((2400, 11), (2400, 2))"
            ]
          },
          "metadata": {
            "tags": []
          },
          "execution_count": 58
        }
      ]
    },
    {
      "cell_type": "code",
      "metadata": {
        "id": "6uq3jyOHTwio",
        "colab_type": "code",
        "colab": {
          "base_uri": "https://localhost:8080/",
          "height": 52
        },
        "outputId": "1c0f5fab-2a05-44f7-ca7b-f2728d60634f"
      },
      "source": [
        "X[0, :], y[0, :]"
      ],
      "execution_count": 59,
      "outputs": [
        {
          "output_type": "execute_result",
          "data": {
            "text/plain": [
              "(array([33.    , 80.    ,  0.625 ,  0.375 ,  0.    ,  9.9523,  8.5513,\n",
              "         9.1775, 90.0026, 90.0023, 90.0017]), array([0.068 , 3.4387]))"
            ]
          },
          "metadata": {
            "tags": []
          },
          "execution_count": 59
        }
      ]
    },
    {
      "cell_type": "code",
      "metadata": {
        "id": "u6SpVF5fWvt3",
        "colab_type": "code",
        "colab": {}
      },
      "source": [
        "X_train, X_test, y_train, y_test = train_test_split(X, y, test_size=0.25, random_state=42)"
      ],
      "execution_count": 0,
      "outputs": []
    },
    {
      "cell_type": "code",
      "metadata": {
        "id": "hFO8O3aPT7NQ",
        "colab_type": "code",
        "colab": {}
      },
      "source": [
        "max_depth = 30"
      ],
      "execution_count": 0,
      "outputs": []
    },
    {
      "cell_type": "code",
      "metadata": {
        "id": "KzdiiSy-UCBr",
        "colab_type": "code",
        "colab": {}
      },
      "source": [
        "multi_reg = MultiOutputRegressor(\n",
        "    estimator=RandomForestRegressor(n_estimators=100, max_depth=max_depth, random_state=42)\n",
        ")"
      ],
      "execution_count": 0,
      "outputs": []
    },
    {
      "cell_type": "code",
      "metadata": {
        "id": "eOeZwLvpVybD",
        "colab_type": "code",
        "colab": {}
      },
      "source": [
        "multi_reg_pipe = Pipeline(steps=[('scale', StandardScaler()), ('multi_reg', multi_reg)])"
      ],
      "execution_count": 0,
      "outputs": []
    },
    {
      "cell_type": "code",
      "metadata": {
        "id": "b9USRSXDUwUE",
        "colab_type": "code",
        "colab": {
          "base_uri": "https://localhost:8080/",
          "height": 397
        },
        "outputId": "666e1b5e-c4a3-4d2d-9521-af36f936f3e5"
      },
      "source": [
        "multi_reg_pipe.fit(X_train, y_train)"
      ],
      "execution_count": 70,
      "outputs": [
        {
          "output_type": "execute_result",
          "data": {
            "text/plain": [
              "Pipeline(memory=None,\n",
              "         steps=[('scale',\n",
              "                 StandardScaler(copy=True, with_mean=True, with_std=True)),\n",
              "                ('multi_reg',\n",
              "                 MultiOutputRegressor(estimator=RandomForestRegressor(bootstrap=True,\n",
              "                                                                      criterion='mse',\n",
              "                                                                      max_depth=30,\n",
              "                                                                      max_features='auto',\n",
              "                                                                      max_leaf_nodes=None,\n",
              "                                                                      min_impurity_decrease=0.0,\n",
              "                                                                      min_impurity_split=None,\n",
              "                                                                      min_samples_leaf=1,\n",
              "                                                                      min_samples_split=2,\n",
              "                                                                      min_weight_fraction_leaf=0.0,\n",
              "                                                                      n_estimators=100,\n",
              "                                                                      n_jobs=None,\n",
              "                                                                      oob_score=False,\n",
              "                                                                      random_state=42,\n",
              "                                                                      verbose=0,\n",
              "                                                                      warm_start=False),\n",
              "                                      n_jobs=None))],\n",
              "         verbose=False)"
            ]
          },
          "metadata": {
            "tags": []
          },
          "execution_count": 70
        }
      ]
    },
    {
      "cell_type": "code",
      "metadata": {
        "id": "WY1NindEU12J",
        "colab_type": "code",
        "colab": {
          "base_uri": "https://localhost:8080/",
          "height": 35
        },
        "outputId": "5b5481ac-89be-447d-a1f8-85ecb32c27f3"
      },
      "source": [
        "print(\"Score = %.2f\" % multi_reg_pipe.score(X_test, y_test))"
      ],
      "execution_count": 71,
      "outputs": [
        {
          "output_type": "stream",
          "text": [
            "Score= 0.86\n"
          ],
          "name": "stdout"
        }
      ]
    },
    {
      "cell_type": "code",
      "metadata": {
        "id": "mm2WU0N8YGo1",
        "colab_type": "code",
        "colab": {}
      },
      "source": [
        "y_pred = multi_reg_pipe.predict(X_test)"
      ],
      "execution_count": 0,
      "outputs": []
    },
    {
      "cell_type": "code",
      "metadata": {
        "id": "ctMABUUxXZIS",
        "colab_type": "code",
        "colab": {
          "base_uri": "https://localhost:8080/",
          "height": 35
        },
        "outputId": "150c813c-c933-4d7e-e827-8af59af5d19c"
      },
      "source": [
        "from sklearn.metrics import mean_squared_error\n",
        "mean_squared_error(y_test, y_pred, multioutput='raw_values')"
      ],
      "execution_count": 73,
      "outputs": [
        {
          "output_type": "execute_result",
          "data": {
            "text/plain": [
              "array([0.00245648, 0.0673143 ])"
            ]
          },
          "metadata": {
            "tags": []
          },
          "execution_count": 73
        }
      ]
    },
    {
      "cell_type": "code",
      "metadata": {
        "id": "SQyA7cgaYT3F",
        "colab_type": "code",
        "colab": {
          "base_uri": "https://localhost:8080/",
          "height": 35
        },
        "outputId": "1e63f7b5-b22a-43a9-d09d-dfdcbe0e7c8d"
      },
      "source": [
        "from sklearn.metrics import explained_variance_score\n",
        "\n",
        "explained_variance_score(y_test, y_pred)"
      ],
      "execution_count": 75,
      "outputs": [
        {
          "output_type": "execute_result",
          "data": {
            "text/plain": [
              "0.8576412328599393"
            ]
          },
          "metadata": {
            "tags": []
          },
          "execution_count": 75
        }
      ]
    },
    {
      "cell_type": "code",
      "metadata": {
        "id": "cII2wIvOaLbA",
        "colab_type": "code",
        "colab": {}
      },
      "source": [
        "X_sub = test.values[:, 1:]"
      ],
      "execution_count": 0,
      "outputs": []
    },
    {
      "cell_type": "code",
      "metadata": {
        "id": "ni4ZQ0VYaXct",
        "colab_type": "code",
        "colab": {
          "base_uri": "https://localhost:8080/",
          "height": 52
        },
        "outputId": "28fbc324-6b4f-41c1-a73e-76b66ac00ad1"
      },
      "source": [
        "X_sub[0,:]"
      ],
      "execution_count": 81,
      "outputs": [
        {
          "output_type": "execute_result",
          "data": {
            "text/plain": [
              "array([33.    , 80.    ,  0.1875,  0.4688,  0.3438, 10.5381,  9.0141,\n",
              "        9.6361, 89.9997, 90.0003, 90.0006])"
            ]
          },
          "metadata": {
            "tags": []
          },
          "execution_count": 81
        }
      ]
    },
    {
      "cell_type": "markdown",
      "metadata": {
        "id": "0qo3i6PEgvYt",
        "colab_type": "text"
      },
      "source": [
        "## Use xgboost\n"
      ]
    },
    {
      "cell_type": "code",
      "metadata": {
        "id": "KC4QJZZHgtjm",
        "colab_type": "code",
        "colab": {}
      },
      "source": [
        "import xgboost as xgb"
      ],
      "execution_count": 0,
      "outputs": []
    },
    {
      "cell_type": "code",
      "metadata": {
        "id": "nOrbwCdXiHFW",
        "colab_type": "code",
        "colab": {
          "base_uri": "https://localhost:8080/",
          "height": 35
        },
        "outputId": "7002bb95-adc3-430d-abb1-a66c4cff33fb"
      },
      "source": [
        "clf = .fit(X_train, y_train)"
      ],
      "execution_count": 106,
      "outputs": [
        {
          "output_type": "stream",
          "text": [
            "[10:02:28] WARNING: /workspace/src/objective/regression_obj.cu:152: reg:linear is now deprecated in favor of reg:squarederror.\n"
          ],
          "name": "stdout"
        }
      ]
    },
    {
      "cell_type": "code",
      "metadata": {
        "id": "Lp7HWGIojR8P",
        "colab_type": "code",
        "colab": {}
      },
      "source": [
        "multi_xgb = MultiOutputRegressor(\n",
        "    estimator=xgb.XGBRegressor()\n",
        ")"
      ],
      "execution_count": 0,
      "outputs": []
    },
    {
      "cell_type": "code",
      "metadata": {
        "id": "fsLXa_kfjehj",
        "colab_type": "code",
        "colab": {}
      },
      "source": [
        "multi_xgb_pipe = Pipeline(steps=[('scale', StandardScaler()), ('multi_reg', multi_xgb)])"
      ],
      "execution_count": 0,
      "outputs": []
    },
    {
      "cell_type": "code",
      "metadata": {
        "id": "LX4AXWFzjobA",
        "colab_type": "code",
        "colab": {
          "base_uri": "https://localhost:8080/",
          "height": 659
        },
        "outputId": "53ab0b0f-3d19-46ae-b588-5d6f273e7ac5"
      },
      "source": [
        "multi_xgb_pipe.fit(X_train, y_train)"
      ],
      "execution_count": 115,
      "outputs": [
        {
          "output_type": "stream",
          "text": [
            "/usr/local/lib/python3.6/dist-packages/xgboost/core.py:614: UserWarning: Use subset (sliced data) of np.ndarray is not recommended because it will generate extra copies and increase memory consumption\n",
            "  \"because it will generate extra copies and increase memory consumption\")\n",
            "/usr/local/lib/python3.6/dist-packages/xgboost/core.py:614: UserWarning: Use subset (sliced data) of np.ndarray is not recommended because it will generate extra copies and increase memory consumption\n",
            "  \"because it will generate extra copies and increase memory consumption\")\n"
          ],
          "name": "stderr"
        },
        {
          "output_type": "stream",
          "text": [
            "[10:08:28] WARNING: /workspace/src/objective/regression_obj.cu:152: reg:linear is now deprecated in favor of reg:squarederror.\n",
            "[10:08:28] WARNING: /workspace/src/objective/regression_obj.cu:152: reg:linear is now deprecated in favor of reg:squarederror.\n"
          ],
          "name": "stdout"
        },
        {
          "output_type": "execute_result",
          "data": {
            "text/plain": [
              "Pipeline(memory=None,\n",
              "         steps=[('scale',\n",
              "                 StandardScaler(copy=True, with_mean=True, with_std=True)),\n",
              "                ('multi_reg',\n",
              "                 MultiOutputRegressor(estimator=XGBRegressor(base_score=0.5,\n",
              "                                                             booster='gbtree',\n",
              "                                                             colsample_bylevel=1,\n",
              "                                                             colsample_bynode=1,\n",
              "                                                             colsample_bytree=1,\n",
              "                                                             gamma=0,\n",
              "                                                             importance_type='gain',\n",
              "                                                             learning_rate=0.1,\n",
              "                                                             max_delta_step=0,\n",
              "                                                             max_depth=3,\n",
              "                                                             min_child_weight=1,\n",
              "                                                             missing=None,\n",
              "                                                             n_estimators=100,\n",
              "                                                             n_jobs=1,\n",
              "                                                             nthread=None,\n",
              "                                                             objective='reg:linear',\n",
              "                                                             random_state=0,\n",
              "                                                             reg_alpha=0,\n",
              "                                                             reg_lambda=1,\n",
              "                                                             scale_pos_weight=1,\n",
              "                                                             seed=None,\n",
              "                                                             silent=None,\n",
              "                                                             subsample=1,\n",
              "                                                             verbosity=1),\n",
              "                                      n_jobs=None))],\n",
              "         verbose=False)"
            ]
          },
          "metadata": {
            "tags": []
          },
          "execution_count": 115
        }
      ]
    },
    {
      "cell_type": "code",
      "metadata": {
        "id": "9jrxE4-YiZSE",
        "colab_type": "code",
        "colab": {}
      },
      "source": [
        "y_pred = multi_xgb_pipe.predict(X_test)"
      ],
      "execution_count": 0,
      "outputs": []
    },
    {
      "cell_type": "code",
      "metadata": {
        "id": "tamFvwxPilL-",
        "colab_type": "code",
        "colab": {
          "base_uri": "https://localhost:8080/",
          "height": 35
        },
        "outputId": "feb34217-cbe7-4788-b30a-00e0f7cfe175"
      },
      "source": [
        "from sklearn.metrics import mean_squared_error\n",
        "mean_squared_error(y_test, y_pred, multioutput='raw_values')"
      ],
      "execution_count": 118,
      "outputs": [
        {
          "output_type": "execute_result",
          "data": {
            "text/plain": [
              "array([0.00228149, 0.06031715])"
            ]
          },
          "metadata": {
            "tags": []
          },
          "execution_count": 118
        }
      ]
    },
    {
      "cell_type": "markdown",
      "metadata": {
        "id": "ULiuf_9Ff3SZ",
        "colab_type": "text"
      },
      "source": [
        "## Case 2 Implement Stackable Estimators"
      ]
    },
    {
      "cell_type": "code",
      "metadata": {
        "id": "5GAS0d30f9gZ",
        "colab_type": "code",
        "colab": {
          "base_uri": "https://localhost:8080/",
          "height": 314
        },
        "outputId": "ed97f3e8-bbd2-4fb3-90f2-3111eefcbe8d"
      },
      "source": [
        "!pip install -U heamy"
      ],
      "execution_count": 104,
      "outputs": [
        {
          "output_type": "stream",
          "text": [
            "Collecting heamy\n",
            "  Downloading https://files.pythonhosted.org/packages/20/32/2f3e1efa38a8e34f790d90b6d49ef06ab812181ae896c50e89b8750fa5a0/heamy-0.0.7.tar.gz\n",
            "Requirement already satisfied, skipping upgrade: scikit-learn>=0.17.0 in /usr/local/lib/python3.6/dist-packages (from heamy) (0.21.2)\n",
            "Requirement already satisfied, skipping upgrade: pandas>=0.17.0 in /usr/local/lib/python3.6/dist-packages (from heamy) (0.24.2)\n",
            "Requirement already satisfied, skipping upgrade: six>=1.10.0 in /usr/local/lib/python3.6/dist-packages (from heamy) (1.12.0)\n",
            "Requirement already satisfied, skipping upgrade: scipy>=0.16.0 in /usr/local/lib/python3.6/dist-packages (from heamy) (1.3.0)\n",
            "Requirement already satisfied, skipping upgrade: numpy>=1.7.0 in /usr/local/lib/python3.6/dist-packages (from heamy) (1.16.4)\n",
            "Requirement already satisfied, skipping upgrade: joblib>=0.11 in /usr/local/lib/python3.6/dist-packages (from scikit-learn>=0.17.0->heamy) (0.13.2)\n",
            "Requirement already satisfied, skipping upgrade: pytz>=2011k in /usr/local/lib/python3.6/dist-packages (from pandas>=0.17.0->heamy) (2018.9)\n",
            "Requirement already satisfied, skipping upgrade: python-dateutil>=2.5.0 in /usr/local/lib/python3.6/dist-packages (from pandas>=0.17.0->heamy) (2.5.3)\n",
            "Building wheels for collected packages: heamy\n",
            "  Building wheel for heamy (setup.py) ... \u001b[?25l\u001b[?25hdone\n",
            "  Stored in directory: /root/.cache/pip/wheels/ab/05/27/334fcc59e6279e70d84880e6988ea934d740829a900f14352f\n",
            "Successfully built heamy\n",
            "Installing collected packages: heamy\n",
            "Successfully installed heamy-0.0.7\n"
          ],
          "name": "stdout"
        }
      ]
    },
    {
      "cell_type": "markdown",
      "metadata": {
        "id": "zwbTl81Zl5dJ",
        "colab_type": "text"
      },
      "source": [
        "## Case 3 KFold + Basic XGB"
      ]
    },
    {
      "cell_type": "code",
      "metadata": {
        "id": "tP9p0IVYmBxF",
        "colab_type": "code",
        "colab": {}
      },
      "source": [
        "multi_xgb_pipe_list = []\n",
        "from sklearn.model_selection import RepeatedKFold\n",
        "from sklearn.utils import shuffle\n",
        "\n",
        "X_s, y_s = shuffle(X, y, random_state=42)\n",
        "k = RepeatedKFold(n_splits=2, n_repeats=2)\n",
        "for train_index, test_index in k.split(X):\n",
        "  X_train, y_train = X[train_index], y[train_index]\n",
        "  X_test, y_test   = X[test_index], y[test_index]\n",
        "  \n",
        "  multi_xgb_pipe = Pipeline(steps=[('scale', StandardScaler()), ('multi_reg', multi_xgb)])\n",
        "  multi_xgb_pipe.fit(X_train, y_train)\n",
        "  print(\"MSE = \", mean_squared_error(y_test, multi_xgb_pipe.predict(X_test), multioutput='raw_values'))\n",
        "  multi_xgb_pipe_list.append(multi_xgb_pipe)"
      ],
      "execution_count": 0,
      "outputs": []
    },
    {
      "cell_type": "code",
      "metadata": {
        "id": "KHOKsDeTskML",
        "colab_type": "code",
        "colab": {
          "base_uri": "https://localhost:8080/",
          "height": 35
        },
        "outputId": "44b69248-744d-4cc2-c21f-35dfd2d4b5d9"
      },
      "source": [
        "len(multi_xgb_pipe_list)"
      ],
      "execution_count": 143,
      "outputs": [
        {
          "output_type": "execute_result",
          "data": {
            "text/plain": [
              "4"
            ]
          },
          "metadata": {
            "tags": []
          },
          "execution_count": 143
        }
      ]
    },
    {
      "cell_type": "code",
      "metadata": {
        "id": "z9Cgl4SKl5AA",
        "colab_type": "code",
        "colab": {}
      },
      "source": [
        "y_sub = np.zeros((X_sub.shape[0], 2))\n",
        "for model_xgb in multi_xgb_pipe_list:\n",
        "  y_sub += model_xgb.predict(X_sub)\n",
        "  print(y_sub[0, :])\n",
        "  \n",
        "y_sub = y_sub / len(multi_xgb_pipe_list)"
      ],
      "execution_count": 0,
      "outputs": []
    },
    {
      "cell_type": "code",
      "metadata": {
        "id": "2iQapjl7gnrH",
        "colab_type": "code",
        "colab": {}
      },
      "source": [
        "y_sub[:4, :]"
      ],
      "execution_count": 0,
      "outputs": []
    },
    {
      "cell_type": "markdown",
      "metadata": {
        "id": "x_4hhWX_etOg",
        "colab_type": "text"
      },
      "source": [
        "## Submission Logistics"
      ]
    },
    {
      "cell_type": "code",
      "metadata": {
        "id": "o3FdIwyIk1lf",
        "colab_type": "code",
        "colab": {}
      },
      "source": [
        "#y_sub = multi_reg_pipe.predict(X_sub)\n",
        "#y_sub = multi_xgb_pipe.predict(X_sub)"
      ],
      "execution_count": 0,
      "outputs": []
    },
    {
      "cell_type": "code",
      "metadata": {
        "id": "PsZ5U8f8b_CI",
        "colab_type": "code",
        "colab": {}
      },
      "source": [
        "idx = 0\n",
        "with open(\"submission.csv\", \"w\") as fp:\n",
        "  fp.write(\",\".join([\"id\",\"formation_energy_ev_natom\",\"bandgap_energy_ev\"]))\n",
        "  fp.write(\"\\n\")\n",
        "  for v1, v2 in zip(y_sub[:, 0], y_sub[:, 1]):\n",
        "    idx += 1\n",
        "    fp.write(\",\".join(list(map(str, (idx, v1, v2)))))\n",
        "    fp.write(\"\\n\")\n"
      ],
      "execution_count": 0,
      "outputs": []
    },
    {
      "cell_type": "code",
      "metadata": {
        "id": "WZr9zbkid_VP",
        "colab_type": "code",
        "colab": {}
      },
      "source": [
        "!head /content/submission.csv"
      ],
      "execution_count": 0,
      "outputs": []
    },
    {
      "cell_type": "code",
      "metadata": {
        "id": "fuRCW3S_Zvgt",
        "colab_type": "code",
        "colab": {
          "base_uri": "https://localhost:8080/",
          "height": 52
        },
        "outputId": "a72a8938-5086-4122-a3d1-27e0e8129c44"
      },
      "source": [
        "!kaggle competitions submit -c nomad2018-predict-transparent-conductors -f /content/submission.csv -m \"Random Kfold + Basic XGB Submission\""
      ],
      "execution_count": 149,
      "outputs": [
        {
          "output_type": "stream",
          "text": [
            "100% 24.8k/24.8k [00:01<00:00, 17.9kB/s]\n",
            "Successfully submitted to Nomad2018 Predicting Transparent Conductors"
          ],
          "name": "stdout"
        }
      ]
    },
    {
      "cell_type": "code",
      "metadata": {
        "id": "USXO12LGdWuo",
        "colab_type": "code",
        "colab": {}
      },
      "source": [
        ""
      ],
      "execution_count": 0,
      "outputs": []
    }
  ]
}