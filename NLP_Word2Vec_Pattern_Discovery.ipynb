{
  "nbformat": 4,
  "nbformat_minor": 0,
  "metadata": {
    "colab": {
      "name": "NLP-Word2Vec-Pattern-Discovery.ipynb",
      "provenance": [],
      "include_colab_link": true
    },
    "kernelspec": {
      "name": "python3",
      "display_name": "Python 3"
    },
    "accelerator": "GPU"
  },
  "cells": [
    {
      "cell_type": "markdown",
      "metadata": {
        "id": "view-in-github",
        "colab_type": "text"
      },
      "source": [
        "<a href=\"https://colab.research.google.com/github/somilasthana/MachineLearningSkills/blob/master/NLP_Word2Vec_Pattern_Discovery.ipynb\" target=\"_parent\"><img src=\"https://colab.research.google.com/assets/colab-badge.svg\" alt=\"Open In Colab\"/></a>"
      ]
    },
    {
      "cell_type": "code",
      "metadata": {
        "id": "J9fIsFmV9iaX",
        "colab_type": "code",
        "colab": {}
      },
      "source": [
        "# Get Data From https://www.kaggle.com/CooperUnion/cardataset/download"
      ],
      "execution_count": 0,
      "outputs": []
    },
    {
      "cell_type": "code",
      "metadata": {
        "id": "kbUytuftARqD",
        "colab_type": "code",
        "colab": {
          "base_uri": "https://localhost:8080/",
          "height": 50
        },
        "outputId": "64a29052-2920-4e2d-d4db-31b52f3719ad"
      },
      "source": [
        "!unzip /content/cardataset.zip"
      ],
      "execution_count": 1,
      "outputs": [
        {
          "output_type": "stream",
          "text": [
            "Archive:  /content/cardataset.zip\n",
            "  inflating: data.csv                \n"
          ],
          "name": "stdout"
        }
      ]
    },
    {
      "cell_type": "code",
      "metadata": {
        "id": "vpcBSD1aBMtk",
        "colab_type": "code",
        "colab": {}
      },
      "source": [
        "import pandas as pd\n",
        "import numpy as np\n",
        "import scipy\n",
        "from gensim.models import Word2Vec\n",
        "from scipy.spatial import distance"
      ],
      "execution_count": 0,
      "outputs": []
    },
    {
      "cell_type": "code",
      "metadata": {
        "id": "NG5Ob369VL1G",
        "colab_type": "code",
        "colab": {}
      },
      "source": [
        "import warnings\n",
        "warnings.filterwarnings(\"ignore\")"
      ],
      "execution_count": 0,
      "outputs": []
    },
    {
      "cell_type": "code",
      "metadata": {
        "id": "JZIO8q8NAbQL",
        "colab_type": "code",
        "colab": {}
      },
      "source": [
        "df_car = pd.read_csv(\"/content/data.csv\")"
      ],
      "execution_count": 0,
      "outputs": []
    },
    {
      "cell_type": "code",
      "metadata": {
        "id": "Fcc10eQYS9aJ",
        "colab_type": "code",
        "colab": {
          "base_uri": "https://localhost:8080/",
          "height": 34
        },
        "outputId": "48d45e6d-2fec-4006-b4d2-3a40c5c55408"
      },
      "source": [
        "len(df_car)"
      ],
      "execution_count": 5,
      "outputs": [
        {
          "output_type": "execute_result",
          "data": {
            "text/plain": [
              "11914"
            ]
          },
          "metadata": {
            "tags": []
          },
          "execution_count": 5
        }
      ]
    },
    {
      "cell_type": "code",
      "metadata": {
        "id": "TtM3u-AwBLA2",
        "colab_type": "code",
        "colab": {
          "base_uri": "https://localhost:8080/",
          "height": 521
        },
        "outputId": "0f4bb184-8f82-4653-f67f-27d323284788"
      },
      "source": [
        "df_car.head().T"
      ],
      "execution_count": 4,
      "outputs": [
        {
          "output_type": "execute_result",
          "data": {
            "text/html": [
              "<div>\n",
              "<style scoped>\n",
              "    .dataframe tbody tr th:only-of-type {\n",
              "        vertical-align: middle;\n",
              "    }\n",
              "\n",
              "    .dataframe tbody tr th {\n",
              "        vertical-align: top;\n",
              "    }\n",
              "\n",
              "    .dataframe thead th {\n",
              "        text-align: right;\n",
              "    }\n",
              "</style>\n",
              "<table border=\"1\" class=\"dataframe\">\n",
              "  <thead>\n",
              "    <tr style=\"text-align: right;\">\n",
              "      <th></th>\n",
              "      <th>0</th>\n",
              "      <th>1</th>\n",
              "      <th>2</th>\n",
              "      <th>3</th>\n",
              "      <th>4</th>\n",
              "    </tr>\n",
              "  </thead>\n",
              "  <tbody>\n",
              "    <tr>\n",
              "      <th>Make</th>\n",
              "      <td>BMW</td>\n",
              "      <td>BMW</td>\n",
              "      <td>BMW</td>\n",
              "      <td>BMW</td>\n",
              "      <td>BMW</td>\n",
              "    </tr>\n",
              "    <tr>\n",
              "      <th>Model</th>\n",
              "      <td>1 Series M</td>\n",
              "      <td>1 Series</td>\n",
              "      <td>1 Series</td>\n",
              "      <td>1 Series</td>\n",
              "      <td>1 Series</td>\n",
              "    </tr>\n",
              "    <tr>\n",
              "      <th>Year</th>\n",
              "      <td>2011</td>\n",
              "      <td>2011</td>\n",
              "      <td>2011</td>\n",
              "      <td>2011</td>\n",
              "      <td>2011</td>\n",
              "    </tr>\n",
              "    <tr>\n",
              "      <th>Engine Fuel Type</th>\n",
              "      <td>premium unleaded (required)</td>\n",
              "      <td>premium unleaded (required)</td>\n",
              "      <td>premium unleaded (required)</td>\n",
              "      <td>premium unleaded (required)</td>\n",
              "      <td>premium unleaded (required)</td>\n",
              "    </tr>\n",
              "    <tr>\n",
              "      <th>Engine HP</th>\n",
              "      <td>335</td>\n",
              "      <td>300</td>\n",
              "      <td>300</td>\n",
              "      <td>230</td>\n",
              "      <td>230</td>\n",
              "    </tr>\n",
              "    <tr>\n",
              "      <th>Engine Cylinders</th>\n",
              "      <td>6</td>\n",
              "      <td>6</td>\n",
              "      <td>6</td>\n",
              "      <td>6</td>\n",
              "      <td>6</td>\n",
              "    </tr>\n",
              "    <tr>\n",
              "      <th>Transmission Type</th>\n",
              "      <td>MANUAL</td>\n",
              "      <td>MANUAL</td>\n",
              "      <td>MANUAL</td>\n",
              "      <td>MANUAL</td>\n",
              "      <td>MANUAL</td>\n",
              "    </tr>\n",
              "    <tr>\n",
              "      <th>Driven_Wheels</th>\n",
              "      <td>rear wheel drive</td>\n",
              "      <td>rear wheel drive</td>\n",
              "      <td>rear wheel drive</td>\n",
              "      <td>rear wheel drive</td>\n",
              "      <td>rear wheel drive</td>\n",
              "    </tr>\n",
              "    <tr>\n",
              "      <th>Number of Doors</th>\n",
              "      <td>2</td>\n",
              "      <td>2</td>\n",
              "      <td>2</td>\n",
              "      <td>2</td>\n",
              "      <td>2</td>\n",
              "    </tr>\n",
              "    <tr>\n",
              "      <th>Market Category</th>\n",
              "      <td>Factory Tuner,Luxury,High-Performance</td>\n",
              "      <td>Luxury,Performance</td>\n",
              "      <td>Luxury,High-Performance</td>\n",
              "      <td>Luxury,Performance</td>\n",
              "      <td>Luxury</td>\n",
              "    </tr>\n",
              "    <tr>\n",
              "      <th>Vehicle Size</th>\n",
              "      <td>Compact</td>\n",
              "      <td>Compact</td>\n",
              "      <td>Compact</td>\n",
              "      <td>Compact</td>\n",
              "      <td>Compact</td>\n",
              "    </tr>\n",
              "    <tr>\n",
              "      <th>Vehicle Style</th>\n",
              "      <td>Coupe</td>\n",
              "      <td>Convertible</td>\n",
              "      <td>Coupe</td>\n",
              "      <td>Coupe</td>\n",
              "      <td>Convertible</td>\n",
              "    </tr>\n",
              "    <tr>\n",
              "      <th>highway MPG</th>\n",
              "      <td>26</td>\n",
              "      <td>28</td>\n",
              "      <td>28</td>\n",
              "      <td>28</td>\n",
              "      <td>28</td>\n",
              "    </tr>\n",
              "    <tr>\n",
              "      <th>city mpg</th>\n",
              "      <td>19</td>\n",
              "      <td>19</td>\n",
              "      <td>20</td>\n",
              "      <td>18</td>\n",
              "      <td>18</td>\n",
              "    </tr>\n",
              "    <tr>\n",
              "      <th>Popularity</th>\n",
              "      <td>3916</td>\n",
              "      <td>3916</td>\n",
              "      <td>3916</td>\n",
              "      <td>3916</td>\n",
              "      <td>3916</td>\n",
              "    </tr>\n",
              "    <tr>\n",
              "      <th>MSRP</th>\n",
              "      <td>46135</td>\n",
              "      <td>40650</td>\n",
              "      <td>36350</td>\n",
              "      <td>29450</td>\n",
              "      <td>34500</td>\n",
              "    </tr>\n",
              "  </tbody>\n",
              "</table>\n",
              "</div>"
            ],
            "text/plain": [
              "                                                       0  ...                            4\n",
              "Make                                                 BMW  ...                          BMW\n",
              "Model                                         1 Series M  ...                     1 Series\n",
              "Year                                                2011  ...                         2011\n",
              "Engine Fuel Type             premium unleaded (required)  ...  premium unleaded (required)\n",
              "Engine HP                                            335  ...                          230\n",
              "Engine Cylinders                                       6  ...                            6\n",
              "Transmission Type                                 MANUAL  ...                       MANUAL\n",
              "Driven_Wheels                           rear wheel drive  ...             rear wheel drive\n",
              "Number of Doors                                        2  ...                            2\n",
              "Market Category    Factory Tuner,Luxury,High-Performance  ...                       Luxury\n",
              "Vehicle Size                                     Compact  ...                      Compact\n",
              "Vehicle Style                                      Coupe  ...                  Convertible\n",
              "highway MPG                                           26  ...                           28\n",
              "city mpg                                              19  ...                           18\n",
              "Popularity                                          3916  ...                         3916\n",
              "MSRP                                               46135  ...                        34500\n",
              "\n",
              "[16 rows x 5 columns]"
            ]
          },
          "metadata": {
            "tags": []
          },
          "execution_count": 4
        }
      ]
    },
    {
      "cell_type": "code",
      "metadata": {
        "id": "zs7BJ7hGBVVs",
        "colab_type": "code",
        "colab": {}
      },
      "source": [
        "df_car[\"Make_Model\"] = df_car[\"Make\"] + \" \" + df_car[\"Model\"]"
      ],
      "execution_count": 0,
      "outputs": []
    },
    {
      "cell_type": "code",
      "metadata": {
        "id": "PNJFdf3cBqkZ",
        "colab_type": "code",
        "colab": {}
      },
      "source": [
        "columns = ['Engine Fuel Type','Transmission Type','Driven_Wheels','Market Category','Vehicle Size', 'Vehicle Style', 'Make_Model']"
      ],
      "execution_count": 0,
      "outputs": []
    },
    {
      "cell_type": "code",
      "metadata": {
        "id": "gyM8_slnCLIU",
        "colab_type": "code",
        "colab": {}
      },
      "source": [
        "def combine_func(row):\n",
        "  rec = []\n",
        "  for c in columns:\n",
        "    rec.append(str(row[c]))\n",
        "  return rec\n",
        "\n",
        "df_car[\"Combine_Characteristics\"] = df_car[columns].apply(combine_func, axis=1)"
      ],
      "execution_count": 0,
      "outputs": []
    },
    {
      "cell_type": "code",
      "metadata": {
        "id": "A4LOAXZyCynF",
        "colab_type": "code",
        "colab": {
          "base_uri": "https://localhost:8080/",
          "height": 614
        },
        "outputId": "e2216615-9f46-4f93-85a5-bff7f03daae9"
      },
      "source": [
        "df_car.head().T"
      ],
      "execution_count": 18,
      "outputs": [
        {
          "output_type": "execute_result",
          "data": {
            "text/html": [
              "<div>\n",
              "<style scoped>\n",
              "    .dataframe tbody tr th:only-of-type {\n",
              "        vertical-align: middle;\n",
              "    }\n",
              "\n",
              "    .dataframe tbody tr th {\n",
              "        vertical-align: top;\n",
              "    }\n",
              "\n",
              "    .dataframe thead th {\n",
              "        text-align: right;\n",
              "    }\n",
              "</style>\n",
              "<table border=\"1\" class=\"dataframe\">\n",
              "  <thead>\n",
              "    <tr style=\"text-align: right;\">\n",
              "      <th></th>\n",
              "      <th>0</th>\n",
              "      <th>1</th>\n",
              "      <th>2</th>\n",
              "      <th>3</th>\n",
              "      <th>4</th>\n",
              "    </tr>\n",
              "  </thead>\n",
              "  <tbody>\n",
              "    <tr>\n",
              "      <th>Make</th>\n",
              "      <td>BMW</td>\n",
              "      <td>BMW</td>\n",
              "      <td>BMW</td>\n",
              "      <td>BMW</td>\n",
              "      <td>BMW</td>\n",
              "    </tr>\n",
              "    <tr>\n",
              "      <th>Model</th>\n",
              "      <td>1 Series M</td>\n",
              "      <td>1 Series</td>\n",
              "      <td>1 Series</td>\n",
              "      <td>1 Series</td>\n",
              "      <td>1 Series</td>\n",
              "    </tr>\n",
              "    <tr>\n",
              "      <th>Year</th>\n",
              "      <td>2011</td>\n",
              "      <td>2011</td>\n",
              "      <td>2011</td>\n",
              "      <td>2011</td>\n",
              "      <td>2011</td>\n",
              "    </tr>\n",
              "    <tr>\n",
              "      <th>Engine Fuel Type</th>\n",
              "      <td>premium unleaded (required)</td>\n",
              "      <td>premium unleaded (required)</td>\n",
              "      <td>premium unleaded (required)</td>\n",
              "      <td>premium unleaded (required)</td>\n",
              "      <td>premium unleaded (required)</td>\n",
              "    </tr>\n",
              "    <tr>\n",
              "      <th>Engine HP</th>\n",
              "      <td>335</td>\n",
              "      <td>300</td>\n",
              "      <td>300</td>\n",
              "      <td>230</td>\n",
              "      <td>230</td>\n",
              "    </tr>\n",
              "    <tr>\n",
              "      <th>Engine Cylinders</th>\n",
              "      <td>6</td>\n",
              "      <td>6</td>\n",
              "      <td>6</td>\n",
              "      <td>6</td>\n",
              "      <td>6</td>\n",
              "    </tr>\n",
              "    <tr>\n",
              "      <th>Transmission Type</th>\n",
              "      <td>MANUAL</td>\n",
              "      <td>MANUAL</td>\n",
              "      <td>MANUAL</td>\n",
              "      <td>MANUAL</td>\n",
              "      <td>MANUAL</td>\n",
              "    </tr>\n",
              "    <tr>\n",
              "      <th>Driven_Wheels</th>\n",
              "      <td>rear wheel drive</td>\n",
              "      <td>rear wheel drive</td>\n",
              "      <td>rear wheel drive</td>\n",
              "      <td>rear wheel drive</td>\n",
              "      <td>rear wheel drive</td>\n",
              "    </tr>\n",
              "    <tr>\n",
              "      <th>Number of Doors</th>\n",
              "      <td>2</td>\n",
              "      <td>2</td>\n",
              "      <td>2</td>\n",
              "      <td>2</td>\n",
              "      <td>2</td>\n",
              "    </tr>\n",
              "    <tr>\n",
              "      <th>Market Category</th>\n",
              "      <td>Factory Tuner,Luxury,High-Performance</td>\n",
              "      <td>Luxury,Performance</td>\n",
              "      <td>Luxury,High-Performance</td>\n",
              "      <td>Luxury,Performance</td>\n",
              "      <td>Luxury</td>\n",
              "    </tr>\n",
              "    <tr>\n",
              "      <th>Vehicle Size</th>\n",
              "      <td>Compact</td>\n",
              "      <td>Compact</td>\n",
              "      <td>Compact</td>\n",
              "      <td>Compact</td>\n",
              "      <td>Compact</td>\n",
              "    </tr>\n",
              "    <tr>\n",
              "      <th>Vehicle Style</th>\n",
              "      <td>Coupe</td>\n",
              "      <td>Convertible</td>\n",
              "      <td>Coupe</td>\n",
              "      <td>Coupe</td>\n",
              "      <td>Convertible</td>\n",
              "    </tr>\n",
              "    <tr>\n",
              "      <th>highway MPG</th>\n",
              "      <td>26</td>\n",
              "      <td>28</td>\n",
              "      <td>28</td>\n",
              "      <td>28</td>\n",
              "      <td>28</td>\n",
              "    </tr>\n",
              "    <tr>\n",
              "      <th>city mpg</th>\n",
              "      <td>19</td>\n",
              "      <td>19</td>\n",
              "      <td>20</td>\n",
              "      <td>18</td>\n",
              "      <td>18</td>\n",
              "    </tr>\n",
              "    <tr>\n",
              "      <th>Popularity</th>\n",
              "      <td>3916</td>\n",
              "      <td>3916</td>\n",
              "      <td>3916</td>\n",
              "      <td>3916</td>\n",
              "      <td>3916</td>\n",
              "    </tr>\n",
              "    <tr>\n",
              "      <th>MSRP</th>\n",
              "      <td>46135</td>\n",
              "      <td>40650</td>\n",
              "      <td>36350</td>\n",
              "      <td>29450</td>\n",
              "      <td>34500</td>\n",
              "    </tr>\n",
              "    <tr>\n",
              "      <th>Make_Model</th>\n",
              "      <td>BMW 1 Series M</td>\n",
              "      <td>BMW 1 Series</td>\n",
              "      <td>BMW 1 Series</td>\n",
              "      <td>BMW 1 Series</td>\n",
              "      <td>BMW 1 Series</td>\n",
              "    </tr>\n",
              "    <tr>\n",
              "      <th>Combine_Characteristics</th>\n",
              "      <td>[premium unleaded (required), MANUAL, rear whe...</td>\n",
              "      <td>[premium unleaded (required), MANUAL, rear whe...</td>\n",
              "      <td>[premium unleaded (required), MANUAL, rear whe...</td>\n",
              "      <td>[premium unleaded (required), MANUAL, rear whe...</td>\n",
              "      <td>[premium unleaded (required), MANUAL, rear whe...</td>\n",
              "    </tr>\n",
              "  </tbody>\n",
              "</table>\n",
              "</div>"
            ],
            "text/plain": [
              "                                                                         0  ...                                                  4\n",
              "Make                                                                   BMW  ...                                                BMW\n",
              "Model                                                           1 Series M  ...                                           1 Series\n",
              "Year                                                                  2011  ...                                               2011\n",
              "Engine Fuel Type                               premium unleaded (required)  ...                        premium unleaded (required)\n",
              "Engine HP                                                              335  ...                                                230\n",
              "Engine Cylinders                                                         6  ...                                                  6\n",
              "Transmission Type                                                   MANUAL  ...                                             MANUAL\n",
              "Driven_Wheels                                             rear wheel drive  ...                                   rear wheel drive\n",
              "Number of Doors                                                          2  ...                                                  2\n",
              "Market Category                      Factory Tuner,Luxury,High-Performance  ...                                             Luxury\n",
              "Vehicle Size                                                       Compact  ...                                            Compact\n",
              "Vehicle Style                                                        Coupe  ...                                        Convertible\n",
              "highway MPG                                                             26  ...                                                 28\n",
              "city mpg                                                                19  ...                                                 18\n",
              "Popularity                                                            3916  ...                                               3916\n",
              "MSRP                                                                 46135  ...                                              34500\n",
              "Make_Model                                                  BMW 1 Series M  ...                                       BMW 1 Series\n",
              "Combine_Characteristics  [premium unleaded (required), MANUAL, rear whe...  ...  [premium unleaded (required), MANUAL, rear whe...\n",
              "\n",
              "[18 rows x 5 columns]"
            ]
          },
          "metadata": {
            "tags": []
          },
          "execution_count": 18
        }
      ]
    },
    {
      "cell_type": "code",
      "metadata": {
        "id": "goF7OlgYDCoX",
        "colab_type": "code",
        "colab": {
          "base_uri": "https://localhost:8080/",
          "height": 134
        },
        "outputId": "3e9821a9-b7c7-4859-b7c4-1f28c2dbbd5c"
      },
      "source": [
        "df_car.iloc[0].Combine_Characteristics"
      ],
      "execution_count": 19,
      "outputs": [
        {
          "output_type": "execute_result",
          "data": {
            "text/plain": [
              "['premium unleaded (required)',\n",
              " 'MANUAL',\n",
              " 'rear wheel drive',\n",
              " 'Factory Tuner,Luxury,High-Performance',\n",
              " 'Compact',\n",
              " 'Coupe',\n",
              " 'BMW 1 Series M']"
            ]
          },
          "metadata": {
            "tags": []
          },
          "execution_count": 19
        }
      ]
    },
    {
      "cell_type": "code",
      "metadata": {
        "id": "08cheAijDj_O",
        "colab_type": "code",
        "colab": {}
      },
      "source": [
        "sent = list(df_car[\"Combine_Characteristics\"])"
      ],
      "execution_count": 0,
      "outputs": []
    },
    {
      "cell_type": "code",
      "metadata": {
        "id": "GIg0wYUFD4c1",
        "colab_type": "code",
        "colab": {
          "base_uri": "https://localhost:8080/",
          "height": 252
        },
        "outputId": "f98875b8-cf2f-4eb3-dc6e-35f15292a218"
      },
      "source": [
        "sent[:2]"
      ],
      "execution_count": 21,
      "outputs": [
        {
          "output_type": "execute_result",
          "data": {
            "text/plain": [
              "[['premium unleaded (required)',\n",
              "  'MANUAL',\n",
              "  'rear wheel drive',\n",
              "  'Factory Tuner,Luxury,High-Performance',\n",
              "  'Compact',\n",
              "  'Coupe',\n",
              "  'BMW 1 Series M'],\n",
              " ['premium unleaded (required)',\n",
              "  'MANUAL',\n",
              "  'rear wheel drive',\n",
              "  'Luxury,Performance',\n",
              "  'Compact',\n",
              "  'Convertible',\n",
              "  'BMW 1 Series']]"
            ]
          },
          "metadata": {
            "tags": []
          },
          "execution_count": 21
        }
      ]
    },
    {
      "cell_type": "code",
      "metadata": {
        "id": "RH5-djI-D5vH",
        "colab_type": "code",
        "colab": {}
      },
      "source": [
        "model = Word2Vec(sent, min_count=1,size= 50,workers=3, window =3, sg = 1)"
      ],
      "execution_count": 0,
      "outputs": []
    },
    {
      "cell_type": "code",
      "metadata": {
        "id": "UDuM9FBFQSnU",
        "colab_type": "code",
        "colab": {
          "base_uri": "https://localhost:8080/",
          "height": 34
        },
        "outputId": "95548089-6b5d-49bf-ec40-c528863b992c"
      },
      "source": [
        "df_car[\"Make_Model\"].unique()[:3]"
      ],
      "execution_count": 23,
      "outputs": [
        {
          "output_type": "execute_result",
          "data": {
            "text/plain": [
              "array(['BMW 1 Series M', 'BMW 1 Series', 'Audi 100'], dtype=object)"
            ]
          },
          "metadata": {
            "tags": []
          },
          "execution_count": 23
        }
      ]
    },
    {
      "cell_type": "code",
      "metadata": {
        "id": "UHYgQqhERCgE",
        "colab_type": "code",
        "colab": {
          "base_uri": "https://localhost:8080/",
          "height": 202
        },
        "outputId": "a78a069b-c581-4d88-9fb4-f1839020aac5"
      },
      "source": [
        "model['Audi 100']"
      ],
      "execution_count": 38,
      "outputs": [
        {
          "output_type": "execute_result",
          "data": {
            "text/plain": [
              "array([ 0.08266102, -0.1898005 , -0.30731744, -0.05685844, -0.05633126,\n",
              "       -0.20667674, -0.20052275, -0.09933323, -0.0174053 ,  0.09261803,\n",
              "        0.03882178, -0.0196906 ,  0.0423541 , -0.16748723, -0.15225558,\n",
              "       -0.05276911, -0.01089676,  0.12670211, -0.13264127, -0.10373712,\n",
              "       -0.00476502, -0.19128717, -0.04370036, -0.12248108,  0.24472721,\n",
              "       -0.01931706,  0.07322399,  0.09365115, -0.1688672 , -0.18153271,\n",
              "        0.02821643, -0.18719228,  0.00698056, -0.06131585,  0.10151365,\n",
              "       -0.1395575 , -0.07924308,  0.15487449,  0.02697189,  0.09196594,\n",
              "       -0.0990309 ,  0.16137342,  0.19080667,  0.07956833, -0.02398193,\n",
              "        0.0745622 ,  0.04436737, -0.16782261, -0.09652525,  0.05503586],\n",
              "      dtype=float32)"
            ]
          },
          "metadata": {
            "tags": []
          },
          "execution_count": 38
        }
      ]
    },
    {
      "cell_type": "code",
      "metadata": {
        "id": "2pb0FkpIRGuk",
        "colab_type": "code",
        "colab": {
          "base_uri": "https://localhost:8080/",
          "height": 101
        },
        "outputId": "eacc2c3f-421f-492e-8cd5-a317fe74ced4"
      },
      "source": [
        "model.most_similar('BMW 1 Series')[:5]"
      ],
      "execution_count": 34,
      "outputs": [
        {
          "output_type": "execute_result",
          "data": {
            "text/plain": [
              "[('Ferrari 456M', 0.9947965741157532),\n",
              " ('Porsche Cayman', 0.9942175149917603),\n",
              " ('Hyundai Genesis Coupe', 0.9938561916351318),\n",
              " ('Lamborghini Aventador', 0.9938305020332336),\n",
              " ('Aston Martin DBS', 0.9933804273605347)]"
            ]
          },
          "metadata": {
            "tags": []
          },
          "execution_count": 34
        }
      ]
    },
    {
      "cell_type": "code",
      "metadata": {
        "id": "8H8R4IyrSL0z",
        "colab_type": "code",
        "colab": {
          "base_uri": "https://localhost:8080/",
          "height": 34
        },
        "outputId": "1964c0f3-5841-40ec-e4ae-e4795aa77ac7"
      },
      "source": [
        "distance.cosine(model['BMW 1 Series'], model['Ferrari 456M'])"
      ],
      "execution_count": 35,
      "outputs": [
        {
          "output_type": "execute_result",
          "data": {
            "text/plain": [
              "0.005203425884246826"
            ]
          },
          "metadata": {
            "tags": []
          },
          "execution_count": 35
        }
      ]
    },
    {
      "cell_type": "code",
      "metadata": {
        "id": "iWMern37UlIw",
        "colab_type": "code",
        "colab": {
          "base_uri": "https://localhost:8080/",
          "height": 34
        },
        "outputId": "cc1267b1-09ed-427d-bb4d-692f2d22ecff"
      },
      "source": [
        "distance.cosine(model['BMW 1 Series'], model['Nissan Van'])"
      ],
      "execution_count": 37,
      "outputs": [
        {
          "output_type": "execute_result",
          "data": {
            "text/plain": [
              "0.09262579679489136"
            ]
          },
          "metadata": {
            "tags": []
          },
          "execution_count": 37
        }
      ]
    },
    {
      "cell_type": "code",
      "metadata": {
        "id": "14DEtvDRVVqP",
        "colab_type": "code",
        "colab": {
          "base_uri": "https://localhost:8080/",
          "height": 67
        },
        "outputId": "1d71e2ae-8993-4569-9a27-796494a20a5a"
      },
      "source": [
        "df_car[\"Make_Model\"].unique()[:10]"
      ],
      "execution_count": 11,
      "outputs": [
        {
          "output_type": "execute_result",
          "data": {
            "text/plain": [
              "array(['BMW 1 Series M', 'BMW 1 Series', 'Audi 100', 'FIAT 124 Spider',\n",
              "       'Mercedes-Benz 190-Class', 'BMW 2 Series', 'Audi 200',\n",
              "       'Chrysler 200', 'Nissan 200SX', 'Nissan 240SX'], dtype=object)"
            ]
          },
          "metadata": {
            "tags": []
          },
          "execution_count": 11
        }
      ]
    },
    {
      "cell_type": "code",
      "metadata": {
        "id": "XJRJwbMpgVPw",
        "colab_type": "code",
        "colab": {
          "base_uri": "https://localhost:8080/",
          "height": 101
        },
        "outputId": "7cadfd59-62e0-4c7f-9ae6-c88d16cb8a1e"
      },
      "source": [
        "model.most_similar('BMW Z8')[:5]"
      ],
      "execution_count": 52,
      "outputs": [
        {
          "output_type": "execute_result",
          "data": {
            "text/plain": [
              "[('Acura NSX', 0.991580069065094),\n",
              " ('Lexus IS 250 C', 0.9915703535079956),\n",
              " ('Ford Shelby GT500', 0.9913044571876526),\n",
              " ('Honda S2000', 0.9912667870521545),\n",
              " ('Bentley Continental', 0.9910783767700195)]"
            ]
          },
          "metadata": {
            "tags": []
          },
          "execution_count": 52
        }
      ]
    },
    {
      "cell_type": "code",
      "metadata": {
        "id": "1fzr7fpngqTl",
        "colab_type": "code",
        "colab": {
          "base_uri": "https://localhost:8080/",
          "height": 101
        },
        "outputId": "4447e5ff-20ad-40b1-913a-2f87983bb5a0"
      },
      "source": [
        "model.most_similar('Volkswagen Vanagon')[:5]"
      ],
      "execution_count": 57,
      "outputs": [
        {
          "output_type": "execute_result",
          "data": {
            "text/plain": [
              "[('Mazda 5', 0.9966442584991455),\n",
              " ('Plymouth Grand Voyager', 0.9942099452018738),\n",
              " ('Ford Explorer Sport', 0.9940526485443115),\n",
              " ('GMC Safari', 0.9924229979515076),\n",
              " ('Chevrolet Astro', 0.9924125671386719)]"
            ]
          },
          "metadata": {
            "tags": []
          },
          "execution_count": 57
        }
      ]
    },
    {
      "cell_type": "code",
      "metadata": {
        "id": "4Nq6ypUjZtd3",
        "colab_type": "code",
        "colab": {
          "base_uri": "https://localhost:8080/",
          "height": 202
        },
        "outputId": "54a9b195-5979-46fa-f34f-fe20d8603384"
      },
      "source": [
        "diff_vec = model['BMW Z8'] - model['Bentley Continental'] + model['Volkswagen Vanagon']\n",
        "diff_vec"
      ],
      "execution_count": 53,
      "outputs": [
        {
          "output_type": "execute_result",
          "data": {
            "text/plain": [
              "array([ 0.07832734, -0.09396259, -0.12061332,  0.03486972,  0.05724066,\n",
              "       -0.09482359, -0.08617326, -0.03501578, -0.01202982, -0.05508423,\n",
              "        0.09746439, -0.05945227,  0.00371515, -0.14823288, -0.04850828,\n",
              "       -0.02548684,  0.01306091,  0.03020939, -0.06027574, -0.0005128 ,\n",
              "        0.04170881, -0.08288744, -0.0630969 , -0.05433872,  0.17236042,\n",
              "        0.02138114,  0.05749274,  0.0244065 , -0.10887082, -0.05740461,\n",
              "        0.06524683, -0.07457549, -0.0337478 ,  0.05318832,  0.04887503,\n",
              "       -0.04038869, -0.08296104,  0.08438952, -0.002042  ,  0.04177973,\n",
              "       -0.07116181,  0.04099508,  0.00817041, -0.01542675, -0.04363349,\n",
              "        0.02794746,  0.03537019, -0.12289643, -0.03898126,  0.1146236 ],\n",
              "      dtype=float32)"
            ]
          },
          "metadata": {
            "tags": []
          },
          "execution_count": 53
        }
      ]
    },
    {
      "cell_type": "code",
      "metadata": {
        "id": "iFQVGbyhaGC_",
        "colab_type": "code",
        "colab": {}
      },
      "source": [
        "sim_value = {}\n",
        "for make_model in df_car[\"Make_Model\"].unique():\n",
        "  sim_value.setdefault(make_model, distance.cosine(diff_vec, model[make_model]))"
      ],
      "execution_count": 0,
      "outputs": []
    },
    {
      "cell_type": "code",
      "metadata": {
        "id": "vVQnestbab-M",
        "colab_type": "code",
        "colab": {}
      },
      "source": [
        "make_model_list = sorted(sim_value.items(), key=lambda x: x[1], reverse=True)"
      ],
      "execution_count": 0,
      "outputs": []
    },
    {
      "cell_type": "code",
      "metadata": {
        "id": "Rjz13Wygclij",
        "colab_type": "code",
        "colab": {
          "base_uri": "https://localhost:8080/",
          "height": 101
        },
        "outputId": "b32bc12c-17f5-483f-bde4-f35b297f9ac4"
      },
      "source": [
        "make_model_list[:5]"
      ],
      "execution_count": 56,
      "outputs": [
        {
          "output_type": "execute_result",
          "data": {
            "text/plain": [
              "[('Porsche 911', 0.51786869764328),\n",
              " ('Aston Martin V8 Vantage', 0.5031510591506958),\n",
              " ('Nissan 370Z', 0.4845353364944458),\n",
              " ('Chevrolet Corvette', 0.44889605045318604),\n",
              " ('Nissan 350Z', 0.43948495388031006)]"
            ]
          },
          "metadata": {
            "tags": []
          },
          "execution_count": 56
        }
      ]
    },
    {
      "cell_type": "code",
      "metadata": {
        "id": "uDOstHxSfEDK",
        "colab_type": "code",
        "colab": {}
      },
      "source": [
        "sim_value = {}\n",
        "for make_model in df_car[\"Make_Model\"].unique():\n",
        "  sim_value.setdefault(make_model, distance.euclidean(diff_vec, model[make_model]))"
      ],
      "execution_count": 0,
      "outputs": []
    },
    {
      "cell_type": "code",
      "metadata": {
        "id": "84ggH8sPfZYu",
        "colab_type": "code",
        "colab": {}
      },
      "source": [
        "make_model_list = sorted(sim_value.items(), key=lambda x: x[1], reverse=True)"
      ],
      "execution_count": 0,
      "outputs": []
    },
    {
      "cell_type": "code",
      "metadata": {
        "id": "yGq2QfN2fd3W",
        "colab_type": "code",
        "colab": {
          "base_uri": "https://localhost:8080/",
          "height": 101
        },
        "outputId": "fcce1866-3d5f-431f-bb3c-d72160bfef40"
      },
      "source": [
        "make_model_list[:5]"
      ],
      "execution_count": 60,
      "outputs": [
        {
          "output_type": "execute_result",
          "data": {
            "text/plain": [
              "[('Ford F-150', 2.938979387283325),\n",
              " ('Chevrolet Silverado 1500', 2.8783528804779053),\n",
              " ('Volkswagen GTI', 2.8722729682922363),\n",
              " ('Toyota Tundra', 2.54097318649292),\n",
              " ('Volkswagen Beetle', 2.442676544189453)]"
            ]
          },
          "metadata": {
            "tags": []
          },
          "execution_count": 60
        }
      ]
    },
    {
      "cell_type": "code",
      "metadata": {
        "id": "w1z9l_6R7Qnu",
        "colab_type": "code",
        "colab": {
          "base_uri": "https://localhost:8080/",
          "height": 101
        },
        "outputId": "baf20932-2d3f-45ce-817c-ad997db4dfbc"
      },
      "source": [
        "make_model_list[:5]"
      ],
      "execution_count": 61,
      "outputs": [
        {
          "output_type": "execute_result",
          "data": {
            "text/plain": [
              "[('Ford F-150', 2.938979387283325),\n",
              " ('Chevrolet Silverado 1500', 2.8783528804779053),\n",
              " ('Volkswagen GTI', 2.8722729682922363),\n",
              " ('Toyota Tundra', 2.54097318649292),\n",
              " ('Volkswagen Beetle', 2.442676544189453)]"
            ]
          },
          "metadata": {
            "tags": []
          },
          "execution_count": 61
        }
      ]
    },
    {
      "cell_type": "code",
      "metadata": {
        "id": "wW_3ld7o7Vjl",
        "colab_type": "code",
        "colab": {}
      },
      "source": [
        "diameter = -np.inf\n",
        "src = None\n",
        "dest = None\n",
        "for make_model_1 in df_car[\"Make_Model\"].unique():\n",
        "  for make_model_2 in df_car[\"Make_Model\"].unique():\n",
        "    dist = distance.euclidean(model[make_model_1], model[make_model_2])\n",
        "    if dist > diameter:\n",
        "      src = make_model_1\n",
        "      dest = make_model_2\n",
        "      diameter = dist"
      ],
      "execution_count": 0,
      "outputs": []
    },
    {
      "cell_type": "code",
      "metadata": {
        "id": "8WBEl13O86Dj",
        "colab_type": "code",
        "colab": {
          "base_uri": "https://localhost:8080/",
          "height": 34
        },
        "outputId": "bcfe9190-001e-40a7-f1b5-f08401724e19"
      },
      "source": [
        "src,dest,diameter"
      ],
      "execution_count": 65,
      "outputs": [
        {
          "output_type": "execute_result",
          "data": {
            "text/plain": [
              "('Ford F-150', 'Volkswagen GTI', 3.872936248779297)"
            ]
          },
          "metadata": {
            "tags": []
          },
          "execution_count": 65
        }
      ]
    },
    {
      "cell_type": "code",
      "metadata": {
        "id": "Iy5NwGZG9cJ8",
        "colab_type": "code",
        "colab": {
          "base_uri": "https://localhost:8080/",
          "height": 580
        },
        "outputId": "1bda05dd-168d-41d6-d19b-73b71a32fb86"
      },
      "source": [
        "df_car.iloc[[4470, 5604]].T"
      ],
      "execution_count": 18,
      "outputs": [
        {
          "output_type": "execute_result",
          "data": {
            "text/html": [
              "<div>\n",
              "<style scoped>\n",
              "    .dataframe tbody tr th:only-of-type {\n",
              "        vertical-align: middle;\n",
              "    }\n",
              "\n",
              "    .dataframe tbody tr th {\n",
              "        vertical-align: top;\n",
              "    }\n",
              "\n",
              "    .dataframe thead th {\n",
              "        text-align: right;\n",
              "    }\n",
              "</style>\n",
              "<table border=\"1\" class=\"dataframe\">\n",
              "  <thead>\n",
              "    <tr style=\"text-align: right;\">\n",
              "      <th></th>\n",
              "      <th>4470</th>\n",
              "      <th>5604</th>\n",
              "    </tr>\n",
              "  </thead>\n",
              "  <tbody>\n",
              "    <tr>\n",
              "      <th>Make</th>\n",
              "      <td>Ford</td>\n",
              "      <td>Volkswagen</td>\n",
              "    </tr>\n",
              "    <tr>\n",
              "      <th>Model</th>\n",
              "      <td>F-150</td>\n",
              "      <td>GTI</td>\n",
              "    </tr>\n",
              "    <tr>\n",
              "      <th>Year</th>\n",
              "      <td>2015</td>\n",
              "      <td>2012</td>\n",
              "    </tr>\n",
              "    <tr>\n",
              "      <th>Engine Fuel Type</th>\n",
              "      <td>regular unleaded</td>\n",
              "      <td>premium unleaded (recommended)</td>\n",
              "    </tr>\n",
              "    <tr>\n",
              "      <th>Engine HP</th>\n",
              "      <td>325</td>\n",
              "      <td>200</td>\n",
              "    </tr>\n",
              "    <tr>\n",
              "      <th>Engine Cylinders</th>\n",
              "      <td>6</td>\n",
              "      <td>4</td>\n",
              "    </tr>\n",
              "    <tr>\n",
              "      <th>Transmission Type</th>\n",
              "      <td>AUTOMATIC</td>\n",
              "      <td>MANUAL</td>\n",
              "    </tr>\n",
              "    <tr>\n",
              "      <th>Driven_Wheels</th>\n",
              "      <td>four wheel drive</td>\n",
              "      <td>front wheel drive</td>\n",
              "    </tr>\n",
              "    <tr>\n",
              "      <th>Number of Doors</th>\n",
              "      <td>4</td>\n",
              "      <td>2</td>\n",
              "    </tr>\n",
              "    <tr>\n",
              "      <th>Market Category</th>\n",
              "      <td>Flex Fuel</td>\n",
              "      <td>Hatchback,Performance</td>\n",
              "    </tr>\n",
              "    <tr>\n",
              "      <th>Vehicle Size</th>\n",
              "      <td>Large</td>\n",
              "      <td>Compact</td>\n",
              "    </tr>\n",
              "    <tr>\n",
              "      <th>Vehicle Style</th>\n",
              "      <td>Crew Cab Pickup</td>\n",
              "      <td>2dr Hatchback</td>\n",
              "    </tr>\n",
              "    <tr>\n",
              "      <th>highway MPG</th>\n",
              "      <td>23</td>\n",
              "      <td>31</td>\n",
              "    </tr>\n",
              "    <tr>\n",
              "      <th>city mpg</th>\n",
              "      <td>18</td>\n",
              "      <td>21</td>\n",
              "    </tr>\n",
              "    <tr>\n",
              "      <th>Popularity</th>\n",
              "      <td>5657</td>\n",
              "      <td>873</td>\n",
              "    </tr>\n",
              "    <tr>\n",
              "      <th>MSRP</th>\n",
              "      <td>45090</td>\n",
              "      <td>26275</td>\n",
              "    </tr>\n",
              "    <tr>\n",
              "      <th>Make_Model</th>\n",
              "      <td>Ford F-150</td>\n",
              "      <td>Volkswagen GTI</td>\n",
              "    </tr>\n",
              "    <tr>\n",
              "      <th>Combine_Characteristics</th>\n",
              "      <td>[regular unleaded, AUTOMATIC, four wheel drive...</td>\n",
              "      <td>[premium unleaded (recommended), MANUAL, front...</td>\n",
              "    </tr>\n",
              "  </tbody>\n",
              "</table>\n",
              "</div>"
            ],
            "text/plain": [
              "                                                                      4470                                               5604\n",
              "Make                                                                  Ford                                         Volkswagen\n",
              "Model                                                                F-150                                                GTI\n",
              "Year                                                                  2015                                               2012\n",
              "Engine Fuel Type                                          regular unleaded                     premium unleaded (recommended)\n",
              "Engine HP                                                              325                                                200\n",
              "Engine Cylinders                                                         6                                                  4\n",
              "Transmission Type                                                AUTOMATIC                                             MANUAL\n",
              "Driven_Wheels                                             four wheel drive                                  front wheel drive\n",
              "Number of Doors                                                          4                                                  2\n",
              "Market Category                                                  Flex Fuel                              Hatchback,Performance\n",
              "Vehicle Size                                                         Large                                            Compact\n",
              "Vehicle Style                                              Crew Cab Pickup                                      2dr Hatchback\n",
              "highway MPG                                                             23                                                 31\n",
              "city mpg                                                                18                                                 21\n",
              "Popularity                                                            5657                                                873\n",
              "MSRP                                                                 45090                                              26275\n",
              "Make_Model                                                      Ford F-150                                     Volkswagen GTI\n",
              "Combine_Characteristics  [regular unleaded, AUTOMATIC, four wheel drive...  [premium unleaded (recommended), MANUAL, front..."
            ]
          },
          "metadata": {
            "tags": []
          },
          "execution_count": 18
        }
      ]
    },
    {
      "cell_type": "code",
      "metadata": {
        "id": "5jHsSiFS9Bp-",
        "colab_type": "code",
        "colab": {}
      },
      "source": [
        ""
      ],
      "execution_count": 0,
      "outputs": []
    }
  ]
}