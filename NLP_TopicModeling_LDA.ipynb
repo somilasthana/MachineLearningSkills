{
  "nbformat": 4,
  "nbformat_minor": 0,
  "metadata": {
    "colab": {
      "name": "NLP-TopicModeling-LDA.ipynb",
      "version": "0.3.2",
      "provenance": [],
      "include_colab_link": true
    },
    "kernelspec": {
      "name": "python3",
      "display_name": "Python 3"
    }
  },
  "cells": [
    {
      "cell_type": "markdown",
      "metadata": {
        "id": "view-in-github",
        "colab_type": "text"
      },
      "source": [
        "<a href=\"https://colab.research.google.com/github/somilasthana/MachineLearningSkills/blob/master/NLP_TopicModeling_LDA.ipynb\" target=\"_parent\"><img src=\"https://colab.research.google.com/assets/colab-badge.svg\" alt=\"Open In Colab\"/></a>"
      ]
    },
    {
      "cell_type": "code",
      "metadata": {
        "id": "ZA_QQ7T-xlgL",
        "colab_type": "code",
        "colab": {
          "base_uri": "https://localhost:8080/",
          "height": 207
        },
        "outputId": "0631a405-adf0-4657-97e0-9b93ca4324a3"
      },
      "source": [
        "# get data\n",
        "!wget https://liferay.de.dariah.eu/tatom/_downloads/datasets.zip"
      ],
      "execution_count": 1,
      "outputs": [
        {
          "output_type": "stream",
          "text": [
            "--2019-06-24 09:17:54--  https://liferay.de.dariah.eu/tatom/_downloads/datasets.zip\n",
            "Resolving liferay.de.dariah.eu (liferay.de.dariah.eu)... 134.76.30.131\n",
            "Connecting to liferay.de.dariah.eu (liferay.de.dariah.eu)|134.76.30.131|:443... connected.\n",
            "HTTP request sent, awaiting response... 200 OK\n",
            "Length: 57659024 (55M) [application/zip]\n",
            "Saving to: ‘datasets.zip’\n",
            "\n",
            "datasets.zip        100%[===================>]  54.99M  17.9MB/s    in 3.8s    \n",
            "\n",
            "2019-06-24 09:17:58 (14.5 MB/s) - ‘datasets.zip’ saved [57659024/57659024]\n",
            "\n"
          ],
          "name": "stdout"
        }
      ]
    },
    {
      "cell_type": "code",
      "metadata": {
        "id": "hJcQa7_Yxu8h",
        "colab_type": "code",
        "colab": {}
      },
      "source": [
        "!unzip /content/datasets.zip > /dev/null"
      ],
      "execution_count": 0,
      "outputs": []
    },
    {
      "cell_type": "code",
      "metadata": {
        "id": "DWR0kf-Ix2sP",
        "colab_type": "code",
        "colab": {}
      },
      "source": [
        "import os\n",
        "\n",
        "CORPUS_PATH = \"/content/data/austen-brontë-split/\"\n",
        "import pandas as pd"
      ],
      "execution_count": 0,
      "outputs": []
    },
    {
      "cell_type": "code",
      "metadata": {
        "id": "pIvvAZaZyX0F",
        "colab_type": "code",
        "colab": {}
      },
      "source": [
        "filenames = sorted([os.path.join(CORPUS_PATH, fn) for fn in os.listdir(CORPUS_PATH)])"
      ],
      "execution_count": 0,
      "outputs": []
    },
    {
      "cell_type": "code",
      "metadata": {
        "id": "TpFiEd9UyYhx",
        "colab_type": "code",
        "colab": {
          "base_uri": "https://localhost:8080/",
          "height": 104
        },
        "outputId": "83e8634f-a449-47f2-d777-05e272e20481"
      },
      "source": [
        "filenames[:5]"
      ],
      "execution_count": 37,
      "outputs": [
        {
          "output_type": "execute_result",
          "data": {
            "text/plain": [
              "['/content/data/austen-brontë-split/Austen_Emma0000.txt',\n",
              " '/content/data/austen-brontë-split/Austen_Emma0001.txt',\n",
              " '/content/data/austen-brontë-split/Austen_Emma0002.txt',\n",
              " '/content/data/austen-brontë-split/Austen_Emma0003.txt',\n",
              " '/content/data/austen-brontë-split/Austen_Emma0004.txt']"
            ]
          },
          "metadata": {
            "tags": []
          },
          "execution_count": 37
        }
      ]
    },
    {
      "cell_type": "code",
      "metadata": {
        "id": "-GX_QrRsyZ8z",
        "colab_type": "code",
        "colab": {}
      },
      "source": [
        "import numpy as np\n",
        "from sklearn.feature_extraction.text import CountVectorizer"
      ],
      "execution_count": 0,
      "outputs": []
    },
    {
      "cell_type": "code",
      "metadata": {
        "id": "WeOiOkiSyqR1",
        "colab_type": "code",
        "colab": {}
      },
      "source": [
        "vectorizer = CountVectorizer(input='filename', stop_words='english', min_df=20)"
      ],
      "execution_count": 0,
      "outputs": []
    },
    {
      "cell_type": "code",
      "metadata": {
        "id": "r73Pi73-y5me",
        "colab_type": "code",
        "colab": {}
      },
      "source": [
        "dtm = vectorizer.fit_transform(filenames).toarray()"
      ],
      "execution_count": 0,
      "outputs": []
    },
    {
      "cell_type": "code",
      "metadata": {
        "id": "lf13AQATzEt1",
        "colab_type": "code",
        "colab": {}
      },
      "source": [
        "vocab = np.array(vectorizer.get_feature_names())"
      ],
      "execution_count": 0,
      "outputs": []
    },
    {
      "cell_type": "code",
      "metadata": {
        "id": "d2r9yPQAzMfH",
        "colab_type": "code",
        "colab": {
          "base_uri": "https://localhost:8080/",
          "height": 35
        },
        "outputId": "6fc34888-c9a6-4ff4-e290-51ebd033e9ca"
      },
      "source": [
        "dtm.shape"
      ],
      "execution_count": 13,
      "outputs": [
        {
          "output_type": "execute_result",
          "data": {
            "text/plain": [
              "(813, 2902)"
            ]
          },
          "metadata": {
            "tags": []
          },
          "execution_count": 13
        }
      ]
    },
    {
      "cell_type": "code",
      "metadata": {
        "id": "qHaXVVRZzR_t",
        "colab_type": "code",
        "colab": {}
      },
      "source": [
        "from sklearn import decomposition\n",
        "\n",
        "num_topics = 20\n",
        "num_topic_words = 20"
      ],
      "execution_count": 0,
      "outputs": []
    },
    {
      "cell_type": "code",
      "metadata": {
        "id": "1TSTd7Jxzgoc",
        "colab_type": "code",
        "colab": {}
      },
      "source": [
        "clf = decomposition.NMF(n_components=num_topics, random_state=42)"
      ],
      "execution_count": 0,
      "outputs": []
    },
    {
      "cell_type": "code",
      "metadata": {
        "id": "vE87So9-zqRw",
        "colab_type": "code",
        "colab": {}
      },
      "source": [
        "doctopic = clf.fit_transform(dtm)"
      ],
      "execution_count": 0,
      "outputs": []
    },
    {
      "cell_type": "code",
      "metadata": {
        "id": "2axBQ0Uxzv0F",
        "colab_type": "code",
        "colab": {}
      },
      "source": [
        "topic_words = []\n",
        "\n",
        "for topic in clf.components_:\n",
        "  word_idx = np.argsort(topic)[::-1][0:num_topic_words]\n",
        "  topic_words.append(vocab[word_idx])"
      ],
      "execution_count": 0,
      "outputs": []
    },
    {
      "cell_type": "code",
      "metadata": {
        "id": "3rRTaql63hKa",
        "colab_type": "code",
        "colab": {
          "base_uri": "https://localhost:8080/",
          "height": 363
        },
        "outputId": "8d2b8e77-037a-4902-abd4-5954af9213a1"
      },
      "source": [
        "for t in range(len(topic_words)):\n",
        "  print(\"Topic {}: {}\".format(t, ' '.join(topic_words[t][:15])))"
      ],
      "execution_count": 35,
      "outputs": [
        {
          "output_type": "stream",
          "text": [
            "Topic 0: know think like man say good said does oh quite sure yes thing believe way\n",
            "Topic 1: mr knightley rochester elton man did think evening business away wickham gentleman time wife told\n",
            "Topic 2: marianne elinor willoughby sister jennings mother colonel dashwood mrs brandon time moment heart little barton\n",
            "Topic 3: elizabeth darcy bingley mr sister bennet wickham miss soon lydia friend room gardiner little netherfield\n",
            "Topic 4: mrs did quite elton room come good thing said weston jennings came day party palmer\n",
            "Topic 5: like room door night long saw thought looked house time eyes day face rochester light\n",
            "Topic 6: sir rochester yes shall adele don little good john ll said mr say eyre room\n",
            "Topic 7: jane fairfax love little think oh heard heart mother soon make feel voice campbell bates\n",
            "Topic 8: miss woodhouse bates quite sure young fairfax oh lady say room smith temple bessie great\n",
            "Topic 9: john man good father house mother years young dashwood life old family wife home woman\n",
            "Topic 10: little graham bretton papa dr lucy like polly home child paulina don think thought eyes\n",
            "Topic 11: lady collins elizabeth catherine bennet charlotte family mr young make mrs ladyship ladies daughter rosings\n",
            "Topic 12: monsieur little english mdlle frances mademoiselle vous est said pelet hand pupils eyes reuter henri\n",
            "Topic 13: harriet emma elton mr friend woodhouse martin knightley think good thing little smith thought mind\n",
            "Topic 14: did know heart felt look thought told knew night believe time day saw feelings think\n",
            "Topic 15: madame beck dr knew little door day paul old night good english pupils thought hand\n",
            "Topic 16: said come shall know tell think john cried looked did replied let asked answer door\n",
            "Topic 17: edward elinor lucy ferrars dashwood sister think mother say time sure brother soon thing make\n",
            "Topic 18: emma weston mr knightley frank churchill thing little father woodhouse great fairfax time hartfield body\n",
            "Topic 19: shall letter time dear day soon read come long know hope say away till sure\n"
          ],
          "name": "stdout"
        }
      ]
    },
    {
      "cell_type": "code",
      "metadata": {
        "id": "Xv-HPWhy0Smb",
        "colab_type": "code",
        "colab": {}
      },
      "source": [
        "\"\"\"\n",
        "we will scale the document-component matrix such that the component values \n",
        "associated with each document sum to one.\n",
        "\"\"\"\n",
        "\n",
        "doctopic = doctopic / np.sum(doctopic, axis=1, keepdims=True)"
      ],
      "execution_count": 0,
      "outputs": []
    },
    {
      "cell_type": "code",
      "metadata": {
        "id": "Ab6HwTO70jwU",
        "colab_type": "code",
        "colab": {}
      },
      "source": [
        "novel_names = []\n",
        "for fn in filenames:\n",
        "  basename = os.path.basename(fn)\n",
        "  name, ext = os.path.splitext(basename)\n",
        "  name = name.rstrip('0123456789')\n",
        "  novel_names.append(name)"
      ],
      "execution_count": 0,
      "outputs": []
    },
    {
      "cell_type": "code",
      "metadata": {
        "id": "NVdFUg660s-a",
        "colab_type": "code",
        "colab": {}
      },
      "source": [
        "novel_names = np.array(novel_names)"
      ],
      "execution_count": 0,
      "outputs": []
    },
    {
      "cell_type": "code",
      "metadata": {
        "id": "mwl3y20R0vVM",
        "colab_type": "code",
        "colab": {
          "base_uri": "https://localhost:8080/",
          "height": 52
        },
        "outputId": "72d9e75c-866a-4253-ef9e-2b3b4e04c8b4"
      },
      "source": [
        "novel_names[:5]"
      ],
      "execution_count": 39,
      "outputs": [
        {
          "output_type": "execute_result",
          "data": {
            "text/plain": [
              "array(['Austen_Emma', 'Austen_Emma', 'Austen_Emma', 'Austen_Emma',\n",
              "       'Austen_Emma'], dtype='<U17')"
            ]
          },
          "metadata": {
            "tags": []
          },
          "execution_count": 39
        }
      ]
    },
    {
      "cell_type": "code",
      "metadata": {
        "id": "nINjBI180wow",
        "colab_type": "code",
        "colab": {}
      },
      "source": [
        "doctopic_orig = doctopic.copy()\n",
        "\n",
        "num_groups = len(set(novel_names))\n",
        "\n",
        "doctopic_grouped = np.zeros((num_groups, num_topics))\n",
        "\n",
        "for i, name in enumerate(sorted(set(novel_names))):\n",
        "  doctopic_grouped[i, :] = np.mean(doctopic[novel_names == name, : ], axis=0)"
      ],
      "execution_count": 0,
      "outputs": []
    },
    {
      "cell_type": "code",
      "metadata": {
        "id": "TuYQn7sq1x0T",
        "colab_type": "code",
        "colab": {
          "base_uri": "https://localhost:8080/",
          "height": 248
        },
        "outputId": "3abdf4c7-e682-4299-a181-c63cff5f5ae7"
      },
      "source": [
        "pd.DataFrame(doctopic_grouped, index=sorted(set(novel_names)), columns=[\"Topic\"+str(i) for i in range(20)])"
      ],
      "execution_count": 33,
      "outputs": [
        {
          "output_type": "execute_result",
          "data": {
            "text/html": [
              "<div>\n",
              "<style scoped>\n",
              "    .dataframe tbody tr th:only-of-type {\n",
              "        vertical-align: middle;\n",
              "    }\n",
              "\n",
              "    .dataframe tbody tr th {\n",
              "        vertical-align: top;\n",
              "    }\n",
              "\n",
              "    .dataframe thead th {\n",
              "        text-align: right;\n",
              "    }\n",
              "</style>\n",
              "<table border=\"1\" class=\"dataframe\">\n",
              "  <thead>\n",
              "    <tr style=\"text-align: right;\">\n",
              "      <th></th>\n",
              "      <th>Topic0</th>\n",
              "      <th>Topic1</th>\n",
              "      <th>Topic2</th>\n",
              "      <th>Topic3</th>\n",
              "      <th>Topic4</th>\n",
              "      <th>Topic5</th>\n",
              "      <th>Topic6</th>\n",
              "      <th>Topic7</th>\n",
              "      <th>Topic8</th>\n",
              "      <th>Topic9</th>\n",
              "      <th>Topic10</th>\n",
              "      <th>Topic11</th>\n",
              "      <th>Topic12</th>\n",
              "      <th>Topic13</th>\n",
              "      <th>Topic14</th>\n",
              "      <th>Topic15</th>\n",
              "      <th>Topic16</th>\n",
              "      <th>Topic17</th>\n",
              "      <th>Topic18</th>\n",
              "      <th>Topic19</th>\n",
              "    </tr>\n",
              "  </thead>\n",
              "  <tbody>\n",
              "    <tr>\n",
              "      <th>Austen_Emma</th>\n",
              "      <td>0.057720</td>\n",
              "      <td>0.119328</td>\n",
              "      <td>0.002480</td>\n",
              "      <td>0.004690</td>\n",
              "      <td>0.097054</td>\n",
              "      <td>0.017695</td>\n",
              "      <td>0.010075</td>\n",
              "      <td>0.056122</td>\n",
              "      <td>0.088726</td>\n",
              "      <td>0.051078</td>\n",
              "      <td>0.009967</td>\n",
              "      <td>0.007426</td>\n",
              "      <td>0.009594</td>\n",
              "      <td>0.127265</td>\n",
              "      <td>0.047962</td>\n",
              "      <td>0.001776</td>\n",
              "      <td>0.070894</td>\n",
              "      <td>0.005166</td>\n",
              "      <td>0.153811</td>\n",
              "      <td>0.061171</td>\n",
              "    </tr>\n",
              "    <tr>\n",
              "      <th>Austen_Pride</th>\n",
              "      <td>0.042627</td>\n",
              "      <td>0.092781</td>\n",
              "      <td>0.006355</td>\n",
              "      <td>0.252878</td>\n",
              "      <td>0.053054</td>\n",
              "      <td>0.020050</td>\n",
              "      <td>0.013831</td>\n",
              "      <td>0.057689</td>\n",
              "      <td>0.038718</td>\n",
              "      <td>0.039022</td>\n",
              "      <td>0.005000</td>\n",
              "      <td>0.127313</td>\n",
              "      <td>0.009209</td>\n",
              "      <td>0.002781</td>\n",
              "      <td>0.058804</td>\n",
              "      <td>0.001078</td>\n",
              "      <td>0.073294</td>\n",
              "      <td>0.007558</td>\n",
              "      <td>0.001717</td>\n",
              "      <td>0.096242</td>\n",
              "    </tr>\n",
              "    <tr>\n",
              "      <th>Austen_Sense</th>\n",
              "      <td>0.041137</td>\n",
              "      <td>0.030601</td>\n",
              "      <td>0.237698</td>\n",
              "      <td>0.005904</td>\n",
              "      <td>0.097010</td>\n",
              "      <td>0.020937</td>\n",
              "      <td>0.027894</td>\n",
              "      <td>0.003421</td>\n",
              "      <td>0.039017</td>\n",
              "      <td>0.083471</td>\n",
              "      <td>0.007152</td>\n",
              "      <td>0.016278</td>\n",
              "      <td>0.006909</td>\n",
              "      <td>0.003119</td>\n",
              "      <td>0.053376</td>\n",
              "      <td>0.001254</td>\n",
              "      <td>0.084082</td>\n",
              "      <td>0.179137</td>\n",
              "      <td>0.002112</td>\n",
              "      <td>0.059492</td>\n",
              "    </tr>\n",
              "    <tr>\n",
              "      <th>CBronte_Jane</th>\n",
              "      <td>0.041017</td>\n",
              "      <td>0.081824</td>\n",
              "      <td>0.001511</td>\n",
              "      <td>0.001541</td>\n",
              "      <td>0.043616</td>\n",
              "      <td>0.214324</td>\n",
              "      <td>0.095344</td>\n",
              "      <td>0.072396</td>\n",
              "      <td>0.057230</td>\n",
              "      <td>0.068022</td>\n",
              "      <td>0.023135</td>\n",
              "      <td>0.009204</td>\n",
              "      <td>0.036051</td>\n",
              "      <td>0.001674</td>\n",
              "      <td>0.073756</td>\n",
              "      <td>0.005739</td>\n",
              "      <td>0.113147</td>\n",
              "      <td>0.004186</td>\n",
              "      <td>0.002376</td>\n",
              "      <td>0.053906</td>\n",
              "    </tr>\n",
              "    <tr>\n",
              "      <th>CBronte_Professor</th>\n",
              "      <td>0.059571</td>\n",
              "      <td>0.043067</td>\n",
              "      <td>0.003022</td>\n",
              "      <td>0.002990</td>\n",
              "      <td>0.012514</td>\n",
              "      <td>0.187182</td>\n",
              "      <td>0.008961</td>\n",
              "      <td>0.008669</td>\n",
              "      <td>0.002341</td>\n",
              "      <td>0.052686</td>\n",
              "      <td>0.019048</td>\n",
              "      <td>0.010750</td>\n",
              "      <td>0.302158</td>\n",
              "      <td>0.004292</td>\n",
              "      <td>0.084533</td>\n",
              "      <td>0.036350</td>\n",
              "      <td>0.089236</td>\n",
              "      <td>0.012331</td>\n",
              "      <td>0.002417</td>\n",
              "      <td>0.057883</td>\n",
              "    </tr>\n",
              "    <tr>\n",
              "      <th>CBronte_Villette</th>\n",
              "      <td>0.055043</td>\n",
              "      <td>0.005893</td>\n",
              "      <td>0.001900</td>\n",
              "      <td>0.002015</td>\n",
              "      <td>0.025776</td>\n",
              "      <td>0.140051</td>\n",
              "      <td>0.005526</td>\n",
              "      <td>0.003987</td>\n",
              "      <td>0.025660</td>\n",
              "      <td>0.051799</td>\n",
              "      <td>0.136727</td>\n",
              "      <td>0.009927</td>\n",
              "      <td>0.094034</td>\n",
              "      <td>0.004818</td>\n",
              "      <td>0.114780</td>\n",
              "      <td>0.144811</td>\n",
              "      <td>0.106430</td>\n",
              "      <td>0.015157</td>\n",
              "      <td>0.003117</td>\n",
              "      <td>0.052550</td>\n",
              "    </tr>\n",
              "  </tbody>\n",
              "</table>\n",
              "</div>"
            ],
            "text/plain": [
              "                     Topic0    Topic1    Topic2  ...   Topic17   Topic18   Topic19\n",
              "Austen_Emma        0.057720  0.119328  0.002480  ...  0.005166  0.153811  0.061171\n",
              "Austen_Pride       0.042627  0.092781  0.006355  ...  0.007558  0.001717  0.096242\n",
              "Austen_Sense       0.041137  0.030601  0.237698  ...  0.179137  0.002112  0.059492\n",
              "CBronte_Jane       0.041017  0.081824  0.001511  ...  0.004186  0.002376  0.053906\n",
              "CBronte_Professor  0.059571  0.043067  0.003022  ...  0.012331  0.002417  0.057883\n",
              "CBronte_Villette   0.055043  0.005893  0.001900  ...  0.015157  0.003117  0.052550\n",
              "\n",
              "[6 rows x 20 columns]"
            ]
          },
          "metadata": {
            "tags": []
          },
          "execution_count": 33
        }
      ]
    },
    {
      "cell_type": "code",
      "metadata": {
        "id": "28pUoS4D1zld",
        "colab_type": "code",
        "colab": {}
      },
      "source": [
        "# Find Distinct Topics\n",
        "\n",
        "novels = sorted(set(novel_names))\n",
        "austen_indices=[0, 1, 2]\n",
        "austen_avg = np.mean(doctopic[austen_indices, :], axis=0)\n",
        "cbronte_indices = [3, 4, 5]\n",
        "cbronte_avg = np.mean(doctopic[cbronte_indices, :], axis=0)\n",
        "\n",
        "keyness = np.abs(austen_avg - cbronte_avg)\n",
        "ranking = np.argsort(keyness)[::-1]"
      ],
      "execution_count": 0,
      "outputs": []
    },
    {
      "cell_type": "code",
      "metadata": {
        "id": "USasK92G2suU",
        "colab_type": "code",
        "colab": {
          "base_uri": "https://localhost:8080/",
          "height": 35
        },
        "outputId": "5f6c1591-adec-4322-ceda-1b9df5d2930b"
      },
      "source": [
        "ranking[:10]"
      ],
      "execution_count": 41,
      "outputs": [
        {
          "output_type": "execute_result",
          "data": {
            "text/plain": [
              "array([ 4,  9,  0, 16,  8, 18,  1,  5, 13, 12])"
            ]
          },
          "metadata": {
            "tags": []
          },
          "execution_count": 41
        }
      ]
    },
    {
      "cell_type": "code",
      "metadata": {
        "id": "5DuYT8FD5FIj",
        "colab_type": "code",
        "colab": {}
      },
      "source": [
        "doctopic_grouped = np.zeros((num_groups, 10))\n",
        "\n",
        "for i, name in enumerate(sorted(set(novel_names))):\n",
        "  for j,rank in enumerate(ranking[:10]):\n",
        "    doctopic_grouped[i, j] = np.mean(doctopic[novel_names == name, rank ], axis=0)"
      ],
      "execution_count": 0,
      "outputs": []
    },
    {
      "cell_type": "code",
      "metadata": {
        "id": "8vTWF3NK55E2",
        "colab_type": "code",
        "colab": {
          "base_uri": "https://localhost:8080/",
          "height": 228
        },
        "outputId": "02e4304a-f7a4-4ef1-e250-57878e5a512d"
      },
      "source": [
        "pd.DataFrame(doctopic_grouped, index=sorted(set(novel_names)), columns=[\"Topic\"+str(i) for i in ranking[:10]])"
      ],
      "execution_count": 64,
      "outputs": [
        {
          "output_type": "execute_result",
          "data": {
            "text/html": [
              "<div>\n",
              "<style scoped>\n",
              "    .dataframe tbody tr th:only-of-type {\n",
              "        vertical-align: middle;\n",
              "    }\n",
              "\n",
              "    .dataframe tbody tr th {\n",
              "        vertical-align: top;\n",
              "    }\n",
              "\n",
              "    .dataframe thead th {\n",
              "        text-align: right;\n",
              "    }\n",
              "</style>\n",
              "<table border=\"1\" class=\"dataframe\">\n",
              "  <thead>\n",
              "    <tr style=\"text-align: right;\">\n",
              "      <th></th>\n",
              "      <th>Topic4</th>\n",
              "      <th>Topic9</th>\n",
              "      <th>Topic0</th>\n",
              "      <th>Topic16</th>\n",
              "      <th>Topic8</th>\n",
              "      <th>Topic18</th>\n",
              "      <th>Topic1</th>\n",
              "      <th>Topic5</th>\n",
              "      <th>Topic13</th>\n",
              "      <th>Topic12</th>\n",
              "    </tr>\n",
              "  </thead>\n",
              "  <tbody>\n",
              "    <tr>\n",
              "      <th>Austen_Emma</th>\n",
              "      <td>0.097054</td>\n",
              "      <td>0.051078</td>\n",
              "      <td>0.057720</td>\n",
              "      <td>0.070894</td>\n",
              "      <td>0.088726</td>\n",
              "      <td>0.153811</td>\n",
              "      <td>0.119328</td>\n",
              "      <td>0.017695</td>\n",
              "      <td>0.127265</td>\n",
              "      <td>0.009594</td>\n",
              "    </tr>\n",
              "    <tr>\n",
              "      <th>Austen_Pride</th>\n",
              "      <td>0.053054</td>\n",
              "      <td>0.039022</td>\n",
              "      <td>0.042627</td>\n",
              "      <td>0.073294</td>\n",
              "      <td>0.038718</td>\n",
              "      <td>0.001717</td>\n",
              "      <td>0.092781</td>\n",
              "      <td>0.020050</td>\n",
              "      <td>0.002781</td>\n",
              "      <td>0.009209</td>\n",
              "    </tr>\n",
              "    <tr>\n",
              "      <th>Austen_Sense</th>\n",
              "      <td>0.097010</td>\n",
              "      <td>0.083471</td>\n",
              "      <td>0.041137</td>\n",
              "      <td>0.084082</td>\n",
              "      <td>0.039017</td>\n",
              "      <td>0.002112</td>\n",
              "      <td>0.030601</td>\n",
              "      <td>0.020937</td>\n",
              "      <td>0.003119</td>\n",
              "      <td>0.006909</td>\n",
              "    </tr>\n",
              "    <tr>\n",
              "      <th>CBronte_Jane</th>\n",
              "      <td>0.043616</td>\n",
              "      <td>0.068022</td>\n",
              "      <td>0.041017</td>\n",
              "      <td>0.113147</td>\n",
              "      <td>0.057230</td>\n",
              "      <td>0.002376</td>\n",
              "      <td>0.081824</td>\n",
              "      <td>0.214324</td>\n",
              "      <td>0.001674</td>\n",
              "      <td>0.036051</td>\n",
              "    </tr>\n",
              "    <tr>\n",
              "      <th>CBronte_Professor</th>\n",
              "      <td>0.012514</td>\n",
              "      <td>0.052686</td>\n",
              "      <td>0.059571</td>\n",
              "      <td>0.089236</td>\n",
              "      <td>0.002341</td>\n",
              "      <td>0.002417</td>\n",
              "      <td>0.043067</td>\n",
              "      <td>0.187182</td>\n",
              "      <td>0.004292</td>\n",
              "      <td>0.302158</td>\n",
              "    </tr>\n",
              "    <tr>\n",
              "      <th>CBronte_Villette</th>\n",
              "      <td>0.025776</td>\n",
              "      <td>0.051799</td>\n",
              "      <td>0.055043</td>\n",
              "      <td>0.106430</td>\n",
              "      <td>0.025660</td>\n",
              "      <td>0.003117</td>\n",
              "      <td>0.005893</td>\n",
              "      <td>0.140051</td>\n",
              "      <td>0.004818</td>\n",
              "      <td>0.094034</td>\n",
              "    </tr>\n",
              "  </tbody>\n",
              "</table>\n",
              "</div>"
            ],
            "text/plain": [
              "                     Topic4    Topic9    Topic0  ...    Topic5   Topic13   Topic12\n",
              "Austen_Emma        0.097054  0.051078  0.057720  ...  0.017695  0.127265  0.009594\n",
              "Austen_Pride       0.053054  0.039022  0.042627  ...  0.020050  0.002781  0.009209\n",
              "Austen_Sense       0.097010  0.083471  0.041137  ...  0.020937  0.003119  0.006909\n",
              "CBronte_Jane       0.043616  0.068022  0.041017  ...  0.214324  0.001674  0.036051\n",
              "CBronte_Professor  0.012514  0.052686  0.059571  ...  0.187182  0.004292  0.302158\n",
              "CBronte_Villette   0.025776  0.051799  0.055043  ...  0.140051  0.004818  0.094034\n",
              "\n",
              "[6 rows x 10 columns]"
            ]
          },
          "metadata": {
            "tags": []
          },
          "execution_count": 64
        }
      ]
    },
    {
      "cell_type": "code",
      "metadata": {
        "id": "XlVm-jxg6r6e",
        "colab_type": "code",
        "colab": {}
      },
      "source": [
        "np_topic_words = np.array(topic_words)\n",
        "\n"
      ],
      "execution_count": 0,
      "outputs": []
    },
    {
      "cell_type": "code",
      "metadata": {
        "id": "lDhGca5i9ZmT",
        "colab_type": "code",
        "colab": {
          "base_uri": "https://localhost:8080/",
          "height": 368
        },
        "outputId": "f36a6317-f537-4940-8748-c09690c97f85"
      },
      "source": [
        "pd.DataFrame(np_topic_words[ranking[:10]], index=[\"Topic\"+str(i) for i in ranking[:10]])"
      ],
      "execution_count": 66,
      "outputs": [
        {
          "output_type": "execute_result",
          "data": {
            "text/html": [
              "<div>\n",
              "<style scoped>\n",
              "    .dataframe tbody tr th:only-of-type {\n",
              "        vertical-align: middle;\n",
              "    }\n",
              "\n",
              "    .dataframe tbody tr th {\n",
              "        vertical-align: top;\n",
              "    }\n",
              "\n",
              "    .dataframe thead th {\n",
              "        text-align: right;\n",
              "    }\n",
              "</style>\n",
              "<table border=\"1\" class=\"dataframe\">\n",
              "  <thead>\n",
              "    <tr style=\"text-align: right;\">\n",
              "      <th></th>\n",
              "      <th>0</th>\n",
              "      <th>1</th>\n",
              "      <th>2</th>\n",
              "      <th>3</th>\n",
              "      <th>4</th>\n",
              "      <th>5</th>\n",
              "      <th>6</th>\n",
              "      <th>7</th>\n",
              "      <th>8</th>\n",
              "      <th>9</th>\n",
              "      <th>10</th>\n",
              "      <th>11</th>\n",
              "      <th>12</th>\n",
              "      <th>13</th>\n",
              "      <th>14</th>\n",
              "      <th>15</th>\n",
              "      <th>16</th>\n",
              "      <th>17</th>\n",
              "      <th>18</th>\n",
              "      <th>19</th>\n",
              "    </tr>\n",
              "  </thead>\n",
              "  <tbody>\n",
              "    <tr>\n",
              "      <th>Topic4</th>\n",
              "      <td>mrs</td>\n",
              "      <td>did</td>\n",
              "      <td>quite</td>\n",
              "      <td>elton</td>\n",
              "      <td>room</td>\n",
              "      <td>come</td>\n",
              "      <td>good</td>\n",
              "      <td>thing</td>\n",
              "      <td>said</td>\n",
              "      <td>weston</td>\n",
              "      <td>jennings</td>\n",
              "      <td>came</td>\n",
              "      <td>day</td>\n",
              "      <td>party</td>\n",
              "      <td>palmer</td>\n",
              "      <td>fairfax</td>\n",
              "      <td>colonel</td>\n",
              "      <td>went</td>\n",
              "      <td>know</td>\n",
              "      <td>heard</td>\n",
              "    </tr>\n",
              "    <tr>\n",
              "      <th>Topic9</th>\n",
              "      <td>john</td>\n",
              "      <td>man</td>\n",
              "      <td>good</td>\n",
              "      <td>father</td>\n",
              "      <td>house</td>\n",
              "      <td>mother</td>\n",
              "      <td>years</td>\n",
              "      <td>young</td>\n",
              "      <td>dashwood</td>\n",
              "      <td>life</td>\n",
              "      <td>old</td>\n",
              "      <td>family</td>\n",
              "      <td>wife</td>\n",
              "      <td>home</td>\n",
              "      <td>woman</td>\n",
              "      <td>fortune</td>\n",
              "      <td>sisters</td>\n",
              "      <td>thousand</td>\n",
              "      <td>make</td>\n",
              "      <td>st</td>\n",
              "    </tr>\n",
              "    <tr>\n",
              "      <th>Topic0</th>\n",
              "      <td>know</td>\n",
              "      <td>think</td>\n",
              "      <td>like</td>\n",
              "      <td>man</td>\n",
              "      <td>say</td>\n",
              "      <td>good</td>\n",
              "      <td>said</td>\n",
              "      <td>does</td>\n",
              "      <td>oh</td>\n",
              "      <td>quite</td>\n",
              "      <td>sure</td>\n",
              "      <td>yes</td>\n",
              "      <td>thing</td>\n",
              "      <td>believe</td>\n",
              "      <td>way</td>\n",
              "      <td>love</td>\n",
              "      <td>young</td>\n",
              "      <td>people</td>\n",
              "      <td>better</td>\n",
              "      <td>thought</td>\n",
              "    </tr>\n",
              "    <tr>\n",
              "      <th>Topic16</th>\n",
              "      <td>said</td>\n",
              "      <td>come</td>\n",
              "      <td>shall</td>\n",
              "      <td>know</td>\n",
              "      <td>tell</td>\n",
              "      <td>think</td>\n",
              "      <td>john</td>\n",
              "      <td>cried</td>\n",
              "      <td>looked</td>\n",
              "      <td>did</td>\n",
              "      <td>replied</td>\n",
              "      <td>let</td>\n",
              "      <td>asked</td>\n",
              "      <td>answer</td>\n",
              "      <td>door</td>\n",
              "      <td>yes</td>\n",
              "      <td>answered</td>\n",
              "      <td>quite</td>\n",
              "      <td>want</td>\n",
              "      <td>eyes</td>\n",
              "    </tr>\n",
              "    <tr>\n",
              "      <th>Topic8</th>\n",
              "      <td>miss</td>\n",
              "      <td>woodhouse</td>\n",
              "      <td>bates</td>\n",
              "      <td>quite</td>\n",
              "      <td>sure</td>\n",
              "      <td>young</td>\n",
              "      <td>fairfax</td>\n",
              "      <td>oh</td>\n",
              "      <td>lady</td>\n",
              "      <td>say</td>\n",
              "      <td>room</td>\n",
              "      <td>smith</td>\n",
              "      <td>temple</td>\n",
              "      <td>bessie</td>\n",
              "      <td>great</td>\n",
              "      <td>came</td>\n",
              "      <td>just</td>\n",
              "      <td>think</td>\n",
              "      <td>heard</td>\n",
              "      <td>ladies</td>\n",
              "    </tr>\n",
              "    <tr>\n",
              "      <th>Topic18</th>\n",
              "      <td>emma</td>\n",
              "      <td>weston</td>\n",
              "      <td>mr</td>\n",
              "      <td>knightley</td>\n",
              "      <td>frank</td>\n",
              "      <td>churchill</td>\n",
              "      <td>thing</td>\n",
              "      <td>little</td>\n",
              "      <td>father</td>\n",
              "      <td>woodhouse</td>\n",
              "      <td>great</td>\n",
              "      <td>fairfax</td>\n",
              "      <td>time</td>\n",
              "      <td>hartfield</td>\n",
              "      <td>body</td>\n",
              "      <td>randalls</td>\n",
              "      <td>soon</td>\n",
              "      <td>mrs</td>\n",
              "      <td>dear</td>\n",
              "      <td>bates</td>\n",
              "    </tr>\n",
              "    <tr>\n",
              "      <th>Topic1</th>\n",
              "      <td>mr</td>\n",
              "      <td>knightley</td>\n",
              "      <td>rochester</td>\n",
              "      <td>elton</td>\n",
              "      <td>man</td>\n",
              "      <td>did</td>\n",
              "      <td>think</td>\n",
              "      <td>evening</td>\n",
              "      <td>business</td>\n",
              "      <td>away</td>\n",
              "      <td>wickham</td>\n",
              "      <td>gentleman</td>\n",
              "      <td>time</td>\n",
              "      <td>wife</td>\n",
              "      <td>told</td>\n",
              "      <td>dear</td>\n",
              "      <td>gentlemen</td>\n",
              "      <td>brother</td>\n",
              "      <td>information</td>\n",
              "      <td>quite</td>\n",
              "    </tr>\n",
              "    <tr>\n",
              "      <th>Topic5</th>\n",
              "      <td>like</td>\n",
              "      <td>room</td>\n",
              "      <td>door</td>\n",
              "      <td>night</td>\n",
              "      <td>long</td>\n",
              "      <td>saw</td>\n",
              "      <td>thought</td>\n",
              "      <td>looked</td>\n",
              "      <td>house</td>\n",
              "      <td>time</td>\n",
              "      <td>eyes</td>\n",
              "      <td>day</td>\n",
              "      <td>face</td>\n",
              "      <td>rochester</td>\n",
              "      <td>light</td>\n",
              "      <td>heard</td>\n",
              "      <td>little</td>\n",
              "      <td>stood</td>\n",
              "      <td>hand</td>\n",
              "      <td>hour</td>\n",
              "    </tr>\n",
              "    <tr>\n",
              "      <th>Topic13</th>\n",
              "      <td>harriet</td>\n",
              "      <td>emma</td>\n",
              "      <td>elton</td>\n",
              "      <td>mr</td>\n",
              "      <td>friend</td>\n",
              "      <td>woodhouse</td>\n",
              "      <td>martin</td>\n",
              "      <td>knightley</td>\n",
              "      <td>think</td>\n",
              "      <td>good</td>\n",
              "      <td>thing</td>\n",
              "      <td>little</td>\n",
              "      <td>smith</td>\n",
              "      <td>thought</td>\n",
              "      <td>mind</td>\n",
              "      <td>woman</td>\n",
              "      <td>hartfield</td>\n",
              "      <td>just</td>\n",
              "      <td>great</td>\n",
              "      <td>having</td>\n",
              "    </tr>\n",
              "    <tr>\n",
              "      <th>Topic12</th>\n",
              "      <td>monsieur</td>\n",
              "      <td>little</td>\n",
              "      <td>english</td>\n",
              "      <td>mdlle</td>\n",
              "      <td>frances</td>\n",
              "      <td>mademoiselle</td>\n",
              "      <td>vous</td>\n",
              "      <td>est</td>\n",
              "      <td>said</td>\n",
              "      <td>pelet</td>\n",
              "      <td>hand</td>\n",
              "      <td>pupils</td>\n",
              "      <td>eyes</td>\n",
              "      <td>reuter</td>\n",
              "      <td>henri</td>\n",
              "      <td>thought</td>\n",
              "      <td>time</td>\n",
              "      <td>school</td>\n",
              "      <td>french</td>\n",
              "      <td>good</td>\n",
              "    </tr>\n",
              "  </tbody>\n",
              "</table>\n",
              "</div>"
            ],
            "text/plain": [
              "               0          1          2   ...        17           18       19\n",
              "Topic4        mrs        did      quite  ...      went         know    heard\n",
              "Topic9       john        man       good  ...  thousand         make       st\n",
              "Topic0       know      think       like  ...    people       better  thought\n",
              "Topic16      said       come      shall  ...     quite         want     eyes\n",
              "Topic8       miss  woodhouse      bates  ...     think        heard   ladies\n",
              "Topic18      emma     weston         mr  ...       mrs         dear    bates\n",
              "Topic1         mr  knightley  rochester  ...   brother  information    quite\n",
              "Topic5       like       room       door  ...     stood         hand     hour\n",
              "Topic13   harriet       emma      elton  ...      just        great   having\n",
              "Topic12  monsieur     little    english  ...    school       french     good\n",
              "\n",
              "[10 rows x 20 columns]"
            ]
          },
          "metadata": {
            "tags": []
          },
          "execution_count": 66
        }
      ]
    }
  ]
}