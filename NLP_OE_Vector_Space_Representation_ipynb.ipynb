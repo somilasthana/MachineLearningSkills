{
  "nbformat": 4,
  "nbformat_minor": 0,
  "metadata": {
    "colab": {
      "name": "NLP-OE-Vector-Space-Representation.ipynb.ipynb",
      "provenance": [],
      "machine_shape": "hm",
      "include_colab_link": true
    },
    "kernelspec": {
      "name": "python3",
      "display_name": "Python 3"
    },
    "accelerator": "GPU"
  },
  "cells": [
    {
      "cell_type": "markdown",
      "metadata": {
        "id": "view-in-github",
        "colab_type": "text"
      },
      "source": [
        "<a href=\"https://colab.research.google.com/github/somilasthana/MachineLearningSkills/blob/master/NLP_OE_Vector_Space_Representation_ipynb.ipynb\" target=\"_parent\"><img src=\"https://colab.research.google.com/assets/colab-badge.svg\" alt=\"Open In Colab\"/></a>"
      ]
    },
    {
      "cell_type": "code",
      "metadata": {
        "id": "jA5PrVjNn6_N",
        "colab_type": "code",
        "colab": {}
      },
      "source": [
        "from sklearn.datasets import fetch_20newsgroups\n",
        "from sklearn.feature_extraction.text import CountVectorizer"
      ],
      "execution_count": 0,
      "outputs": []
    },
    {
      "cell_type": "code",
      "metadata": {
        "id": "1B_u3hRpvDWO",
        "colab_type": "code",
        "colab": {}
      },
      "source": [
        "import pandas as pd\n",
        "import numpy as np\n",
        "import scipy\n",
        "import scipy.spatial.distance"
      ],
      "execution_count": 0,
      "outputs": []
    },
    {
      "cell_type": "markdown",
      "metadata": {
        "id": "_RbzVxbdGXA5",
        "colab_type": "text"
      },
      "source": [
        "## Useful Functions"
      ]
    },
    {
      "cell_type": "code",
      "metadata": {
        "id": "QR_JBu70GaUa",
        "colab_type": "code",
        "colab": {}
      },
      "source": [
        "def euclidean(u, v): return scipy.spatial.distance.euclidean(u, v) "
      ],
      "execution_count": 0,
      "outputs": []
    },
    {
      "cell_type": "markdown",
      "metadata": {
        "id": "uuYpjJblpduQ",
        "colab_type": "text"
      },
      "source": [
        "## Load DataSet"
      ]
    },
    {
      "cell_type": "code",
      "metadata": {
        "id": "uJtDhjIXoK-c",
        "colab_type": "code",
        "colab": {}
      },
      "source": [
        "# Load some categories from the training set\n",
        "categories = [\n",
        "    'alt.atheism',\n",
        "    'talk.religion.misc'#,\n",
        "    #'comp.graphics',\n",
        "    #'sci.space',\n",
        "]\n",
        "\n",
        "dataset = fetch_20newsgroups(subset='train', categories=categories, shuffle=True, random_state=42)"
      ],
      "execution_count": 0,
      "outputs": []
    },
    {
      "cell_type": "code",
      "metadata": {
        "id": "66Xh8KyNoWgN",
        "colab_type": "code",
        "colab": {
          "base_uri": "https://localhost:8080/",
          "height": 34
        },
        "outputId": "565ca07b-ab28-4e41-a2f4-3907e315ce7c"
      },
      "source": [
        "print(\"Len {0}\".format(len(dataset.data)))"
      ],
      "execution_count": 35,
      "outputs": [
        {
          "output_type": "stream",
          "text": [
            "Len 857\n"
          ],
          "name": "stdout"
        }
      ]
    },
    {
      "cell_type": "code",
      "metadata": {
        "id": "MxTZno_yoa2U",
        "colab_type": "code",
        "colab": {}
      },
      "source": [
        "vectorizer = CountVectorizer()\n",
        "X = vectorizer.fit_transform(dataset.data)"
      ],
      "execution_count": 0,
      "outputs": []
    },
    {
      "cell_type": "code",
      "metadata": {
        "id": "GSm-6KcHodza",
        "colab_type": "code",
        "colab": {
          "base_uri": "https://localhost:8080/",
          "height": 34
        },
        "outputId": "44da88aa-879b-4477-d304-0e48185e4699"
      },
      "source": [
        "X.shape"
      ],
      "execution_count": 37,
      "outputs": [
        {
          "output_type": "execute_result",
          "data": {
            "text/plain": [
              "(857, 18089)"
            ]
          },
          "metadata": {
            "tags": []
          },
          "execution_count": 37
        }
      ]
    },
    {
      "cell_type": "code",
      "metadata": {
        "id": "sGi3L3EBohVa",
        "colab_type": "code",
        "colab": {}
      },
      "source": [
        "feature_name = vectorizer.get_feature_names()"
      ],
      "execution_count": 0,
      "outputs": []
    },
    {
      "cell_type": "code",
      "metadata": {
        "id": "WzGh8s9QoleR",
        "colab_type": "code",
        "colab": {
          "base_uri": "https://localhost:8080/",
          "height": 34
        },
        "outputId": "50c488dd-0378-44af-b598-217327427312"
      },
      "source": [
        "len(feature_name)"
      ],
      "execution_count": 39,
      "outputs": [
        {
          "output_type": "execute_result",
          "data": {
            "text/plain": [
              "18089"
            ]
          },
          "metadata": {
            "tags": []
          },
          "execution_count": 39
        }
      ]
    },
    {
      "cell_type": "code",
      "metadata": {
        "id": "v56tyhj2C7nt",
        "colab_type": "code",
        "colab": {
          "base_uri": "https://localhost:8080/",
          "height": 202
        },
        "outputId": "fee1a561-a598-46c1-e1ee-1b06a9449045"
      },
      "source": [
        "np.array(feature_name[14000:14050])"
      ],
      "execution_count": 42,
      "outputs": [
        {
          "output_type": "execute_result",
          "data": {
            "text/plain": [
              "array(['representing', 'represents', 'repressed', 'repression',\n",
              "       'reproach', 'reproduce', 'reproduced', 'reproducibility',\n",
              "       'reproduction', 'repsonses', 'repuations', 'republican',\n",
              "       'repudiating', 'repugnance', 'repugnant', 'repulsive', 'reputable',\n",
              "       'reputation', 'repute', 'request', 'requested', 'requesting',\n",
              "       'requests', 'requiem', 'require', 'required', 'requirement',\n",
              "       'requirements', 'requires', 'requiring', 'reread', 'resaerch',\n",
              "       'rescind', 'rescorla', 'rescue', 'research', 'researched',\n",
              "       'researchers', 'researching', 'resemblance', 'resemble', 'reserve',\n",
              "       'reserved', 'reside', 'resident', 'residents', 'residing',\n",
              "       'resigned', 'resilience', 'resist'], dtype='<U15')"
            ]
          },
          "metadata": {
            "tags": []
          },
          "execution_count": 42
        }
      ]
    },
    {
      "cell_type": "code",
      "metadata": {
        "id": "4V8oS5RMrJCa",
        "colab_type": "code",
        "colab": {}
      },
      "source": [
        "newsdata = {}\n",
        "m, n = X.shape\n",
        "for i, name in zip(range(0, n), feature_name):\n",
        "  newsdata.setdefault(name, X[:, i])"
      ],
      "execution_count": 0,
      "outputs": []
    },
    {
      "cell_type": "code",
      "metadata": {
        "id": "JzqkrFv9tsSy",
        "colab_type": "code",
        "colab": {}
      },
      "source": [
        "news_df = pd.DataFrame(data=newsdata, index=list(range(0, n)))"
      ],
      "execution_count": 0,
      "outputs": []
    },
    {
      "cell_type": "code",
      "metadata": {
        "id": "T3EzTHt6vlgJ",
        "colab_type": "code",
        "colab": {
          "base_uri": "https://localhost:8080/",
          "height": 34
        },
        "outputId": "77d3a00f-d880-410b-b6df-444e399a3557"
      },
      "source": [
        "len(news_df)"
      ],
      "execution_count": 12,
      "outputs": [
        {
          "output_type": "execute_result",
          "data": {
            "text/plain": [
              "14593"
            ]
          },
          "metadata": {
            "tags": []
          },
          "execution_count": 12
        }
      ]
    },
    {
      "cell_type": "markdown",
      "metadata": {
        "id": "QozIteGrpmNq",
        "colab_type": "text"
      },
      "source": [
        "## Convert into Observed / Expected"
      ]
    },
    {
      "cell_type": "code",
      "metadata": {
        "id": "NaIn93iCpEiJ",
        "colab_type": "code",
        "colab": {}
      },
      "source": [
        "def observed_over_expected(df):\n",
        "    col_totals = df.sum(axis=0)\n",
        "    total = col_totals.sum()\n",
        "    row_totals = df.sum(axis=1)\n",
        "    expected = np.outer(row_totals, col_totals) / total\n",
        "    oe = df / expected\n",
        "    return oe"
      ],
      "execution_count": 0,
      "outputs": []
    },
    {
      "cell_type": "code",
      "metadata": {
        "id": "epxMjemYps5y",
        "colab_type": "code",
        "colab": {}
      },
      "source": [
        "news_oe = observed_over_expected(news_df)"
      ],
      "execution_count": 0,
      "outputs": []
    },
    {
      "cell_type": "code",
      "metadata": {
        "id": "T653kWxhp0Nv",
        "colab_type": "code",
        "colab": {}
      },
      "source": [
        " col_totals = X.sum(axis=0)"
      ],
      "execution_count": 0,
      "outputs": []
    },
    {
      "cell_type": "code",
      "metadata": {
        "id": "vWIsvmYYBJ_O",
        "colab_type": "code",
        "colab": {}
      },
      "source": [
        "total = col_totals.sum()"
      ],
      "execution_count": 0,
      "outputs": []
    },
    {
      "cell_type": "code",
      "metadata": {
        "id": "L6y4ks5RBuJQ",
        "colab_type": "code",
        "colab": {}
      },
      "source": [
        "row_totals = X.sum(axis=1)"
      ],
      "execution_count": 0,
      "outputs": []
    },
    {
      "cell_type": "code",
      "metadata": {
        "id": "NoIXhzf9Bw9P",
        "colab_type": "code",
        "colab": {}
      },
      "source": [
        "expected = np.outer(row_totals, col_totals) / total"
      ],
      "execution_count": 0,
      "outputs": []
    },
    {
      "cell_type": "code",
      "metadata": {
        "id": "BirPocY-B1xq",
        "colab_type": "code",
        "colab": {}
      },
      "source": [
        "oe = X / expected"
      ],
      "execution_count": 0,
      "outputs": []
    },
    {
      "cell_type": "markdown",
      "metadata": {
        "id": "kH3sfCVdDXve",
        "colab_type": "text"
      },
      "source": [
        "## Probe Observed-Expected Vector\n",
        "\n",
        "* Looks like CountVector is doing far better than Observed Expected Vector"
      ]
    },
    {
      "cell_type": "code",
      "metadata": {
        "id": "PRVcUO03DdbD",
        "colab_type": "code",
        "colab": {
          "base_uri": "https://localhost:8080/",
          "height": 34
        },
        "outputId": "3a1ba30f-b817-4465-d087-15f255989894"
      },
      "source": [
        "oe.shape"
      ],
      "execution_count": 48,
      "outputs": [
        {
          "output_type": "execute_result",
          "data": {
            "text/plain": [
              "(857, 18089)"
            ]
          },
          "metadata": {
            "tags": []
          },
          "execution_count": 48
        }
      ]
    },
    {
      "cell_type": "code",
      "metadata": {
        "id": "gRmF4z-bDe2g",
        "colab_type": "code",
        "colab": {
          "base_uri": "https://localhost:8080/",
          "height": 34
        },
        "outputId": "bf1763e2-ca40-4fb2-97b4-4a105c7435f5"
      },
      "source": [
        "feature_name.index(\"persecution\")"
      ],
      "execution_count": 50,
      "outputs": [
        {
          "output_type": "execute_result",
          "data": {
            "text/plain": [
              "12443"
            ]
          },
          "metadata": {
            "tags": []
          },
          "execution_count": 50
        }
      ]
    },
    {
      "cell_type": "code",
      "metadata": {
        "id": "_aYSai__gY_U",
        "colab_type": "code",
        "colab": {}
      },
      "source": [
        "def vector_space_distance(vec_space, index_number, dense=False):\n",
        "  if dense:\n",
        "        vec_space = vec_space.toarray()\n",
        "  w = vec_space[:, index_number]\n",
        "  d_oe = np.apply_along_axis(lambda x: euclidean(x, w), 0 , vec_space )\n",
        "  ind = np.argsort(d_oe)[:10]\n",
        "  return np_feature_name[ind]"
      ],
      "execution_count": 0,
      "outputs": []
    },
    {
      "cell_type": "code",
      "metadata": {
        "id": "PU_4x-56hEt_",
        "colab_type": "code",
        "colab": {
          "base_uri": "https://localhost:8080/",
          "height": 50
        },
        "outputId": "b418c18b-e6cb-483a-e420-ff79a3d6987a"
      },
      "source": [
        "vector_space_distance(oe, 12443)"
      ],
      "execution_count": 69,
      "outputs": [
        {
          "output_type": "execute_result",
          "data": {
            "text/plain": [
              "array(['persecution', 'enemy', 'prophecy', 'their', 'by', 'who', 'of',\n",
              "       'to', 'and', 'the'], dtype='<U78')"
            ]
          },
          "metadata": {
            "tags": []
          },
          "execution_count": 69
        }
      ]
    },
    {
      "cell_type": "code",
      "metadata": {
        "id": "dFW20dyuhR3H",
        "colab_type": "code",
        "colab": {
          "base_uri": "https://localhost:8080/",
          "height": 50
        },
        "outputId": "1028e5d7-9130-41c2-baef-67f777e350a1"
      },
      "source": [
        "vector_space_distance(X, 12443, True)"
      ],
      "execution_count": 71,
      "outputs": [
        {
          "output_type": "execute_result",
          "data": {
            "text/plain": [
              "array(['persecution', 'persecute', 'hatred', 'boggs', 'enemy', 'missouri',\n",
              "       'pose', 'knies', 'casper', 'neo'], dtype='<U78')"
            ]
          },
          "metadata": {
            "tags": []
          },
          "execution_count": 71
        }
      ]
    },
    {
      "cell_type": "markdown",
      "metadata": {
        "id": "JMG4_RCEjO-T",
        "colab_type": "text"
      },
      "source": [
        "## Document Similarity"
      ]
    },
    {
      "cell_type": "code",
      "metadata": {
        "id": "4N1_6QF8jOEf",
        "colab_type": "code",
        "colab": {}
      },
      "source": [
        "def t_vector_space_distance(vec_space, index_number, dense=False):\n",
        "  if dense:\n",
        "        vec_space = vec_space.toarray()\n",
        "  w = vec_space[index_number, :]\n",
        "  d_oe = np.apply_along_axis(lambda x: euclidean(x, w), 1 , vec_space )\n",
        "  ind = np.argsort(d_oe)[:10]\n",
        "  return ind"
      ],
      "execution_count": 0,
      "outputs": []
    },
    {
      "cell_type": "code",
      "metadata": {
        "id": "BZSpFdsSjmfW",
        "colab_type": "code",
        "colab": {
          "base_uri": "https://localhost:8080/",
          "height": 34
        },
        "outputId": "2d982d9b-5aae-4672-b9f5-6ca2bf850077"
      },
      "source": [
        "t_vector_space_distance(oe, 15)"
      ],
      "execution_count": 81,
      "outputs": [
        {
          "output_type": "execute_result",
          "data": {
            "text/plain": [
              "array([ 15, 616, 447, 654, 205, 146,  67, 707,   6, 283])"
            ]
          },
          "metadata": {
            "tags": []
          },
          "execution_count": 81
        }
      ]
    },
    {
      "cell_type": "code",
      "metadata": {
        "id": "kk5kLZ-dkNPF",
        "colab_type": "code",
        "colab": {
          "base_uri": "https://localhost:8080/",
          "height": 34
        },
        "outputId": "4723138c-584f-4807-d140-d86c5d539fee"
      },
      "source": [
        "t_vector_space_distance(X, 15, True)"
      ],
      "execution_count": 82,
      "outputs": [
        {
          "output_type": "execute_result",
          "data": {
            "text/plain": [
              "array([ 15, 578, 534, 677, 662, 105, 312, 747, 388, 259])"
            ]
          },
          "metadata": {
            "tags": []
          },
          "execution_count": 82
        }
      ]
    },
    {
      "cell_type": "code",
      "metadata": {
        "id": "sCzg4j8Gjw7M",
        "colab_type": "code",
        "colab": {
          "base_uri": "https://localhost:8080/",
          "height": 185
        },
        "outputId": "cb7766ec-ecda-4cd0-fd52-e6a73bda644e"
      },
      "source": [
        "print(dataset.data[15])"
      ],
      "execution_count": 79,
      "outputs": [
        {
          "output_type": "stream",
          "text": [
            "From: jmeritt@mental.mitre.org\n",
            "Subject: God's promise to the righteous\n",
            "Organization: UTexas Mail-to-News Gateway\n",
            "Lines: 3\n",
            "NNTP-Posting-Host: cs.utexas.edu\n",
            "\n",
            "Ps.92:12: \"The righteous shall flourish like the palm tree.\"\n",
            "\n",
            "Isa.57:1: \"The righteous perisheth, and no man layeth it to heart.\"\n",
            "\n"
          ],
          "name": "stdout"
        }
      ]
    }
  ]
}