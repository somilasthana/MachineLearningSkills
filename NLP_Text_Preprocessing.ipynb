{
  "nbformat": 4,
  "nbformat_minor": 0,
  "metadata": {
    "colab": {
      "name": "NLP_Text_Preprocessing.ipynb",
      "version": "0.3.2",
      "provenance": [],
      "include_colab_link": true
    },
    "kernelspec": {
      "name": "python3",
      "display_name": "Python 3"
    }
  },
  "cells": [
    {
      "cell_type": "markdown",
      "metadata": {
        "id": "view-in-github",
        "colab_type": "text"
      },
      "source": [
        "<a href=\"https://colab.research.google.com/github/somilasthana/MachineLearningSkills/blob/master/NLP_Text_Preprocessing.ipynb\" target=\"_parent\"><img src=\"https://colab.research.google.com/assets/colab-badge.svg\" alt=\"Open In Colab\"/></a>"
      ]
    },
    {
      "cell_type": "code",
      "metadata": {
        "id": "Lfew4mGL0FiT",
        "colab_type": "code",
        "colab": {}
      },
      "source": [
        "import os\n",
        "import numpy as np\n",
        "import pandas as pd\n",
        "from sklearn.feature_extraction.text import CountVectorizer"
      ],
      "execution_count": 0,
      "outputs": []
    },
    {
      "cell_type": "code",
      "metadata": {
        "id": "X0QGUDBF3x0C",
        "colab_type": "code",
        "colab": {}
      },
      "source": [
        "text = \"She looked at   her father's arm-chair.\"\n",
        "text_fr = \"Qu'est-ce que c'est?\""
      ],
      "execution_count": 0,
      "outputs": []
    },
    {
      "cell_type": "code",
      "metadata": {
        "id": "kdUGSYaK32YJ",
        "colab_type": "code",
        "colab": {
          "base_uri": "https://localhost:8080/",
          "height": 35
        },
        "outputId": "629258fc-b5a3-4f7e-827d-34374f726f54"
      },
      "source": [
        "CountVectorizer().build_tokenizer()(text)"
      ],
      "execution_count": 3,
      "outputs": [
        {
          "output_type": "execute_result",
          "data": {
            "text/plain": [
              "['She', 'looked', 'at', 'her', 'father', 'arm', 'chair']"
            ]
          },
          "metadata": {
            "tags": []
          },
          "execution_count": 3
        }
      ]
    },
    {
      "cell_type": "code",
      "metadata": {
        "id": "JrJXeDwZ39xA",
        "colab_type": "code",
        "colab": {
          "base_uri": "https://localhost:8080/",
          "height": 35
        },
        "outputId": "deecc066-53d9-442d-8b84-fad33adc47d0"
      },
      "source": [
        "CountVectorizer().build_tokenizer()(text_fr)"
      ],
      "execution_count": 4,
      "outputs": [
        {
          "output_type": "execute_result",
          "data": {
            "text/plain": [
              "['Qu', 'est', 'ce', 'que', 'est']"
            ]
          },
          "metadata": {
            "tags": []
          },
          "execution_count": 4
        }
      ]
    },
    {
      "cell_type": "code",
      "metadata": {
        "id": "lVGJg8qW4E1i",
        "colab_type": "code",
        "colab": {
          "base_uri": "https://localhost:8080/",
          "height": 69
        },
        "outputId": "8c7de118-fec0-4023-804c-9b8aa0d4b7fe"
      },
      "source": [
        "from nltk.tokenize import word_tokenize\n",
        "import nltk\n",
        "nltk.download('punkt')"
      ],
      "execution_count": 10,
      "outputs": [
        {
          "output_type": "stream",
          "text": [
            "[nltk_data] Downloading package punkt to /root/nltk_data...\n",
            "[nltk_data]   Unzipping tokenizers/punkt.zip.\n"
          ],
          "name": "stdout"
        },
        {
          "output_type": "execute_result",
          "data": {
            "text/plain": [
              "True"
            ]
          },
          "metadata": {
            "tags": []
          },
          "execution_count": 10
        }
      ]
    },
    {
      "cell_type": "code",
      "metadata": {
        "id": "V40XT2yJ4Qpj",
        "colab_type": "code",
        "colab": {
          "base_uri": "https://localhost:8080/",
          "height": 35
        },
        "outputId": "f591a991-5777-4d6b-a3c6-24f06af4fd6a"
      },
      "source": [
        "word_tokenize(text)"
      ],
      "execution_count": 11,
      "outputs": [
        {
          "output_type": "execute_result",
          "data": {
            "text/plain": [
              "['She', 'looked', 'at', 'her', 'father', \"'s\", 'arm-chair', '.']"
            ]
          },
          "metadata": {
            "tags": []
          },
          "execution_count": 11
        }
      ]
    },
    {
      "cell_type": "code",
      "metadata": {
        "id": "M1rZscIX4ab3",
        "colab_type": "code",
        "colab": {
          "base_uri": "https://localhost:8080/",
          "height": 35
        },
        "outputId": "cc13a5d6-8836-4cad-d936-ba55e3f162c3"
      },
      "source": [
        "word_tokenize(text_fr)"
      ],
      "execution_count": 12,
      "outputs": [
        {
          "output_type": "execute_result",
          "data": {
            "text/plain": [
              "[\"Qu'est-ce\", 'que', \"c'est\", '?']"
            ]
          },
          "metadata": {
            "tags": []
          },
          "execution_count": 12
        }
      ]
    },
    {
      "cell_type": "code",
      "metadata": {
        "id": "PeZx_JW14nbm",
        "colab_type": "code",
        "colab": {}
      },
      "source": [
        "from nltk.tokenize import WordPunctTokenizer"
      ],
      "execution_count": 0,
      "outputs": []
    },
    {
      "cell_type": "code",
      "metadata": {
        "id": "Dxp3zxps420z",
        "colab_type": "code",
        "colab": {
          "base_uri": "https://localhost:8080/",
          "height": 35
        },
        "outputId": "af01275f-13b6-4511-9ff5-d3ae50ab726a"
      },
      "source": [
        "WordPunctTokenizer().tokenize(text)"
      ],
      "execution_count": 17,
      "outputs": [
        {
          "output_type": "execute_result",
          "data": {
            "text/plain": [
              "['She', 'looked', 'at', 'her', 'father', \"'\", 's', 'arm', '-', 'chair', '.']"
            ]
          },
          "metadata": {
            "tags": []
          },
          "execution_count": 17
        }
      ]
    },
    {
      "cell_type": "code",
      "metadata": {
        "id": "iC_Xnpxf5jaY",
        "colab_type": "code",
        "colab": {}
      },
      "source": [
        "import string"
      ],
      "execution_count": 0,
      "outputs": []
    },
    {
      "cell_type": "code",
      "metadata": {
        "id": "8JwHgfIC5yFC",
        "colab_type": "code",
        "colab": {
          "base_uri": "https://localhost:8080/",
          "height": 35
        },
        "outputId": "64ecbede-6225-4cbe-e424-cdaac496f9eb"
      },
      "source": [
        "[s for s in text.split(' ') if s not in string.punctuation]"
      ],
      "execution_count": 20,
      "outputs": [
        {
          "output_type": "execute_result",
          "data": {
            "text/plain": [
              "['She', 'looked', 'at', 'her', \"father's\", 'arm-chair.']"
            ]
          },
          "metadata": {
            "tags": []
          },
          "execution_count": 20
        }
      ]
    },
    {
      "cell_type": "code",
      "metadata": {
        "id": "sbdcmImrEzCc",
        "colab_type": "code",
        "colab": {}
      },
      "source": [
        "Stemming"
      ],
      "execution_count": 0,
      "outputs": []
    },
    {
      "cell_type": "code",
      "metadata": {
        "id": "eXrfxwCe6HA6",
        "colab_type": "code",
        "colab": {}
      },
      "source": [
        "from nltk.stem import WordNetLemmatizer\n",
        "\n",
        "wnl = WordNetLemmatizer()"
      ],
      "execution_count": 0,
      "outputs": []
    },
    {
      "cell_type": "code",
      "metadata": {
        "id": "yTJPDGwxFUDO",
        "colab_type": "code",
        "colab": {
          "base_uri": "https://localhost:8080/",
          "height": 69
        },
        "outputId": "6923e063-4d3e-4a98-8ac6-73ac3edff65c"
      },
      "source": [
        "nltk.download('wordnet')"
      ],
      "execution_count": 23,
      "outputs": [
        {
          "output_type": "stream",
          "text": [
            "[nltk_data] Downloading package wordnet to /root/nltk_data...\n",
            "[nltk_data]   Unzipping corpora/wordnet.zip.\n"
          ],
          "name": "stdout"
        },
        {
          "output_type": "execute_result",
          "data": {
            "text/plain": [
              "True"
            ]
          },
          "metadata": {
            "tags": []
          },
          "execution_count": 23
        }
      ]
    },
    {
      "cell_type": "code",
      "metadata": {
        "id": "23kU2qNWFNuo",
        "colab_type": "code",
        "colab": {
          "base_uri": "https://localhost:8080/",
          "height": 35
        },
        "outputId": "5b33b3da-d1a9-495e-c376-33a0e4a4af0e"
      },
      "source": [
        "[wnl.lemmatize(t) for t in text.split(' ')]"
      ],
      "execution_count": 25,
      "outputs": [
        {
          "output_type": "execute_result",
          "data": {
            "text/plain": [
              "['She', 'looked', 'at', '', '', 'her', \"father's\", 'arm-chair.']"
            ]
          },
          "metadata": {
            "tags": []
          },
          "execution_count": 25
        }
      ]
    },
    {
      "cell_type": "code",
      "metadata": {
        "id": "uBuViXg-F9bG",
        "colab_type": "code",
        "colab": {
          "base_uri": "https://localhost:8080/",
          "height": 207
        },
        "outputId": "d4a28fde-8d8b-4153-874e-78cf16f607f7"
      },
      "source": [
        "!wget https://liferay.de.dariah.eu/tatom/_downloads/datasets.zip"
      ],
      "execution_count": 26,
      "outputs": [
        {
          "output_type": "stream",
          "text": [
            "--2019-06-23 11:28:10--  https://liferay.de.dariah.eu/tatom/_downloads/datasets.zip\n",
            "Resolving liferay.de.dariah.eu (liferay.de.dariah.eu)... 134.76.30.131\n",
            "Connecting to liferay.de.dariah.eu (liferay.de.dariah.eu)|134.76.30.131|:443... connected.\n",
            "HTTP request sent, awaiting response... 200 OK\n",
            "Length: 57659024 (55M) [application/zip]\n",
            "Saving to: ‘datasets.zip’\n",
            "\n",
            "datasets.zip        100%[===================>]  54.99M  20.5MB/s    in 2.7s    \n",
            "\n",
            "2019-06-23 11:28:13 (20.5 MB/s) - ‘datasets.zip’ saved [57659024/57659024]\n",
            "\n"
          ],
          "name": "stdout"
        }
      ]
    },
    {
      "cell_type": "code",
      "metadata": {
        "id": "XbBrYyTZGC-P",
        "colab_type": "code",
        "colab": {}
      },
      "source": [
        "!unzip /content/datasets.zip"
      ],
      "execution_count": 0,
      "outputs": []
    },
    {
      "cell_type": "markdown",
      "metadata": {
        "id": "9BAUaN8RF12i",
        "colab_type": "text"
      },
      "source": [
        "Chunk\n",
        "\n",
        "Observing two words together in a paragraph-sized chunk of text tells us much more about the relationship between those two words than observing two words occurring together in an 100,000 word book. "
      ]
    },
    {
      "cell_type": "code",
      "metadata": {
        "id": "3WzaNy3mF1cs",
        "colab_type": "code",
        "colab": {}
      },
      "source": [
        "corpus_path = \"/content/data/french-tragedy\""
      ],
      "execution_count": 0,
      "outputs": []
    },
    {
      "cell_type": "code",
      "metadata": {
        "id": "NHgmpotmF1Z3",
        "colab_type": "code",
        "colab": {
          "base_uri": "https://localhost:8080/",
          "height": 104
        },
        "outputId": "1aea9e1c-81ac-4227-cd39-f74a6dfbb504"
      },
      "source": [
        "os.listdir(path=corpus_path)[0:5]"
      ],
      "execution_count": 31,
      "outputs": [
        {
          "output_type": "execute_result",
          "data": {
            "text/plain": [
              "['Voltaire_TR-V-1732-Zaire.txt',\n",
              " 'Crebillon_TR-V-1749-Catilina.txt',\n",
              " 'Voltaire_TR-V-1774-Sophonisbee.txt',\n",
              " 'Crebillon_TR-V-1726-Pyrrhus.txt',\n",
              " 'Racine_TR-V-1674-Iphigenie.txt']"
            ]
          },
          "metadata": {
            "tags": []
          },
          "execution_count": 31
        }
      ]
    },
    {
      "cell_type": "code",
      "metadata": {
        "id": "vl-M2I_aFQ6-",
        "colab_type": "code",
        "colab": {}
      },
      "source": [
        "tragedy_filenames = [os.path.join(corpus_path, fn) for fn in sorted(os.listdir(corpus_path))]"
      ],
      "execution_count": 0,
      "outputs": []
    },
    {
      "cell_type": "code",
      "metadata": {
        "id": "yQqVzL7oHIXV",
        "colab_type": "code",
        "colab": {}
      },
      "source": [
        "import glob\n",
        "tragedy_filenames = glob.glob(corpus_path + os.sep + '*.txt')"
      ],
      "execution_count": 0,
      "outputs": []
    },
    {
      "cell_type": "code",
      "metadata": {
        "id": "XwnBhjXeHdiZ",
        "colab_type": "code",
        "colab": {
          "base_uri": "https://localhost:8080/",
          "height": 104
        },
        "outputId": "79753fad-3a04-462a-a3e9-38d97de36514"
      },
      "source": [
        "tragedy_filenames[:5]"
      ],
      "execution_count": 36,
      "outputs": [
        {
          "output_type": "execute_result",
          "data": {
            "text/plain": [
              "['/content/data/french-tragedy/Voltaire_TR-V-1732-Zaire.txt',\n",
              " '/content/data/french-tragedy/Crebillon_TR-V-1749-Catilina.txt',\n",
              " '/content/data/french-tragedy/Voltaire_TR-V-1774-Sophonisbee.txt',\n",
              " '/content/data/french-tragedy/Crebillon_TR-V-1726-Pyrrhus.txt',\n",
              " '/content/data/french-tragedy/Racine_TR-V-1674-Iphigenie.txt']"
            ]
          },
          "metadata": {
            "tags": []
          },
          "execution_count": 36
        }
      ]
    },
    {
      "cell_type": "code",
      "metadata": {
        "id": "CKpwmoY_Hf5s",
        "colab_type": "code",
        "colab": {}
      },
      "source": [
        "def split_text(filename, n_words):\n",
        "  \n",
        "  fp = open(filename, 'r')\n",
        "  words = fp.read().split(' ')\n",
        "  fp.close()\n",
        "  \n",
        "  chunks = []\n",
        "  current_chunks = []\n",
        "  \n",
        "  for w in words:\n",
        "    current_chunks.append(w)\n",
        "    if len(current_chunks) == n_words:\n",
        "      chunks.append(\" \".join(current_chunks))\n",
        "      current_chunks = []\n",
        "      \n",
        "  if len(current_chunks) != 0:\n",
        "    chunks.append(\" \".join(current_chunks))\n",
        "    \n",
        "  return chunks"
      ],
      "execution_count": 0,
      "outputs": []
    },
    {
      "cell_type": "code",
      "metadata": {
        "id": "8VrPeLWxJRJh",
        "colab_type": "code",
        "colab": {}
      },
      "source": [
        "chunk_length = 1000\n",
        "chunks = []\n",
        "for filename in tragedy_filenames:\n",
        "  chunk_counter = 0\n",
        "  texts = split_text(filename, chunk_length)\n",
        "  for text in texts:\n",
        "    chunk = {'text': text, 'number': chunk_counter, 'filename': filename}\n",
        "    chunks.append(chunk)\n",
        "    chunk_counter +=1 "
      ],
      "execution_count": 0,
      "outputs": []
    },
    {
      "cell_type": "code",
      "metadata": {
        "id": "ly76s-CpKcEl",
        "colab_type": "code",
        "colab": {
          "base_uri": "https://localhost:8080/",
          "height": 35
        },
        "outputId": "8be5186c-af84-4b26-f6be-d8e53afc9241"
      },
      "source": [
        "len(chunks)"
      ],
      "execution_count": 45,
      "outputs": [
        {
          "output_type": "execute_result",
          "data": {
            "text/plain": [
              "2740"
            ]
          },
          "metadata": {
            "tags": []
          },
          "execution_count": 45
        }
      ]
    },
    {
      "cell_type": "code",
      "metadata": {
        "id": "N53js13ZKiKQ",
        "colab_type": "code",
        "colab": {}
      },
      "source": [
        "from sklearn.feature_extraction.text import CountVectorizer"
      ],
      "execution_count": 0,
      "outputs": []
    },
    {
      "cell_type": "code",
      "metadata": {
        "id": "T4GpMPBbLEQ8",
        "colab_type": "code",
        "colab": {}
      },
      "source": [
        "vectorizer = CountVectorizer(min_df=5, max_df=0.95)"
      ],
      "execution_count": 0,
      "outputs": []
    },
    {
      "cell_type": "code",
      "metadata": {
        "id": "a1nDPa6aLLbd",
        "colab_type": "code",
        "colab": {}
      },
      "source": [
        "dtm = vectorizer.fit_transform([c['text'] for c in chunks])"
      ],
      "execution_count": 0,
      "outputs": []
    },
    {
      "cell_type": "code",
      "metadata": {
        "id": "ciNNozw1Lueg",
        "colab_type": "code",
        "colab": {}
      },
      "source": [
        "vocab = np.array(vectorizer.get_feature_names())"
      ],
      "execution_count": 0,
      "outputs": []
    },
    {
      "cell_type": "code",
      "metadata": {
        "id": "FIAYpA2qL-P_",
        "colab_type": "code",
        "colab": {
          "base_uri": "https://localhost:8080/",
          "height": 69
        },
        "outputId": "2c15c593-15f9-4505-82bc-1bf32e96ac06"
      },
      "source": [
        "vocab[10:20]"
      ],
      "execution_count": 51,
      "outputs": [
        {
          "output_type": "execute_result",
          "data": {
            "text/plain": [
              "array(['abandonner', 'abandonnerez', 'abandonnez', 'abandonné',\n",
              "       'abandonnée', 'abat', 'abattre', 'abattu', 'abattue', 'abattus'],\n",
              "      dtype='<U15')"
            ]
          },
          "metadata": {
            "tags": []
          },
          "execution_count": 51
        }
      ]
    },
    {
      "cell_type": "code",
      "metadata": {
        "id": "_PRp0_2kMAM_",
        "colab_type": "code",
        "colab": {
          "base_uri": "https://localhost:8080/",
          "height": 198
        },
        "outputId": "21bef0a7-d879-4548-8e3e-5ddd011603f4"
      },
      "source": [
        "pd.DataFrame(dtm).head()"
      ],
      "execution_count": 53,
      "outputs": [
        {
          "output_type": "execute_result",
          "data": {
            "text/html": [
              "<div>\n",
              "<style scoped>\n",
              "    .dataframe tbody tr th:only-of-type {\n",
              "        vertical-align: middle;\n",
              "    }\n",
              "\n",
              "    .dataframe tbody tr th {\n",
              "        vertical-align: top;\n",
              "    }\n",
              "\n",
              "    .dataframe thead th {\n",
              "        text-align: right;\n",
              "    }\n",
              "</style>\n",
              "<table border=\"1\" class=\"dataframe\">\n",
              "  <thead>\n",
              "    <tr style=\"text-align: right;\">\n",
              "      <th></th>\n",
              "      <th>0</th>\n",
              "    </tr>\n",
              "  </thead>\n",
              "  <tbody>\n",
              "    <tr>\n",
              "      <th>0</th>\n",
              "      <td>(0, 6619)\\t2\\n  (0, 6129)\\t1\\n  (0, 6552)\\t1...</td>\n",
              "    </tr>\n",
              "    <tr>\n",
              "      <th>1</th>\n",
              "      <td>(0, 6619)\\t1\\n  (0, 3850)\\t2\\n  (0, 4244)\\t2...</td>\n",
              "    </tr>\n",
              "    <tr>\n",
              "      <th>2</th>\n",
              "      <td>(0, 3850)\\t3\\n  (0, 4244)\\t1\\n  (0, 677)\\t1\\...</td>\n",
              "    </tr>\n",
              "    <tr>\n",
              "      <th>3</th>\n",
              "      <td>(0, 3850)\\t1\\n  (0, 5584)\\t1\\n  (0, 956)\\t1\\...</td>\n",
              "    </tr>\n",
              "    <tr>\n",
              "      <th>4</th>\n",
              "      <td>(0, 6619)\\t2\\n  (0, 3850)\\t2\\n  (0, 677)\\t2\\...</td>\n",
              "    </tr>\n",
              "  </tbody>\n",
              "</table>\n",
              "</div>"
            ],
            "text/plain": [
              "                                                   0\n",
              "0    (0, 6619)\\t2\\n  (0, 6129)\\t1\\n  (0, 6552)\\t1...\n",
              "1    (0, 6619)\\t1\\n  (0, 3850)\\t2\\n  (0, 4244)\\t2...\n",
              "2    (0, 3850)\\t3\\n  (0, 4244)\\t1\\n  (0, 677)\\t1\\...\n",
              "3    (0, 3850)\\t1\\n  (0, 5584)\\t1\\n  (0, 956)\\t1\\...\n",
              "4    (0, 6619)\\t2\\n  (0, 3850)\\t2\\n  (0, 677)\\t2\\..."
            ]
          },
          "metadata": {
            "tags": []
          },
          "execution_count": 53
        }
      ]
    },
    {
      "cell_type": "code",
      "metadata": {
        "id": "xni-JLVINfzn",
        "colab_type": "code",
        "colab": {}
      },
      "source": [
        ""
      ],
      "execution_count": 0,
      "outputs": []
    }
  ]
}