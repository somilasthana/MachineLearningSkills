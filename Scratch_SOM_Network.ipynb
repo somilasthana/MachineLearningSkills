{
  "nbformat": 4,
  "nbformat_minor": 0,
  "metadata": {
    "colab": {
      "name": "Scratch-SOM-Network.ipynb",
      "version": "0.3.2",
      "provenance": [],
      "collapsed_sections": [],
      "include_colab_link": true
    },
    "kernelspec": {
      "name": "python3",
      "display_name": "Python 3"
    },
    "accelerator": "GPU"
  },
  "cells": [
    {
      "cell_type": "markdown",
      "metadata": {
        "id": "view-in-github",
        "colab_type": "text"
      },
      "source": [
        "<a href=\"https://colab.research.google.com/github/somilasthana/MachineLearningSkills/blob/master/Scratch_SOM_Network.ipynb\" target=\"_parent\"><img src=\"https://colab.research.google.com/assets/colab-badge.svg\" alt=\"Open In Colab\"/></a>"
      ]
    },
    {
      "cell_type": "code",
      "metadata": {
        "id": "M7GajpyXfVRp",
        "colab_type": "code",
        "colab": {}
      },
      "source": [
        "\"\"\"\n",
        "Theory:\n",
        "Iy is a type of neural network that is trained using unsupervised learning \n",
        "on unlabeled data. In contrast to a standard neural network a SOM only has \n",
        "input and output layer (no hidden layer in middle, but rather a SOM layer).\n",
        "\n",
        "SOM does not need a target output, and is trained using competetive learning in \n",
        "which the neurons (weights asscociated with nodes in output layer) compete for \n",
        "activation (not minimizing error using backpropogation).\n",
        "\n",
        "\n",
        "\n",
        "\"\"\""
      ],
      "execution_count": 0,
      "outputs": []
    },
    {
      "cell_type": "markdown",
      "metadata": {
        "id": "5bStb9rpPo5y",
        "colab_type": "text"
      },
      "source": [
        "Algorithm to implement Self Organizing Map\n",
        "1. Randomly initialize each output node's weights, $(w_{1}^{0},w_{2}^{0},\\ldots,w_{n}^{0}).$\n",
        "2. Choose data point at random from input data, $x_{i}^{*}.$\n",
        "3.  Find node with associated weight vector which is closest to $x_{i}^{*}.$ use euclidean distance to measure $w_{m}$\n",
        "4. Determine the neighbouring vectors around the winning neuron \n",
        "\n",
        "      $N_{t}$=$N_{0}$ * exp( -t / ($N_{0}$/total_iterations) )    \n",
        "       \n",
        "      t is iteration number, \n",
        "      \n",
        "      \n",
        "       \n",
        "5. Weights are adjusted so that the winning node and its neighbours become closer to the input $x_{i}^{*}.$ \n",
        "\n",
        "    $w_{i+1}^{t} = w_{t} ^{t}+ phi(t, w_{i})* L(t)*(x_{i} - w_{i}^{t})$\n",
        "    \n",
        "    where $L(t) = L(0) * exp(-t/totaliterations).$\n",
        "    \n",
        "     $phi(t, w_{i}) = exp(dist(w_{m}, w_{i})/2*N_{t}^2)$ \n",
        "     \n",
        "     where $w_{m}$ is the winner node from 3.\n",
        "    \n",
        "   "
      ]
    },
    {
      "cell_type": "code",
      "metadata": {
        "id": "7jxTAI4f6iJh",
        "colab_type": "code",
        "colab": {
          "base_uri": "https://localhost:8080/",
          "height": 227
        },
        "outputId": "dd4d48de-4d4d-4478-db9c-8042d07729f1"
      },
      "source": [
        "# Get Data\n",
        "!wget https://raw.githubusercontent.com/hammadshaikhha/Math-of-Machine-Learning-Course-by-Siraj/master/Self%20Organizing%20Maps%20for%20Data%20Visualization/Grade1Students.csv"
      ],
      "execution_count": 1,
      "outputs": [
        {
          "output_type": "stream",
          "text": [
            "--2019-06-20 22:45:19--  https://raw.githubusercontent.com/hammadshaikhha/Math-of-Machine-Learning-Course-by-Siraj/master/Self%20Organizing%20Maps%20for%20Data%20Visualization/Grade1Students.csv\n",
            "Resolving raw.githubusercontent.com (raw.githubusercontent.com)... 151.101.0.133, 151.101.64.133, 151.101.128.133, ...\n",
            "Connecting to raw.githubusercontent.com (raw.githubusercontent.com)|151.101.0.133|:443... connected.\n",
            "HTTP request sent, awaiting response... 200 OK\n",
            "Length: 112647 (110K) [text/plain]\n",
            "Saving to: ‘Grade1Students.csv’\n",
            "\n",
            "\rGrade1Students.csv    0%[                    ]       0  --.-KB/s               \rGrade1Students.csv  100%[===================>] 110.01K  --.-KB/s    in 0.04s   \n",
            "\n",
            "2019-06-20 22:45:19 (2.88 MB/s) - ‘Grade1Students.csv’ saved [112647/112647]\n",
            "\n"
          ],
          "name": "stdout"
        }
      ]
    },
    {
      "cell_type": "code",
      "metadata": {
        "id": "qC0Ay4rX1qno",
        "colab_type": "code",
        "colab": {}
      },
      "source": [
        "# Import dependencies\n",
        "# numpy for matrix algbera\n",
        "import numpy as np\n",
        "# Pandas for data manipulation\n",
        "import pandas as pd\n",
        "# matplotlib for data visualization\n",
        "import matplotlib.pyplot as plt\n"
      ],
      "execution_count": 0,
      "outputs": []
    },
    {
      "cell_type": "code",
      "metadata": {
        "id": "zGkv-bIh5aqx",
        "colab_type": "code",
        "colab": {}
      },
      "source": [
        "np.random.seed(42)"
      ],
      "execution_count": 0,
      "outputs": []
    },
    {
      "cell_type": "code",
      "metadata": {
        "id": "o3hM3RIq5d04",
        "colab_type": "code",
        "colab": {}
      },
      "source": [
        "edu_data = pd.read_csv(\"/content/Grade1Students.csv\")"
      ],
      "execution_count": 0,
      "outputs": []
    },
    {
      "cell_type": "code",
      "metadata": {
        "id": "z9k3rIMW5nUU",
        "colab_type": "code",
        "colab": {
          "base_uri": "https://localhost:8080/",
          "height": 198
        },
        "outputId": "c2e8f8a6-9049-4fa9-8b48-ee9a97ae571d"
      },
      "source": [
        "edu_data.head()"
      ],
      "execution_count": 5,
      "outputs": [
        {
          "output_type": "execute_result",
          "data": {
            "text/html": [
              "<div>\n",
              "<style scoped>\n",
              "    .dataframe tbody tr th:only-of-type {\n",
              "        vertical-align: middle;\n",
              "    }\n",
              "\n",
              "    .dataframe tbody tr th {\n",
              "        vertical-align: top;\n",
              "    }\n",
              "\n",
              "    .dataframe thead th {\n",
              "        text-align: right;\n",
              "    }\n",
              "</style>\n",
              "<table border=\"1\" class=\"dataframe\">\n",
              "  <thead>\n",
              "    <tr style=\"text-align: right;\">\n",
              "      <th></th>\n",
              "      <th>g1freelunch</th>\n",
              "      <th>g1absent</th>\n",
              "      <th>g1readscore</th>\n",
              "      <th>g1mathscore</th>\n",
              "      <th>g1listeningscore</th>\n",
              "      <th>g1wordscore</th>\n",
              "    </tr>\n",
              "  </thead>\n",
              "  <tbody>\n",
              "    <tr>\n",
              "      <th>0</th>\n",
              "      <td>1</td>\n",
              "      <td>9</td>\n",
              "      <td>516</td>\n",
              "      <td>578</td>\n",
              "      <td>601</td>\n",
              "      <td>493</td>\n",
              "    </tr>\n",
              "    <tr>\n",
              "      <th>1</th>\n",
              "      <td>0</td>\n",
              "      <td>12</td>\n",
              "      <td>451</td>\n",
              "      <td>507</td>\n",
              "      <td>584</td>\n",
              "      <td>436</td>\n",
              "    </tr>\n",
              "    <tr>\n",
              "      <th>2</th>\n",
              "      <td>1</td>\n",
              "      <td>4</td>\n",
              "      <td>483</td>\n",
              "      <td>526</td>\n",
              "      <td>529</td>\n",
              "      <td>486</td>\n",
              "    </tr>\n",
              "    <tr>\n",
              "      <th>3</th>\n",
              "      <td>1</td>\n",
              "      <td>15</td>\n",
              "      <td>516</td>\n",
              "      <td>505</td>\n",
              "      <td>556</td>\n",
              "      <td>536</td>\n",
              "    </tr>\n",
              "    <tr>\n",
              "      <th>4</th>\n",
              "      <td>1</td>\n",
              "      <td>2</td>\n",
              "      <td>433</td>\n",
              "      <td>463</td>\n",
              "      <td>504</td>\n",
              "      <td>426</td>\n",
              "    </tr>\n",
              "  </tbody>\n",
              "</table>\n",
              "</div>"
            ],
            "text/plain": [
              "   g1freelunch  g1absent  ...  g1listeningscore  g1wordscore\n",
              "0            1         9  ...               601          493\n",
              "1            0        12  ...               584          436\n",
              "2            1         4  ...               529          486\n",
              "3            1        15  ...               556          536\n",
              "4            1         2  ...               504          426\n",
              "\n",
              "[5 rows x 6 columns]"
            ]
          },
          "metadata": {
            "tags": []
          },
          "execution_count": 5
        }
      ]
    },
    {
      "cell_type": "code",
      "metadata": {
        "id": "dSmhbhW85qPx",
        "colab_type": "code",
        "colab": {
          "base_uri": "https://localhost:8080/",
          "height": 288
        },
        "outputId": "dbde6d72-de31-4392-e4b4-d32225317189"
      },
      "source": [
        "edu_data.describe()"
      ],
      "execution_count": 28,
      "outputs": [
        {
          "output_type": "execute_result",
          "data": {
            "text/html": [
              "<div>\n",
              "<style scoped>\n",
              "    .dataframe tbody tr th:only-of-type {\n",
              "        vertical-align: middle;\n",
              "    }\n",
              "\n",
              "    .dataframe tbody tr th {\n",
              "        vertical-align: top;\n",
              "    }\n",
              "\n",
              "    .dataframe thead th {\n",
              "        text-align: right;\n",
              "    }\n",
              "</style>\n",
              "<table border=\"1\" class=\"dataframe\">\n",
              "  <thead>\n",
              "    <tr style=\"text-align: right;\">\n",
              "      <th></th>\n",
              "      <th>g1freelunch</th>\n",
              "      <th>g1absent</th>\n",
              "      <th>g1readscore</th>\n",
              "      <th>g1mathscore</th>\n",
              "      <th>g1listeningscore</th>\n",
              "      <th>g1wordscore</th>\n",
              "    </tr>\n",
              "  </thead>\n",
              "  <tbody>\n",
              "    <tr>\n",
              "      <th>count</th>\n",
              "      <td>5550.000000</td>\n",
              "      <td>5550.000000</td>\n",
              "      <td>5550.000000</td>\n",
              "      <td>5550.000000</td>\n",
              "      <td>5550.000000</td>\n",
              "      <td>5550.000000</td>\n",
              "    </tr>\n",
              "    <tr>\n",
              "      <th>mean</th>\n",
              "      <td>0.500901</td>\n",
              "      <td>7.421261</td>\n",
              "      <td>521.307207</td>\n",
              "      <td>531.456216</td>\n",
              "      <td>567.824324</td>\n",
              "      <td>514.643063</td>\n",
              "    </tr>\n",
              "    <tr>\n",
              "      <th>std</th>\n",
              "      <td>0.500044</td>\n",
              "      <td>7.004582</td>\n",
              "      <td>55.278448</td>\n",
              "      <td>43.151113</td>\n",
              "      <td>33.562973</td>\n",
              "      <td>52.858396</td>\n",
              "    </tr>\n",
              "    <tr>\n",
              "      <th>min</th>\n",
              "      <td>0.000000</td>\n",
              "      <td>0.000000</td>\n",
              "      <td>404.000000</td>\n",
              "      <td>404.000000</td>\n",
              "      <td>477.000000</td>\n",
              "      <td>317.000000</td>\n",
              "    </tr>\n",
              "    <tr>\n",
              "      <th>25%</th>\n",
              "      <td>0.000000</td>\n",
              "      <td>2.000000</td>\n",
              "      <td>478.000000</td>\n",
              "      <td>502.000000</td>\n",
              "      <td>543.000000</td>\n",
              "      <td>475.000000</td>\n",
              "    </tr>\n",
              "    <tr>\n",
              "      <th>50%</th>\n",
              "      <td>1.000000</td>\n",
              "      <td>6.000000</td>\n",
              "      <td>516.000000</td>\n",
              "      <td>529.000000</td>\n",
              "      <td>565.000000</td>\n",
              "      <td>514.000000</td>\n",
              "    </tr>\n",
              "    <tr>\n",
              "      <th>75%</th>\n",
              "      <td>1.000000</td>\n",
              "      <td>10.000000</td>\n",
              "      <td>558.000000</td>\n",
              "      <td>562.000000</td>\n",
              "      <td>588.000000</td>\n",
              "      <td>551.000000</td>\n",
              "    </tr>\n",
              "    <tr>\n",
              "      <th>max</th>\n",
              "      <td>1.000000</td>\n",
              "      <td>84.000000</td>\n",
              "      <td>651.000000</td>\n",
              "      <td>676.000000</td>\n",
              "      <td>708.000000</td>\n",
              "      <td>601.000000</td>\n",
              "    </tr>\n",
              "  </tbody>\n",
              "</table>\n",
              "</div>"
            ],
            "text/plain": [
              "       g1freelunch     g1absent  ...  g1listeningscore  g1wordscore\n",
              "count  5550.000000  5550.000000  ...       5550.000000  5550.000000\n",
              "mean      0.500901     7.421261  ...        567.824324   514.643063\n",
              "std       0.500044     7.004582  ...         33.562973    52.858396\n",
              "min       0.000000     0.000000  ...        477.000000   317.000000\n",
              "25%       0.000000     2.000000  ...        543.000000   475.000000\n",
              "50%       1.000000     6.000000  ...        565.000000   514.000000\n",
              "75%       1.000000    10.000000  ...        588.000000   551.000000\n",
              "max       1.000000    84.000000  ...        708.000000   601.000000\n",
              "\n",
              "[8 rows x 6 columns]"
            ]
          },
          "metadata": {
            "tags": []
          },
          "execution_count": 28
        }
      ]
    },
    {
      "cell_type": "code",
      "metadata": {
        "id": "y2cdSNip5uL0",
        "colab_type": "code",
        "colab": {}
      },
      "source": [
        "# Max Min Scaling\n",
        "edu_data = (edu_data - edu_data.min()) / (edu_data.max() - edu_data.min())"
      ],
      "execution_count": 0,
      "outputs": []
    },
    {
      "cell_type": "code",
      "metadata": {
        "id": "m3znH1aTERP8",
        "colab_type": "code",
        "colab": {
          "base_uri": "https://localhost:8080/",
          "height": 198
        },
        "outputId": "8bc0492a-1d24-4a56-82c0-db462a58c1cc"
      },
      "source": [
        "edu_data.head()"
      ],
      "execution_count": 30,
      "outputs": [
        {
          "output_type": "execute_result",
          "data": {
            "text/html": [
              "<div>\n",
              "<style scoped>\n",
              "    .dataframe tbody tr th:only-of-type {\n",
              "        vertical-align: middle;\n",
              "    }\n",
              "\n",
              "    .dataframe tbody tr th {\n",
              "        vertical-align: top;\n",
              "    }\n",
              "\n",
              "    .dataframe thead th {\n",
              "        text-align: right;\n",
              "    }\n",
              "</style>\n",
              "<table border=\"1\" class=\"dataframe\">\n",
              "  <thead>\n",
              "    <tr style=\"text-align: right;\">\n",
              "      <th></th>\n",
              "      <th>g1freelunch</th>\n",
              "      <th>g1absent</th>\n",
              "      <th>g1readscore</th>\n",
              "      <th>g1mathscore</th>\n",
              "      <th>g1listeningscore</th>\n",
              "      <th>g1wordscore</th>\n",
              "    </tr>\n",
              "  </thead>\n",
              "  <tbody>\n",
              "    <tr>\n",
              "      <th>0</th>\n",
              "      <td>1.0</td>\n",
              "      <td>0.107143</td>\n",
              "      <td>0.453441</td>\n",
              "      <td>0.639706</td>\n",
              "      <td>0.536797</td>\n",
              "      <td>0.619718</td>\n",
              "    </tr>\n",
              "    <tr>\n",
              "      <th>1</th>\n",
              "      <td>0.0</td>\n",
              "      <td>0.142857</td>\n",
              "      <td>0.190283</td>\n",
              "      <td>0.378676</td>\n",
              "      <td>0.463203</td>\n",
              "      <td>0.419014</td>\n",
              "    </tr>\n",
              "    <tr>\n",
              "      <th>2</th>\n",
              "      <td>1.0</td>\n",
              "      <td>0.047619</td>\n",
              "      <td>0.319838</td>\n",
              "      <td>0.448529</td>\n",
              "      <td>0.225108</td>\n",
              "      <td>0.595070</td>\n",
              "    </tr>\n",
              "    <tr>\n",
              "      <th>3</th>\n",
              "      <td>1.0</td>\n",
              "      <td>0.178571</td>\n",
              "      <td>0.453441</td>\n",
              "      <td>0.371324</td>\n",
              "      <td>0.341991</td>\n",
              "      <td>0.771127</td>\n",
              "    </tr>\n",
              "    <tr>\n",
              "      <th>4</th>\n",
              "      <td>1.0</td>\n",
              "      <td>0.023810</td>\n",
              "      <td>0.117409</td>\n",
              "      <td>0.216912</td>\n",
              "      <td>0.116883</td>\n",
              "      <td>0.383803</td>\n",
              "    </tr>\n",
              "  </tbody>\n",
              "</table>\n",
              "</div>"
            ],
            "text/plain": [
              "   g1freelunch  g1absent  ...  g1listeningscore  g1wordscore\n",
              "0          1.0  0.107143  ...          0.536797     0.619718\n",
              "1          0.0  0.142857  ...          0.463203     0.419014\n",
              "2          1.0  0.047619  ...          0.225108     0.595070\n",
              "3          1.0  0.178571  ...          0.341991     0.771127\n",
              "4          1.0  0.023810  ...          0.116883     0.383803\n",
              "\n",
              "[5 rows x 6 columns]"
            ]
          },
          "metadata": {
            "tags": []
          },
          "execution_count": 30
        }
      ]
    },
    {
      "cell_type": "code",
      "metadata": {
        "id": "vqYqd9G355yY",
        "colab_type": "code",
        "colab": {}
      },
      "source": [
        "total_num_iterations = 3*len(edu_data.index)\n",
        "nodes_num = 3\n",
        "input_dim = len(edu_data.columns)\n",
        "learn_init = 0.1"
      ],
      "execution_count": 0,
      "outputs": []
    },
    {
      "cell_type": "code",
      "metadata": {
        "id": "fb6kMZaq6NIX",
        "colab_type": "code",
        "colab": {}
      },
      "source": [
        "# Step 1: Initialize the weight vectors \n",
        "w = 4 * np.random.rand(input_dim, nodes_num) -2"
      ],
      "execution_count": 0,
      "outputs": []
    },
    {
      "cell_type": "code",
      "metadata": {
        "id": "69pl_1g_6c2q",
        "colab_type": "code",
        "colab": {
          "base_uri": "https://localhost:8080/",
          "height": 35
        },
        "outputId": "f09a477b-61b2-48ec-8ccd-f5d30aebe3e2"
      },
      "source": [
        "w.shape"
      ],
      "execution_count": 42,
      "outputs": [
        {
          "output_type": "execute_result",
          "data": {
            "text/plain": [
              "(6, 3)"
            ]
          },
          "metadata": {
            "tags": []
          },
          "execution_count": 42
        }
      ]
    },
    {
      "cell_type": "code",
      "metadata": {
        "id": "0tqLZPx8ItYg",
        "colab_type": "code",
        "colab": {
          "base_uri": "https://localhost:8080/",
          "height": 121
        },
        "outputId": "e267cb47-0c3c-43e0-afd6-c9309d960198"
      },
      "source": [
        "w"
      ],
      "execution_count": 43,
      "outputs": [
        {
          "output_type": "execute_result",
          "data": {
            "text/plain": [
              "array([[ 1.33617766, -0.08133127,  0.34545002],\n",
              "       [ 1.49501517, -0.76472435,  0.80279728],\n",
              "       [ 1.44666903, -1.1895372 , -0.57408734],\n",
              "       [ 1.9192407 ,  1.93287426, -1.10708028],\n",
              "       [-1.73421664, -0.91631355, -0.40907217],\n",
              "       [-0.2359776 ,  0.47522523,  1.59801104]])"
            ]
          },
          "metadata": {
            "tags": []
          },
          "execution_count": 43
        }
      ]
    },
    {
      "cell_type": "code",
      "metadata": {
        "id": "j-29LKiKJDgD",
        "colab_type": "code",
        "colab": {}
      },
      "source": [
        "\n",
        "for iteration in range(total_num_iterations):\n",
        "  \n",
        "  dist_bmu = float(\"inf\")\n",
        "  \n",
        "  # Step 2: Choose data point at random from input data\n",
        "  row_index = np.random.randint(len(edu_data.index))\n",
        "  \n",
        "  # get data point\n",
        "  data_point = edu_data.loc[[row_index]]\n",
        "  \n",
        "  # Step 3: Find the weight vector that is closest to chosen point\n",
        "  for node in range(nodes_num):\n",
        "    \n",
        "    # Compute euclidean distance from weight vector to chosen point\n",
        "    dist_neuron = np.linalg.norm(data_point - w[:, node])\n",
        "    \n",
        "    if dist_neuron < dist_bmu:\n",
        "      dist_bmu = dist_neuron\n",
        "      w_bmu = w[:, node]\n",
        "      index_bmu = node\n",
        "      \n",
        "  # Step 4: Define radius of winning neuron neighbourhood \n",
        "  \n",
        "  learning_rate = learn_init * np.exp(-iteration/total_num_iterations)\n",
        "  \n",
        "  # Step 5: Update weight vectors (w_{t+1} = w_{t} + L(t)*(x_{i} - w_{t}))\n",
        "  \n",
        "  w[:,index_bmu] = np.add(w_bmu, learning_rate*np.subtract(data_point,w_bmu))\n",
        "  "
      ],
      "execution_count": 0,
      "outputs": []
    },
    {
      "cell_type": "code",
      "metadata": {
        "id": "RjQ8QbDJLvlp",
        "colab_type": "code",
        "colab": {
          "base_uri": "https://localhost:8080/",
          "height": 121
        },
        "outputId": "e32e89e3-0e73-4b19-ca51-17a88cae32aa"
      },
      "source": [
        "w"
      ],
      "execution_count": 49,
      "outputs": [
        {
          "output_type": "execute_result",
          "data": {
            "text/plain": [
              "array([[ 1.33617766, -0.08133127,  0.59974042],\n",
              "       [ 1.49501517, -0.76472435,  0.07519943],\n",
              "       [ 1.44666903, -1.1895372 ,  0.45666219],\n",
              "       [ 1.9192407 ,  1.93287426,  0.46285562],\n",
              "       [-1.73421664, -0.91631355,  0.4140339 ],\n",
              "       [-0.2359776 ,  0.47522523,  0.67566446]])"
            ]
          },
          "metadata": {
            "tags": []
          },
          "execution_count": 49
        }
      ]
    },
    {
      "cell_type": "code",
      "metadata": {
        "id": "-WjqdHl5MlvB",
        "colab_type": "code",
        "colab": {}
      },
      "source": [
        "group = np.zeros(len(edu_data.index))\n",
        "\n",
        "for index, data in edu_data.iterrows():\n",
        "  \n",
        "  dist_cluster = float(\"inf\")\n",
        "  \n",
        "  for centroid in range(nodes_num):\n",
        "    dist_centroid = np.linalg.norm(data - w[:, centroid])\n",
        "    \n",
        "    if dist_centroid < dist_cluster:\n",
        "      dist_cluster = dist_centroid\n",
        "      group[index] = centroid + 1\n",
        "      \n",
        "edu_data[\"group\"] = group"
      ],
      "execution_count": 0,
      "outputs": []
    },
    {
      "cell_type": "code",
      "metadata": {
        "id": "OFqVRi3qOULb",
        "colab_type": "code",
        "colab": {
          "base_uri": "https://localhost:8080/",
          "height": 198
        },
        "outputId": "153fef11-3222-48aa-c67d-1e7c39850d51"
      },
      "source": [
        "edu_data.head()"
      ],
      "execution_count": 38,
      "outputs": [
        {
          "output_type": "execute_result",
          "data": {
            "text/html": [
              "<div>\n",
              "<style scoped>\n",
              "    .dataframe tbody tr th:only-of-type {\n",
              "        vertical-align: middle;\n",
              "    }\n",
              "\n",
              "    .dataframe tbody tr th {\n",
              "        vertical-align: top;\n",
              "    }\n",
              "\n",
              "    .dataframe thead th {\n",
              "        text-align: right;\n",
              "    }\n",
              "</style>\n",
              "<table border=\"1\" class=\"dataframe\">\n",
              "  <thead>\n",
              "    <tr style=\"text-align: right;\">\n",
              "      <th></th>\n",
              "      <th>g1freelunch</th>\n",
              "      <th>g1absent</th>\n",
              "      <th>g1readscore</th>\n",
              "      <th>g1mathscore</th>\n",
              "      <th>g1listeningscore</th>\n",
              "      <th>g1wordscore</th>\n",
              "      <th>group</th>\n",
              "    </tr>\n",
              "  </thead>\n",
              "  <tbody>\n",
              "    <tr>\n",
              "      <th>0</th>\n",
              "      <td>1.0</td>\n",
              "      <td>0.107143</td>\n",
              "      <td>0.453441</td>\n",
              "      <td>0.639706</td>\n",
              "      <td>0.536797</td>\n",
              "      <td>0.619718</td>\n",
              "      <td>1.0</td>\n",
              "    </tr>\n",
              "    <tr>\n",
              "      <th>1</th>\n",
              "      <td>0.0</td>\n",
              "      <td>0.142857</td>\n",
              "      <td>0.190283</td>\n",
              "      <td>0.378676</td>\n",
              "      <td>0.463203</td>\n",
              "      <td>0.419014</td>\n",
              "      <td>1.0</td>\n",
              "    </tr>\n",
              "    <tr>\n",
              "      <th>2</th>\n",
              "      <td>1.0</td>\n",
              "      <td>0.047619</td>\n",
              "      <td>0.319838</td>\n",
              "      <td>0.448529</td>\n",
              "      <td>0.225108</td>\n",
              "      <td>0.595070</td>\n",
              "      <td>1.0</td>\n",
              "    </tr>\n",
              "    <tr>\n",
              "      <th>3</th>\n",
              "      <td>1.0</td>\n",
              "      <td>0.178571</td>\n",
              "      <td>0.453441</td>\n",
              "      <td>0.371324</td>\n",
              "      <td>0.341991</td>\n",
              "      <td>0.771127</td>\n",
              "      <td>1.0</td>\n",
              "    </tr>\n",
              "    <tr>\n",
              "      <th>4</th>\n",
              "      <td>1.0</td>\n",
              "      <td>0.023810</td>\n",
              "      <td>0.117409</td>\n",
              "      <td>0.216912</td>\n",
              "      <td>0.116883</td>\n",
              "      <td>0.383803</td>\n",
              "      <td>1.0</td>\n",
              "    </tr>\n",
              "  </tbody>\n",
              "</table>\n",
              "</div>"
            ],
            "text/plain": [
              "   g1freelunch  g1absent  g1readscore  ...  g1listeningscore  g1wordscore  group\n",
              "0          1.0  0.107143     0.453441  ...          0.536797     0.619718    1.0\n",
              "1          0.0  0.142857     0.190283  ...          0.463203     0.419014    1.0\n",
              "2          1.0  0.047619     0.319838  ...          0.225108     0.595070    1.0\n",
              "3          1.0  0.178571     0.453441  ...          0.341991     0.771127    1.0\n",
              "4          1.0  0.023810     0.117409  ...          0.116883     0.383803    1.0\n",
              "\n",
              "[5 rows x 7 columns]"
            ]
          },
          "metadata": {
            "tags": []
          },
          "execution_count": 38
        }
      ]
    },
    {
      "cell_type": "code",
      "metadata": {
        "id": "y6gs2FWBOZSs",
        "colab_type": "code",
        "colab": {
          "base_uri": "https://localhost:8080/",
          "height": 288
        },
        "outputId": "6f206687-ee36-4102-d071-ade3a96b7406"
      },
      "source": [
        "edu_data[edu_data.group == 1].describe()"
      ],
      "execution_count": 40,
      "outputs": [
        {
          "output_type": "execute_result",
          "data": {
            "text/html": [
              "<div>\n",
              "<style scoped>\n",
              "    .dataframe tbody tr th:only-of-type {\n",
              "        vertical-align: middle;\n",
              "    }\n",
              "\n",
              "    .dataframe tbody tr th {\n",
              "        vertical-align: top;\n",
              "    }\n",
              "\n",
              "    .dataframe thead th {\n",
              "        text-align: right;\n",
              "    }\n",
              "</style>\n",
              "<table border=\"1\" class=\"dataframe\">\n",
              "  <thead>\n",
              "    <tr style=\"text-align: right;\">\n",
              "      <th></th>\n",
              "      <th>g1freelunch</th>\n",
              "      <th>g1absent</th>\n",
              "      <th>g1readscore</th>\n",
              "      <th>g1mathscore</th>\n",
              "      <th>g1listeningscore</th>\n",
              "      <th>g1wordscore</th>\n",
              "      <th>group</th>\n",
              "    </tr>\n",
              "  </thead>\n",
              "  <tbody>\n",
              "    <tr>\n",
              "      <th>count</th>\n",
              "      <td>5550.000000</td>\n",
              "      <td>5550.000000</td>\n",
              "      <td>5550.000000</td>\n",
              "      <td>5550.000000</td>\n",
              "      <td>5550.000000</td>\n",
              "      <td>5550.000000</td>\n",
              "      <td>5550.0</td>\n",
              "    </tr>\n",
              "    <tr>\n",
              "      <th>mean</th>\n",
              "      <td>0.500901</td>\n",
              "      <td>0.088348</td>\n",
              "      <td>0.474928</td>\n",
              "      <td>0.468589</td>\n",
              "      <td>0.393179</td>\n",
              "      <td>0.695926</td>\n",
              "      <td>1.0</td>\n",
              "    </tr>\n",
              "    <tr>\n",
              "      <th>std</th>\n",
              "      <td>0.500044</td>\n",
              "      <td>0.083388</td>\n",
              "      <td>0.223799</td>\n",
              "      <td>0.158644</td>\n",
              "      <td>0.145294</td>\n",
              "      <td>0.186121</td>\n",
              "      <td>0.0</td>\n",
              "    </tr>\n",
              "    <tr>\n",
              "      <th>min</th>\n",
              "      <td>0.000000</td>\n",
              "      <td>0.000000</td>\n",
              "      <td>0.000000</td>\n",
              "      <td>0.000000</td>\n",
              "      <td>0.000000</td>\n",
              "      <td>0.000000</td>\n",
              "      <td>1.0</td>\n",
              "    </tr>\n",
              "    <tr>\n",
              "      <th>25%</th>\n",
              "      <td>0.000000</td>\n",
              "      <td>0.023810</td>\n",
              "      <td>0.299595</td>\n",
              "      <td>0.360294</td>\n",
              "      <td>0.285714</td>\n",
              "      <td>0.556338</td>\n",
              "      <td>1.0</td>\n",
              "    </tr>\n",
              "    <tr>\n",
              "      <th>50%</th>\n",
              "      <td>1.000000</td>\n",
              "      <td>0.071429</td>\n",
              "      <td>0.453441</td>\n",
              "      <td>0.459559</td>\n",
              "      <td>0.380952</td>\n",
              "      <td>0.693662</td>\n",
              "      <td>1.0</td>\n",
              "    </tr>\n",
              "    <tr>\n",
              "      <th>75%</th>\n",
              "      <td>1.000000</td>\n",
              "      <td>0.119048</td>\n",
              "      <td>0.623482</td>\n",
              "      <td>0.580882</td>\n",
              "      <td>0.480519</td>\n",
              "      <td>0.823944</td>\n",
              "      <td>1.0</td>\n",
              "    </tr>\n",
              "    <tr>\n",
              "      <th>max</th>\n",
              "      <td>1.000000</td>\n",
              "      <td>1.000000</td>\n",
              "      <td>1.000000</td>\n",
              "      <td>1.000000</td>\n",
              "      <td>1.000000</td>\n",
              "      <td>1.000000</td>\n",
              "      <td>1.0</td>\n",
              "    </tr>\n",
              "  </tbody>\n",
              "</table>\n",
              "</div>"
            ],
            "text/plain": [
              "       g1freelunch     g1absent  ...  g1wordscore   group\n",
              "count  5550.000000  5550.000000  ...  5550.000000  5550.0\n",
              "mean      0.500901     0.088348  ...     0.695926     1.0\n",
              "std       0.500044     0.083388  ...     0.186121     0.0\n",
              "min       0.000000     0.000000  ...     0.000000     1.0\n",
              "25%       0.000000     0.023810  ...     0.556338     1.0\n",
              "50%       1.000000     0.071429  ...     0.693662     1.0\n",
              "75%       1.000000     0.119048  ...     0.823944     1.0\n",
              "max       1.000000     1.000000  ...     1.000000     1.0\n",
              "\n",
              "[8 rows x 7 columns]"
            ]
          },
          "metadata": {
            "tags": []
          },
          "execution_count": 40
        }
      ]
    },
    {
      "cell_type": "code",
      "metadata": {
        "id": "WWZHIuRxOjEY",
        "colab_type": "code",
        "colab": {}
      },
      "source": [
        ""
      ],
      "execution_count": 0,
      "outputs": []
    }
  ]
}