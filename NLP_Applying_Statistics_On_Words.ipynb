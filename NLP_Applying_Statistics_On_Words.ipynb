{
  "nbformat": 4,
  "nbformat_minor": 0,
  "metadata": {
    "colab": {
      "name": "NLP-Applying-Statistics-On-Words.ipynb",
      "version": "0.3.2",
      "provenance": [],
      "include_colab_link": true
    },
    "kernelspec": {
      "name": "python3",
      "display_name": "Python 3"
    },
    "accelerator": "GPU"
  },
  "cells": [
    {
      "cell_type": "markdown",
      "metadata": {
        "id": "view-in-github",
        "colab_type": "text"
      },
      "source": [
        "<a href=\"https://colab.research.google.com/github/somilasthana/MachineLearningSkills/blob/master/NLP_Applying_Statistics_On_Words.ipynb\" target=\"_parent\"><img src=\"https://colab.research.google.com/assets/colab-badge.svg\" alt=\"Open In Colab\"/></a>"
      ]
    },
    {
      "cell_type": "code",
      "metadata": {
        "id": "xrqvSd3QGFKD",
        "colab_type": "code",
        "colab": {
          "base_uri": "https://localhost:8080/",
          "height": 207
        },
        "outputId": "9d4d3c71-cb1a-4486-e1db-3738581be803"
      },
      "source": [
        "!wget https://liferay.de.dariah.eu/tatom/_downloads/datasets.zip"
      ],
      "execution_count": 1,
      "outputs": [
        {
          "output_type": "stream",
          "text": [
            "--2019-06-23 22:15:17--  https://liferay.de.dariah.eu/tatom/_downloads/datasets.zip\n",
            "Resolving liferay.de.dariah.eu (liferay.de.dariah.eu)... 134.76.30.131\n",
            "Connecting to liferay.de.dariah.eu (liferay.de.dariah.eu)|134.76.30.131|:443... connected.\n",
            "HTTP request sent, awaiting response... 200 OK\n",
            "Length: 57659024 (55M) [application/zip]\n",
            "Saving to: ‘datasets.zip’\n",
            "\n",
            "datasets.zip        100%[===================>]  54.99M  19.9MB/s    in 2.8s    \n",
            "\n",
            "2019-06-23 22:15:21 (19.9 MB/s) - ‘datasets.zip’ saved [57659024/57659024]\n",
            "\n"
          ],
          "name": "stdout"
        }
      ]
    },
    {
      "cell_type": "code",
      "metadata": {
        "id": "d2y0CFJmGyRQ",
        "colab_type": "code",
        "colab": {}
      },
      "source": [
        "!unzip /content/datasets.zip"
      ],
      "execution_count": 0,
      "outputs": []
    },
    {
      "cell_type": "code",
      "metadata": {
        "id": "WprbXQC-G3t9",
        "colab_type": "code",
        "colab": {}
      },
      "source": [
        "import os\n",
        "import nltk\n",
        "import numpy as np\n",
        "from sklearn.feature_extraction.text import CountVectorizer "
      ],
      "execution_count": 0,
      "outputs": []
    },
    {
      "cell_type": "code",
      "metadata": {
        "id": "AzarX6PkIp2G",
        "colab_type": "code",
        "colab": {}
      },
      "source": [
        "CORPUS_PATH = \"/content/data/austen-brontë\""
      ],
      "execution_count": 0,
      "outputs": []
    },
    {
      "cell_type": "code",
      "metadata": {
        "id": "p0R2iqhDJAHT",
        "colab_type": "code",
        "colab": {}
      },
      "source": [
        "filenames = os.listdir(CORPUS_PATH)"
      ],
      "execution_count": 0,
      "outputs": []
    },
    {
      "cell_type": "code",
      "metadata": {
        "id": "aiW2CgatIwvG",
        "colab_type": "code",
        "colab": {}
      },
      "source": [
        "filenames_with_path = [os.path.join(CORPUS_PATH, fn) for fn in filenames]"
      ],
      "execution_count": 0,
      "outputs": []
    },
    {
      "cell_type": "code",
      "metadata": {
        "id": "CQz_bldfJHbY",
        "colab_type": "code",
        "colab": {
          "base_uri": "https://localhost:8080/",
          "height": 121
        },
        "outputId": "129b2510-d5fe-4549-e99c-d51a9d19373f"
      },
      "source": [
        "filenames_with_path"
      ],
      "execution_count": 7,
      "outputs": [
        {
          "output_type": "execute_result",
          "data": {
            "text/plain": [
              "['/content/data/austen-brontë/CBronte_Professor.txt',\n",
              " '/content/data/austen-brontë/CBronte_Jane.txt',\n",
              " '/content/data/austen-brontë/CBronte_Villette.txt',\n",
              " '/content/data/austen-brontë/Austen_Sense.txt',\n",
              " '/content/data/austen-brontë/Austen_Pride.txt',\n",
              " '/content/data/austen-brontë/Austen_Emma.txt']"
            ]
          },
          "metadata": {
            "tags": []
          },
          "execution_count": 7
        }
      ]
    },
    {
      "cell_type": "code",
      "metadata": {
        "id": "1wTbRaObJIT5",
        "colab_type": "code",
        "colab": {}
      },
      "source": [
        "\"\"\"\n",
        "The idea is to create document-term matrix using rate rather than count\n",
        "\"\"\"\n",
        "\n",
        "raw_texts=[]\n",
        "\n",
        "for fn in filenames_with_path:\n",
        "  with open(fn, \"r\") as fp:\n",
        "    text = fp.read()\n",
        "    text = text.replace('_', '')\n",
        "    raw_texts.append(text)"
      ],
      "execution_count": 0,
      "outputs": []
    },
    {
      "cell_type": "code",
      "metadata": {
        "id": "VTec992aJx4c",
        "colab_type": "code",
        "colab": {}
      },
      "source": [
        "vectorizer = CountVectorizer(input=\"content\")\n",
        "dtm = vectorizer.fit_transform(raw_texts)\n",
        "vocab = np.array(vectorizer.get_feature_names())"
      ],
      "execution_count": 0,
      "outputs": []
    },
    {
      "cell_type": "code",
      "metadata": {
        "id": "IlwAgfFmKa44",
        "colab_type": "code",
        "colab": {}
      },
      "source": [
        "dtm = dtm.toarray() # fit_transform returns a sparse matrix we want normal numpy array."
      ],
      "execution_count": 0,
      "outputs": []
    },
    {
      "cell_type": "code",
      "metadata": {
        "id": "5cCTgO6QKjpT",
        "colab_type": "code",
        "colab": {
          "base_uri": "https://localhost:8080/",
          "height": 35
        },
        "outputId": "0425669b-2c7c-408e-b73d-8faa83254273"
      },
      "source": [
        "dtm.shape"
      ],
      "execution_count": 11,
      "outputs": [
        {
          "output_type": "execute_result",
          "data": {
            "text/plain": [
              "(6, 22524)"
            ]
          },
          "metadata": {
            "tags": []
          },
          "execution_count": 11
        }
      ]
    },
    {
      "cell_type": "code",
      "metadata": {
        "id": "yy8-hw4pKpQx",
        "colab_type": "code",
        "colab": {
          "base_uri": "https://localhost:8080/",
          "height": 35
        },
        "outputId": "3f03a702-8577-4ff1-9176-c2ef61c1c4c8"
      },
      "source": [
        "np.sum(dtm, axis=1, keepdims=True).shape"
      ],
      "execution_count": 12,
      "outputs": [
        {
          "output_type": "execute_result",
          "data": {
            "text/plain": [
              "(6, 1)"
            ]
          },
          "metadata": {
            "tags": []
          },
          "execution_count": 12
        }
      ]
    },
    {
      "cell_type": "code",
      "metadata": {
        "id": "g0cBgNgKK26T",
        "colab_type": "code",
        "colab": {}
      },
      "source": [
        "rates = 1000 * dtm / np.sum(dtm, axis=1, keepdims=True)"
      ],
      "execution_count": 0,
      "outputs": []
    },
    {
      "cell_type": "code",
      "metadata": {
        "id": "c5HaNYatKUdQ",
        "colab_type": "code",
        "colab": {
          "base_uri": "https://localhost:8080/",
          "height": 35
        },
        "outputId": "1f8b4e91-334d-420e-81bc-753bf9bb3f77"
      },
      "source": [
        "vocab[100:105]"
      ],
      "execution_count": 14,
      "outputs": [
        {
          "output_type": "execute_result",
          "data": {
            "text/plain": [
              "array(['abdiel', 'abdy', 'abed', 'aberdeen', 'aberration'], dtype='<U20')"
            ]
          },
          "metadata": {
            "tags": []
          },
          "execution_count": 14
        }
      ]
    },
    {
      "cell_type": "code",
      "metadata": {
        "id": "nsftRDu8K-oV",
        "colab_type": "code",
        "colab": {
          "base_uri": "https://localhost:8080/",
          "height": 121
        },
        "outputId": "6bb220fe-e1be-40f5-86e0-ebee3bad817e"
      },
      "source": [
        "rates[:, 100:105]"
      ],
      "execution_count": 15,
      "outputs": [
        {
          "output_type": "execute_result",
          "data": {
            "text/plain": [
              "array([[0.01189641, 0.        , 0.        , 0.        , 0.        ],\n",
              "       [0.        , 0.        , 0.        , 0.        , 0.        ],\n",
              "       [0.        , 0.        , 0.00541237, 0.00541237, 0.00541237],\n",
              "       [0.        , 0.        , 0.        , 0.        , 0.        ],\n",
              "       [0.        , 0.        , 0.        , 0.        , 0.        ],\n",
              "       [0.        , 0.00646634, 0.        , 0.        , 0.        ]])"
            ]
          },
          "metadata": {
            "tags": []
          },
          "execution_count": 15
        }
      ]
    },
    {
      "cell_type": "markdown",
      "metadata": {
        "id": "NFO7bX6xaAXx",
        "colab_type": "text"
      },
      "source": [
        "Measuring “distinctiveness”"
      ]
    },
    {
      "cell_type": "code",
      "metadata": {
        "id": "tnC9-5JaLA3A",
        "colab_type": "code",
        "colab": {}
      },
      "source": [
        "austen_indices, cbronte_indices = [], []"
      ],
      "execution_count": 0,
      "outputs": []
    },
    {
      "cell_type": "code",
      "metadata": {
        "id": "1KOX9yMNafcX",
        "colab_type": "code",
        "colab": {}
      },
      "source": [
        "for index, fname in enumerate(filenames):\n",
        "  if \"Austen\" in fname:\n",
        "    austen_indices.append(index)\n",
        "  if \"CBronte\" in fname:\n",
        "    cbronte_indices.append(index)"
      ],
      "execution_count": 0,
      "outputs": []
    },
    {
      "cell_type": "code",
      "metadata": {
        "id": "otQTKvvPa_wm",
        "colab_type": "code",
        "colab": {}
      },
      "source": [
        "austen_rates  = rates[austen_indices, :]\n",
        "cbronte_rates = rates[cbronte_indices, :]"
      ],
      "execution_count": 0,
      "outputs": []
    },
    {
      "cell_type": "code",
      "metadata": {
        "id": "zw6rXcAubONn",
        "colab_type": "code",
        "colab": {
          "base_uri": "https://localhost:8080/",
          "height": 35
        },
        "outputId": "ebd2831f-cea6-4031-ad49-1e1e30f6325d"
      },
      "source": [
        "austen_rates.shape"
      ],
      "execution_count": 22,
      "outputs": [
        {
          "output_type": "execute_result",
          "data": {
            "text/plain": [
              "(3, 22524)"
            ]
          },
          "metadata": {
            "tags": []
          },
          "execution_count": 22
        }
      ]
    },
    {
      "cell_type": "code",
      "metadata": {
        "id": "s2CGZKRnbW1W",
        "colab_type": "code",
        "colab": {
          "base_uri": "https://localhost:8080/",
          "height": 35
        },
        "outputId": "d719d1d1-5afc-4c51-bf3c-7079faed9f11"
      },
      "source": [
        "np.mean(austen_rates, axis=0).shape"
      ],
      "execution_count": 23,
      "outputs": [
        {
          "output_type": "execute_result",
          "data": {
            "text/plain": [
              "(22524,)"
            ]
          },
          "metadata": {
            "tags": []
          },
          "execution_count": 23
        }
      ]
    },
    {
      "cell_type": "code",
      "metadata": {
        "id": "XhBn_BjsbiZs",
        "colab_type": "code",
        "colab": {}
      },
      "source": [
        "austen_rates_avg  = np.mean(austen_rates, axis=0)\n",
        "cbronte_rates_avg = np.mean(cbronte_rates, axis=0) "
      ],
      "execution_count": 0,
      "outputs": []
    },
    {
      "cell_type": "code",
      "metadata": {
        "id": "XnigrsC5bvKU",
        "colab_type": "code",
        "colab": {}
      },
      "source": [
        "distinctive_indices = (austen_rates_avg * cbronte_rates_avg) == 0"
      ],
      "execution_count": 0,
      "outputs": []
    },
    {
      "cell_type": "code",
      "metadata": {
        "id": "xybqPBn6czp_",
        "colab_type": "code",
        "colab": {
          "base_uri": "https://localhost:8080/",
          "height": 35
        },
        "outputId": "425c97ca-d901-4c15-af87-9c61a8e500e2"
      },
      "source": [
        "print(\"Number of Distinct Words\", np.count_nonzero(distinctive_indices))"
      ],
      "execution_count": 27,
      "outputs": [
        {
          "output_type": "stream",
          "text": [
            "Number of Distinct Words 14414\n"
          ],
          "name": "stdout"
        }
      ]
    },
    {
      "cell_type": "code",
      "metadata": {
        "id": "6LxrlClRc_9I",
        "colab_type": "code",
        "colab": {}
      },
      "source": [
        "ranking = np.argsort(austen_rates_avg[distinctive_indices] + cbronte_rates_avg[distinctive_indices])[::-1]"
      ],
      "execution_count": 0,
      "outputs": []
    },
    {
      "cell_type": "code",
      "metadata": {
        "id": "Lk5CAfEHdm84",
        "colab_type": "code",
        "colab": {
          "base_uri": "https://localhost:8080/",
          "height": 52
        },
        "outputId": "6b66d076-5c1d-4162-f0e7-ca680c9d5dd2"
      },
      "source": [
        "vocab[distinctive_indices][ranking]"
      ],
      "execution_count": 29,
      "outputs": [
        {
          "output_type": "execute_result",
          "data": {
            "text/plain": [
              "array(['elinor', 'emma', 'marianne', ..., 'incautious', 'incedingly',\n",
              "       'kitten'], dtype='<U20')"
            ]
          },
          "metadata": {
            "tags": []
          },
          "execution_count": 29
        }
      ]
    },
    {
      "cell_type": "code",
      "metadata": {
        "id": "MuP1geQResk1",
        "colab_type": "code",
        "colab": {
          "base_uri": "https://localhost:8080/",
          "height": 52
        },
        "outputId": "9ce33785-390d-498e-808b-64cee7d21c5c"
      },
      "source": [
        "austen_rates_avg[ranking[:10]]"
      ],
      "execution_count": 42,
      "outputs": [
        {
          "output_type": "execute_result",
          "data": {
            "text/plain": [
              "array([0.00287649, 0.        , 0.        , 0.02150875, 0.0207343 ,\n",
              "       0.        , 0.        , 0.00215545, 0.00785502, 0.        ])"
            ]
          },
          "metadata": {
            "tags": []
          },
          "execution_count": 42
        }
      ]
    },
    {
      "cell_type": "code",
      "metadata": {
        "id": "S9GfZ53afFgy",
        "colab_type": "code",
        "colab": {
          "base_uri": "https://localhost:8080/",
          "height": 52
        },
        "outputId": "05b0b78f-1194-4960-da20-7643284b9128"
      },
      "source": [
        "cbronte_rates_avg[ranking[:10]]"
      ],
      "execution_count": 43,
      "outputs": [
        {
          "output_type": "execute_result",
          "data": {
            "text/plain": [
              "array([0.        , 0.01342733, 0.00188815, 0.03711187, 0.00180412,\n",
              "       0.00396547, 0.00180412, 0.        , 0.0342392 , 0.02135827])"
            ]
          },
          "metadata": {
            "tags": []
          },
          "execution_count": 43
        }
      ]
    },
    {
      "cell_type": "code",
      "metadata": {
        "id": "tQqMe1lIet7P",
        "colab_type": "code",
        "colab": {
          "base_uri": "https://localhost:8080/",
          "height": 35
        },
        "outputId": "65658c77-f1ea-40d7-95a8-3a8ca8be9dbc"
      },
      "source": [
        "distinctive_indices"
      ],
      "execution_count": 37,
      "outputs": [
        {
          "output_type": "execute_result",
          "data": {
            "text/plain": [
              "array([ True, False,  True, ...,  True,  True,  True])"
            ]
          },
          "metadata": {
            "tags": []
          },
          "execution_count": 37
        }
      ]
    },
    {
      "cell_type": "code",
      "metadata": {
        "id": "lhgwbJwheiXo",
        "colab_type": "code",
        "colab": {
          "base_uri": "https://localhost:8080/",
          "height": 35
        },
        "outputId": "8b98d2af-04f7-48e6-8fc8-cf55ae63bea8"
      },
      "source": [
        "np.invert(distinctive_indices)"
      ],
      "execution_count": 36,
      "outputs": [
        {
          "output_type": "execute_result",
          "data": {
            "text/plain": [
              "array([False,  True, False, ..., False, False, False])"
            ]
          },
          "metadata": {
            "tags": []
          },
          "execution_count": 36
        }
      ]
    },
    {
      "cell_type": "code",
      "metadata": {
        "id": "1Fokcjw9irwc",
        "colab_type": "code",
        "colab": {}
      },
      "source": [
        "# Get non distinct indices\n",
        "dtm = dtm[:, np.invert(distinctive_indices)]\n",
        "rates = rates[:, np.invert(distinctive_indices)]\n",
        "vocab = vocab[np.invert(distinctive_indices)]"
      ],
      "execution_count": 0,
      "outputs": []
    },
    {
      "cell_type": "code",
      "metadata": {
        "id": "IcxsEw8kjcEO",
        "colab_type": "code",
        "colab": {}
      },
      "source": [
        "austen_rates = rates[austen_indices, :]\n",
        "cbronte_rates = rates[cbronte_indices, :]\n",
        "austen_rates_avg = np.mean(austen_rates, axis=0)\n",
        "cbronte_rates_avg = np.mean(cbronte_rates, axis=0)"
      ],
      "execution_count": 0,
      "outputs": []
    },
    {
      "cell_type": "code",
      "metadata": {
        "id": "ksvtPDnIjpeQ",
        "colab_type": "code",
        "colab": {}
      },
      "source": [
        "keyness = np.abs(austen_rates_avg - cbronte_rates_avg)"
      ],
      "execution_count": 0,
      "outputs": []
    },
    {
      "cell_type": "code",
      "metadata": {
        "id": "dZfPSk__j-z_",
        "colab_type": "code",
        "colab": {}
      },
      "source": [
        "rank_common = np.argsort(keyness)[::-1]"
      ],
      "execution_count": 0,
      "outputs": []
    },
    {
      "cell_type": "code",
      "metadata": {
        "id": "lmoBVMKckKoF",
        "colab_type": "code",
        "colab": {
          "base_uri": "https://localhost:8080/",
          "height": 52
        },
        "outputId": "85711481-fba6-4203-8428-e1199120dcdc"
      },
      "source": [
        "vocab[rank_common][:10] #The problem with this measure is that it tends to highlight differences in very frequent words. "
      ],
      "execution_count": 50,
      "outputs": [
        {
          "output_type": "execute_result",
          "data": {
            "text/plain": [
              "array(['the', 'to', 'her', 'my', 'me', 'be', 'and', 'she', 'mr', 'very'],\n",
              "      dtype='<U20')"
            ]
          },
          "metadata": {
            "tags": []
          },
          "execution_count": 50
        }
      ]
    },
    {
      "cell_type": "code",
      "metadata": {
        "id": "vxvGfMPzk5qg",
        "colab_type": "code",
        "colab": {
          "base_uri": "https://localhost:8080/",
          "height": 35
        },
        "outputId": "44f5a0bc-16bc-46c9-ff95-751e15b21b1c"
      },
      "source": [
        "rates.shape"
      ],
      "execution_count": 51,
      "outputs": [
        {
          "output_type": "execute_result",
          "data": {
            "text/plain": [
              "(6, 8110)"
            ]
          },
          "metadata": {
            "tags": []
          },
          "execution_count": 51
        }
      ]
    },
    {
      "cell_type": "code",
      "metadata": {
        "id": "dzotrCgCk_rA",
        "colab_type": "code",
        "colab": {
          "base_uri": "https://localhost:8080/",
          "height": 35
        },
        "outputId": "5135ce36-54e3-4999-88dd-f494d070219c"
      },
      "source": [
        "np.mean(rates, axis=0).shape"
      ],
      "execution_count": 52,
      "outputs": [
        {
          "output_type": "execute_result",
          "data": {
            "text/plain": [
              "(8110,)"
            ]
          },
          "metadata": {
            "tags": []
          },
          "execution_count": 52
        }
      ]
    },
    {
      "cell_type": "code",
      "metadata": {
        "id": "mhHegMNDkOx_",
        "colab_type": "code",
        "colab": {
          "base_uri": "https://localhost:8080/",
          "height": 52
        },
        "outputId": "cf7945f1-6b77-4de4-a5d4-0019e3ebd8a3"
      },
      "source": [
        "# heuristic : divide the difference in authors’ average rates by the average rate across all authors.\n",
        "\n",
        "rate_avg = np.mean(rates, axis=0)\n",
        "keyness = np.abs(austen_rates_avg - cbronte_rates_avg) / rate_avg\n",
        "rank_heuristic = np.argsort(keyness)[::-1]\n",
        "vocab[rank_heuristic][:10]"
      ],
      "execution_count": 53,
      "outputs": [
        {
          "output_type": "execute_result",
          "data": {
            "text/plain": [
              "array(['madame', 'elizabeth', 'graham', 'lizzy', 'flowers', 'french',\n",
              "       'lessons', 'smallest', 'clean', 'movement'], dtype='<U20')"
            ]
          },
          "metadata": {
            "tags": []
          },
          "execution_count": 53
        }
      ]
    },
    {
      "cell_type": "code",
      "metadata": {
        "id": "tc3gvWH3la3J",
        "colab_type": "code",
        "colab": {
          "base_uri": "https://localhost:8080/",
          "height": 52
        },
        "outputId": "bdeaf280-33ae-4e2c-aa74-bb4437f8a7a2"
      },
      "source": [
        "austen_rates_avg[rank_heuristic[:10]]"
      ],
      "execution_count": 54,
      "outputs": [
        {
          "output_type": "execute_result",
          "data": {
            "text/plain": [
              "array([0.00215545, 1.80990467, 0.00215545, 0.27101648, 0.00215545,\n",
              "       0.00497853, 0.00215545, 0.13169269, 0.00215545, 0.00215545])"
            ]
          },
          "metadata": {
            "tags": []
          },
          "execution_count": 54
        }
      ]
    },
    {
      "cell_type": "code",
      "metadata": {
        "id": "0Lwg8E8Alk0N",
        "colab_type": "code",
        "colab": {
          "base_uri": "https://localhost:8080/",
          "height": 52
        },
        "outputId": "9a87a56a-65b8-4f7e-a957-b79b3448d321"
      },
      "source": [
        "cbronte_rates_avg[rank_heuristic[:10]]"
      ],
      "execution_count": 55,
      "outputs": [
        {
          "output_type": "execute_result",
          "data": {
            "text/plain": [
              "array([0.84949837, 0.00549639, 0.40592763, 0.00188815, 0.2021599 ,\n",
              "       0.42178536, 0.17249909, 0.00188815, 0.14383669, 0.1408171 ])"
            ]
          },
          "metadata": {
            "tags": []
          },
          "execution_count": 55
        }
      ]
    },
    {
      "cell_type": "code",
      "metadata": {
        "id": "8EYFBaX_looc",
        "colab_type": "code",
        "colab": {
          "base_uri": "https://localhost:8080/",
          "height": 86
        },
        "outputId": "d753a536-2eca-4ba6-f5c3-8aba57c0a518"
      },
      "source": [
        "austen_rates[:2, rank_heuristic[:10]]"
      ],
      "execution_count": 60,
      "outputs": [
        {
          "output_type": "execute_result",
          "data": {
            "text/plain": [
              "array([[0.        , 0.        , 0.        , 0.        , 0.        ,\n",
              "        0.        , 0.        , 0.17258936, 0.        , 0.        ],\n",
              "       [0.        , 5.3779833 , 0.        , 0.81304944, 0.        ,\n",
              "        0.00846927, 0.        , 0.09316192, 0.        , 0.        ]])"
            ]
          },
          "metadata": {
            "tags": []
          },
          "execution_count": 60
        }
      ]
    },
    {
      "cell_type": "code",
      "metadata": {
        "id": "uKmttnjNl9Xb",
        "colab_type": "code",
        "colab": {
          "base_uri": "https://localhost:8080/",
          "height": 86
        },
        "outputId": "e195a71a-d01c-411e-d4c4-eee08e752443"
      },
      "source": [
        "cbronte_rates[:2, rank_heuristic[:10]]"
      ],
      "execution_count": 61,
      "outputs": [
        {
          "output_type": "execute_result",
          "data": {
            "text/plain": [
              "array([[0.55913109, 0.        , 0.        , 0.        , 0.21413531,\n",
              "        0.71378437, 0.30930656, 0.        , 0.14275687, 0.1903425 ],\n",
              "       [0.06797326, 0.00566444, 0.        , 0.00566444, 0.18126204,\n",
              "        0.23224198, 0.05664439, 0.00566444, 0.16426872, 0.10762433]])"
            ]
          },
          "metadata": {
            "tags": []
          },
          "execution_count": 61
        }
      ]
    },
    {
      "cell_type": "markdown",
      "metadata": {
        "id": "0KKzOCRlro5R",
        "colab_type": "text"
      },
      "source": [
        "Log likelihood ratio and χ2 feature selection\n",
        "\n",
        "One hypothesis that there is, in fact, a single group. Words are examined one at a time; those words for which this hypothesis seems most wrong will be counted as distinctive"
      ]
    },
    {
      "cell_type": "code",
      "metadata": {
        "id": "wV03Eju3mLly",
        "colab_type": "code",
        "colab": {
          "base_uri": "https://localhost:8080/",
          "height": 52
        },
        "outputId": "5944e965-e687-4e11-e220-ea2541522b8b"
      },
      "source": [
        "green_austen = np.sum(dtm[austen_indices, vocab==\"green\"])\n",
        "nongreen_austen = np.sum(dtm[austen_indices, :]) - green_austen\n",
        "\n",
        "green_cbronte = np.sum(dtm[cbronte_indices, vocab==\"green\"])\n",
        "nongreen_cbronte = np.sum(dtm[cbronte_indices, :]) - green_cbronte\n",
        "\n",
        "green_table = np.array([\n",
        "    [green_austen, nongreen_austen],\n",
        "    [green_cbronte, nongreen_cbronte]\n",
        "])\n",
        "\n",
        "green_table"
      ],
      "execution_count": 64,
      "outputs": [
        {
          "output_type": "execute_result",
          "data": {
            "text/plain": [
              "array([[    11, 374596],\n",
              "       [    96, 404720]])"
            ]
          },
          "metadata": {
            "tags": []
          },
          "execution_count": 64
        }
      ]
    },
    {
      "cell_type": "code",
      "metadata": {
        "id": "CGnlhneLs1Cv",
        "colab_type": "code",
        "colab": {}
      },
      "source": [
        "prob_green = np.sum(dtm[:, vocab==\"green\"])/np.sum(dtm)\n",
        "\n",
        "prob_nongreen = 1 - prob_green"
      ],
      "execution_count": 0,
      "outputs": []
    },
    {
      "cell_type": "code",
      "metadata": {
        "id": "9JVpUY1XtR8p",
        "colab_type": "code",
        "colab": {
          "base_uri": "https://localhost:8080/",
          "height": 35
        },
        "outputId": "954f97b6-1752-4797-ef65-626653472cc8"
      },
      "source": [
        "prob_green, prob_nongreen"
      ],
      "execution_count": 66,
      "outputs": [
        {
          "output_type": "execute_result",
          "data": {
            "text/plain": [
              "(0.00013728103994878262, 0.9998627189600512)"
            ]
          },
          "metadata": {
            "tags": []
          },
          "execution_count": 66
        }
      ]
    },
    {
      "cell_type": "code",
      "metadata": {
        "id": "wZ2N1brptUFW",
        "colab_type": "code",
        "colab": {}
      },
      "source": [
        "n_austen = np.sum(dtm[[0,1,2], :])"
      ],
      "execution_count": 0,
      "outputs": []
    },
    {
      "cell_type": "code",
      "metadata": {
        "id": "-oPH8gEstyIz",
        "colab_type": "code",
        "colab": {}
      },
      "source": [
        "n_cbronte = np.sum(dtm[[3,4,5], :])"
      ],
      "execution_count": 0,
      "outputs": []
    },
    {
      "cell_type": "code",
      "metadata": {
        "id": "Wc9sOCwxtys1",
        "colab_type": "code",
        "colab": {
          "base_uri": "https://localhost:8080/",
          "height": 35
        },
        "outputId": "cb108c9d-1a6b-4a65-d09e-7f734cbeebbc"
      },
      "source": [
        "n_austen, n_cbronte"
      ],
      "execution_count": 71,
      "outputs": [
        {
          "output_type": "execute_result",
          "data": {
            "text/plain": [
              "(404816, 374607)"
            ]
          },
          "metadata": {
            "tags": []
          },
          "execution_count": 71
        }
      ]
    },
    {
      "cell_type": "code",
      "metadata": {
        "id": "eziQkdAZuBkW",
        "colab_type": "code",
        "colab": {
          "base_uri": "https://localhost:8080/",
          "height": 52
        },
        "outputId": "89e9c216-4a8b-4eda-9dd9-53ea63b500d0"
      },
      "source": [
        "expected_table = np.array([\n",
        "    [prob_green*n_austen, prob_nongreen*n_austen],\n",
        "    [prob_green*n_cbronte, prob_nongreen*n_cbronte]\n",
        "])\n",
        "\n",
        "expected_table"
      ],
      "execution_count": 74,
      "outputs": [
        {
          "output_type": "execute_result",
          "data": {
            "text/plain": [
              "array([[5.55740000e+01, 4.04760426e+05],\n",
              "       [5.14260000e+01, 3.74555574e+05]])"
            ]
          },
          "metadata": {
            "tags": []
          },
          "execution_count": 74
        }
      ]
    },
    {
      "cell_type": "code",
      "metadata": {
        "id": "1EZcC9n5uc95",
        "colab_type": "code",
        "colab": {
          "base_uri": "https://localhost:8080/",
          "height": 52
        },
        "outputId": "d64022a4-e4f0-457d-81d0-9386922717f0"
      },
      "source": [
        ""
      ],
      "execution_count": 75,
      "outputs": [
        {
          "output_type": "execute_result",
          "data": {
            "text/plain": [
              "array([[5.55735615e+01, 4.04760426e+05],\n",
              "       [5.14264385e+01, 3.74555574e+05]])"
            ]
          },
          "metadata": {
            "tags": []
          },
          "execution_count": 75
        }
      ]
    },
    {
      "cell_type": "code",
      "metadata": {
        "id": "TzJvlYesulms",
        "colab_type": "code",
        "colab": {
          "base_uri": "https://localhost:8080/",
          "height": 35
        },
        "outputId": "1bff098e-399d-49ec-f45f-32583c85748e"
      },
      "source": [
        "\"\"\"The log likelihood ratio is calculated as follows:\"\"\"\n",
        "G = np.sum(green_table * np.log(green_table / expected_table))\n",
        "\n",
        "\"\"\"The higher the value of the test statistic, the more pronounced the deviation is \n",
        "from the hypothesis—and, for our purposes, the more “distinctive” the word is.\"\"\"\n",
        "G"
      ],
      "execution_count": 76,
      "outputs": [
        {
          "output_type": "execute_result",
          "data": {
            "text/plain": [
              "2378.380894439568"
            ]
          },
          "metadata": {
            "tags": []
          },
          "execution_count": 76
        }
      ]
    },
    {
      "cell_type": "code",
      "metadata": {
        "id": "A6Lm8J8VvyPb",
        "colab_type": "code",
        "colab": {}
      },
      "source": [
        "#Pearson’s χ2 test statistic approximates the log likelihood ratio test \n",
        "\n",
        "from sklearn.feature_selection import chi2\n"
      ],
      "execution_count": 0,
      "outputs": []
    },
    {
      "cell_type": "code",
      "metadata": {
        "id": "VfNocxNsxMT3",
        "colab_type": "code",
        "colab": {}
      },
      "source": [
        "labels = []\n",
        "for fn in filenames:\n",
        "  label = \"Austen\" if \"Austen\" in fn else \"CBrontë\"\n",
        "  labels.append(label)"
      ],
      "execution_count": 0,
      "outputs": []
    },
    {
      "cell_type": "code",
      "metadata": {
        "id": "MXJkdENXxSym",
        "colab_type": "code",
        "colab": {}
      },
      "source": [
        "keyness, pv = chi2(dtm, labels)"
      ],
      "execution_count": 0,
      "outputs": []
    },
    {
      "cell_type": "code",
      "metadata": {
        "id": "PXZJzkNCxYdN",
        "colab_type": "code",
        "colab": {}
      },
      "source": [
        "ranking_x2 = np.argsort(keyness)[::-1]"
      ],
      "execution_count": 0,
      "outputs": []
    },
    {
      "cell_type": "code",
      "metadata": {
        "id": "jO3bye9Exikg",
        "colab_type": "code",
        "colab": {
          "base_uri": "https://localhost:8080/",
          "height": 52
        },
        "outputId": "aed62211-4d87-452e-9823-9e31d7de7ee2"
      },
      "source": [
        "vocab[ranking_x2][:10]"
      ],
      "execution_count": 87,
      "outputs": [
        {
          "output_type": "execute_result",
          "data": {
            "text/plain": [
              "array(['me', 'my', 'the', 'mr', 'mrs', 'elizabeth', 'be', 'and', 'very',\n",
              "       'every'], dtype='<U20')"
            ]
          },
          "metadata": {
            "tags": []
          },
          "execution_count": 87
        }
      ]
    },
    {
      "cell_type": "code",
      "metadata": {
        "id": "IoYgX8lNxwwS",
        "colab_type": "code",
        "colab": {
          "base_uri": "https://localhost:8080/",
          "height": 69
        },
        "outputId": "7994e5b3-acee-43a0-ee43-6e611af361d4"
      },
      "source": [
        "pv[ranking_x2][:10]"
      ],
      "execution_count": 86,
      "outputs": [
        {
          "output_type": "execute_result",
          "data": {
            "text/plain": [
              "array([0.00000000e+000, 7.74678231e-302, 2.73256921e-267, 4.05497089e-159,\n",
              "       4.34837330e-143, 6.55755937e-140, 7.77933382e-134, 1.83446535e-124,\n",
              "       1.64418534e-108, 4.10787589e-104])"
            ]
          },
          "metadata": {
            "tags": []
          },
          "execution_count": 86
        }
      ]
    },
    {
      "cell_type": "code",
      "metadata": {
        "id": "fc63C_cex3Yr",
        "colab_type": "code",
        "colab": {}
      },
      "source": [
        "#Feature selection as exploratory data analysis\n",
        "import matplotlib.pyplot as plt\n",
        "from sklearn.metrics.pairwise import cosine_similarity \n",
        "from sklearn.manifold import MDS"
      ],
      "execution_count": 0,
      "outputs": []
    },
    {
      "cell_type": "code",
      "metadata": {
        "id": "bW_RW_2S0Z1g",
        "colab_type": "code",
        "colab": {}
      },
      "source": [
        "dist = 1 - cosine_similarity(dtm)"
      ],
      "execution_count": 0,
      "outputs": []
    },
    {
      "cell_type": "code",
      "metadata": {
        "id": "EuXmrJKA0d5Z",
        "colab_type": "code",
        "colab": {}
      },
      "source": [
        "mds = MDS(n_components=2, dissimilarity=\"precomputed\") # we are using existing dist measure\n",
        "pos = mds.fit_transform(dist)"
      ],
      "execution_count": 0,
      "outputs": []
    },
    {
      "cell_type": "code",
      "metadata": {
        "id": "xvByGL3M0x82",
        "colab_type": "code",
        "colab": {}
      },
      "source": [
        "names = [os.path.basename(fn).replace('.txt', '') for fn in filenames]"
      ],
      "execution_count": 0,
      "outputs": []
    },
    {
      "cell_type": "code",
      "metadata": {
        "id": "kHhpOgAz0qsi",
        "colab_type": "code",
        "colab": {
          "base_uri": "https://localhost:8080/",
          "height": 298
        },
        "outputId": "1f9a44ca-1888-4f82-a217-79f81547cb71"
      },
      "source": [
        "for x, y, name in zip(pos[:, 0], pos[:, 1], names):\n",
        "  plt.scatter(x, y, s=25)\n",
        "  plt.text(x, y, name)\n",
        "  \n",
        "plt.title(\"Before feature selection\")"
      ],
      "execution_count": 95,
      "outputs": [
        {
          "output_type": "execute_result",
          "data": {
            "text/plain": [
              "Text(0.5, 1.0, 'Before feature selection')"
            ]
          },
          "metadata": {
            "tags": []
          },
          "execution_count": 95
        },
        {
          "output_type": "display_data",
          "data": {
            "image/png": "[encoded data removed]",
            "text/plain": [
              "<Figure size 432x288 with 1 Axes>"
            ]
          },
          "metadata": {
            "tags": []
          }
        }
      ]
    },
    {
      "cell_type": "code",
      "metadata": {
        "id": "H4Oa6XvJ2Gjd",
        "colab_type": "code",
        "colab": {
          "base_uri": "https://localhost:8080/",
          "height": 298
        },
        "outputId": "761dc2df-7c99-4857-bc32-5b952dbce849"
      },
      "source": [
        "keyness, _ = chi2(dtm, names)\n",
        "selected = np.argsort(keyness)[::-1][:50]\n",
        "dtm_chi2 = dtm[:, selected]\n",
        "dist = 1 - cosine_similarity(dtm_chi2)\n",
        "\n",
        "mds = MDS(n_components=2, dissimilarity=\"precomputed\")\n",
        "pos = mds.fit_transform(dist)\n",
        "\n",
        "for x, y, name in zip(pos[:, 0], pos[:, 1], names):\n",
        "  plt.scatter(x, y, s=25)\n",
        "  plt.text(x, y, name)\n",
        "  \n",
        "plt.title(\"After Chi2 Feature Selection\")"
      ],
      "execution_count": 97,
      "outputs": [
        {
          "output_type": "execute_result",
          "data": {
            "text/plain": [
              "Text(0.5, 1.0, 'After Chi2 Feature Selection')"
            ]
          },
          "metadata": {
            "tags": []
          },
          "execution_count": 97
        },
        {
          "output_type": "display_data",
          "data": {
            "image/png": "[encoded data removed]",
            "text/plain": [
              "<Figure size 432x288 with 1 Axes>"
            ]
          },
          "metadata": {
            "tags": []
          }
        }
      ]
    },
    {
      "cell_type": "code",
      "metadata": {
        "id": "xDXkdY6F2sFS",
        "colab_type": "code",
        "colab": {}
      },
      "source": [
        ""
      ],
      "execution_count": 0,
      "outputs": []
    }
  ]
}