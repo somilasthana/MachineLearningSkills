{
  "nbformat": 4,
  "nbformat_minor": 0,
  "metadata": {
    "colab": {
      "name": "AdaBoosting.ipynb",
      "version": "0.3.2",
      "provenance": [],
      "include_colab_link": true
    },
    "kernelspec": {
      "name": "python3",
      "display_name": "Python 3"
    },
    "accelerator": "GPU"
  },
  "cells": [
    {
      "cell_type": "markdown",
      "metadata": {
        "id": "view-in-github",
        "colab_type": "text"
      },
      "source": [
        "<a href=\"https://colab.research.google.com/github/somilasthana/MachineLearningSkills/blob/master/AdaBoosting.ipynb\" target=\"_parent\"><img src=\"https://colab.research.google.com/assets/colab-badge.svg\" alt=\"Open In Colab\"/></a>"
      ]
    },
    {
      "cell_type": "code",
      "metadata": {
        "id": "HXfvEwWnTY1a",
        "colab_type": "code",
        "colab": {}
      },
      "source": [
        "\"\"\"\n",
        "AdaBoost:\n",
        "The core principle of AdaBoost is to fit a sequence of weak learners on repeatedly modified version of data.\n",
        "Each model may do slightly better than random guessing.\n",
        "\n",
        "The predictions from all of them is combined thru weighted sum to produce a final predictions.\n",
        "\n",
        "Initially weights for w_1, w_2,..., w_N are set to 1 / N\n",
        "\n",
        "In successive steps, the sample of weights are individually modified and the learning algo is reapplied to weights.\n",
        "At a given step, those training examples that were incorrectly predicted in previous step have their weight increased\n",
        "while the one which were predicted have their weight decreased.\n",
        "\n",
        "In other words, as iteration proceed examples that are difficult to predict receive ever increasing influence\n",
        "Each weak learner is thereby forced to concentrate on the examples that where missed by the previous one.\n",
        "\n",
        "weak learner are decision stumps\n",
        "\n",
        "\"\"\""
      ],
      "execution_count": 0,
      "outputs": []
    },
    {
      "cell_type": "code",
      "metadata": {
        "id": "IseewavVVySG",
        "colab_type": "code",
        "colab": {}
      },
      "source": [
        "\"\"\"\n",
        "Parameters:\n",
        "\n",
        "n_estimators: Number of weak learners\n",
        "\n",
        "learning_rate: contribution of the weak learner in the final outcome\n",
        "\n",
        "base_estimator :Different weak learners can be specified through this parameter.\n",
        "\"\"\""
      ],
      "execution_count": 0,
      "outputs": []
    },
    {
      "cell_type": "code",
      "metadata": {
        "id": "mlU4kZTMWVq8",
        "colab_type": "code",
        "colab": {}
      },
      "source": [
        "\"\"\"\n",
        "Comparing AdaBoost with RandomForest on Generated Dataset\n",
        "\"\"\""
      ],
      "execution_count": 0,
      "outputs": []
    },
    {
      "cell_type": "code",
      "metadata": {
        "id": "6Xy5-AmWWt15",
        "colab_type": "code",
        "colab": {}
      },
      "source": [
        "import numpy as np\n",
        "import matplotlib.pyplot as plt\n",
        "from sklearn.ensemble import RandomForestRegressor\n",
        "from sklearn.tree import DecisionTreeRegressor\n",
        "from sklearn.ensemble import AdaBoostRegressor"
      ],
      "execution_count": 0,
      "outputs": []
    },
    {
      "cell_type": "code",
      "metadata": {
        "id": "c_sgqm9gXCau",
        "colab_type": "code",
        "colab": {}
      },
      "source": [
        "rng = np.random.RandomState(42)\n",
        "\n",
        "X = np.linspace(0, 6, 100)[:, np.newaxis]\n",
        "y = np.sin(X).ravel() + np.sin(6 * X).ravel() + rng.normal(0, 0.1, X.shape[0])\n"
      ],
      "execution_count": 0,
      "outputs": []
    },
    {
      "cell_type": "code",
      "metadata": {
        "id": "yjuy4Us3Xbbg",
        "colab_type": "code",
        "colab": {}
      },
      "source": [
        "reg_rf  = RandomForestRegressor(n_estimators=300, max_depth=4, random_state=rng)\n",
        "reg_ada = AdaBoostRegressor(DecisionTreeRegressor(max_depth=4), n_estimators=300, random_state=rng)"
      ],
      "execution_count": 0,
      "outputs": []
    },
    {
      "cell_type": "code",
      "metadata": {
        "id": "MEs3IgyGX6Yp",
        "colab_type": "code",
        "colab": {
          "base_uri": "https://localhost:8080/",
          "height": 155
        },
        "outputId": "f5ff124c-6b7a-473c-8295-054d82e034cf"
      },
      "source": [
        "reg_rf.fit(X, y)\n"
      ],
      "execution_count": 12,
      "outputs": [
        {
          "output_type": "execute_result",
          "data": {
            "text/plain": [
              "RandomForestRegressor(bootstrap=True, criterion='mse', max_depth=4,\n",
              "                      max_features='auto', max_leaf_nodes=None,\n",
              "                      min_impurity_decrease=0.0, min_impurity_split=None,\n",
              "                      min_samples_leaf=1, min_samples_split=2,\n",
              "                      min_weight_fraction_leaf=0.0, n_estimators=300,\n",
              "                      n_jobs=None, oob_score=False,\n",
              "                      random_state=<mtrand.RandomState object at 0x7f0cdf6ca7e0>,\n",
              "                      verbose=0, warm_start=False)"
            ]
          },
          "metadata": {
            "tags": []
          },
          "execution_count": 12
        }
      ]
    },
    {
      "cell_type": "code",
      "metadata": {
        "id": "hhxKiutQYdWJ",
        "colab_type": "code",
        "colab": {
          "base_uri": "https://localhost:8080/",
          "height": 259
        },
        "outputId": "e97218dc-cad6-4422-f9fe-9542ffeadbb0"
      },
      "source": [
        "reg_ada.fit(X, y)"
      ],
      "execution_count": 13,
      "outputs": [
        {
          "output_type": "execute_result",
          "data": {
            "text/plain": [
              "AdaBoostRegressor(base_estimator=DecisionTreeRegressor(criterion='mse',\n",
              "                                                       max_depth=4,\n",
              "                                                       max_features=None,\n",
              "                                                       max_leaf_nodes=None,\n",
              "                                                       min_impurity_decrease=0.0,\n",
              "                                                       min_impurity_split=None,\n",
              "                                                       min_samples_leaf=1,\n",
              "                                                       min_samples_split=2,\n",
              "                                                       min_weight_fraction_leaf=0.0,\n",
              "                                                       presort=False,\n",
              "                                                       random_state=None,\n",
              "                                                       splitter='best'),\n",
              "                  learning_rate=1.0, loss='linear', n_estimators=300,\n",
              "                  random_state=<mtrand.RandomState object at 0x7f0cdf6ca7e0>)"
            ]
          },
          "metadata": {
            "tags": []
          },
          "execution_count": 13
        }
      ]
    },
    {
      "cell_type": "code",
      "metadata": {
        "id": "oxcS6sNFYfvf",
        "colab_type": "code",
        "colab": {}
      },
      "source": [
        "y_rf = reg_rf.predict(X)\n",
        "y_ada = reg_ada.predict(X)"
      ],
      "execution_count": 0,
      "outputs": []
    },
    {
      "cell_type": "code",
      "metadata": {
        "id": "mEiy-jsqYswi",
        "colab_type": "code",
        "colab": {
          "base_uri": "https://localhost:8080/",
          "height": 313
        },
        "outputId": "27926e79-7f35-43a9-a3cb-427ce1366369"
      },
      "source": [
        "plt.scatter(X, y, c=\"b\", label=\"training samples\", s=5)\n",
        "plt.plot(X, y_rf, c=\"g\", label=\"RandomForest\")\n",
        "plt.plot(X, y_ada, c=\"r\", label=\"AdaBoost\")\n",
        "plt.xlabel(\"data\")\n",
        "plt.ylabel(\"target\")\n",
        "plt.title(\"RandomForest vs Boosted Decision Tree Regression\")\n",
        "plt.legend()"
      ],
      "execution_count": 18,
      "outputs": [
        {
          "output_type": "execute_result",
          "data": {
            "text/plain": [
              "<matplotlib.legend.Legend at 0x7f0cdcbb4dd8>"
            ]
          },
          "metadata": {
            "tags": []
          },
          "execution_count": 18
        },
        {
          "output_type": "display_data",
          "data": {
            "image/png": "[encoded data removed]",
            "text/plain": [
              "<Figure size 432x288 with 1 Axes>"
            ]
          },
          "metadata": {
            "tags": []
          }
        }
      ]
    },
    {
      "cell_type": "code",
      "metadata": {
        "id": "RlVJHfIkZLcN",
        "colab_type": "code",
        "colab": {}
      },
      "source": [
        "\"\"\"\n",
        "Observation: AdaBoosts perform better than RandomForest for the same number of estimators.\n",
        "\"\"\""
      ],
      "execution_count": 0,
      "outputs": []
    },
    {
      "cell_type": "code",
      "metadata": {
        "id": "hFv9jDIAZhPt",
        "colab_type": "code",
        "colab": {}
      },
      "source": [
        ""
      ],
      "execution_count": 0,
      "outputs": []
    }
  ]
}