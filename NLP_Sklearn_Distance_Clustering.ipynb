{
  "nbformat": 4,
  "nbformat_minor": 0,
  "metadata": {
    "colab": {
      "name": "NLP_Sklearn_Distance_Clustering.ipynb",
      "version": "0.3.2",
      "provenance": [],
      "include_colab_link": true
    },
    "kernelspec": {
      "name": "python3",
      "display_name": "Python 3"
    },
    "accelerator": "GPU"
  },
  "cells": [
    {
      "cell_type": "markdown",
      "metadata": {
        "id": "view-in-github",
        "colab_type": "text"
      },
      "source": [
        "<a href=\"https://colab.research.google.com/github/somilasthana/MachineLearningSkills/blob/master/NLP_Sklearn_Distance_Clustering.ipynb\" target=\"_parent\"><img src=\"https://colab.research.google.com/assets/colab-badge.svg\" alt=\"Open In Colab\"/></a>"
      ]
    },
    {
      "cell_type": "code",
      "metadata": {
        "id": "ytWBQWA7oFBI",
        "colab_type": "code",
        "colab": {
          "base_uri": "https://localhost:8080/",
          "height": 207
        },
        "outputId": "6c84999c-d483-4dcc-b242-da828d38fa7a"
      },
      "source": [
        "!wget https://liferay.de.dariah.eu/tatom/_downloads/datasets.zip"
      ],
      "execution_count": 1,
      "outputs": [
        {
          "output_type": "stream",
          "text": [
            "--2019-06-23 09:18:27--  https://liferay.de.dariah.eu/tatom/_downloads/datasets.zip\n",
            "Resolving liferay.de.dariah.eu (liferay.de.dariah.eu)... 134.76.30.131\n",
            "Connecting to liferay.de.dariah.eu (liferay.de.dariah.eu)|134.76.30.131|:443... connected.\n",
            "HTTP request sent, awaiting response... 200 OK\n",
            "Length: 57659024 (55M) [application/zip]\n",
            "Saving to: ‘datasets.zip’\n",
            "\n",
            "\rdatasets.zip          0%[                    ]       0  --.-KB/s               \rdatasets.zip         25%[====>               ]  14.14M  70.7MB/s               \rdatasets.zip         66%[============>       ]  36.48M  91.2MB/s               \rdatasets.zip        100%[===================>]  54.99M  97.2MB/s    in 0.6s    \n",
            "\n",
            "2019-06-23 09:18:27 (97.2 MB/s) - ‘datasets.zip’ saved [57659024/57659024]\n",
            "\n"
          ],
          "name": "stdout"
        }
      ]
    },
    {
      "cell_type": "code",
      "metadata": {
        "id": "WknLQsktoQ1j",
        "colab_type": "code",
        "colab": {}
      },
      "source": [
        "!unzip /content/datasets.zip"
      ],
      "execution_count": 0,
      "outputs": []
    },
    {
      "cell_type": "code",
      "metadata": {
        "id": "H_o05CXyoYZ9",
        "colab_type": "code",
        "colab": {}
      },
      "source": [
        "filenames = [\n",
        "    '/content/data/austen-brontë/Austen_Emma.txt',\n",
        "    '/content/data/austen-brontë/Austen_Pride.txt',\n",
        "    '/content/data/austen-brontë/Austen_Sense.txt',\n",
        "    '/content/data/austen-brontë/CBronte_Jane.txt',\n",
        "    '/content/data/austen-brontë/CBronte_Professor.txt',\n",
        "    '/content/data/austen-brontë/CBronte_Villette.txt'\n",
        "]"
      ],
      "execution_count": 0,
      "outputs": []
    },
    {
      "cell_type": "code",
      "metadata": {
        "id": "d171B9FkpjMu",
        "colab_type": "code",
        "colab": {}
      },
      "source": [
        "from sklearn.feature_extraction.text import CountVectorizer\n",
        "import numpy as np"
      ],
      "execution_count": 0,
      "outputs": []
    },
    {
      "cell_type": "code",
      "metadata": {
        "id": "nECcyAW0pt84",
        "colab_type": "code",
        "colab": {}
      },
      "source": [
        "vectorizer = CountVectorizer(input='filename')"
      ],
      "execution_count": 0,
      "outputs": []
    },
    {
      "cell_type": "code",
      "metadata": {
        "id": "FJ2SzUfLpynU",
        "colab_type": "code",
        "colab": {}
      },
      "source": [
        "dtm = vectorizer.fit_transform(filenames)"
      ],
      "execution_count": 0,
      "outputs": []
    },
    {
      "cell_type": "code",
      "metadata": {
        "id": "pFEucEK1p7qk",
        "colab_type": "code",
        "colab": {
          "base_uri": "https://localhost:8080/",
          "height": 35
        },
        "outputId": "8c08e0ec-e18a-4e30-bdc6-c29de5529c65"
      },
      "source": [
        "type(dtm)"
      ],
      "execution_count": 8,
      "outputs": [
        {
          "output_type": "execute_result",
          "data": {
            "text/plain": [
              "scipy.sparse.csr.csr_matrix"
            ]
          },
          "metadata": {
            "tags": []
          },
          "execution_count": 8
        }
      ]
    },
    {
      "cell_type": "code",
      "metadata": {
        "id": "WXHe9_5Yp-y6",
        "colab_type": "code",
        "colab": {}
      },
      "source": [
        "vocab = vectorizer.get_feature_names()"
      ],
      "execution_count": 0,
      "outputs": []
    },
    {
      "cell_type": "code",
      "metadata": {
        "id": "PTXx-iRyq4zs",
        "colab_type": "code",
        "colab": {}
      },
      "source": [
        "vocab = np.array(vocab)"
      ],
      "execution_count": 0,
      "outputs": []
    },
    {
      "cell_type": "code",
      "metadata": {
        "id": "4T8UXNymq8rW",
        "colab_type": "code",
        "colab": {
          "base_uri": "https://localhost:8080/",
          "height": 155
        },
        "outputId": "d74a197e-9a9b-48af-b2bd-41ad11a0b3d5"
      },
      "source": [
        "vocab[300:340]"
      ],
      "execution_count": 15,
      "outputs": [
        {
          "output_type": "execute_result",
          "data": {
            "text/plain": [
              "array(['_sacrifice_', '_said_', '_salle', '_salut_', '_sang', '_savoir',\n",
              "       '_saw_', '_say_', '_scarlet', '_secret_', '_seem_', '_seemed_',\n",
              "       '_sensation_', '_sensitive_', '_shall_', '_she_', '_ship_',\n",
              "       '_should_', '_small_', '_so_', '_some_', '_somebody_',\n",
              "       '_sometimes_', '_somewhere_', '_sotto', '_sour_', '_source_',\n",
              "       '_speaking_', '_spoke_', '_sposo_', '_still_', '_surveillante_',\n",
              "       '_sylph_', '_tailleuse_', '_tailleuses_', '_tatter_', '_taylor_',\n",
              "       '_tell_', '_ten_', '_tete'], dtype='<U20')"
            ]
          },
          "metadata": {
            "tags": []
          },
          "execution_count": 15
        }
      ]
    },
    {
      "cell_type": "markdown",
      "metadata": {
        "id": "GOBE5E46rNGd",
        "colab_type": "text"
      },
      "source": [
        "Comparing texts\n",
        "\n",
        "\n",
        "Calculating a measure of similarity between texts becomes simple. Since each row of the document-term matrix is a sequence of a novel’s word frequencies."
      ]
    },
    {
      "cell_type": "code",
      "metadata": {
        "id": "Xo05Rs55rDS-",
        "colab_type": "code",
        "colab": {}
      },
      "source": [
        "from sklearn.metrics.pairwise import euclidean_distances"
      ],
      "execution_count": 0,
      "outputs": []
    },
    {
      "cell_type": "code",
      "metadata": {
        "id": "EzFKkg6arydq",
        "colab_type": "code",
        "colab": {}
      },
      "source": [
        "dist = euclidean_distances(dtm)"
      ],
      "execution_count": 0,
      "outputs": []
    },
    {
      "cell_type": "code",
      "metadata": {
        "id": "nHgd5cdrr1bv",
        "colab_type": "code",
        "colab": {
          "base_uri": "https://localhost:8080/",
          "height": 121
        },
        "outputId": "16d5dbe5-c879-4d69-bfdc-4c7e561e6fd4"
      },
      "source": [
        "print(np.round(dist, 2))"
      ],
      "execution_count": 31,
      "outputs": [
        {
          "output_type": "stream",
          "text": [
            "[[   0.   3856.29 4182.8  5119.7  7113.27 5280.17]\n",
            " [3856.29    0.   1922.61 6313.08 4126.24 6381.24]\n",
            " [4182.8  1922.61    0.   6657.36 4045.34 6650.31]\n",
            " [5119.7  6313.08 6657.36    0.   8363.83 2591.55]\n",
            " [7113.27 4126.24 4045.34 8363.83    0.   8484.06]\n",
            " [5280.17 6381.24 6650.31 2591.55 8484.06    0.  ]]\n"
          ],
          "name": "stdout"
        }
      ]
    },
    {
      "cell_type": "code",
      "metadata": {
        "id": "dgM4DWEDtU6v",
        "colab_type": "code",
        "colab": {}
      },
      "source": [
        "from sklearn.metrics.pairwise import cosine_similarity"
      ],
      "execution_count": 0,
      "outputs": []
    },
    {
      "cell_type": "code",
      "metadata": {
        "id": "WqOqPdksuh2v",
        "colab_type": "code",
        "colab": {}
      },
      "source": [
        "dist = 1 - cosine_similarity(dtm)"
      ],
      "execution_count": 0,
      "outputs": []
    },
    {
      "cell_type": "code",
      "metadata": {
        "id": "ehls9ho6ulsr",
        "colab_type": "code",
        "colab": {
          "base_uri": "https://localhost:8080/",
          "height": 121
        },
        "outputId": "27c45e2c-6c98-4480-b2c0-b1c8e3bdc07c"
      },
      "source": [
        "print(np.round(dist, 2))"
      ],
      "execution_count": 34,
      "outputs": [
        {
          "output_type": "stream",
          "text": [
            "[[-0.    0.02  0.03  0.05  0.06  0.05]\n",
            " [ 0.02  0.    0.02  0.05  0.04  0.04]\n",
            " [ 0.03  0.02  0.    0.06  0.05  0.05]\n",
            " [ 0.05  0.05  0.06  0.    0.02  0.01]\n",
            " [ 0.06  0.04  0.05  0.02 -0.    0.01]\n",
            " [ 0.05  0.04  0.05  0.01  0.01 -0.  ]]\n"
          ],
          "name": "stdout"
        }
      ]
    },
    {
      "cell_type": "code",
      "metadata": {
        "id": "xSWZaAFhup9q",
        "colab_type": "code",
        "colab": {}
      },
      "source": [
        "\"\"\"\n",
        "Multidimensional scaling (MDS) is a means of visualizing the level of similarity \n",
        "of individual cases. MDS is used to translate \"information about the pairwise \n",
        "'distances' among a set of n objects or individuals\" \n",
        "\"\"\"\n",
        "import matplotlib.pyplot as plt\n",
        "from sklearn.manifold import MDS "
      ],
      "execution_count": 0,
      "outputs": []
    },
    {
      "cell_type": "code",
      "metadata": {
        "id": "KC0Y6b_Ovtx6",
        "colab_type": "code",
        "colab": {}
      },
      "source": [
        "\"\"\"\n",
        "Two components as we're plotting points in a two-dimensional plane,\n",
        "\"Precomputed\" because we provide a distance matrix\n",
        "We will also specify `random_state` so the plot is reproducible.\n",
        "\"\"\"\n",
        "mds = MDS(n_components=2, dissimilarity='precomputed', random_state=42)"
      ],
      "execution_count": 0,
      "outputs": []
    },
    {
      "cell_type": "code",
      "metadata": {
        "id": "i1JajG1Cwlp3",
        "colab_type": "code",
        "colab": {}
      },
      "source": [
        "pos = mds.fit_transform(dist)"
      ],
      "execution_count": 0,
      "outputs": []
    },
    {
      "cell_type": "code",
      "metadata": {
        "id": "5cC_U6Smwrpy",
        "colab_type": "code",
        "colab": {
          "base_uri": "https://localhost:8080/",
          "height": 121
        },
        "outputId": "eab77ef5-42f1-41e1-a61b-9b575c551ec8"
      },
      "source": [
        "pos"
      ],
      "execution_count": 38,
      "outputs": [
        {
          "output_type": "execute_result",
          "data": {
            "text/plain": [
              "array([[-0.02960285, -0.01160171],\n",
              "       [-0.01280459, -0.01432873],\n",
              "       [-0.00796638, -0.02681114],\n",
              "       [ 0.02460696,  0.01216106],\n",
              "       [ 0.00969551,  0.02286129],\n",
              "       [ 0.01607136,  0.01771923]])"
            ]
          },
          "metadata": {
            "tags": []
          },
          "execution_count": 38
        }
      ]
    },
    {
      "cell_type": "code",
      "metadata": {
        "id": "-l2mL4WvxMj4",
        "colab_type": "code",
        "colab": {}
      },
      "source": [
        "import os\n",
        "names = [os.path.basename(fn).replace('.txt', '') for fn in filenames]"
      ],
      "execution_count": 0,
      "outputs": []
    },
    {
      "cell_type": "code",
      "metadata": {
        "id": "G6nX_oZlwyZo",
        "colab_type": "code",
        "colab": {
          "base_uri": "https://localhost:8080/",
          "height": 269
        },
        "outputId": "64c70192-fdf0-47d5-d715-1f6a01d85bd4"
      },
      "source": [
        "for x, y, name in zip(pos[:, 0], pos[:, 1], names):\n",
        "  plt.scatter(x, y, s=25)\n",
        "  plt.text(x, y, name)\n",
        "  "
      ],
      "execution_count": 41,
      "outputs": [
        {
          "output_type": "display_data",
          "data": {
            "image/png": "[encoded data removed]",
            "text/plain": [
              "<Figure size 432x288 with 1 Axes>"
            ]
          },
          "metadata": {
            "tags": []
          }
        }
      ]
    },
    {
      "cell_type": "code",
      "metadata": {
        "id": "d-3W4L_2xU2I",
        "colab_type": "code",
        "colab": {}
      },
      "source": [
        "# 3d visualization\n",
        "\n",
        "mds = MDS(n_components=3, dissimilarity='precomputed', random_state=42)"
      ],
      "execution_count": 0,
      "outputs": []
    },
    {
      "cell_type": "code",
      "metadata": {
        "id": "AAUynnXhxyYc",
        "colab_type": "code",
        "colab": {}
      },
      "source": [
        "pos = mds.fit_transform(dist)"
      ],
      "execution_count": 0,
      "outputs": []
    },
    {
      "cell_type": "code",
      "metadata": {
        "id": "3F_3Xo3Mx2k2",
        "colab_type": "code",
        "colab": {
          "base_uri": "https://localhost:8080/",
          "height": 121
        },
        "outputId": "3c3244df-9e20-41bc-f885-42b8b9c67c6a"
      },
      "source": [
        "pos"
      ],
      "execution_count": 44,
      "outputs": [
        {
          "output_type": "execute_result",
          "data": {
            "text/plain": [
              "array([[-0.0256792 , -0.01803289, -0.00622741],\n",
              "       [-0.01155265, -0.00916017, -0.01454328],\n",
              "       [-0.02167813,  0.00703161, -0.01499298],\n",
              "       [ 0.02623944,  0.00435707,  0.00504144],\n",
              "       [ 0.01606332,  0.00342159,  0.01832136],\n",
              "       [ 0.01660721,  0.01238279,  0.01240088]])"
            ]
          },
          "metadata": {
            "tags": []
          },
          "execution_count": 44
        }
      ]
    },
    {
      "cell_type": "code",
      "metadata": {
        "id": "-H3kodCCx3UC",
        "colab_type": "code",
        "colab": {
          "base_uri": "https://localhost:8080/",
          "height": 248
        },
        "outputId": "1804e210-8dfb-48cb-c37d-7b9bc011bf0d"
      },
      "source": [
        "from mpl_toolkits.mplot3d import Axes3D\n",
        "fig = plt.figure()\n",
        "ax = fig.add_subplot(111, projection='3d')\n",
        "ax.scatter(pos[:, 0], pos[:, 1], pos[:, 2])\n",
        "for x, y, z, s in zip(pos[:, 0], pos[:, 1], pos[:, 2], names):\n",
        "  ax.text(x, y, z, s)\n",
        "  \n",
        "plt.show()"
      ],
      "execution_count": 46,
      "outputs": [
        {
          "output_type": "display_data",
          "data": {
            "image/png": "[encoded data removed]",
            "text/plain": [
              "<Figure size 432x288 with 1 Axes>"
            ]
          },
          "metadata": {
            "tags": []
          }
        }
      ]
    },
    {
      "cell_type": "markdown",
      "metadata": {
        "id": "jDKCHZlmy8nE",
        "colab_type": "text"
      },
      "source": [
        "Clustering \n",
        "\n",
        "Based on distance"
      ]
    },
    {
      "cell_type": "code",
      "metadata": {
        "id": "xPsYQKcsyAcH",
        "colab_type": "code",
        "colab": {}
      },
      "source": [
        "from scipy.cluster.hierarchy import ward, dendrogram"
      ],
      "execution_count": 0,
      "outputs": []
    },
    {
      "cell_type": "code",
      "metadata": {
        "id": "gE_W-fRszJx2",
        "colab_type": "code",
        "colab": {}
      },
      "source": [
        "linkage_matrix = ward(dist)"
      ],
      "execution_count": 0,
      "outputs": []
    },
    {
      "cell_type": "code",
      "metadata": {
        "id": "HX04g-lRzPy-",
        "colab_type": "code",
        "colab": {
          "base_uri": "https://localhost:8080/",
          "height": 104
        },
        "outputId": "46808df9-7b89-453a-bcaa-1a788263e3a7"
      },
      "source": [
        "linkage_matrix"
      ],
      "execution_count": 50,
      "outputs": [
        {
          "output_type": "execute_result",
          "data": {
            "text/plain": [
              "array([[4.        , 5.        , 0.01623084, 2.        ],\n",
              "       [3.        , 6.        , 0.02554585, 3.        ],\n",
              "       [1.        , 2.        , 0.02666494, 2.        ],\n",
              "       [0.        , 8.        , 0.03997317, 3.        ],\n",
              "       [7.        , 9.        , 0.16535482, 6.        ]])"
            ]
          },
          "metadata": {
            "tags": []
          },
          "execution_count": 50
        }
      ]
    },
    {
      "cell_type": "code",
      "metadata": {
        "id": "BuFwu3Y4zQzL",
        "colab_type": "code",
        "colab": {
          "base_uri": "https://localhost:8080/",
          "height": 632
        },
        "outputId": "2184c377-0968-4c87-9466-30d60a0eab92"
      },
      "source": [
        "dendrogram(linkage_matrix, orientation='right', labels=names)"
      ],
      "execution_count": 51,
      "outputs": [
        {
          "output_type": "execute_result",
          "data": {
            "text/plain": [
              "{'color_list': ['g', 'g', 'r', 'r', 'b'],\n",
              " 'dcoord': [[0.0, 0.0162308375308938, 0.0162308375308938, 0.0],\n",
              "  [0.0, 0.02554584889944319, 0.02554584889944319, 0.0162308375308938],\n",
              "  [0.0, 0.026664938673982768, 0.026664938673982768, 0.0],\n",
              "  [0.0, 0.03997317315741364, 0.03997317315741364, 0.026664938673982768],\n",
              "  [0.02554584889944319,\n",
              "   0.16535482370281632,\n",
              "   0.16535482370281632,\n",
              "   0.03997317315741364]],\n",
              " 'icoord': [[15.0, 15.0, 25.0, 25.0],\n",
              "  [5.0, 5.0, 20.0, 20.0],\n",
              "  [45.0, 45.0, 55.0, 55.0],\n",
              "  [35.0, 35.0, 50.0, 50.0],\n",
              "  [12.5, 12.5, 42.5, 42.5]],\n",
              " 'ivl': ['CBronte_Jane',\n",
              "  'CBronte_Professor',\n",
              "  'CBronte_Villette',\n",
              "  'Austen_Emma',\n",
              "  'Austen_Pride',\n",
              "  'Austen_Sense'],\n",
              " 'leaves': [3, 4, 5, 0, 1, 2]}"
            ]
          },
          "metadata": {
            "tags": []
          },
          "execution_count": 51
        },
        {
          "output_type": "display_data",
          "data": {
            "image/png": "[encoded data removed]",
            "text/plain": [
              "<Figure size 432x288 with 1 Axes>"
            ]
          },
          "metadata": {
            "tags": []
          }
        }
      ]
    },
    {
      "cell_type": "code",
      "metadata": {
        "id": "mCTluR2ezcDb",
        "colab_type": "code",
        "colab": {}
      },
      "source": [
        ""
      ],
      "execution_count": 0,
      "outputs": []
    }
  ]
}