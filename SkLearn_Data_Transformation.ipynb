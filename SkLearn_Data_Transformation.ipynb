{
  "nbformat": 4,
  "nbformat_minor": 0,
  "metadata": {
    "colab": {
      "name": "SkLearn-Data-Transformation.ipynb",
      "version": "0.3.2",
      "provenance": [],
      "collapsed_sections": [],
      "include_colab_link": true
    },
    "kernelspec": {
      "name": "python3",
      "display_name": "Python 3"
    },
    "accelerator": "GPU"
  },
  "cells": [
    {
      "cell_type": "markdown",
      "metadata": {
        "id": "view-in-github",
        "colab_type": "text"
      },
      "source": [
        "<a href=\"https://colab.research.google.com/github/somilasthana/MachineLearningSkills/blob/master/SkLearn_Data_Transformation.ipynb\" target=\"_parent\"><img src=\"https://colab.research.google.com/assets/colab-badge.svg\" alt=\"Open In Colab\"/></a>"
      ]
    },
    {
      "cell_type": "markdown",
      "metadata": {
        "id": "_xOeiHKhntDE",
        "colab_type": "text"
      },
      "source": [
        "Pipelines and composite estimators"
      ]
    },
    {
      "cell_type": "code",
      "metadata": {
        "id": "krIY876hnoTf",
        "colab_type": "code",
        "colab": {}
      },
      "source": [
        "\"\"\"\n",
        "Transformers are usually combined with classifiers, regressors or other \n",
        "estimators to build a composite estimator. The most common tool is a Pipeline.\n",
        "\"\"\""
      ],
      "execution_count": 0,
      "outputs": []
    },
    {
      "cell_type": "code",
      "metadata": {
        "id": "v2Gj4accoE07",
        "colab_type": "code",
        "colab": {}
      },
      "source": [
        "from sklearn.pipeline import Pipeline\n",
        "from sklearn.svm import SVC\n",
        "from sklearn.decomposition import PCA"
      ],
      "execution_count": 0,
      "outputs": []
    },
    {
      "cell_type": "code",
      "metadata": {
        "id": "xHGkbwZaofUX",
        "colab_type": "code",
        "colab": {
          "base_uri": "https://localhost:8080/",
          "height": 138
        },
        "outputId": "770d34cc-f3dd-4e42-859a-46729b763722"
      },
      "source": [
        "estimator = [('PCA', PCA()), ('clf', SVC)]\n",
        "pipe = Pipeline(estimator)\n",
        "pipe"
      ],
      "execution_count": 6,
      "outputs": [
        {
          "output_type": "execute_result",
          "data": {
            "text/plain": [
              "Pipeline(memory=None,\n",
              "         steps=[('PCA',\n",
              "                 PCA(copy=True, iterated_power='auto', n_components=None,\n",
              "                     random_state=None, svd_solver='auto', tol=0.0,\n",
              "                     whiten=False)),\n",
              "                ('clf', <class 'sklearn.svm.classes.SVC'>)],\n",
              "         verbose=False)"
            ]
          },
          "metadata": {
            "tags": []
          },
          "execution_count": 6
        }
      ]
    },
    {
      "cell_type": "code",
      "metadata": {
        "id": "wCnafjJtow0-",
        "colab_type": "code",
        "colab": {
          "base_uri": "https://localhost:8080/",
          "height": 86
        },
        "outputId": "6ab0ba84-cf47-4f05-f78d-6ef12a5005a6"
      },
      "source": [
        "from sklearn.pipeline import make_pipeline\n",
        "from sklearn.naive_bayes import MultinomialNB\n",
        "from sklearn.preprocessing import Binarizer\n",
        "make_pipeline(Binarizer(), MultinomialNB)"
      ],
      "execution_count": 7,
      "outputs": [
        {
          "output_type": "execute_result",
          "data": {
            "text/plain": [
              "Pipeline(memory=None,\n",
              "         steps=[('binarizer', Binarizer(copy=True, threshold=0.0)),\n",
              "                ('abcmeta', <class 'sklearn.naive_bayes.MultinomialNB'>)],\n",
              "         verbose=False)"
            ]
          },
          "metadata": {
            "tags": []
          },
          "execution_count": 7
        }
      ]
    },
    {
      "cell_type": "code",
      "metadata": {
        "id": "V6khkwUTpgz2",
        "colab_type": "code",
        "colab": {
          "base_uri": "https://localhost:8080/",
          "height": 86
        },
        "outputId": "cefb8a73-8ac4-4ebe-b264-0495c1bb40af"
      },
      "source": [
        "pipe.steps"
      ],
      "execution_count": 9,
      "outputs": [
        {
          "output_type": "execute_result",
          "data": {
            "text/plain": [
              "[('PCA',\n",
              "  PCA(copy=True, iterated_power='auto', n_components=None, random_state=None,\n",
              "      svd_solver='auto', tol=0.0, whiten=False)),\n",
              " ('clf', sklearn.svm.classes.SVC)]"
            ]
          },
          "metadata": {
            "tags": []
          },
          "execution_count": 9
        }
      ]
    },
    {
      "cell_type": "code",
      "metadata": {
        "id": "zND_u8gkpoPl",
        "colab_type": "code",
        "colab": {
          "base_uri": "https://localhost:8080/",
          "height": 225
        },
        "outputId": "909916fc-a655-43ac-f256-ea25daf48ed8"
      },
      "source": [
        "from sklearn.datasets import load_digits\n",
        "digits = load_digits()\n",
        "pca1 = PCA()\n",
        "svm1 = SVC(gamma='scale')\n",
        "pipe1 = Pipeline([('reduce_dim', pca1), ('clf', svm1)])\n",
        "pipe1.fit(digits.data, digits.target)"
      ],
      "execution_count": 11,
      "outputs": [
        {
          "output_type": "execute_result",
          "data": {
            "text/plain": [
              "Pipeline(memory=None,\n",
              "         steps=[('reduce_dim',\n",
              "                 PCA(copy=True, iterated_power='auto', n_components=None,\n",
              "                     random_state=None, svd_solver='auto', tol=0.0,\n",
              "                     whiten=False)),\n",
              "                ('clf',\n",
              "                 SVC(C=1.0, cache_size=200, class_weight=None, coef0=0.0,\n",
              "                     decision_function_shape='ovr', degree=3, gamma='scale',\n",
              "                     kernel='rbf', max_iter=-1, probability=False,\n",
              "                     random_state=None, shrinking=True, tol=0.001,\n",
              "                     verbose=False))],\n",
              "         verbose=False)"
            ]
          },
          "metadata": {
            "tags": []
          },
          "execution_count": 11
        }
      ]
    },
    {
      "cell_type": "code",
      "metadata": {
        "id": "vzjqL5nFrSgF",
        "colab_type": "code",
        "colab": {
          "base_uri": "https://localhost:8080/",
          "height": 242
        },
        "outputId": "2692f8b4-0095-417e-dff9-f6d682206db6"
      },
      "source": [
        "print(pca1.components_) "
      ],
      "execution_count": 12,
      "outputs": [
        {
          "output_type": "stream",
          "text": [
            "[[-1.77484909e-19 -1.73094651e-02 -2.23428835e-01 ... -8.94184677e-02\n",
            "  -3.65977111e-02 -1.14684954e-02]\n",
            " [ 3.27805401e-18 -1.01064569e-02 -4.90849204e-02 ...  1.76697117e-01\n",
            "   1.94547053e-02 -6.69693895e-03]\n",
            " [-1.68358559e-18  1.83420720e-02  1.26475543e-01 ...  2.32084163e-01\n",
            "   1.67026563e-01  3.48043832e-02]\n",
            " ...\n",
            " [ 0.00000000e+00  4.27173158e-16 -3.24255744e-16 ...  1.11022302e-16\n",
            "  -5.55111512e-17  1.38777878e-16]\n",
            " [ 0.00000000e+00  5.01431234e-17 -9.75867742e-17 ... -6.93889390e-17\n",
            "   5.55111512e-17 -3.46944695e-18]\n",
            " [ 1.00000000e+00 -1.68983002e-17  5.73338351e-18 ...  8.66631300e-18\n",
            "  -1.57615962e-17  4.07058917e-18]]\n"
          ],
          "name": "stdout"
        }
      ]
    },
    {
      "cell_type": "code",
      "metadata": {
        "id": "z_eFgzdQrZs4",
        "colab_type": "code",
        "colab": {
          "base_uri": "https://localhost:8080/",
          "height": 225
        },
        "outputId": "f7266102-443f-4162-eb60-aeb337dddfb3"
      },
      "source": [
        "from tempfile import mkdtemp\n",
        "from shutil import rmtree\n",
        "\n",
        "cachedir = mkdtemp()\n",
        "pca2=PCA()\n",
        "svm2 = SVC(gamma='scale')\n",
        "cached_pipe = Pipeline([('reduce_dim', pca2), ('clf', svm2)], memory=cachedir)\n",
        "cached_pipe.fit(digits.data, digits.target)"
      ],
      "execution_count": 16,
      "outputs": [
        {
          "output_type": "execute_result",
          "data": {
            "text/plain": [
              "Pipeline(memory='/tmp/tmpn_tial1r',\n",
              "         steps=[('reduce_dim',\n",
              "                 PCA(copy=True, iterated_power='auto', n_components=None,\n",
              "                     random_state=None, svd_solver='auto', tol=0.0,\n",
              "                     whiten=False)),\n",
              "                ('clf',\n",
              "                 SVC(C=1.0, cache_size=200, class_weight=None, coef0=0.0,\n",
              "                     decision_function_shape='ovr', degree=3, gamma='scale',\n",
              "                     kernel='rbf', max_iter=-1, probability=False,\n",
              "                     random_state=None, shrinking=True, tol=0.001,\n",
              "                     verbose=False))],\n",
              "         verbose=False)"
            ]
          },
          "metadata": {
            "tags": []
          },
          "execution_count": 16
        }
      ]
    },
    {
      "cell_type": "code",
      "metadata": {
        "id": "PTIZUTf_r7n8",
        "colab_type": "code",
        "colab": {
          "base_uri": "https://localhost:8080/",
          "height": 242
        },
        "outputId": "c28e3387-97cb-42d4-d109-6343c1396b45"
      },
      "source": [
        "# Cannot use print(pca2.components_) \n",
        "print(cached_pipe.named_steps['reduce_dim'].components_)"
      ],
      "execution_count": 18,
      "outputs": [
        {
          "output_type": "stream",
          "text": [
            "[[-1.77484909e-19 -1.73094651e-02 -2.23428835e-01 ... -8.94184677e-02\n",
            "  -3.65977111e-02 -1.14684954e-02]\n",
            " [ 3.27805401e-18 -1.01064569e-02 -4.90849204e-02 ...  1.76697117e-01\n",
            "   1.94547053e-02 -6.69693895e-03]\n",
            " [-1.68358559e-18  1.83420720e-02  1.26475543e-01 ...  2.32084163e-01\n",
            "   1.67026563e-01  3.48043832e-02]\n",
            " ...\n",
            " [ 0.00000000e+00  4.27173158e-16 -3.24255744e-16 ...  1.11022302e-16\n",
            "  -5.55111512e-17  1.38777878e-16]\n",
            " [ 0.00000000e+00  5.01431234e-17 -9.75867742e-17 ... -6.93889390e-17\n",
            "   5.55111512e-17 -3.46944695e-18]\n",
            " [ 1.00000000e+00 -1.68983002e-17  5.73338351e-18 ...  8.66631300e-18\n",
            "  -1.57615962e-17  4.07058917e-18]]\n"
          ],
          "name": "stdout"
        }
      ]
    },
    {
      "cell_type": "code",
      "metadata": {
        "id": "tKJekDuasM3m",
        "colab_type": "code",
        "colab": {}
      },
      "source": [
        "import numpy as np\n",
        "from sklearn.datasets import load_boston\n",
        "from sklearn.compose import TransformedTargetRegressor\n",
        "from sklearn.preprocessing import QuantileTransformer\n",
        "from sklearn.linear_model import LinearRegression\n",
        "from sklearn.model_selection import train_test_split"
      ],
      "execution_count": 0,
      "outputs": []
    },
    {
      "cell_type": "code",
      "metadata": {
        "id": "g6OEna_RtcYE",
        "colab_type": "code",
        "colab": {
          "base_uri": "https://localhost:8080/",
          "height": 104
        },
        "outputId": "13c06252-f311-4b5c-e1da-ae086bba82db"
      },
      "source": [
        "boston = load_boston()\n",
        "print(boston.feature_names)\n",
        "boston.data[1]"
      ],
      "execution_count": 22,
      "outputs": [
        {
          "output_type": "stream",
          "text": [
            "['CRIM' 'ZN' 'INDUS' 'CHAS' 'NOX' 'RM' 'AGE' 'DIS' 'RAD' 'TAX' 'PTRATIO'\n",
            " 'B' 'LSTAT']\n"
          ],
          "name": "stdout"
        },
        {
          "output_type": "execute_result",
          "data": {
            "text/plain": [
              "array([2.7310e-02, 0.0000e+00, 7.0700e+00, 0.0000e+00, 4.6900e-01,\n",
              "       6.4210e+00, 7.8900e+01, 4.9671e+00, 2.0000e+00, 2.4200e+02,\n",
              "       1.7800e+01, 3.9690e+02, 9.1400e+00])"
            ]
          },
          "metadata": {
            "tags": []
          },
          "execution_count": 22
        }
      ]
    },
    {
      "cell_type": "code",
      "metadata": {
        "id": "OhDD1kx2thHa",
        "colab_type": "code",
        "colab": {}
      },
      "source": [
        "X = boston.data\n",
        "y = boston.target"
      ],
      "execution_count": 0,
      "outputs": []
    },
    {
      "cell_type": "code",
      "metadata": {
        "id": "iGplMiiKt1Vu",
        "colab_type": "code",
        "colab": {
          "base_uri": "https://localhost:8080/",
          "height": 35
        },
        "outputId": "f4b25c13-35b0-44a1-84a0-f66e806f54ec"
      },
      "source": [
        "y[:5]"
      ],
      "execution_count": 24,
      "outputs": [
        {
          "output_type": "execute_result",
          "data": {
            "text/plain": [
              "array([24. , 21.6, 34.7, 33.4, 36.2])"
            ]
          },
          "metadata": {
            "tags": []
          },
          "execution_count": 24
        }
      ]
    },
    {
      "cell_type": "code",
      "metadata": {
        "id": "MymD8Zmot2wU",
        "colab_type": "code",
        "colab": {
          "base_uri": "https://localhost:8080/",
          "height": 89
        },
        "outputId": "0d45b1d1-7fe2-4bdc-80fe-855c411576a2"
      },
      "source": [
        "boston = load_boston()\n",
        "X = boston.data\n",
        "y = boston.target\n",
        "transformer = QuantileTransformer(output_distribution='normal') #This method transforms the features to follow a uniform or a normal distribution.\n",
        "regressor = LinearRegression()\n",
        "regr = TransformedTargetRegressor(regressor=regressor,\n",
        "                                  transformer=transformer)\n",
        "X_train, X_test, y_train, y_test = train_test_split(X, y, random_state=0)\n",
        "regr.fit(X_train, y_train) \n",
        "\n",
        "print('R2 score: {0:.2f}'.format(regr.score(X_test, y_test)))"
      ],
      "execution_count": 26,
      "outputs": [
        {
          "output_type": "stream",
          "text": [
            "R2 score: 0.67\n"
          ],
          "name": "stdout"
        },
        {
          "output_type": "stream",
          "text": [
            "/usr/local/lib/python3.6/dist-packages/sklearn/preprocessing/data.py:2239: UserWarning: n_quantiles (1000) is greater than the total number of samples (379). n_quantiles is set to n_samples.\n",
            "  % (self.n_quantiles, n_samples))\n"
          ],
          "name": "stderr"
        }
      ]
    },
    {
      "cell_type": "code",
      "metadata": {
        "id": "4fsBojxsu63X",
        "colab_type": "code",
        "colab": {
          "base_uri": "https://localhost:8080/",
          "height": 35
        },
        "outputId": "eff32a09-022b-4dde-d87c-8defb9d22850"
      },
      "source": [
        "simple_linear = LinearRegression().fit(X_train, y_train)\n",
        "print(\"R2 score: {0:.2f}\".format(simple_linear.score(X_test, y_test)))"
      ],
      "execution_count": 28,
      "outputs": [
        {
          "output_type": "stream",
          "text": [
            "R2 score: 0.64\n"
          ],
          "name": "stdout"
        }
      ]
    },
    {
      "cell_type": "code",
      "metadata": {
        "id": "PDrTuKDKvWc_",
        "colab_type": "code",
        "colab": {}
      },
      "source": [
        "\"FeatureUnion : combines several transformer objects into a new transformer that combines their output\""
      ],
      "execution_count": 0,
      "outputs": []
    },
    {
      "cell_type": "code",
      "metadata": {
        "id": "kJNY02tXviFa",
        "colab_type": "code",
        "colab": {
          "base_uri": "https://localhost:8080/",
          "height": 276
        },
        "outputId": "cbaa40cb-74bc-492b-c947-f48c41905d5f"
      },
      "source": [
        "from sklearn.pipeline import FeatureUnion\n",
        "from sklearn.decomposition import PCA\n",
        "from sklearn.decomposition import KernelPCA\n",
        "estimators = [('linear_pca', PCA()), ('kernel_pca', KernelPCA())]\n",
        "combined = FeatureUnion(estimators)\n",
        "combined \n"
      ],
      "execution_count": 31,
      "outputs": [
        {
          "output_type": "execute_result",
          "data": {
            "text/plain": [
              "FeatureUnion(n_jobs=None,\n",
              "             transformer_list=[('linear_pca',\n",
              "                                PCA(copy=True, iterated_power='auto',\n",
              "                                    n_components=None, random_state=None,\n",
              "                                    svd_solver='auto', tol=0.0, whiten=False)),\n",
              "                               ('kernel_pca',\n",
              "                                KernelPCA(alpha=1.0, coef0=1, copy_X=True,\n",
              "                                          degree=3, eigen_solver='auto',\n",
              "                                          fit_inverse_transform=False,\n",
              "                                          gamma=None, kernel='linear',\n",
              "                                          kernel_params=None, max_iter=None,\n",
              "                                          n_components=None, n_jobs=None,\n",
              "                                          random_state=None,\n",
              "                                          remove_zero_eig=False, tol=0))],\n",
              "             transformer_weights=None, verbose=False)"
            ]
          },
          "metadata": {
            "tags": []
          },
          "execution_count": 31
        }
      ]
    },
    {
      "cell_type": "code",
      "metadata": {
        "id": "dH4mgxa_VwXf",
        "colab_type": "code",
        "colab": {}
      },
      "source": [
        "import pandas as pd\n",
        "X = pd.DataFrame(\n",
        "    {'city': ['London', 'London', 'Paris', 'Sallisaw'],\n",
        "     'title': [\"His Last Bow\", \"How Watson Learned the Trick\",\n",
        "               \"A Moveable Feast\", \"The Grapes of Wrath\"],\n",
        "     'expert_rating': [5, 3, 4, 5],\n",
        "     'user_rating': [4, 5, 4, 3]})"
      ],
      "execution_count": 0,
      "outputs": []
    },
    {
      "cell_type": "code",
      "metadata": {
        "id": "woG7_f1LWKmh",
        "colab_type": "code",
        "colab": {}
      },
      "source": [
        "from sklearn.compose import ColumnTransformer\n",
        "from sklearn.feature_extraction.text import CountVectorizer\n",
        "from sklearn.preprocessing import OneHotEncoder\n",
        "\n",
        "column_trans= ColumnTransformer(\n",
        "    [\n",
        "        ('city_category', OneHotEncoder(dtype='int'), ['city']),\n",
        "        ('title_bow', CountVectorizer(), 'title')\n",
        "    ],\n",
        "    remainder='drop'\n",
        ")"
      ],
      "execution_count": 0,
      "outputs": []
    },
    {
      "cell_type": "code",
      "metadata": {
        "id": "iA8SaQxpXp8j",
        "colab_type": "code",
        "colab": {
          "base_uri": "https://localhost:8080/",
          "height": 466
        },
        "outputId": "890069d6-c676-4935-dcfd-0e1ef29661db"
      },
      "source": [
        "column_trans.fit(X)"
      ],
      "execution_count": 34,
      "outputs": [
        {
          "output_type": "execute_result",
          "data": {
            "text/plain": [
              "ColumnTransformer(n_jobs=None, remainder='drop', sparse_threshold=0.3,\n",
              "                  transformer_weights=None,\n",
              "                  transformers=[('city_category',\n",
              "                                 OneHotEncoder(categorical_features=None,\n",
              "                                               categories=None, drop=None,\n",
              "                                               dtype='int',\n",
              "                                               handle_unknown='error',\n",
              "                                               n_values=None, sparse=True),\n",
              "                                 ['city']),\n",
              "                                ('title_bow',\n",
              "                                 CountVectorizer(analyzer='word', binary=False,\n",
              "                                                 decode_error='strict',\n",
              "                                                 dtype=<class 'numpy.int64'>,\n",
              "                                                 encoding='utf-8',\n",
              "                                                 input='content',\n",
              "                                                 lowercase=True, max_df=1.0,\n",
              "                                                 max_features=None, min_df=1,\n",
              "                                                 ngram_range=(1, 1),\n",
              "                                                 preprocessor=None,\n",
              "                                                 stop_words=None,\n",
              "                                                 strip_accents=None,\n",
              "                                                 token_pattern='(?u)\\\\b\\\\w\\\\w+\\\\b',\n",
              "                                                 tokenizer=None,\n",
              "                                                 vocabulary=None),\n",
              "                                 'title')],\n",
              "                  verbose=False)"
            ]
          },
          "metadata": {
            "tags": []
          },
          "execution_count": 34
        }
      ]
    },
    {
      "cell_type": "code",
      "metadata": {
        "id": "3616FY6oXuP_",
        "colab_type": "code",
        "colab": {
          "base_uri": "https://localhost:8080/",
          "height": 294
        },
        "outputId": "82cfba6b-e25c-44b1-d292-396eaa8b5f1a"
      },
      "source": [
        "column_trans.get_feature_names()"
      ],
      "execution_count": 35,
      "outputs": [
        {
          "output_type": "execute_result",
          "data": {
            "text/plain": [
              "['city_category__x0_London',\n",
              " 'city_category__x0_Paris',\n",
              " 'city_category__x0_Sallisaw',\n",
              " 'title_bow__bow',\n",
              " 'title_bow__feast',\n",
              " 'title_bow__grapes',\n",
              " 'title_bow__his',\n",
              " 'title_bow__how',\n",
              " 'title_bow__last',\n",
              " 'title_bow__learned',\n",
              " 'title_bow__moveable',\n",
              " 'title_bow__of',\n",
              " 'title_bow__the',\n",
              " 'title_bow__trick',\n",
              " 'title_bow__watson',\n",
              " 'title_bow__wrath']"
            ]
          },
          "metadata": {
            "tags": []
          },
          "execution_count": 35
        }
      ]
    },
    {
      "cell_type": "code",
      "metadata": {
        "id": "kIb8H8sSX4Dc",
        "colab_type": "code",
        "colab": {
          "base_uri": "https://localhost:8080/",
          "height": 86
        },
        "outputId": "30a37f4c-75f3-4b0e-f0e4-5aef3a953401"
      },
      "source": [
        "column_trans.transform(X).toarray()"
      ],
      "execution_count": 37,
      "outputs": [
        {
          "output_type": "execute_result",
          "data": {
            "text/plain": [
              "array([[1, 0, 0, 1, 0, 0, 1, 0, 1, 0, 0, 0, 0, 0, 0, 0],\n",
              "       [1, 0, 0, 0, 0, 0, 0, 1, 0, 1, 0, 0, 1, 1, 1, 0],\n",
              "       [0, 1, 0, 0, 1, 0, 0, 0, 0, 0, 1, 0, 0, 0, 0, 0],\n",
              "       [0, 0, 1, 0, 0, 1, 0, 0, 0, 0, 0, 1, 1, 0, 0, 1]], dtype=int64)"
            ]
          },
          "metadata": {
            "tags": []
          },
          "execution_count": 37
        }
      ]
    },
    {
      "cell_type": "code",
      "metadata": {
        "id": "2-L5kVyTYW0P",
        "colab_type": "code",
        "colab": {
          "base_uri": "https://localhost:8080/",
          "height": 86
        },
        "outputId": "e237108a-172c-4bab-9201-d5e98e5bac92"
      },
      "source": [
        "column_trans= ColumnTransformer(\n",
        "    [\n",
        "        ('city_category', OneHotEncoder(dtype='int'), ['city']),\n",
        "        ('title_bow', CountVectorizer(), 'title')\n",
        "    ],\n",
        "    remainder='passthrough'\n",
        ")\n",
        "\n",
        "column_trans.fit(X)\n",
        "\n",
        "column_trans.transform(X)"
      ],
      "execution_count": 40,
      "outputs": [
        {
          "output_type": "execute_result",
          "data": {
            "text/plain": [
              "array([[1, 0, 0, 1, 0, 0, 1, 0, 1, 0, 0, 0, 0, 0, 0, 0, 5, 4],\n",
              "       [1, 0, 0, 0, 0, 0, 0, 1, 0, 1, 0, 0, 1, 1, 1, 0, 3, 5],\n",
              "       [0, 1, 0, 0, 1, 0, 0, 0, 0, 0, 1, 0, 0, 0, 0, 0, 4, 4],\n",
              "       [0, 0, 1, 0, 0, 1, 0, 0, 0, 0, 0, 1, 1, 0, 0, 1, 5, 3]])"
            ]
          },
          "metadata": {
            "tags": []
          },
          "execution_count": 40
        }
      ]
    },
    {
      "cell_type": "code",
      "metadata": {
        "id": "BQsO2_YlYxoD",
        "colab_type": "code",
        "colab": {}
      },
      "source": [
        "\"\"\"\n",
        "Feature Extraction: transforming arbitrary data text, images into numerical features\n",
        "\n",
        "DictVectorizer implements one-of-k or one hot encoding for categorical features\n",
        "\n",
        "\"\"\""
      ],
      "execution_count": 0,
      "outputs": []
    },
    {
      "cell_type": "code",
      "metadata": {
        "id": "WfQodKDBaLWS",
        "colab_type": "code",
        "colab": {
          "base_uri": "https://localhost:8080/",
          "height": 69
        },
        "outputId": "866c6449-dbc9-465c-8181-819974fad442"
      },
      "source": [
        "measurements = [\n",
        "    {'city': 'Dubai', 'temperature': 33.},\n",
        "    {'city': 'London', 'temperature': 12.},\n",
        "    {'city': 'San Francisco', 'temperature': 18.},\n",
        "]\n",
        "\n",
        "from sklearn.feature_extraction import DictVectorizer\n",
        "vec = DictVectorizer()\n",
        "\n",
        "vec.fit_transform(measurements).toarray()"
      ],
      "execution_count": 41,
      "outputs": [
        {
          "output_type": "execute_result",
          "data": {
            "text/plain": [
              "array([[ 1.,  0.,  0., 33.],\n",
              "       [ 0.,  1.,  0., 12.],\n",
              "       [ 0.,  0.,  1., 18.]])"
            ]
          },
          "metadata": {
            "tags": []
          },
          "execution_count": 41
        }
      ]
    },
    {
      "cell_type": "code",
      "metadata": {
        "id": "dZUQHL7RagYG",
        "colab_type": "code",
        "colab": {
          "base_uri": "https://localhost:8080/",
          "height": 35
        },
        "outputId": "2209732c-440d-4175-926e-f037a9e64048"
      },
      "source": [
        "vec.get_feature_names()"
      ],
      "execution_count": 42,
      "outputs": [
        {
          "output_type": "execute_result",
          "data": {
            "text/plain": [
              "['city=Dubai', 'city=London', 'city=San Francisco', 'temperature']"
            ]
          },
          "metadata": {
            "tags": []
          },
          "execution_count": 42
        }
      ]
    },
    {
      "cell_type": "code",
      "metadata": {
        "id": "Qgklgs7VajVU",
        "colab_type": "code",
        "colab": {}
      },
      "source": [
        "pos_window = [\n",
        "    {\n",
        "        'word-2': 'the',\n",
        "        'pos-2': 'DT',\n",
        "        'word-1': 'cat',\n",
        "        'pos-1': 'NN',\n",
        "        'word+1': 'on',\n",
        "        'pos+1': 'PP',\n",
        "    },\n",
        "    # in a real application one would extract many such dictionaries\n",
        "]"
      ],
      "execution_count": 0,
      "outputs": []
    },
    {
      "cell_type": "code",
      "metadata": {
        "id": "5TYFoWLaaw5c",
        "colab_type": "code",
        "colab": {
          "base_uri": "https://localhost:8080/",
          "height": 35
        },
        "outputId": "6e960035-416a-497e-f096-a69b5fdbef73"
      },
      "source": [
        "vec = DictVectorizer()\n",
        "pos_vectorized= vec.fit_transform(pos_window)\n",
        "\n",
        "pos_vectorized.toarray()"
      ],
      "execution_count": 44,
      "outputs": [
        {
          "output_type": "execute_result",
          "data": {
            "text/plain": [
              "array([[1., 1., 1., 1., 1., 1.]])"
            ]
          },
          "metadata": {
            "tags": []
          },
          "execution_count": 44
        }
      ]
    },
    {
      "cell_type": "code",
      "metadata": {
        "id": "GATusGZDboc7",
        "colab_type": "code",
        "colab": {}
      },
      "source": [
        "from sklearn.feature_extraction.text import CountVectorizer"
      ],
      "execution_count": 0,
      "outputs": []
    },
    {
      "cell_type": "code",
      "metadata": {
        "id": "INaqImkkf1UW",
        "colab_type": "code",
        "colab": {
          "base_uri": "https://localhost:8080/",
          "height": 121
        },
        "outputId": "f235a019-4654-430d-f3fc-9f0a697dede1"
      },
      "source": [
        "vectorizer = CountVectorizer()\n",
        "vectorizer"
      ],
      "execution_count": 46,
      "outputs": [
        {
          "output_type": "execute_result",
          "data": {
            "text/plain": [
              "CountVectorizer(analyzer='word', binary=False, decode_error='strict',\n",
              "                dtype=<class 'numpy.int64'>, encoding='utf-8', input='content',\n",
              "                lowercase=True, max_df=1.0, max_features=None, min_df=1,\n",
              "                ngram_range=(1, 1), preprocessor=None, stop_words=None,\n",
              "                strip_accents=None, token_pattern='(?u)\\\\b\\\\w\\\\w+\\\\b',\n",
              "                tokenizer=None, vocabulary=None)"
            ]
          },
          "metadata": {
            "tags": []
          },
          "execution_count": 46
        }
      ]
    },
    {
      "cell_type": "code",
      "metadata": {
        "id": "hzbbCuuSf5nh",
        "colab_type": "code",
        "colab": {
          "base_uri": "https://localhost:8080/",
          "height": 52
        },
        "outputId": "81925003-2fff-4aee-ad61-4cd3b7dc074b"
      },
      "source": [
        "corpus = [\n",
        "    'This is the first document.',\n",
        "    'This is the second second document.',\n",
        "    'And the third one.',\n",
        "    'Is this the first document?',\n",
        "]\n",
        "\n",
        "X = vectorizer.fit_transform(corpus)\n",
        "X"
      ],
      "execution_count": 47,
      "outputs": [
        {
          "output_type": "execute_result",
          "data": {
            "text/plain": [
              "<4x9 sparse matrix of type '<class 'numpy.int64'>'\n",
              "\twith 19 stored elements in Compressed Sparse Row format>"
            ]
          },
          "metadata": {
            "tags": []
          },
          "execution_count": 47
        }
      ]
    },
    {
      "cell_type": "code",
      "metadata": {
        "id": "RPZhXamhgJUs",
        "colab_type": "code",
        "colab": {
          "base_uri": "https://localhost:8080/",
          "height": 35
        },
        "outputId": "e7b36ee8-8f28-4c58-f142-9c6ff2cf9d49"
      },
      "source": [
        "analyze = vectorizer.build_analyzer()\n",
        "\n",
        "analyze(\"This is a text document to analyze.\") == (\n",
        "    ['this', 'is', 'text', 'document', 'to', 'analyze'])"
      ],
      "execution_count": 48,
      "outputs": [
        {
          "output_type": "execute_result",
          "data": {
            "text/plain": [
              "True"
            ]
          },
          "metadata": {
            "tags": []
          },
          "execution_count": 48
        }
      ]
    },
    {
      "cell_type": "code",
      "metadata": {
        "id": "QoL9cOW_gXFL",
        "colab_type": "code",
        "colab": {
          "base_uri": "https://localhost:8080/",
          "height": 86
        },
        "outputId": "583426e7-7f0b-4878-ecbd-984ee92ea63e"
      },
      "source": [
        "X.toarray()"
      ],
      "execution_count": 49,
      "outputs": [
        {
          "output_type": "execute_result",
          "data": {
            "text/plain": [
              "array([[0, 1, 1, 1, 0, 0, 1, 0, 1],\n",
              "       [0, 1, 0, 1, 0, 2, 1, 0, 1],\n",
              "       [1, 0, 0, 0, 1, 0, 1, 1, 0],\n",
              "       [0, 1, 1, 1, 0, 0, 1, 0, 1]])"
            ]
          },
          "metadata": {
            "tags": []
          },
          "execution_count": 49
        }
      ]
    },
    {
      "cell_type": "code",
      "metadata": {
        "id": "ElkiU0ZcgcKQ",
        "colab_type": "code",
        "colab": {
          "base_uri": "https://localhost:8080/",
          "height": 35
        },
        "outputId": "5add442f-f46f-47f8-b77a-6624e6f7c469"
      },
      "source": [
        "vectorizer.transform(['document is first third second']).toarray()"
      ],
      "execution_count": 51,
      "outputs": [
        {
          "output_type": "execute_result",
          "data": {
            "text/plain": [
              "array([[0, 1, 1, 1, 0, 1, 0, 1, 0]])"
            ]
          },
          "metadata": {
            "tags": []
          },
          "execution_count": 51
        }
      ]
    },
    {
      "cell_type": "code",
      "metadata": {
        "id": "Cha7VKhUhOQH",
        "colab_type": "code",
        "colab": {
          "base_uri": "https://localhost:8080/",
          "height": 35
        },
        "outputId": "ee3be09d-8338-4ead-ba44-5892f731ccbf"
      },
      "source": [
        "bigram_vectorizer = CountVectorizer(\n",
        "    ngram_range=(1, 2),\n",
        "    token_pattern=r'\\b\\w+\\b', \n",
        "    min_df=1)\n",
        "\n",
        "analyzer = bigram_vectorizer.build_analyzer()\n",
        "\n",
        "analyzer('Bi-gram are cool!')"
      ],
      "execution_count": 52,
      "outputs": [
        {
          "output_type": "execute_result",
          "data": {
            "text/plain": [
              "['bi', 'gram', 'are', 'cool', 'bi gram', 'gram are', 'are cool']"
            ]
          },
          "metadata": {
            "tags": []
          },
          "execution_count": 52
        }
      ]
    },
    {
      "cell_type": "code",
      "metadata": {
        "id": "4xFzWtkDiVye",
        "colab_type": "code",
        "colab": {
          "base_uri": "https://localhost:8080/",
          "height": 86
        },
        "outputId": "29ee64da-5b7c-43fb-870a-f38ff1d682b3"
      },
      "source": [
        "bigram_vectorizer.fit_transform(corpus).toarray()"
      ],
      "execution_count": 53,
      "outputs": [
        {
          "output_type": "execute_result",
          "data": {
            "text/plain": [
              "array([[0, 0, 1, 1, 1, 1, 1, 0, 0, 0, 0, 0, 1, 1, 0, 0, 0, 0, 1, 1, 0],\n",
              "       [0, 0, 1, 0, 0, 1, 1, 0, 0, 2, 1, 1, 1, 0, 1, 0, 0, 0, 1, 1, 0],\n",
              "       [1, 1, 0, 0, 0, 0, 0, 0, 1, 0, 0, 0, 1, 0, 0, 1, 1, 1, 0, 0, 0],\n",
              "       [0, 0, 1, 1, 1, 1, 0, 1, 0, 0, 0, 0, 1, 1, 0, 0, 0, 0, 1, 0, 1]])"
            ]
          },
          "metadata": {
            "tags": []
          },
          "execution_count": 53
        }
      ]
    },
    {
      "cell_type": "code",
      "metadata": {
        "id": "wz-UnASxikKA",
        "colab_type": "code",
        "colab": {
          "base_uri": "https://localhost:8080/",
          "height": 35
        },
        "outputId": "fa772d47-7f71-402c-fe89-52341a9dba63"
      },
      "source": [
        "from sklearn.feature_extraction.text import TfidfTransformer\n",
        "transformer = TfidfTransformer(smooth_idf=False)\n",
        "transformer"
      ],
      "execution_count": 1,
      "outputs": [
        {
          "output_type": "execute_result",
          "data": {
            "text/plain": [
              "TfidfTransformer(norm='l2', smooth_idf=False, sublinear_tf=False, use_idf=True)"
            ]
          },
          "metadata": {
            "tags": []
          },
          "execution_count": 1
        }
      ]
    },
    {
      "cell_type": "code",
      "metadata": {
        "id": "x_Qt4elimTVH",
        "colab_type": "code",
        "colab": {
          "base_uri": "https://localhost:8080/",
          "height": 52
        },
        "outputId": "51b08c81-f052-4b96-fc04-c18b9d616996"
      },
      "source": [
        "counts = [[3, 0, 1],\n",
        "          [2, 0, 0],\n",
        "          [3, 0, 0],\n",
        "          [4, 0, 0],\n",
        "          [3, 2, 0],\n",
        "          [3, 0, 2]]\n",
        "\n",
        "tfidf = transformer.fit_transform(counts)\n",
        "tfidf\n"
      ],
      "execution_count": 2,
      "outputs": [
        {
          "output_type": "execute_result",
          "data": {
            "text/plain": [
              "<6x3 sparse matrix of type '<class 'numpy.float64'>'\n",
              "\twith 9 stored elements in Compressed Sparse Row format>"
            ]
          },
          "metadata": {
            "tags": []
          },
          "execution_count": 2
        }
      ]
    },
    {
      "cell_type": "code",
      "metadata": {
        "id": "ErxYO4DtVKxi",
        "colab_type": "code",
        "colab": {
          "base_uri": "https://localhost:8080/",
          "height": 121
        },
        "outputId": "3f6d3837-ea2b-4340-a3cd-e897caf43cd5"
      },
      "source": [
        "tfidf.toarray()"
      ],
      "execution_count": 3,
      "outputs": [
        {
          "output_type": "execute_result",
          "data": {
            "text/plain": [
              "array([[0.81940995, 0.        , 0.57320793],\n",
              "       [1.        , 0.        , 0.        ],\n",
              "       [1.        , 0.        , 0.        ],\n",
              "       [1.        , 0.        , 0.        ],\n",
              "       [0.47330339, 0.88089948, 0.        ],\n",
              "       [0.58149261, 0.        , 0.81355169]])"
            ]
          },
          "metadata": {
            "tags": []
          },
          "execution_count": 3
        }
      ]
    },
    {
      "cell_type": "code",
      "metadata": {
        "id": "-Tla_CJeVN7V",
        "colab_type": "code",
        "colab": {
          "base_uri": "https://localhost:8080/",
          "height": 35
        },
        "outputId": "62ee16e1-e3e5-463f-dae0-146284bd7ed6"
      },
      "source": [
        "ngram_vectorize = CountVectorizer(analyzer='char_wb', ngram_range=(2, 2))\n",
        "counts = ngram_vectorize.fit_transform(['words', 'wprds'])\n",
        "ngram_vectorize.get_feature_names()"
      ],
      "execution_count": 6,
      "outputs": [
        {
          "output_type": "execute_result",
          "data": {
            "text/plain": [
              "[' w', 'ds', 'or', 'pr', 'rd', 's ', 'wo', 'wp']"
            ]
          },
          "metadata": {
            "tags": []
          },
          "execution_count": 6
        }
      ]
    },
    {
      "cell_type": "code",
      "metadata": {
        "id": "jtHEd635cRFV",
        "colab_type": "code",
        "colab": {
          "base_uri": "https://localhost:8080/",
          "height": 52
        },
        "outputId": "6e811210-b2a6-41fc-cc91-abbeb5747c69"
      },
      "source": [
        "counts.toarray()"
      ],
      "execution_count": 8,
      "outputs": [
        {
          "output_type": "execute_result",
          "data": {
            "text/plain": [
              "array([[1, 1, 1, 0, 1, 1, 1, 0],\n",
              "       [1, 1, 0, 1, 1, 1, 0, 1]])"
            ]
          },
          "metadata": {
            "tags": []
          },
          "execution_count": 8
        }
      ]
    },
    {
      "cell_type": "code",
      "metadata": {
        "id": "86TzfMmscW7t",
        "colab_type": "code",
        "colab": {
          "base_uri": "https://localhost:8080/",
          "height": 35
        },
        "outputId": "44edad6d-92ba-4f82-9f1e-1d801bdaa8bd"
      },
      "source": [
        "ngram_vectorize = CountVectorizer(analyzer='char', ngram_range=(2, 2))\n",
        "count = ngram_vectorize.fit_transform(['words', 'wprds'])\n",
        "ngram_vectorize.get_feature_names()"
      ],
      "execution_count": 9,
      "outputs": [
        {
          "output_type": "execute_result",
          "data": {
            "text/plain": [
              "['ds', 'or', 'pr', 'rd', 'wo', 'wp']"
            ]
          },
          "metadata": {
            "tags": []
          },
          "execution_count": 9
        }
      ]
    },
    {
      "cell_type": "code",
      "metadata": {
        "id": "lCIcgeuBczne",
        "colab_type": "code",
        "colab": {
          "base_uri": "https://localhost:8080/",
          "height": 52
        },
        "outputId": "aeceac03-811e-4284-ee29-1b7794e93f84"
      },
      "source": [
        "counts.toarray()"
      ],
      "execution_count": 10,
      "outputs": [
        {
          "output_type": "execute_result",
          "data": {
            "text/plain": [
              "array([[1, 1, 1, 0, 1, 1, 1, 0],\n",
              "       [1, 1, 0, 1, 1, 1, 0, 1]])"
            ]
          },
          "metadata": {
            "tags": []
          },
          "execution_count": 10
        }
      ]
    },
    {
      "cell_type": "code",
      "metadata": {
        "id": "hf_g9SRUdIpA",
        "colab_type": "code",
        "colab": {}
      },
      "source": [
        "from nltk import word_tokenize\n",
        "from nltk.stem import WordNetLemmatizer\n",
        "\n",
        "class LemmaTokenizer(object):\n",
        "  def __init__(self):\n",
        "    self.wnl = WordNetLemmatizer()\n",
        "  def __call__(self, doc):\n",
        "    return [self.wnl.lemmatize(t) for t in word_tokenize(doc)]"
      ],
      "execution_count": 0,
      "outputs": []
    },
    {
      "cell_type": "code",
      "metadata": {
        "id": "EfWrX6Pfe8qP",
        "colab_type": "code",
        "colab": {}
      },
      "source": [
        "vect = CountVectorizer(tokenizer=LemmaTokenizer())\n",
        "vcount = vect.fit_transform([\"sklearn is amazing library\"])\n",
        "vect.get_feature_names()"
      ],
      "execution_count": 0,
      "outputs": []
    },
    {
      "cell_type": "code",
      "metadata": {
        "id": "0SEpGkX9fbqn",
        "colab_type": "code",
        "colab": {}
      },
      "source": [
        "\"Feature Selection: Done to either to improve estimators’ accuracy scores or to boost their performance on very high-dimensional datasets\""
      ],
      "execution_count": 0,
      "outputs": []
    },
    {
      "cell_type": "code",
      "metadata": {
        "id": "N9PnzFiMgBcU",
        "colab_type": "code",
        "colab": {
          "base_uri": "https://localhost:8080/",
          "height": 121
        },
        "outputId": "7f6d4a98-a999-4ae5-8628-27a2f5fd40e7"
      },
      "source": [
        "from sklearn.feature_selection import VarianceThreshold\n",
        "X = [[0, 0, 1], [0, 1, 0], [1, 0, 0], [0, 1, 1], [0, 1, 0], [0, 1, 1]]\n",
        "\n",
        "sel = VarianceThreshold(threshold=(0.8 * (1 - 0.8)))\n",
        "sel.fit_transform(X)"
      ],
      "execution_count": 16,
      "outputs": [
        {
          "output_type": "execute_result",
          "data": {
            "text/plain": [
              "array([[0, 1],\n",
              "       [1, 0],\n",
              "       [0, 0],\n",
              "       [1, 1],\n",
              "       [1, 0],\n",
              "       [1, 1]])"
            ]
          },
          "metadata": {
            "tags": []
          },
          "execution_count": 16
        }
      ]
    },
    {
      "cell_type": "code",
      "metadata": {
        "id": "JB6V9CzlglZ6",
        "colab_type": "code",
        "colab": {
          "base_uri": "https://localhost:8080/",
          "height": 35
        },
        "outputId": "bb6f142c-6573-44eb-a3cf-0b012d2d0511"
      },
      "source": [
        "from sklearn.datasets import load_iris\n",
        "from sklearn.feature_selection import SelectKBest\n",
        "from sklearn.feature_selection import chi2\n",
        "iris = load_iris()\n",
        "\n",
        "X, y = iris.data, iris.target\n",
        "X.shape"
      ],
      "execution_count": 18,
      "outputs": [
        {
          "output_type": "execute_result",
          "data": {
            "text/plain": [
              "(150, 4)"
            ]
          },
          "metadata": {
            "tags": []
          },
          "execution_count": 18
        }
      ]
    },
    {
      "cell_type": "code",
      "metadata": {
        "id": "c9n2QtCOhvk-",
        "colab_type": "code",
        "colab": {
          "base_uri": "https://localhost:8080/",
          "height": 35
        },
        "outputId": "b2ec5363-627e-4ae4-faa4-85ff3b86dc31"
      },
      "source": [
        "X_new = SelectKBest(chi2, k=2).fit_transform(X, y)\n",
        "X_new.shape"
      ],
      "execution_count": 20,
      "outputs": [
        {
          "output_type": "execute_result",
          "data": {
            "text/plain": [
              "(150, 2)"
            ]
          },
          "metadata": {
            "tags": []
          },
          "execution_count": 20
        }
      ]
    },
    {
      "cell_type": "code",
      "metadata": {
        "id": "ayusdDrHh8d2",
        "colab_type": "code",
        "colab": {
          "base_uri": "https://localhost:8080/",
          "height": 35
        },
        "outputId": "7e0cdf76-c52f-4f92-ec90-4cb6feef2c99"
      },
      "source": [
        "\"\"\"\n",
        "SelectFromModel:\n",
        "The features are considered unimportant and removed, if the corresponding \n",
        "coef_ or feature_importances_ values are below the provided threshold parameter. \n",
        "Apart from specifying the threshold numerically, there are built-in heuristics \n",
        "for finding a threshold using a string argument.\n",
        "\"\"\"\n",
        "from sklearn.svm import LinearSVC\n",
        "from sklearn.datasets import load_iris\n",
        "from sklearn.feature_selection import SelectFromModel\n",
        "iris = load_iris()\n",
        "X, y = iris.data, iris.target\n",
        "lsvc = LinearSVC(C=0.01, penalty=\"l1\", dual=False).fit(X, y)\n",
        "model = SelectFromModel(lsvc, prefit=True)\n",
        "X_new = model.transform(X)\n",
        "X_new.shape"
      ],
      "execution_count": 23,
      "outputs": [
        {
          "output_type": "execute_result",
          "data": {
            "text/plain": [
              "(150, 3)"
            ]
          },
          "metadata": {
            "tags": []
          },
          "execution_count": 23
        }
      ]
    },
    {
      "cell_type": "code",
      "metadata": {
        "id": "NQvhsjpcj25k",
        "colab_type": "code",
        "colab": {
          "base_uri": "https://localhost:8080/",
          "height": 35
        },
        "outputId": "af4f794e-d1ee-4c40-c5b3-580b50d3b49f"
      },
      "source": [
        "from sklearn.ensemble import ExtraTreesClassifier\n",
        "from sklearn.datasets import load_iris\n",
        "from sklearn.feature_selection import SelectFromModel\n",
        "\n",
        "iris = load_iris()\n",
        "X, y = iris.data, iris.target\n",
        "clf = ExtraTreesClassifier(n_estimators=50)\n",
        "clf = clf.fit(X,y)\n",
        "\n",
        "clf.feature_importances_"
      ],
      "execution_count": 25,
      "outputs": [
        {
          "output_type": "execute_result",
          "data": {
            "text/plain": [
              "array([0.07244104, 0.04880842, 0.42827602, 0.45047452])"
            ]
          },
          "metadata": {
            "tags": []
          },
          "execution_count": 25
        }
      ]
    },
    {
      "cell_type": "code",
      "metadata": {
        "id": "UjjkC1iElTrd",
        "colab_type": "code",
        "colab": {
          "base_uri": "https://localhost:8080/",
          "height": 35
        },
        "outputId": "96433b56-ce77-4472-cab2-486b65a13425"
      },
      "source": [
        "model = SelectFromModel(clf, prefit=True)\n",
        "X_new = model.transform(X)\n",
        "\n",
        "X_new.shape"
      ],
      "execution_count": 26,
      "outputs": [
        {
          "output_type": "execute_result",
          "data": {
            "text/plain": [
              "(150, 2)"
            ]
          },
          "metadata": {
            "tags": []
          },
          "execution_count": 26
        }
      ]
    },
    {
      "cell_type": "code",
      "metadata": {
        "id": "am7WF_SQlkYU",
        "colab_type": "code",
        "colab": {
          "base_uri": "https://localhost:8080/",
          "height": 538
        },
        "outputId": "265aaae6-33e1-4fd5-8a09-eb8b5cb0d2e4"
      },
      "source": [
        "from sklearn.pipeline import Pipeline\n",
        "from sklearn.ensemble import RandomForestClassifier\n",
        "lsvc = LinearSVC(C=0.01, penalty=\"l1\", dual=False).fit(X, y)\n",
        "\n",
        "clf = Pipeline([\n",
        "    ('feature_selection', SelectFromModel(lsvc)),\n",
        "    ('classification', RandomForestClassifier())\n",
        "]\n",
        ")\n",
        "\n",
        "clf.fit(X,y)"
      ],
      "execution_count": 29,
      "outputs": [
        {
          "output_type": "stream",
          "text": [
            "/usr/local/lib/python3.6/dist-packages/sklearn/ensemble/forest.py:245: FutureWarning: The default value of n_estimators will change from 10 in version 0.20 to 100 in 0.22.\n",
            "  \"10 in version 0.20 to 100 in 0.22.\", FutureWarning)\n"
          ],
          "name": "stderr"
        },
        {
          "output_type": "execute_result",
          "data": {
            "text/plain": [
              "Pipeline(memory=None,\n",
              "         steps=[('feature_selection',\n",
              "                 SelectFromModel(estimator=LinearSVC(C=0.01, class_weight=None,\n",
              "                                                     dual=False,\n",
              "                                                     fit_intercept=True,\n",
              "                                                     intercept_scaling=1,\n",
              "                                                     loss='squared_hinge',\n",
              "                                                     max_iter=1000,\n",
              "                                                     multi_class='ovr',\n",
              "                                                     penalty='l1',\n",
              "                                                     random_state=None,\n",
              "                                                     tol=0.0001, verbose=0),\n",
              "                                 max_features=None, norm_order=1, prefit=False,\n",
              "                                 threshold=None)),\n",
              "                ('classification',\n",
              "                 RandomForestClassifier(bootstrap=True, class_weight=None,\n",
              "                                        criterion='gini', max_depth=None,\n",
              "                                        max_features='auto',\n",
              "                                        max_leaf_nodes=None,\n",
              "                                        min_impurity_decrease=0.0,\n",
              "                                        min_impurity_split=None,\n",
              "                                        min_samples_leaf=1, min_samples_split=2,\n",
              "                                        min_weight_fraction_leaf=0.0,\n",
              "                                        n_estimators=10, n_jobs=None,\n",
              "                                        oob_score=False, random_state=None,\n",
              "                                        verbose=0, warm_start=False))],\n",
              "         verbose=False)"
            ]
          },
          "metadata": {
            "tags": []
          },
          "execution_count": 29
        }
      ]
    },
    {
      "cell_type": "code",
      "metadata": {
        "id": "WWHYpz6amcNS",
        "colab_type": "code",
        "colab": {}
      },
      "source": [
        "\"\"\"\n",
        "The sklearn.preprocessing package provides several common utility functions and \n",
        "transformer classes to change raw feature vectors into a representation that is \n",
        "more suitable for the downstream estimators.\n",
        "\"\"\""
      ],
      "execution_count": 0,
      "outputs": []
    },
    {
      "cell_type": "code",
      "metadata": {
        "id": "Ffbk0Jrinfwv",
        "colab_type": "code",
        "colab": {
          "base_uri": "https://localhost:8080/",
          "height": 69
        },
        "outputId": "8db07807-7882-44bd-c8f4-2327350440f2"
      },
      "source": [
        "from sklearn import preprocessing\n",
        "import numpy as np\n",
        "X_train = np.array([[ 1., -1.,  2.],\n",
        "                    [ 2.,  0.,  0.],\n",
        "                    [ 0.,  1., -1.]])\n",
        "\n",
        "X_scaled = preprocessing.scale(X_train)\n",
        "\n",
        "X_scaled"
      ],
      "execution_count": 30,
      "outputs": [
        {
          "output_type": "execute_result",
          "data": {
            "text/plain": [
              "array([[ 0.        , -1.22474487,  1.33630621],\n",
              "       [ 1.22474487,  0.        , -0.26726124],\n",
              "       [-1.22474487,  1.22474487, -1.06904497]])"
            ]
          },
          "metadata": {
            "tags": []
          },
          "execution_count": 30
        }
      ]
    },
    {
      "cell_type": "code",
      "metadata": {
        "id": "1drJIxrwoT9L",
        "colab_type": "code",
        "colab": {
          "base_uri": "https://localhost:8080/",
          "height": 69
        },
        "outputId": "acc966a9-9c9c-4298-ceb6-8a49b869dcfa"
      },
      "source": [
        "scaler = preprocessing.StandardScaler().fit(X_train)\n",
        "\n",
        "scaler.transform(X_train)"
      ],
      "execution_count": 31,
      "outputs": [
        {
          "output_type": "execute_result",
          "data": {
            "text/plain": [
              "array([[ 0.        , -1.22474487,  1.33630621],\n",
              "       [ 1.22474487,  0.        , -0.26726124],\n",
              "       [-1.22474487,  1.22474487, -1.06904497]])"
            ]
          },
          "metadata": {
            "tags": []
          },
          "execution_count": 31
        }
      ]
    },
    {
      "cell_type": "code",
      "metadata": {
        "id": "Djn8IEPdofWw",
        "colab_type": "code",
        "colab": {
          "base_uri": "https://localhost:8080/",
          "height": 69
        },
        "outputId": "3f364ff0-4eff-481f-9bd2-01451d5cc7d2"
      },
      "source": [
        "min_max_scaler = preprocessing.MinMaxScaler()\n",
        "min_max_scaler.fit_transform(X_train)"
      ],
      "execution_count": 38,
      "outputs": [
        {
          "output_type": "execute_result",
          "data": {
            "text/plain": [
              "array([[0.5       , 0.        , 1.        ],\n",
              "       [1.        , 0.5       , 0.33333333],\n",
              "       [0.        , 1.        , 0.        ]])"
            ]
          },
          "metadata": {
            "tags": []
          },
          "execution_count": 38
        }
      ]
    },
    {
      "cell_type": "code",
      "metadata": {
        "id": "GoYrdR3mo5Fw",
        "colab_type": "code",
        "colab": {
          "base_uri": "https://localhost:8080/",
          "height": 35
        },
        "outputId": "8ab55f04-7b38-4d4a-85a2-6656035d3652"
      },
      "source": [
        "X_test = np.array([[-3, -1, 4]])\n",
        "min_max_scaler.transform(X_test)"
      ],
      "execution_count": 39,
      "outputs": [
        {
          "output_type": "execute_result",
          "data": {
            "text/plain": [
              "array([[-1.5       ,  0.        ,  1.66666667]])"
            ]
          },
          "metadata": {
            "tags": []
          },
          "execution_count": 39
        }
      ]
    },
    {
      "cell_type": "code",
      "metadata": {
        "id": "dE6q9tYcpkxY",
        "colab_type": "code",
        "colab": {
          "base_uri": "https://localhost:8080/",
          "height": 69
        },
        "outputId": "8d2be0cf-ad42-4919-9b87-dc75fb3b137b"
      },
      "source": [
        "\"\"\"\n",
        "MaxAbsScaler scales in a way that the training data lies within the range [-1, 1] \n",
        "by dividing through the largest maximum value in each feature. It is meant for \n",
        "data that is already centered at zero or sparse data.\n",
        "\"\"\"\n",
        "\n",
        "max_abs_scaler = preprocessing.MaxAbsScaler()\n",
        "max_abs_scaler.fit_transform(X_train)"
      ],
      "execution_count": 40,
      "outputs": [
        {
          "output_type": "execute_result",
          "data": {
            "text/plain": [
              "array([[ 0.5, -1. ,  1. ],\n",
              "       [ 1. ,  0. ,  0. ],\n",
              "       [ 0. ,  1. , -0.5]])"
            ]
          },
          "metadata": {
            "tags": []
          },
          "execution_count": 40
        }
      ]
    },
    {
      "cell_type": "code",
      "metadata": {
        "id": "gTno_HZnqr-1",
        "colab_type": "code",
        "colab": {
          "base_uri": "https://localhost:8080/",
          "height": 35
        },
        "outputId": "46a29f78-a820-4482-8428-a886848786ad"
      },
      "source": [
        "max_abs_scaler.transform(X_test)"
      ],
      "execution_count": 41,
      "outputs": [
        {
          "output_type": "execute_result",
          "data": {
            "text/plain": [
              "array([[-1.5, -1. ,  2. ]])"
            ]
          },
          "metadata": {
            "tags": []
          },
          "execution_count": 41
        }
      ]
    },
    {
      "cell_type": "code",
      "metadata": {
        "id": "C7Rzglbnqx3G",
        "colab_type": "code",
        "colab": {}
      },
      "source": [
        "\"\"\"\n",
        "Data contains many outliers, scaling using the mean and variance of the \n",
        "data is likely to not work very well.\"\"\""
      ],
      "execution_count": 0,
      "outputs": []
    },
    {
      "cell_type": "markdown",
      "metadata": {
        "id": "H8Ddr2pw_TnN",
        "colab_type": "text"
      },
      "source": [
        "Non Linear Transformation\n",
        "\n",
        "\n",
        "Quantile transforms put all features into the same desired distribution based on the formula  where  is the cumulative distribution function of the feature and  the quantile function of the desired output distribution . This formula is using the two following facts: (i) if  is a random variable with a continuous cumulative distribution function  then  is uniformly distributed on ; (ii) if  is a random variable with uniform distribution on  then  has distribution . By performing a rank transformation, a quantile transform smooths out unusual distributions and is less influenced by outliers than scaling methods. It does, however, distort correlations and distances within and across features."
      ]
    },
    {
      "cell_type": "code",
      "metadata": {
        "id": "nj2vjq1KrTMs",
        "colab_type": "code",
        "colab": {
          "base_uri": "https://localhost:8080/",
          "height": 72
        },
        "outputId": "2750ef2f-84a0-45ed-ef7c-8500670e0366"
      },
      "source": [
        "from sklearn.datasets import load_iris\n",
        "from sklearn import preprocessing\n",
        "from sklearn.model_selection import train_test_split\n",
        "iris = load_iris()\n",
        "\n",
        "X, y= iris.data, iris.target\n",
        "X_train, X_test, y_train, y_test = train_test_split(X,y, random_state=0)\n",
        "\n",
        "quantile_transformer = preprocessing.QuantileTransformer(random_state=0)\n",
        "X_train_quantile = quantile_transformer.fit_transform(X_train)\n",
        "X_test_quantile = quantile_transformer.transform(X_test)"
      ],
      "execution_count": 48,
      "outputs": [
        {
          "output_type": "stream",
          "text": [
            "/usr/local/lib/python3.6/dist-packages/sklearn/preprocessing/data.py:2239: UserWarning: n_quantiles (1000) is greater than the total number of samples (112). n_quantiles is set to n_samples.\n",
            "  % (self.n_quantiles, n_samples))\n"
          ],
          "name": "stderr"
        }
      ]
    },
    {
      "cell_type": "code",
      "metadata": {
        "id": "vhHHa-cBAhl4",
        "colab_type": "code",
        "colab": {
          "base_uri": "https://localhost:8080/",
          "height": 35
        },
        "outputId": "87116a4e-928e-4b1a-e9ce-d668dc9411f6"
      },
      "source": [
        "np.percentile(X_train[:, 0], [0, 25, 50, 75, 100]) "
      ],
      "execution_count": 49,
      "outputs": [
        {
          "output_type": "execute_result",
          "data": {
            "text/plain": [
              "array([4.3, 5.1, 5.8, 6.5, 7.9])"
            ]
          },
          "metadata": {
            "tags": []
          },
          "execution_count": 49
        }
      ]
    },
    {
      "cell_type": "code",
      "metadata": {
        "id": "LKvXll_FBV7Z",
        "colab_type": "code",
        "colab": {
          "base_uri": "https://localhost:8080/",
          "height": 35
        },
        "outputId": "f9521f3a-e7ca-4cad-9d51-eba64f82bb96"
      },
      "source": [
        "np.percentile(X_train_quantile[:, 0], [0, 25, 50, 75, 100])"
      ],
      "execution_count": 50,
      "outputs": [
        {
          "output_type": "execute_result",
          "data": {
            "text/plain": [
              "array([0.        , 0.23873874, 0.50900901, 0.74324324, 1.        ])"
            ]
          },
          "metadata": {
            "tags": []
          },
          "execution_count": 50
        }
      ]
    },
    {
      "cell_type": "code",
      "metadata": {
        "id": "fAyLGYC_Bcq1",
        "colab_type": "code",
        "colab": {
          "base_uri": "https://localhost:8080/",
          "height": 72
        },
        "outputId": "e554d272-337d-4bf3-8591-2adc23c3e85a"
      },
      "source": [
        "quantile_transformer = preprocessing.QuantileTransformer(output_distribution='normal', random_state=0)\n",
        "X_train_quantile = quantile_transformer.fit(X_train)\n",
        "X_test_quantile = quantile_transformer.transform(X_test)"
      ],
      "execution_count": 51,
      "outputs": [
        {
          "output_type": "stream",
          "text": [
            "/usr/local/lib/python3.6/dist-packages/sklearn/preprocessing/data.py:2239: UserWarning: n_quantiles (1000) is greater than the total number of samples (112). n_quantiles is set to n_samples.\n",
            "  % (self.n_quantiles, n_samples))\n"
          ],
          "name": "stderr"
        }
      ]
    },
    {
      "cell_type": "code",
      "metadata": {
        "id": "hifWWALKDh6O",
        "colab_type": "code",
        "colab": {}
      },
      "source": [
        "quantile_transformer.quantiles_"
      ],
      "execution_count": 0,
      "outputs": []
    },
    {
      "cell_type": "code",
      "metadata": {
        "id": "FXtPd0-3DqPm",
        "colab_type": "code",
        "colab": {
          "base_uri": "https://localhost:8080/",
          "height": 69
        },
        "outputId": "a3c1991f-d1e6-4a1f-cfe6-f0abb16e4fd5"
      },
      "source": [
        "\"Normalize\"\n",
        "\n",
        "\n",
        "X = [[ 1., -1.,  2.],\n",
        "     [ 2.,  0.,  0.],\n",
        "     [ 0.,  1., -1.]]\n",
        "X_normalized = preprocessing.normalize(X, norm='l1')\n",
        "\n",
        "X_normalized                                      \n"
      ],
      "execution_count": 55,
      "outputs": [
        {
          "output_type": "execute_result",
          "data": {
            "text/plain": [
              "array([[ 0.25, -0.25,  0.5 ],\n",
              "       [ 1.  ,  0.  ,  0.  ],\n",
              "       [ 0.  ,  0.5 , -0.5 ]])"
            ]
          },
          "metadata": {
            "tags": []
          },
          "execution_count": 55
        }
      ]
    },
    {
      "cell_type": "code",
      "metadata": {
        "id": "0Bjb3GuVEzet",
        "colab_type": "code",
        "colab": {
          "base_uri": "https://localhost:8080/",
          "height": 69
        },
        "outputId": "ba13a85f-5b51-481b-a7c6-3ee96a2a8e3c"
      },
      "source": [
        "\"Encoding categorical features\"\n",
        "\n",
        "enc = preprocessing.OneHotEncoder()\n",
        "\n",
        "X = [['male', 'from US', 'uses Safari'], ['female', 'from Europe', 'uses Firefox']]\n",
        "\n",
        "enc.fit(X)"
      ],
      "execution_count": 56,
      "outputs": [
        {
          "output_type": "execute_result",
          "data": {
            "text/plain": [
              "OneHotEncoder(categorical_features=None, categories=None, drop=None,\n",
              "              dtype=<class 'numpy.float64'>, handle_unknown='error',\n",
              "              n_values=None, sparse=True)"
            ]
          },
          "metadata": {
            "tags": []
          },
          "execution_count": 56
        }
      ]
    },
    {
      "cell_type": "code",
      "metadata": {
        "id": "FiWSToHwFzIW",
        "colab_type": "code",
        "colab": {
          "base_uri": "https://localhost:8080/",
          "height": 35
        },
        "outputId": "48319aa4-125f-4528-df26-f583c6dfe228"
      },
      "source": [
        "enc.transform([['female', 'from US', 'uses Safari']]).toarray()"
      ],
      "execution_count": 58,
      "outputs": [
        {
          "output_type": "execute_result",
          "data": {
            "text/plain": [
              "array([[1., 0., 0., 1., 0., 1.]])"
            ]
          },
          "metadata": {
            "tags": []
          },
          "execution_count": 58
        }
      ]
    },
    {
      "cell_type": "code",
      "metadata": {
        "id": "8vC5ktIbGAel",
        "colab_type": "code",
        "colab": {
          "base_uri": "https://localhost:8080/",
          "height": 35
        },
        "outputId": "f5dfccd1-c2bf-4b44-97b8-70682ea8f60c"
      },
      "source": [
        "enc.transform([['female', 'from US', 'uses Firefox']]).toarray()"
      ],
      "execution_count": 59,
      "outputs": [
        {
          "output_type": "execute_result",
          "data": {
            "text/plain": [
              "array([[1., 0., 0., 1., 1., 0.]])"
            ]
          },
          "metadata": {
            "tags": []
          },
          "execution_count": 59
        }
      ]
    },
    {
      "cell_type": "code",
      "metadata": {
        "id": "EqOMd2j7GIc0",
        "colab_type": "code",
        "colab": {
          "base_uri": "https://localhost:8080/",
          "height": 69
        },
        "outputId": "76951fa8-bc6f-4654-9df5-e8185725d603"
      },
      "source": [
        "enc.categories_"
      ],
      "execution_count": 60,
      "outputs": [
        {
          "output_type": "execute_result",
          "data": {
            "text/plain": [
              "[array(['female', 'male'], dtype=object),\n",
              " array(['from Europe', 'from US'], dtype=object),\n",
              " array(['uses Firefox', 'uses Safari'], dtype=object)]"
            ]
          },
          "metadata": {
            "tags": []
          },
          "execution_count": 60
        }
      ]
    },
    {
      "cell_type": "code",
      "metadata": {
        "id": "QEt-tAGCGRi6",
        "colab_type": "code",
        "colab": {
          "base_uri": "https://localhost:8080/",
          "height": 155
        },
        "outputId": "95f50bf2-2246-42d0-a75f-dadafbbd310c"
      },
      "source": [
        "genders = ['female', 'male']\n",
        "locations = ['from Africa', 'from Asia', 'from Europe', 'from US']\n",
        "browsers = ['uses Chrome', 'uses Firefox', 'uses IE', 'uses Safari']\n",
        "enc = preprocessing.OneHotEncoder(categories=[genders, locations, browsers])\n",
        "X = [['male', 'from US', 'uses Safari'], ['female', 'from Europe', 'uses Firefox']]\n",
        "enc.fit(X)"
      ],
      "execution_count": 65,
      "outputs": [
        {
          "output_type": "execute_result",
          "data": {
            "text/plain": [
              "OneHotEncoder(categorical_features=None,\n",
              "              categories=[['female', 'male'],\n",
              "                          ['from Africa', 'from Asia', 'from Europe',\n",
              "                           'from US'],\n",
              "                          ['uses Chrome', 'uses Firefox', 'uses IE',\n",
              "                           'uses Safari']],\n",
              "              drop=None, dtype=<class 'numpy.float64'>, handle_unknown='error',\n",
              "              n_values=None, sparse=True)"
            ]
          },
          "metadata": {
            "tags": []
          },
          "execution_count": 65
        }
      ]
    },
    {
      "cell_type": "code",
      "metadata": {
        "id": "amPuI4i5GulH",
        "colab_type": "code",
        "colab": {
          "base_uri": "https://localhost:8080/",
          "height": 86
        },
        "outputId": "138b3e4b-17f5-4355-a0ae-348c71d38353"
      },
      "source": [
        "enc.categories_"
      ],
      "execution_count": 66,
      "outputs": [
        {
          "output_type": "execute_result",
          "data": {
            "text/plain": [
              "[array(['female', 'male'], dtype=object),\n",
              " array(['from Africa', 'from Asia', 'from Europe', 'from US'], dtype=object),\n",
              " array(['uses Chrome', 'uses Firefox', 'uses IE', 'uses Safari'],\n",
              "       dtype=object)]"
            ]
          },
          "metadata": {
            "tags": []
          },
          "execution_count": 66
        }
      ]
    },
    {
      "cell_type": "code",
      "metadata": {
        "id": "5acWhLsrGzqe",
        "colab_type": "code",
        "colab": {
          "base_uri": "https://localhost:8080/",
          "height": 35
        },
        "outputId": "71a17ac4-9560-4f4e-a97f-ab30e59d226b"
      },
      "source": [
        "enc.transform([['male', 'from Asia', 'uses Firefox']]).toarray()"
      ],
      "execution_count": 68,
      "outputs": [
        {
          "output_type": "execute_result",
          "data": {
            "text/plain": [
              "array([[0., 1., 0., 1., 0., 0., 0., 1., 0., 0.]])"
            ]
          },
          "metadata": {
            "tags": []
          },
          "execution_count": 68
        }
      ]
    },
    {
      "cell_type": "code",
      "metadata": {
        "id": "qUqip0J5HMXG",
        "colab_type": "code",
        "colab": {}
      },
      "source": [
        "\"\"\"\n",
        "Discretization (otherwise known as quantization or binning) provides a way to \n",
        "partition continuous features into discrete values. Certain datasets with \n",
        "continuous features may benefit from discretization, because discretization \n",
        "can transform the dataset of continuous attributes to one with only nominal \n",
        "attributes.\n",
        "\"\"\"\n",
        "\n",
        "X = np.array([[ -3., 5., 15 ],\n",
        "              [  0., 6., 14 ],\n",
        "              [  6., 3., 11 ]])\n",
        "\n",
        "\n",
        "est = preprocessing.KBinsDiscretizer(n_bins=[3,2,2], encode='ordinal').fit(X)"
      ],
      "execution_count": 0,
      "outputs": []
    },
    {
      "cell_type": "code",
      "metadata": {
        "id": "CXZ1z8m_JIdi",
        "colab_type": "code",
        "colab": {
          "base_uri": "https://localhost:8080/",
          "height": 69
        },
        "outputId": "6836e774-eb24-4c7d-bb56-f69fa765ecc4"
      },
      "source": [
        "est.transform(X)"
      ],
      "execution_count": 70,
      "outputs": [
        {
          "output_type": "execute_result",
          "data": {
            "text/plain": [
              "array([[0., 1., 1.],\n",
              "       [1., 1., 1.],\n",
              "       [2., 0., 0.]])"
            ]
          },
          "metadata": {
            "tags": []
          },
          "execution_count": 70
        }
      ]
    },
    {
      "cell_type": "code",
      "metadata": {
        "id": "sfOZtn4xJLiB",
        "colab_type": "code",
        "colab": {}
      },
      "source": [
        "\"\"\"\n",
        "Feature binarization is the process of thresholding numerical features to get boolean values\n",
        "\"\"\"\n",
        "\n",
        "X = [[ 1., -1.,  2.],\n",
        "     [ 2.,  0.,  0.],\n",
        "     [ 0.,  1., -1.]]\n",
        "\n",
        "binarizer = preprocessing.Binarizer().fit(X)"
      ],
      "execution_count": 0,
      "outputs": []
    },
    {
      "cell_type": "code",
      "metadata": {
        "id": "roJFc-iXJiWY",
        "colab_type": "code",
        "colab": {
          "base_uri": "https://localhost:8080/",
          "height": 69
        },
        "outputId": "46fcc59b-2ec6-40c6-a431-8898ebbdd2fe"
      },
      "source": [
        "binarizer.transform(X)"
      ],
      "execution_count": 72,
      "outputs": [
        {
          "output_type": "execute_result",
          "data": {
            "text/plain": [
              "array([[1., 0., 1.],\n",
              "       [1., 0., 0.],\n",
              "       [0., 1., 0.]])"
            ]
          },
          "metadata": {
            "tags": []
          },
          "execution_count": 72
        }
      ]
    },
    {
      "cell_type": "code",
      "metadata": {
        "id": "E88MYWYiJllB",
        "colab_type": "code",
        "colab": {
          "base_uri": "https://localhost:8080/",
          "height": 69
        },
        "outputId": "1cb4bfac-ac81-4ec6-f222-8595e3262f53"
      },
      "source": [
        "\"\"\"\n",
        "Polynomial Features\n",
        "\"\"\"\n",
        "\n",
        "from sklearn.preprocessing import PolynomialFeatures\n",
        "\n",
        "poly = PolynomialFeatures(2)\n",
        "\n",
        "poly.fit_transform(X) # ( X1,X2 ) => ( 1, X1, X2, X1X2, X1X1, X2X2)"
      ],
      "execution_count": 74,
      "outputs": [
        {
          "output_type": "execute_result",
          "data": {
            "text/plain": [
              "array([[ 1.,  1., -1.,  2.,  1., -1.,  2.,  1., -2.,  4.],\n",
              "       [ 1.,  2.,  0.,  0.,  4.,  0.,  0.,  0.,  0.,  0.],\n",
              "       [ 1.,  0.,  1., -1.,  0.,  0., -0.,  1., -1.,  1.]])"
            ]
          },
          "metadata": {
            "tags": []
          },
          "execution_count": 74
        }
      ]
    },
    {
      "cell_type": "code",
      "metadata": {
        "id": "onGv8_LgKeDV",
        "colab_type": "code",
        "colab": {
          "base_uri": "https://localhost:8080/",
          "height": 124
        },
        "outputId": "88d7d992-f104-4ca0-a9ed-ed8003b99058"
      },
      "source": [
        "from sklearn.preprocessing import FunctionTransformer\n",
        "\n",
        "transformer = FunctionTransformer(np.log1p, validate=True)\n",
        "transformer.transform(X)"
      ],
      "execution_count": 76,
      "outputs": [
        {
          "output_type": "stream",
          "text": [
            "/usr/local/lib/python3.6/dist-packages/sklearn/preprocessing/_function_transformer.py:179: RuntimeWarning: divide by zero encountered in log1p\n",
            "  return func(X, **(kw_args if kw_args else {}))\n"
          ],
          "name": "stderr"
        },
        {
          "output_type": "execute_result",
          "data": {
            "text/plain": [
              "array([[0.69314718,       -inf, 1.09861229],\n",
              "       [1.09861229, 0.        , 0.        ],\n",
              "       [0.        , 0.69314718,       -inf]])"
            ]
          },
          "metadata": {
            "tags": []
          },
          "execution_count": 76
        }
      ]
    },
    {
      "cell_type": "code",
      "metadata": {
        "id": "zz0yRxY9LHH8",
        "colab_type": "code",
        "colab": {}
      },
      "source": [
        "#Imputation of missing values\n",
        "\n",
        "\"\"\"\n",
        "SimpleImputer\n",
        "Missing values can be imputed with a provided constant value, or using the \n",
        "statistics (mean, median or most frequent) of each column in which the missing \n",
        "values are located. \n",
        "\n",
        "\"\"\""
      ],
      "execution_count": 0,
      "outputs": []
    },
    {
      "cell_type": "code",
      "metadata": {
        "id": "s7AtkJRhLtCh",
        "colab_type": "code",
        "colab": {
          "base_uri": "https://localhost:8080/",
          "height": 52
        },
        "outputId": "8738fbea-01cd-472d-8010-196641599fc0"
      },
      "source": [
        "from sklearn.impute import SimpleImputer\n",
        "\n",
        "imp = SimpleImputer(missing_values=np.nan, strategy='mean')\n",
        "\n",
        "imp.fit([[1, 2], [np.nan, 3], [7, 6]])"
      ],
      "execution_count": 78,
      "outputs": [
        {
          "output_type": "execute_result",
          "data": {
            "text/plain": [
              "SimpleImputer(add_indicator=False, copy=True, fill_value=None,\n",
              "              missing_values=nan, strategy='mean', verbose=0)"
            ]
          },
          "metadata": {
            "tags": []
          },
          "execution_count": 78
        }
      ]
    },
    {
      "cell_type": "code",
      "metadata": {
        "id": "2s-GWPMvMAVw",
        "colab_type": "code",
        "colab": {
          "base_uri": "https://localhost:8080/",
          "height": 69
        },
        "outputId": "61a52d64-d478-4e04-bb09-559b5049c1ec"
      },
      "source": [
        "imp.transform([[1, 2], [np.nan, 3], [7, 6]])"
      ],
      "execution_count": 79,
      "outputs": [
        {
          "output_type": "execute_result",
          "data": {
            "text/plain": [
              "array([[1., 2.],\n",
              "       [4., 3.],\n",
              "       [7., 6.]])"
            ]
          },
          "metadata": {
            "tags": []
          },
          "execution_count": 79
        }
      ]
    },
    {
      "cell_type": "code",
      "metadata": {
        "id": "ppocibIOMUsc",
        "colab_type": "code",
        "colab": {
          "base_uri": "https://localhost:8080/",
          "height": 104
        },
        "outputId": "90f1a6ea-f001-433a-e6dd-ad81d663ae6d"
      },
      "source": [
        "\"\"\"\n",
        "IterativeImputer class, which models each feature with missing values as a \n",
        "function of other features, and uses that estimate for imputation. \n",
        "\"\"\"\n",
        "\n",
        "\n",
        "from sklearn.experimental import enable_iterative_imputer\n",
        "\n",
        "from sklearn.impute import IterativeImputer\n",
        "\n",
        "imp = IterativeImputer(max_iter=10, random_state=0)\n",
        "\n",
        "imp.fit([[1, 2], [3, 6], [4, 8], [np.nan, 3], [7, np.nan]]) "
      ],
      "execution_count": 81,
      "outputs": [
        {
          "output_type": "execute_result",
          "data": {
            "text/plain": [
              "IterativeImputer(add_indicator=False, estimator=None,\n",
              "                 imputation_order='ascending', initial_strategy='mean',\n",
              "                 max_iter=10, max_value=None, min_value=None,\n",
              "                 missing_values=nan, n_nearest_features=None, random_state=0,\n",
              "                 sample_posterior=False, tol=0.001, verbose=0)"
            ]
          },
          "metadata": {
            "tags": []
          },
          "execution_count": 81
        }
      ]
    },
    {
      "cell_type": "code",
      "metadata": {
        "id": "BDoIpZ9GNjsp",
        "colab_type": "code",
        "colab": {
          "base_uri": "https://localhost:8080/",
          "height": 104
        },
        "outputId": "e02552b2-09b4-4d57-8e30-1aeaed8c5a56"
      },
      "source": [
        "imp.transform([[1, 2], [3, 6], [4, 8], [np.nan, 3], [7, np.nan]]) "
      ],
      "execution_count": 82,
      "outputs": [
        {
          "output_type": "execute_result",
          "data": {
            "text/plain": [
              "array([[ 1.        ,  2.        ],\n",
              "       [ 3.        ,  6.        ],\n",
              "       [ 4.        ,  8.        ],\n",
              "       [ 1.50000296,  3.        ],\n",
              "       [ 7.        , 14.00004118]])"
            ]
          },
          "metadata": {
            "tags": []
          },
          "execution_count": 82
        }
      ]
    },
    {
      "cell_type": "code",
      "metadata": {
        "id": "5HLI3uQRNulf",
        "colab_type": "code",
        "colab": {}
      },
      "source": [
        "\"\"\"\n",
        "In the statistics community, it is common practice to perform multiple imputations, \n",
        "generating, for example, m separate imputations for a single feature matrix. \n",
        "Each of these m imputations is then put through the subsequent analysis pipeline \n",
        "(e.g. feature engineering, clustering, regression, classification). \n",
        "The m final analysis results (e.g. held-out validation errors) allow the \n",
        "data scientist to obtain understanding of how analytic results may differ \n",
        "as a consequence of the inherent uncertainty caused by the missing values. \n",
        "The above practice is called multiple imputation.\n",
        "\n",
        "\"\"\""
      ],
      "execution_count": 0,
      "outputs": []
    },
    {
      "cell_type": "markdown",
      "metadata": {
        "id": "4UzOOiH2Pc1T",
        "colab_type": "text"
      },
      "source": [
        "Random Projection\n",
        "\n",
        "The sklearn.random_projection module implements a simple and computationally efficient way to reduce the dimensionality of the data by trading a controlled amount of accuracy (as additional variance) for faster processing times and smaller model sizes. This module implements two types of unstructured random matrix: Gaussian random matrix and sparse random matrix.\n",
        "\n"
      ]
    },
    {
      "cell_type": "code",
      "metadata": {
        "id": "5VsABBHhPcbu",
        "colab_type": "code",
        "colab": {
          "base_uri": "https://localhost:8080/",
          "height": 35
        },
        "outputId": "8aa6f9fb-cabd-4258-ca44-5cd14cd7a364"
      },
      "source": [
        "from sklearn import random_projection\n",
        "\n",
        "X = np.random.rand(100, 10000)\n",
        "X.shape"
      ],
      "execution_count": 83,
      "outputs": [
        {
          "output_type": "execute_result",
          "data": {
            "text/plain": [
              "(100, 10000)"
            ]
          },
          "metadata": {
            "tags": []
          },
          "execution_count": 83
        }
      ]
    },
    {
      "cell_type": "code",
      "metadata": {
        "id": "KXmqZMSiOcWO",
        "colab_type": "code",
        "colab": {
          "base_uri": "https://localhost:8080/",
          "height": 35
        },
        "outputId": "74cd8462-1dbf-4ebc-8393-3854add30b0b"
      },
      "source": [
        "transformer = random_projection.GaussianRandomProjection()\n",
        "X_new = transformer.fit_transform(X)\n",
        "X_new.shape"
      ],
      "execution_count": 85,
      "outputs": [
        {
          "output_type": "execute_result",
          "data": {
            "text/plain": [
              "(100, 3947)"
            ]
          },
          "metadata": {
            "tags": []
          },
          "execution_count": 85
        }
      ]
    },
    {
      "cell_type": "code",
      "metadata": {
        "id": "M7i06vKeQrLe",
        "colab_type": "code",
        "colab": {
          "base_uri": "https://localhost:8080/",
          "height": 35
        },
        "outputId": "6c96169d-2bf5-4417-890f-cac4d8d311e7"
      },
      "source": [
        "tranformer = random_projection.SparseRandomProjection()\n",
        "\n",
        "X_new = transformer.fit_transform(X)\n",
        "X_new.shape"
      ],
      "execution_count": 86,
      "outputs": [
        {
          "output_type": "execute_result",
          "data": {
            "text/plain": [
              "(100, 3947)"
            ]
          },
          "metadata": {
            "tags": []
          },
          "execution_count": 86
        }
      ]
    },
    {
      "cell_type": "markdown",
      "metadata": {
        "id": "r1V4jMLMU2sD",
        "colab_type": "text"
      },
      "source": [
        "Kernel Approximation"
      ]
    },
    {
      "cell_type": "code",
      "metadata": {
        "id": "SuG9F_OxSDxN",
        "colab_type": "code",
        "colab": {}
      },
      "source": [
        "\"\"\"\n",
        "This submodule contains functions that approximate the feature mappings that \n",
        "correspond to certain kernels, as they are used for example in \n",
        "support vector machines (see Support Vector Machines). The following feature \n",
        "functions perform non-linear transformations of the input, which can serve as \n",
        "a basis for linear classification or other algorithms.\n",
        "\n",
        "\n",
        "\"\"\""
      ],
      "execution_count": 0,
      "outputs": []
    },
    {
      "cell_type": "code",
      "metadata": {
        "id": "tXv03TB_VTQU",
        "colab_type": "code",
        "colab": {
          "base_uri": "https://localhost:8080/",
          "height": 175
        },
        "outputId": "46fb33f0-6657-4f93-de2e-fe49428c77b1"
      },
      "source": [
        "from sklearn.kernel_approximation import RBFSampler\n",
        "\n",
        "from sklearn.linear_model import SGDClassifier\n",
        "\n",
        "X, y= iris.data, iris.target\n",
        "\n",
        "X_train, X_test, y_train, y_test = train_test_split(X, y)\n",
        "rbf_feature = RBFSampler(gamma=1, random_state=1)\n",
        "\n",
        "X_features = rbf_feature.fit_transform(X_train)\n",
        "X_test_feature = rbf_feature.transform(X_test)\n",
        "clf = SGDClassifier(max_iter=5)\n",
        "\n",
        "clf.fit(X_features, y_train)"
      ],
      "execution_count": 102,
      "outputs": [
        {
          "output_type": "stream",
          "text": [
            "/usr/local/lib/python3.6/dist-packages/sklearn/linear_model/stochastic_gradient.py:561: ConvergenceWarning: Maximum number of iteration reached before convergence. Consider increasing max_iter to improve the fit.\n",
            "  ConvergenceWarning)\n"
          ],
          "name": "stderr"
        },
        {
          "output_type": "execute_result",
          "data": {
            "text/plain": [
              "SGDClassifier(alpha=0.0001, average=False, class_weight=None,\n",
              "              early_stopping=False, epsilon=0.1, eta0=0.0, fit_intercept=True,\n",
              "              l1_ratio=0.15, learning_rate='optimal', loss='hinge', max_iter=5,\n",
              "              n_iter_no_change=5, n_jobs=None, penalty='l2', power_t=0.5,\n",
              "              random_state=None, shuffle=True, tol=0.001,\n",
              "              validation_fraction=0.1, verbose=0, warm_start=False)"
            ]
          },
          "metadata": {
            "tags": []
          },
          "execution_count": 102
        }
      ]
    },
    {
      "cell_type": "code",
      "metadata": {
        "id": "QPmonFAWfNe9",
        "colab_type": "code",
        "colab": {
          "base_uri": "https://localhost:8080/",
          "height": 35
        },
        "outputId": "f27bd4a5-8844-4636-f221-ac50f6da39cc"
      },
      "source": [
        "clf.score(X_test_feature, y_test)"
      ],
      "execution_count": 104,
      "outputs": [
        {
          "output_type": "execute_result",
          "data": {
            "text/plain": [
              "1.0"
            ]
          },
          "metadata": {
            "tags": []
          },
          "execution_count": 104
        }
      ]
    },
    {
      "cell_type": "code",
      "metadata": {
        "id": "32KBEskRf10q",
        "colab_type": "code",
        "colab": {
          "base_uri": "https://localhost:8080/",
          "height": 35
        },
        "outputId": "1723fc34-0e8e-486b-de6b-8789283fb455"
      },
      "source": [
        "\"\"\"\n",
        "Pairwise metrics, Affinities and Kernels\n",
        "\"\"\"\n",
        "\n",
        "from sklearn.metrics import pairwise_distances\n",
        "from sklearn.metrics.pairwise import pairwise_kernels\n",
        "from sklearn.metrics.pairwise import cosine_similarity, linear_kernel, polynomial_kernel, sigmoid_kernel, laplacian_kernel, chi2_kernel\n",
        "\n",
        "X = np.array([[2, 3], [3, 5], [5, 8]])\n",
        "\n",
        "\n",
        "Y = np.array([[1, 0], [2, 1]])\n",
        "\n",
        "\n",
        "X.shape, Y.shape"
      ],
      "execution_count": 134,
      "outputs": [
        {
          "output_type": "execute_result",
          "data": {
            "text/plain": [
              "((3, 2), (2, 2))"
            ]
          },
          "metadata": {
            "tags": []
          },
          "execution_count": 134
        }
      ]
    },
    {
      "cell_type": "code",
      "metadata": {
        "id": "peui-1ROimNm",
        "colab_type": "code",
        "colab": {
          "base_uri": "https://localhost:8080/",
          "height": 69
        },
        "outputId": "a56e875c-b696-44dc-f3e8-80f3734af067"
      },
      "source": [
        "pairwise_distances(X, Y, metric='manhattan')"
      ],
      "execution_count": 118,
      "outputs": [
        {
          "output_type": "execute_result",
          "data": {
            "text/plain": [
              "array([[ 4.,  2.],\n",
              "       [ 7.,  5.],\n",
              "       [12., 10.]])"
            ]
          },
          "metadata": {
            "tags": []
          },
          "execution_count": 118
        }
      ]
    },
    {
      "cell_type": "code",
      "metadata": {
        "id": "k2N-GM-aiPBB",
        "colab_type": "code",
        "colab": {
          "base_uri": "https://localhost:8080/",
          "height": 69
        },
        "outputId": "2d2a39f9-42f9-48b4-babf-f4e446634db4"
      },
      "source": [
        "pairwise_distances(X, metric='manhattan')"
      ],
      "execution_count": 110,
      "outputs": [
        {
          "output_type": "execute_result",
          "data": {
            "text/plain": [
              "array([[0., 3., 8.],\n",
              "       [3., 0., 5.],\n",
              "       [8., 5., 0.]])"
            ]
          },
          "metadata": {
            "tags": []
          },
          "execution_count": 110
        }
      ]
    },
    {
      "cell_type": "code",
      "metadata": {
        "id": "k8BlF6FAialT",
        "colab_type": "code",
        "colab": {
          "base_uri": "https://localhost:8080/",
          "height": 69
        },
        "outputId": "ab4282e3-7dce-4e18-fd71-ab2888560ea5"
      },
      "source": [
        "pairwise_kernels(X, Y, metric='linear')"
      ],
      "execution_count": 122,
      "outputs": [
        {
          "output_type": "execute_result",
          "data": {
            "text/plain": [
              "array([[ 2.,  7.],\n",
              "       [ 3., 11.],\n",
              "       [ 5., 18.]])"
            ]
          },
          "metadata": {
            "tags": []
          },
          "execution_count": 122
        }
      ]
    },
    {
      "cell_type": "code",
      "metadata": {
        "id": "cIB8vCXAjEfg",
        "colab_type": "code",
        "colab": {
          "base_uri": "https://localhost:8080/",
          "height": 69
        },
        "outputId": "2e0cb91b-6876-4690-a278-ef0b3dbdd982"
      },
      "source": [
        "cosine_similarity(X, Y)"
      ],
      "execution_count": 126,
      "outputs": [
        {
          "output_type": "execute_result",
          "data": {
            "text/plain": [
              "array([[0.5547002 , 0.86824314],\n",
              "       [0.51449576, 0.84366149],\n",
              "       [0.52999894, 0.85328183]])"
            ]
          },
          "metadata": {
            "tags": []
          },
          "execution_count": 126
        }
      ]
    },
    {
      "cell_type": "code",
      "metadata": {
        "id": "KxHP87-MkGz5",
        "colab_type": "code",
        "colab": {
          "base_uri": "https://localhost:8080/",
          "height": 69
        },
        "outputId": "da3a44e6-7f6d-4bb7-9038-da82d642f275"
      },
      "source": [
        "linear_kernel(X,Y)"
      ],
      "execution_count": 128,
      "outputs": [
        {
          "output_type": "execute_result",
          "data": {
            "text/plain": [
              "array([[ 2.,  7.],\n",
              "       [ 3., 11.],\n",
              "       [ 5., 18.]])"
            ]
          },
          "metadata": {
            "tags": []
          },
          "execution_count": 128
        }
      ]
    },
    {
      "cell_type": "code",
      "metadata": {
        "id": "4FCV_v9okdHH",
        "colab_type": "code",
        "colab": {
          "base_uri": "https://localhost:8080/",
          "height": 69
        },
        "outputId": "d8b17e9a-1d54-410e-bef0-3cc61a13ada0"
      },
      "source": [
        "polynomial_kernel(X,Y)"
      ],
      "execution_count": 129,
      "outputs": [
        {
          "output_type": "execute_result",
          "data": {
            "text/plain": [
              "array([[   8.   ,   91.125],\n",
              "       [  15.625,  274.625],\n",
              "       [  42.875, 1000.   ]])"
            ]
          },
          "metadata": {
            "tags": []
          },
          "execution_count": 129
        }
      ]
    },
    {
      "cell_type": "code",
      "metadata": {
        "id": "6HDZSDs6kho9",
        "colab_type": "code",
        "colab": {
          "base_uri": "https://localhost:8080/",
          "height": 69
        },
        "outputId": "2183efd1-eb92-4702-c867-8b8529060941"
      },
      "source": [
        "sigmoid_kernel(X,Y)"
      ],
      "execution_count": 130,
      "outputs": [
        {
          "output_type": "execute_result",
          "data": {
            "text/plain": [
              "array([[0.96402758, 0.99975321],\n",
              "       [0.9866143 , 0.99999548],\n",
              "       [0.9981779 , 1.        ]])"
            ]
          },
          "metadata": {
            "tags": []
          },
          "execution_count": 130
        }
      ]
    },
    {
      "cell_type": "code",
      "metadata": {
        "id": "2mtQAPo6kmVw",
        "colab_type": "code",
        "colab": {
          "base_uri": "https://localhost:8080/",
          "height": 69
        },
        "outputId": "12703894-b5a1-4d63-d3ec-ac1505ecc492"
      },
      "source": [
        "laplacian_kernel(X, Y)"
      ],
      "execution_count": 133,
      "outputs": [
        {
          "output_type": "execute_result",
          "data": {
            "text/plain": [
              "array([[0.13533528, 0.36787944],\n",
              "       [0.03019738, 0.082085  ],\n",
              "       [0.00247875, 0.00673795]])"
            ]
          },
          "metadata": {
            "tags": []
          },
          "execution_count": 133
        }
      ]
    },
    {
      "cell_type": "code",
      "metadata": {
        "id": "HcYtnozPkqw3",
        "colab_type": "code",
        "colab": {}
      },
      "source": [
        "from sklearn.svm import SVC\n",
        "from sklearn.metrics.pairwise import chi2_kernel\n",
        "\n",
        "X, y= iris.data, iris.target\n",
        "\n",
        "\n",
        "X_chi2 = chi2_kernel(X, gamma=.5)\n",
        "\n",
        "X_train, X_test, y_train, y_test = train_test_split(X_chi2, y)\n",
        "\n",
        "\n",
        "svm = SVC(kernel='precomputed').fit(X_chi2, y)\n"
      ],
      "execution_count": 0,
      "outputs": []
    },
    {
      "cell_type": "code",
      "metadata": {
        "id": "IZdHi15kljA_",
        "colab_type": "code",
        "colab": {
          "base_uri": "https://localhost:8080/",
          "height": 35
        },
        "outputId": "031d270e-ec39-42f7-89dc-259b75ec4096"
      },
      "source": [
        "X_test_chi2 = chi2_kernel(X_test, gamma=.5)\n",
        "svm.score(X_chi2, y)"
      ],
      "execution_count": 144,
      "outputs": [
        {
          "output_type": "execute_result",
          "data": {
            "text/plain": [
              "0.9733333333333334"
            ]
          },
          "metadata": {
            "tags": []
          },
          "execution_count": 144
        }
      ]
    },
    {
      "cell_type": "code",
      "metadata": {
        "id": "aBekbzpBl5gR",
        "colab_type": "code",
        "colab": {
          "base_uri": "https://localhost:8080/",
          "height": 35
        },
        "outputId": "c15c7077-237f-4455-ed77-d9a3bbd0d9f3"
      },
      "source": [
        "#Label Encoding\n",
        "\n",
        "from sklearn import preprocessing\n",
        "le = preprocessing.LabelEncoder()\n",
        "\n",
        "le.fit([1, 2, 2, 6])"
      ],
      "execution_count": 145,
      "outputs": [
        {
          "output_type": "execute_result",
          "data": {
            "text/plain": [
              "LabelEncoder()"
            ]
          },
          "metadata": {
            "tags": []
          },
          "execution_count": 145
        }
      ]
    },
    {
      "cell_type": "code",
      "metadata": {
        "id": "1AOmLQwmoD1J",
        "colab_type": "code",
        "colab": {
          "base_uri": "https://localhost:8080/",
          "height": 35
        },
        "outputId": "2f828905-e39b-4102-d2e2-7cf6d21e67a5"
      },
      "source": [
        "le.transform([1, 1, 2, 6])"
      ],
      "execution_count": 146,
      "outputs": [
        {
          "output_type": "execute_result",
          "data": {
            "text/plain": [
              "array([0, 0, 1, 2])"
            ]
          },
          "metadata": {
            "tags": []
          },
          "execution_count": 146
        }
      ]
    },
    {
      "cell_type": "code",
      "metadata": {
        "id": "2C34gWkkoICH",
        "colab_type": "code",
        "colab": {}
      },
      "source": [
        "le.transform([1, 1, 2, 5]) # 5 is missing gives error"
      ],
      "execution_count": 0,
      "outputs": []
    },
    {
      "cell_type": "code",
      "metadata": {
        "id": "X2sh-wIloLb5",
        "colab_type": "code",
        "colab": {
          "base_uri": "https://localhost:8080/",
          "height": 35
        },
        "outputId": "18d4d60c-cceb-40cc-c386-c015a957f9fd"
      },
      "source": [
        "le.inverse_transform([0, 0, 1, 2])"
      ],
      "execution_count": 150,
      "outputs": [
        {
          "output_type": "execute_result",
          "data": {
            "text/plain": [
              "array([1, 1, 2, 6])"
            ]
          },
          "metadata": {
            "tags": []
          },
          "execution_count": 150
        }
      ]
    },
    {
      "cell_type": "code",
      "metadata": {
        "id": "BN7j1heKoXmX",
        "colab_type": "code",
        "colab": {}
      },
      "source": [
        ""
      ],
      "execution_count": 0,
      "outputs": []
    }
  ]
}